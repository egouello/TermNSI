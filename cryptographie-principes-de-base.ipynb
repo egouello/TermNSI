{
 "cells": [
  {
   "cell_type": "markdown",
   "metadata": {},
   "source": [
    "# Cryptographie - principes de base"
   ]
  },
  {
   "cell_type": "markdown",
   "metadata": {},
   "source": [
    "## 0- Principes"
   ]
  },
  {
   "cell_type": "markdown",
   "metadata": {},
   "source": [
    "Le but de la cryptographie est de cacher un texte donné de tel manière que seul son destinataire légitime puisse le lire.\n",
    "Les manières de cacher ce texte sont multiples. On s'intéresse ici à une transformation du texte pour le rendre illisible."
   ]
  },
  {
   "cell_type": "markdown",
   "metadata": {},
   "source": [
    "En pratique pour nous, le texte à cacher est une chaîne de caractères s. On cherche donc à calculer une chaîne de caractère tirée de s de telle manière que notre destinataire (avec qui on peut éventuellement partager un secret, la <b>clé</b>), et avec un peu de chance seul lui, puisse déchiffrer ce texte."
   ]
  },
  {
   "cell_type": "markdown",
   "metadata": {},
   "source": [
    "### Cadre"
   ]
  },
  {
   "cell_type": "markdown",
   "metadata": {},
   "source": [
    "On se limite à des textes contenant uniquement des caractères en minuscule et des espaces, pour simplifier les raisonnements. Dans le texte de référence utilisé, tous les autres caractères seront remplacés par des espaces."
   ]
  },
  {
   "cell_type": "markdown",
   "metadata": {},
   "source": [
    "### Texte à cacher"
   ]
  },
  {
   "cell_type": "markdown",
   "metadata": {},
   "source": [
    "On fixe pour tout le cours un texte à crypter : les histoires extraordinaires d'Edgar Poe, traduites par Charles Baudelaire et disponible librement sur le site du projet Gutenberg ici : http://www.gutenberg.org/ebooks/20761\n",
    "Le fichier texte, légèrement nettoyé (majuscules enlevé, préface enlevée) est dans le dossier contenant ce notebook et peut donc être ouvert directement par Python :"
   ]
  },
  {
   "cell_type": "code",
   "execution_count": 1,
   "metadata": {},
   "outputs": [
    {
     "name": "stdout",
     "output_type": "stream",
     "text": [
      "edgar allan poe\n",
      "\n",
      "histoires extraordinaires\n",
      "\n",
      "traduction par charles baudelaire premiere publication en france en 1856\n",
      "\n",
      "double assassinat dans la rue morgue\n",
      "\n",
      "quelle chanson chantaient les sirenes? quel nom achille avait-il pris,\n",
      "quand il se cachait parmi les femmes?-questions embarrassantes, il est\n",
      "vrai, mais qui ne sont pas situees au dela de toute conjecture.\n",
      "\n",
      "sir thomas browne.\n",
      "\n",
      "\n",
      "les facultes de l'esprit qu'on definit par le terme _analytiques_ sont\n",
      "en elles-memes fort peu susceptibles d'analyse. nous ne les apprecions\n",
      "que par leurs resultats. ce que nous en savons, entre autres choses,\n",
      "c'est qu'elles sont pour celui qui les possede a un degre extraordinaire\n",
      "une source de jouissances des plus vives. de meme que l'homme fort se\n",
      "rejouit dans son aptitude physique, se complaÃ®t dans les exercices qui\n",
      "provoquent les muscles a l'action, de meme l'analyse prend sa gloire\n",
      "dans cette activite spirituelle dont la fonction est de debrouiller. il\n",
      "tire du plaisir meme des plus triviales occasions qui mettent ses\n",
      "talents en jeu. il raffole des enigmes, des rebus, des hieroglyphes; il\n",
      "deploie dans chacune des solutions une puissance de perspicacite qui,\n",
      "dans l'opinion vulgaire, prend un caractere surnaturel. les resultats,\n",
      "habilement deduits par l'Ã¢me meme et l'essence de sa methode, ont\n",
      "reellement tout l'air d'une intuition.\n",
      "\n",
      "cette faculte de _resolution_ tire peut-etre une grande force de l'etude\n",
      "des mathematiques, et particulierement de la tres-haute branche de cette\n",
      "science, qui, fort improprement et simplement en raison de ses\n",
      "operations retrogrades, a ete nommee l'analyse, comme si elle etait\n",
      "l'analyse par excellence. car, en somme, tout calcul n'est pas en soi\n",
      "une analyse. un joueur d'echecs, par exemple, fait fort bien l'un sans\n",
      "l'autre. il suit de la que le jeu d'echecs, dans ses effets sur la\n",
      "nature spirituelle, est fort mal apprecie. je ne veux pas ecrire ici un\n",
      "traite de l'analyse, mais simplement mettre en tete d'un recit\n",
      "passablement singulier quelques observations jetees tout a fait a\n",
      "l'abandon et qui lui serviront de preface.\n",
      "\n",
      "je prends donc cette occasion de proclamer que la haute puissance de la\n",
      "reflexion est bien plus activement et plus profitablement exploitee par\n",
      "le modeste jeu de dames que par toute la laborieuse futilite des echecs.\n",
      "dans ce dernier jeu, ou les pieces sont douees de mouvements divers et\n",
      "bizarres, et representent des valeurs diverses et variees, la complexite\n",
      "est prise-erreur fort commune-pour de la profondeur. l'attention y est\n",
      "p\n"
     ]
    }
   ],
   "source": [
    "with open('HistoiresExtraordinaires.txt') as f:\n",
    "    texte = f.read()\n",
    "    texte = texte.replace('\\r', '')\n",
    "print(texte[:2500]) #on regarde si le texte a bien été importé en affichant le début"
   ]
  },
  {
   "cell_type": "markdown",
   "metadata": {},
   "source": [
    "## 1- Chiffrement de César"
   ]
  },
  {
   "cell_type": "markdown",
   "metadata": {},
   "source": [
    "### 1.1 - Description"
   ]
  },
  {
   "cell_type": "markdown",
   "metadata": {},
   "source": [
    "Le principe est assez simple :\n",
    "<ul>\n",
    "<li>on donne un numéro à chaque lettre de l'alphabet</li>\n",
    "<li>la clé de chiffrage est un nombre entre 1 et le nombre de lettre - 1</li>\n",
    "<li>la chaîne cryptée est obtenue en décalant tous les caractères de clé dans l'alphabet, étant entendu que l'on revient au début à la fin de la liste...</li>\n",
    "</ul>"
   ]
  },
  {
   "cell_type": "code",
   "execution_count": 2,
   "metadata": {},
   "outputs": [],
   "source": [
    "LETTRES = 'abcdefghijklmnopqrstuvwxyz '\n",
    "\n",
    "def indice(lettre):\n",
    "    \"\"\"\n",
    "    Retourne l'indice de la lettre donnée dans la chaîne LETTRES\n",
    "    indice('a') retourne 0, indice('z') retourne 25\n",
    "    indice(' ') retourne 26, indice(n'importe quoi d'autre) retourne 26\n",
    "    \"\"\"\n",
    "    if 97<=ord(lettre)<=122:\n",
    "        return ord(lettre)-ord(\"a\")\n",
    "    else:\n",
    "        return 26"
   ]
  },
  {
   "cell_type": "code",
   "execution_count": 3,
   "metadata": {},
   "outputs": [],
   "source": [
    "def cesar(chaine, cle):\n",
    "    #s est notre chaine codée qu'on construit au fur et à mesure\n",
    "    s = ''\n",
    "    n = len(LETTRES)\n",
    "    for i in range(len(chaine)):\n",
    "        #on décale la lettre chaine[i] de clé. On fait % n pour revenir à 0 si on dépasse 26\n",
    "        s = s + LETTRES[(indice(chaine[i]) + cle) % n]\n",
    "    return s"
   ]
  },
  {
   "cell_type": "code",
   "execution_count": 4,
   "metadata": {},
   "outputs": [
    {
     "data": {
      "text/plain": [
       "'sruoenozzoancbsnnvwfgbwesfnskgeoberwaowesfnngeorhqgwbancoenqvoezsfnpohrszowesnces wsesnchpzwqogwbansanteoaqsnsannnnnnnrbhpzsnoffoffwaognroafnzonehsn beuhsnndhszzsnqvoafbanqvoagowsagnzsfnfwesasfnndhsznab noqvwzzsnoiowgnwzncewfnndhoarnwznfsnqoqvowgncoe wnzsfnts  sfnndhsfgwbafns poeeoffoagsfnnwznsfgnieownn owfndhwnasnfbagncofnfwghssfnohnrszonrsngbhgsnqbaxsqghesnnnfwengvb ofnpebjasnnnnzsfntoqhzgsfnrsnznsfcewgndhnbanrstwawgncoenzsngse snnoaozlgwdhsfnnfbagnsanszzsfn s sfntbegncshnfhfqscgwpzsfnrnoaozlf'"
      ]
     },
     "execution_count": 4,
     "metadata": {},
     "output_type": "execute_result"
    }
   ],
   "source": [
    "cesar(texte, 14)[:500]"
   ]
  },
  {
   "cell_type": "markdown",
   "metadata": {},
   "source": [
    "### 1.2 - Retrouver le texte d'origine"
   ]
  },
  {
   "cell_type": "markdown",
   "metadata": {},
   "source": [
    "Le principe pour notre correspondant est assez simple, il suffit de décaler dans l'autre sens."
   ]
  },
  {
   "cell_type": "code",
   "execution_count": 5,
   "metadata": {},
   "outputs": [
    {
     "name": "stdout",
     "output_type": "stream",
     "text": [
      "khoorczruog\n",
      "hello world\n"
     ]
    }
   ],
   "source": [
    "#on crypte\n",
    "messageCode=cesar('hello world',3)\n",
    "print(messageCode)\n",
    "#on décrypte\n",
    "messageDecode=cesar(messageCode,-3)\n",
    "print(messageDecode)"
   ]
  },
  {
   "cell_type": "code",
   "execution_count": 6,
   "metadata": {},
   "outputs": [
    {
     "data": {
      "text/plain": [
       "'hello world'"
      ]
     },
     "execution_count": 6,
     "metadata": {},
     "output_type": "execute_result"
    }
   ],
   "source": [
    "#modulo 27, faire +14 ou -13 revient au même\n",
    "cesar(cesar('hello world', 13), 14)"
   ]
  },
  {
   "cell_type": "code",
   "execution_count": 7,
   "metadata": {},
   "outputs": [
    {
     "data": {
      "text/plain": [
       "'edgar allan poe  histoires extraordinaires  traduction par charles baudelaire premiere publication en france en       double assassinat dans la rue morgue  quelle chanson chantaient les sirenes  quel nom achille avait il pris  quand il se cachait parmi les femmes  questions embarrassantes  il est vrai  mais qui ne sont pas situees au dela de toute conjecture   sir thomas browne    les facultes de l esprit qu on definit par le terme  analytiques  sont en elles memes fort peu susceptibles d analys'"
      ]
     },
     "execution_count": 7,
     "metadata": {},
     "output_type": "execute_result"
    }
   ],
   "source": [
    "#bien sûr, avec notre texte qui contient des caractères autres que des minuscules\n",
    "#on perd un peu d'information qui se transforme en espace\n",
    "cesar(cesar(texte, 4), -4)[:500]"
   ]
  },
  {
   "cell_type": "markdown",
   "metadata": {},
   "source": [
    "### 1.3 - Cryptanalyse"
   ]
  },
  {
   "cell_type": "markdown",
   "metadata": {},
   "source": [
    "Il est très facile de retrouver la clé secrète du chiffrement de césar si on connait l'alphabet utilisé.\n",
    "Ainsi un espion, le gouvernement, ou toute autre personne satisfaisant votre sens de la théorie du complot, peut retrouver le message en clair."
   ]
  },
  {
   "cell_type": "markdown",
   "metadata": {},
   "source": [
    "La méthode est simple : force brute. On essaie toutes les clés possible et on regarde à la main les messages obtenus. il y a tellement peu de clés possible que la cryptanalyse est quasiment immédiate."
   ]
  },
  {
   "cell_type": "code",
   "execution_count": 8,
   "metadata": {},
   "outputs": [
    {
     "name": "stdout",
     "output_type": "stream",
     "text": [
      "clé :  1  message décodé : dfdjaftuavoanfttbhfavoaupvuaqfujuaqfvaqmvtampoh\n",
      "clé :  2  message décodé : ceci est un message un tout petit peu plus long\n",
      "clé :  3  message décodé : bdbhzdrsztmzldrr fdztmzsntszodshszodtzoktrzknmf\n",
      "clé :  4  message décodé : acagycqryslykcqqzecyslyrmsryncrgryncsynjsqyjmle\n",
      "clé :  5  message décodé :  b fxbpqxrkxjbppydbxrkxqlrqxmbqfqxmbrxmirpxilkd\n",
      "clé :  6  message décodé : zazewaopwqjwiaooxcawqjwpkqpwlapepwlaqwlhqowhkjc\n",
      "clé :  7  message décodé : y ydv novpivh nnwb vpivojpovk odovk pvkgpnvgjib\n",
      "clé :  8  message décodé : xzxcuzmnuohugzmmvazuohunionujzncnujzoujfomufiha\n",
      "clé :  9  message décodé : wywbtylmtngtfyllu ytngtmhnmtiymbmtiyntienltehg \n",
      "clé :  10  message décodé : vxvasxklsmfsexkktzxsmfslgmlshxlalshxmshdmksdgfz\n",
      "clé :  11  message décodé : uwu rwjkrlerdwjjsywrlerkflkrgwk krgwlrgcljrcfey\n",
      "clé :  12  message décodé : tvtzqvijqkdqcviirxvqkdqjekjqfvjzjqfvkqfbkiqbedx\n",
      "clé :  13  message décodé : susypuhipjcpbuhhqwupjcpidjipeuiyipeujpeajhpadcw\n",
      "clé :  14  message décodé : rtrxotghoiboatggpvtoibohcihodthxhodtiod igo cbv\n",
      "clé :  15  message décodé : qsqwnsfgnhan sffousnhangbhgncsgwgncshnczhfnzbau\n",
      "clé :  16  message décodé : prpvmrefmg mzreentrmg mfagfmbrfvfmbrgmbygemya t\n",
      "clé :  17  message décodé : oqoulqdelfzlyqddmsqlfzle felaqeuelaqflaxfdlx zs\n",
      "clé :  18  message décodé : npntkpcdkeykxpcclrpkeykdzedk pdtdk pek weckwzyr\n",
      "clé :  19  message décodé : momsjobcjdxjwobbkqojdxjcydcjzocscjzodjzvdbjvyxq\n",
      "clé :  20  message décodé : lnlrinabicwivnaajpnicwibxcbiynbrbiynciyucaiuxwp\n",
      "clé :  21  message décodé : kmkqhm ahbvhum  iomhbvhawbahxmaqahxmbhxtb htwvo\n",
      "clé :  22  message décodé : jljpglz gaugtlzzhnlgaug va gwl p gwlagwsazgsvun\n",
      "clé :  23  message décodé : ikiofkyzf tfskyygmkf tfzu zfvkzozfvk fvr yfrutm\n",
      "clé :  24  message décodé : hjhnejxyezserjxxfljezseytzyeujynyeujzeuqzxeqtsl\n",
      "clé :  25  message décodé : gigmdiwxdyrdqiwwekidyrdxsyxdtixmxdtiydtpywdpsrk\n",
      "clé :  26  message décodé : fhflchvwcxqcphvvdjhcxqcwrxwcshwlwcshxcsoxvcorqj\n"
     ]
    }
   ],
   "source": [
    "import random\n",
    "#on choisit une clé aléatoire qu'on n'affiche pas pour la démonstration\n",
    "cle_choisie = random.randint(1, len(LETTRES) - 1)\n",
    "\n",
    "message = 'ceci est un message un tout petit peu plus long'\n",
    "crypte = cesar(message, cle_choisie)\n",
    "\n",
    "for i in range(1, len(LETTRES)):\n",
    "    print('clé : ', i, ' message décodé : ' + cesar(crypte, -i))"
   ]
  },
  {
   "cell_type": "markdown",
   "metadata": {},
   "source": [
    "Pas trop difficile de deviner ce qu'avait choisi python comme clé..."
   ]
  },
  {
   "cell_type": "markdown",
   "metadata": {},
   "source": [
    "## 2 - Chiffrement par permutation"
   ]
  },
  {
   "cell_type": "markdown",
   "metadata": {},
   "source": [
    "### 2.1 - Principe"
   ]
  },
  {
   "cell_type": "markdown",
   "metadata": {},
   "source": [
    "Au lieu de bêtement décaler chaque lettre, on choisit une bijection de l'alphabet dans lui même, c'est à dire que chaque lettre est transformée en une autre."
   ]
  },
  {
   "cell_type": "markdown",
   "metadata": {},
   "source": [
    "En pratique une bijection est représentée par une chaîne de caractère ou une liste possédant les même lettres que LETTRES mais dans le désordre"
   ]
  },
  {
   "cell_type": "code",
   "execution_count": 9,
   "metadata": {},
   "outputs": [],
   "source": [
    "def permute(chaine, bijection):\n",
    "    s = ''\n",
    "    n = len(LETTRES)\n",
    "    for c in chaine:\n",
    "        s = s + bijection[indice(c)]\n",
    "    return s"
   ]
  },
  {
   "cell_type": "code",
   "execution_count": 10,
   "metadata": {},
   "outputs": [
    {
     "name": "stdout",
     "output_type": "stream",
     "text": [
      "holle werld\n",
      "tmwwclvc wy\n"
     ]
    }
   ],
   "source": [
    "#ou on peut faire une permutation très simple en inversant simplement les \"o\" et les \"e\"\n",
    "bij1='abcdofghijklmnepqrstuvwxyz '\n",
    "print(permute('hello world', bij1))\n",
    "#ou une permutation plus complexe car complètement aléatoire\n",
    "bij = list(LETTRES)\n",
    "random.shuffle(bij)\n",
    "print(permute('hello world', bij))"
   ]
  },
  {
   "cell_type": "markdown",
   "metadata": {},
   "source": [
    "### 2.2 - Déchiffrement"
   ]
  },
  {
   "cell_type": "markdown",
   "metadata": {},
   "source": [
    "Comment retrouver le message d'origine connaissant le message chiffré et la permutation ? Facile, il suffit de calculer la réciproque, c'est à dire trouver la position du caractère courant dans bijection."
   ]
  },
  {
   "cell_type": "code",
   "execution_count": 11,
   "metadata": {},
   "outputs": [],
   "source": [
    "def decode_permute(chiffre, bijection):\n",
    "    s = ''\n",
    "    n = len(LETTRES)\n",
    "    for c in chiffre:\n",
    "        s = s + LETTRES[bijection.index(c)]\n",
    "    return s"
   ]
  },
  {
   "cell_type": "code",
   "execution_count": 12,
   "metadata": {
    "scrolled": true
   },
   "outputs": [
    {
     "name": "stdout",
     "output_type": "stream",
     "text": [
      "tmwwclvc wy\n",
      "hello world\n"
     ]
    }
   ],
   "source": [
    "#on crypte\n",
    "messageCode=permute('hello world', bij)\n",
    "print(messageCode)\n",
    "#on décrypte\n",
    "messageDecode=decode_permute(messageCode,bij)\n",
    "print(messageDecode)"
   ]
  },
  {
   "cell_type": "markdown",
   "metadata": {},
   "source": [
    "Cette fois le nombre de clé est plutôt vaste : le \"a\" peut se transformer en 26 lettres différentes, le \"b\" en 25 (puisque ça ne peut pas être la même que \"a\"), le \"c\" en 24, etc. Cela fait donc $26 \\times 25 \\times 24 \\times ... \\times 2 \\times 1 = 26! \\approx 3 \\times 10^{29}$ possibilités de clés. Si on pouvait lire 1 000 000 de textes à la seconde (pour vérifier si c'est le bon), il faudrait quand même un million de milliard d'années pour arriver au bout...\n",
    "\n",
    "On ne peut donc pas attaquer ce genre de code par de la force brute."
   ]
  },
  {
   "cell_type": "markdown",
   "metadata": {},
   "source": [
    "### 2.3 - Cryptanalyse"
   ]
  },
  {
   "cell_type": "markdown",
   "metadata": {},
   "source": [
    "Idée : la probabilité d'apparition des lettres dans un texte en français n'est pas du tout uniforme. On doit pouvoir identifier les voyelles et les consones courantes assez rapidement. On peut aussi utiliser le fait que certaines lettres sont souvent doublées en français, comme le l ou le t ou le p ou encore que de nombreux mots se terminent par s."
   ]
  },
  {
   "cell_type": "code",
   "execution_count": 13,
   "metadata": {},
   "outputs": [],
   "source": [
    "def frequence(chaine):\n",
    "    \"\"\"\n",
    "    Calcule le nombre d'occurences de chaque lettre dans la chaine donnée.\n",
    "    \"\"\"\n",
    "    #on crée un liste de compteurs initialisés à 0\n",
    "    occ = [ 0 for c in LETTRES]\n",
    "    \n",
    "    #on incrémente le compteur de la lettre rencontrée dans la chaine\n",
    "    for c in chaine:\n",
    "        i = indice(c)\n",
    "        occ[i] = occ[i] + 1\n",
    "    \n",
    "    #on modifie les compteurs en transformant les effectifs en fréquences\n",
    "    total = max(len(chaine), 1)\n",
    "    for i in range(len(LETTRES)):\n",
    "        occ[i] = 100 * occ[i] / total\n",
    "    \n",
    "    #on affiche les résultats triés par ordre de fréquence en affichant la fréquence et la lettre\n",
    "    resultat = [(occ[i], LETTRES[i]) for i in range(len(LETTRES))]\n",
    "    resultat.sort()\n",
    "    return resultat"
   ]
  },
  {
   "cell_type": "code",
   "execution_count": 14,
   "metadata": {},
   "outputs": [
    {
     "data": {
      "text/plain": [
       "[(0.014544483114300344, 'h'),\n",
       " (0.018700049718386156, 'j'),\n",
       " (0.09617168426598595, 'd'),\n",
       " (0.2175735943424929, 'z'),\n",
       " (0.30973812509739607, 'w'),\n",
       " (0.5532840107154253, 'a'),\n",
       " (0.5972142862443325, 'c'),\n",
       " (0.7140153904377444, 'l'),\n",
       " (0.7649210813377956, 'm'),\n",
       " (0.8524848062096038, 'y'),\n",
       " (0.9982264635386133, 'r'),\n",
       " (1.2453342633887161, 's'),\n",
       " (2.3333506481941835, 'f'),\n",
       " (2.4538620797126725, 'k'),\n",
       " (2.5825362313463294, 't'),\n",
       " (2.953717376946994, 'i'),\n",
       " (4.106590283394801, 'x'),\n",
       " (4.17189204431615, ' '),\n",
       " (4.928353579352771, 'g'),\n",
       " (5.047826119220238, 'e'),\n",
       " (5.692681008318554, 'p'),\n",
       " (5.819425789743171, 'o'),\n",
       " (5.826104378928309, 'n'),\n",
       " (6.231568949012682, 'v'),\n",
       " (6.477637857211763, 'u'),\n",
       " (13.84842570811597, 'q'),\n",
       " (21.143819707774618, 'b')]"
      ]
     },
     "execution_count": 14,
     "metadata": {},
     "output_type": "execute_result"
    }
   ],
   "source": [
    "#on suppose que le texte est codée par une bijection secrète IL FAUT FAIRE COMME SI ON NE CONNAISSAIT PAS CETTE BIJECTION!!!\n",
    "bij=['u', 'm', 'k', 'i', 'q', 'y', 'l', 'c', 'p', 'a', 'j', ' ', 't', 'n', 'x', 'f', 'r', 'g', 'v', 'o', 'e', 's', 'h', 'w', 'z', 'd', 'b']\n",
    "messageCode = permute(texte, bij)\n",
    "frequence(messageCode)"
   ]
  },
  {
   "cell_type": "markdown",
   "metadata": {},
   "source": [
    "Il suffit maintenant d'aller sur [wikipedia](https://fr.wikipedia.org/wiki/Fr%C3%A9quence_d%27apparition_des_lettres_en_fran%C3%A7ais#Fr%C3%A9quence_des_caract%C3%A8res_dans_le_corpus_de_Wikip%C3%A9dia_en_fran%C3%A7ais) ou tout autre site pour trouver une table référence des fréquence de lettres dans les textes en français. \n",
    "On peut deviner plusieurs choses :\n",
    "<ul>\n",
    "<li>l'espace correspond au 21,14%</li>\n",
    "<li>le e doit correspondre à la lettre la plus fréquente</li>\n",
    "</ul>\n",
    "Pour trouver des chiffres plus proches des tables données, il faut considérer des textes sans espaces. Allons-y"
   ]
  },
  {
   "cell_type": "code",
   "execution_count": 15,
   "metadata": {},
   "outputs": [
    {
     "data": {
      "text/plain": [
       "[(0.0, 'b'),\n",
       " (0.018444316045237507, 'h'),\n",
       " (0.023714120629591082, 'j'),\n",
       " (0.12195833466646842, 'd'),\n",
       " (0.2759119114522264, 'z'),\n",
       " (0.3927886488409253, 'w'),\n",
       " (0.7016368389453616, 'a'),\n",
       " (0.7573462016942422, 'c'),\n",
       " (0.9054653519758944, 'l'),\n",
       " (0.9700204581342257, 'm'),\n",
       " (1.0810627690188188, 'y'),\n",
       " (1.265882344084362, 'r'),\n",
       " (1.5792475095468157, 's'),\n",
       " (2.958995274114532, 'f'),\n",
       " (3.1118196070607853, 'k'),\n",
       " (3.274995341869162, 't'),\n",
       " (3.7457018156358868, 'i'),\n",
       " (5.207696173180835, 'x'),\n",
       " (5.29050738807782, ' '),\n",
       " (6.249800029736755, 'g'),\n",
       " (6.40130691153692, 'e'),\n",
       " (7.219067658644644, 'p'),\n",
       " (7.379796698467428, 'o'),\n",
       " (7.38826602726371, 'n'),\n",
       " (7.902448388851352, 'v'),\n",
       " (8.214496103167717, 'u'),\n",
       " (17.561623777358285, 'q')]"
      ]
     },
     "execution_count": 15,
     "metadata": {},
     "output_type": "execute_result"
    }
   ],
   "source": [
    "messageCode2 = messageCode.replace('b', '')\n",
    "frequence(messageCode2)"
   ]
  },
  {
   "cell_type": "markdown",
   "metadata": {},
   "source": [
    "Les chiffres obtenus sont proches de ceux de la table de référence. Essayons de décrypter.\n",
    "\n",
    "On va créer une fonction qui permute deux lettres données :"
   ]
  },
  {
   "cell_type": "code",
   "execution_count": 16,
   "metadata": {},
   "outputs": [],
   "source": [
    "def echange(chaine, c1, c2):\n",
    "    s = ''\n",
    "    for c in chaine:\n",
    "        #si on rencontre c1, on remplace par c2\n",
    "        if c == c1:\n",
    "            s += c2\n",
    "        #si on rencontre c2, on remplace par c2\n",
    "        elif c == c2:\n",
    "            s += c1\n",
    "        #sinon on garde le même caractère\n",
    "        else:\n",
    "            s += c\n",
    "    return s"
   ]
  },
  {
   "cell_type": "code",
   "execution_count": 17,
   "metadata": {},
   "outputs": [
    {
     "data": {
      "text/plain": [
       "'eulit ibbin fxe  crasxrtea ewstixturnirtea  stiuqksrxn fit kcitbea miquebirte ftegrete fqmbrkisrxn en ytinke en       uxqmbe iaaiaarnis uina bi tqe gxtlqe  pqebbe kcinaxn kcinsirens bea artenea  pqeb nxg ikcrbbe ioirs rb ftra  pqinu rb ae kikcirs fitgr bea yeggea  pqeasrxna egmittiaainsea  rb eas otir  gira pqr ne axns fia arsqeea iq uebi ue sxqse kxnveksqte   art scxgia mtxhne    bea yikqbsea ue b eaftrs pq xn ueyrnrs fit be setge  inibzsrpqea  axns en ebbea gegea yxts feq aqakefsrmbea u inibzae  nxqa ne bea ifftekrxna pqe fit beqta teaqbsisa  ke pqe nxqa en aioxna  enste iqstea kcxaea  k eas pq ebbea axns fxqt kebqr pqr bea fxaaeue i qn uelte ewstixturnirte qne axqtke ue vxqraainkea uea fbqa oroea  ue gege pqe b cxgge yxts ae tevxqrs uina axn ifsrsque fczarpqe  ae kxgfbi  s uina bea ewetkrkea pqr ftxoxpqens bea gqakbea i b iksrxn  ue gege b inibzae ftenu ai lbxrte uina kesse iksrorse afrtrsqebbe uxns bi yxnksrxn eas ue uemtxqrbbet  rb srte uq fbirart gege uea fbqa stroribea xkkiarxna pqr gessens aea sibensa en veq  rb tiyyxbe uea enrlgea  uea temqa  uea cretxlbzfcea  rb uefbxre uina kcikqne uea axbqsrxna qne fqraainke ue fetafrkikrse pqr  uina b xfrnrxn oqblirte  ftenu qn kitiksete aqtnisqteb  bea teaqbsisa  cimrbegens ueuqrsa fit b   ge gege es b eaaenke ue ai gescxue  xns teebbegens sxqs b irt u qne rnsqrsrxn   kesse yikqbse ue  teaxbqsrxn  srte feqs este qne ltinue yxtke ue b esque uea giscegisrpqea  es fitsrkqbretegens ue bi stea ciqse mtinkce ue kesse akrenke  pqr  yxts rgftxftegens es argfbegens en tiraxn ue aea xfetisrxna testxltiuea  i ese nxggee b inibzae  kxgge ar ebbe esirs b inibzae fit ewkebbenke  kit  en axgge  sxqs kibkqb n eas fia en axr qne inibzae  qn vxqeqt u ekceka  fit ewegfbe  yirs yxts mren b qn aina b iqste  rb aqrs ue bi pqe be veq u ekceka  uina aea eyyesa aqt bi nisqte afrtrsqebbe  eas yxts gib ifftekre  ve ne oeqw fia ektrte rkr qn stirse ue b inibzae  gira argfbegens gesste en sese u qn tekrs fiaaimbegens arnlqbret pqebpqea xmaetoisrxna veseea sxqs i yirs i b iminuxn es pqr bqr aetortxns ue fteyike   ve ftenua uxnk kesse xkkiarxn ue ftxkbiget pqe bi ciqse fqraainke ue bi teybewrxn eas mren fbqa iksroegens es fbqa ftxyrsimbegens ewfbxrsee fit be gxuease veq ue uigea pqe fit sxqse bi bimxtreqae yqsrbrse uea ekceka  uina ke uetnret veq  xq bea frekea axns uxqeea ue gxqoegensa uroeta es mrdittea  es tefteaensens uea oibeqta uroetaea es oitreea  bi kxgfbewrse eas ftrae etteqt yxts kxggqne fxqt ue bi ftxyxnueqt  b issensrxn z eas fqraaiggens grae en veq  ar ebbe ae teb  kce u qn rnasins  xn kxgges qne etteqt  u xq rb teaqbse qne fetse xq qne ueyirse  kxgge bea gxqoegensa fxaarmbea axns nxn aeqbegens oitrea  gira rneliqw en  fqraainke   bea kcinkea ue fiterbbea etteqta axns stea gqbsrfbreea  es uina neqy kia aqt urw  k eas be vxqeqt be fbqa issensry pqr lilne es nxn fia be fbqa cimrbe  uina bea uigea  iq kxnstirte  xq be gxqoegens eas argfbe uina axn eafeke es ne aqmrs pqe feq ue oitrisrxna  bea ftxmimrbrsea u rniuoetsinke axns meiqkxqf gxrnutea  es b issensrxn n esins fia imaxbqgens es ensretegens ikkifitee  sxqa bea ioinsilea tegfxtsea fit kcikqn uea vxqeqta ne feqoens este tegfxtsea pqe fit qne fetafrkikrse aqfetreqte   fxqt biraaet bi kea imastiksrxna  aqffxaxna qn veq ue uigea xq bi sxsibrse uea frekea axrs teuqrse i pqiste uigea  es xq nisqtebbegens rb n z irs fia breq ue a issenute i uea esxqtuetrea  rb eas eoruens pq rkr bi orksxrte ne feqs este uekruee  bea ueqw fitsrea esins imaxbqgens elibea  pqe fit qne siksrpqe cimrbe  teaqbsis ue pqebpqe fqraains eyyxts ue b rnsebbeks  ftroe uea teaaxqtkea xturnirtea  b inibzase enste uina b eaftrs ue axn iuoetairte  a ruensryre ioek bqr  es axqoens uekxqote u qn aeqb kxqf u   rb b qnrpqe gxzen qn gxzen pqebpqeyxra imaqtuegens argfbe ue b issrtet uina qne yiqse xq ue be ftekrfrset uina qn yiqw kibkqb   xn i bxnlsegfa krse be hcras fxqt axn iksrxn aqt bi yikqbse uq kibkqb  es xn i kxnnq uea cxggea u qne ciqse rnsebbrlenke pqr aegmbirens z ftenute qn fbirart rnkxgftecenarmbe es ueuirlnet bea ekceka kxgge qn veq ytroxbe  en eyyes  rb n z i iqkqn veq inibxlqe pqr yiaae fbqa stioirbbet bi yikqbse ue b inibzae  be gerbbeqt vxqeqt u ekceka ue bi kctesrense ne feqs lqete este iqste kcxae pqe be gerbbeqt vxqeqt u ekceka  gira bi yxtke iq hcras rgfbrpqe bi fqraainke ue teqaart uina sxqsea bea afekqbisrxna mren iqstegens rgfxtsinsea xq b eaftrs bqsse ioek b eaftrs   pqinu ve ura bi yxtke  v ensenua kesse fetyeksrxn uina be veq pqr kxgftenu b rnsebbrlenke ue sxqa bea kia uxns xn feqs belrsrgegens yirte axn ftxyrs  rba axns nxn aeqbegens uroeta  gira kxgfbewea  es ae uetxmens axqoens uina uea ftxyxnueqta ue bi fenaee imaxbqgens rnikkeaarmbea i qne rnsebbrlenke xturnirte   xmaetoet issensroegens  k eas ae tiffebet urasrnksegens  es  i ke fxrns ue oqe  be vxqeqt u ekceka kifimbe u qne issensrxn stea rnsenae vxqeti yxts mren iq hcras  fqrapqe bea telbea ue cxzbe  miaeea ebbea gegea aqt be argfbe gekinrage uq veq  axns yikrbegens es lenetibegens rnsebbr'"
      ]
     },
     "execution_count": 17,
     "metadata": {},
     "output_type": "execute_result"
    }
   ],
   "source": [
    "c2 = echange(messageCode, 'b', ' ');\n",
    "c2 = echange(c2, 'q', 'e')\n",
    "c2 = echange(c2, 'v', 'a')\n",
    "c2 = echange(c2, 'u', 'i')\n",
    "c2 = echange(c2, 'o', 's')\n",
    "c2 = echange(c2, 'n', 'n')\n",
    "c2 = echange(c2, 'p', 'r')\n",
    "c2 = echange(c2, 'g', 't')\n",
    "\n",
    "c2[:5000]"
   ]
  },
  {
   "cell_type": "markdown",
   "metadata": {},
   "source": [
    "Beaucoup de mots se terminent par a, ce sont sûrement des s. On voit aussi le 2eme mot avec un double b, on parie sur un double l à la place :"
   ]
  },
  {
   "cell_type": "code",
   "execution_count": 18,
   "metadata": {},
   "outputs": [
    {
     "data": {
      "text/plain": [
       "'eubit illin fxe  crsaxrtes ewatixturnirtes  atiuqkarxn fit kcitles miquelirte ftegrete fqmlrkiarxn en ytinke en       uxqmle ississrnia uins li tqe gxtbqe  pqelle kcinsxn kcinairena les srtenes  pqel nxg ikcrlle ioira rl ftrs  pqinu rl se kikcira fitgr les yegges  pqesarxns egmittissinaes  rl esa otir  girs pqr ne sxna fis sraqees iq ueli ue axqae kxnvekaqte   srt acxgis mtxhne    les yikqlaes ue l esftra pq xn ueyrnra fit le aetge  inilzarpqes  sxna en elles geges yxta feq sqskefarmles u inilzse  nxqs ne les ifftekrxns pqe fit leqts tesqlaias  ke pqe nxqs en sioxns  enate iqates kcxses  k esa pq elles sxna fxqt kelqr pqr les fxsseue i qn uebte ewatixturnirte qne sxqtke ue vxqrssinkes ues flqs oroes  ue gege pqe l cxgge yxta se tevxqra uins sxn ifaraque fczsrpqe  se kxgfli  a uins les ewetkrkes pqr ftxoxpqena les gqskles i l ikarxn  ue gege l inilzse ftenu si blxrte uins keaae ikarorae sfrtraqelle uxna li yxnkarxn esa ue uemtxqrllet  rl arte uq flirsrt gege ues flqs atroriles xkkisrxns pqr geaaena ses ailenas en veq  rl tiyyxle ues enrbges  ues temqs  ues cretxblzfces  rl ueflxre uins kcikqne ues sxlqarxns qne fqrssinke ue fetsfrkikrae pqr  uins l xfrnrxn oqlbirte  ftenu qn kitikaete sqtniaqtel  les tesqlaias  cimrlegena ueuqras fit l   ge gege ea l essenke ue si geacxue  xna teellegena axqa l irt u qne rnaqrarxn   keaae yikqlae ue  tesxlqarxn  arte feqa eate qne btinue yxtke ue l eaque ues giacegiarpqes  ea fitarkqlretegena ue li ates ciqae mtinkce ue keaae skrenke  pqr  yxta rgftxftegena ea srgflegena en tirsxn ue ses xfetiarxns teatxbtiues  i eae nxggee l inilzse  kxgge sr elle eaira l inilzse fit ewkellenke  kit  en sxgge  axqa kilkql n esa fis en sxr qne inilzse  qn vxqeqt u ekceks  fit ewegfle  yira yxta mren l qn sins l iqate  rl sqra ue li pqe le veq u ekceks  uins ses eyyeas sqt li niaqte sfrtraqelle  esa yxta gil ifftekre  ve ne oeqw fis ektrte rkr qn atirae ue l inilzse  girs srgflegena geaate en aeae u qn tekra fissimlegena srnbqlret pqelpqes xmsetoiarxns veaees axqa i yira i l iminuxn ea pqr lqr setortxna ue fteyike   ve ftenus uxnk keaae xkkisrxn ue ftxkliget pqe li ciqae fqrssinke ue li teylewrxn esa mren flqs ikaroegena ea flqs ftxyraimlegena ewflxraee fit le gxuesae veq ue uiges pqe fit axqae li limxtreqse yqarlrae ues ekceks  uins ke uetnret veq  xq les frekes sxna uxqees ue gxqoegenas uroets ea mrdittes  ea teftesenaena ues oileqts uroetses ea oitrees  li kxgflewrae esa ftrse etteqt yxta kxggqne fxqt ue li ftxyxnueqt  l iaaenarxn z esa fqrssiggena grse en veq  sr elle se tel  kce u qn rnsaina  xn kxggea qne etteqt  u xq rl tesqlae qne fetae xq qne ueyirae  kxgge les gxqoegenas fxssrmles sxna nxn seqlegena oitres  girs rnebiqw en  fqrssinke   les kcinkes ue fiterlles etteqts sxna ates gqlarflrees  ea uins neqy kis sqt urw  k esa le vxqeqt le flqs iaaenary pqr bibne ea nxn fis le flqs cimrle  uins les uiges  iq kxnatirte  xq le gxqoegena esa srgfle uins sxn esfeke ea ne sqmra pqe feq ue oitriarxns  les ftxmimrlraes u rniuoetainke sxna meiqkxqf gxrnutes  ea l iaaenarxn n eaina fis imsxlqgena ea enaretegena ikkifitee  axqs les ioinaibes tegfxtaes fit kcikqn ues vxqeqts ne feqoena eate tegfxtaes pqe fit qne fetsfrkikrae sqfetreqte   fxqt lirsset li kes imsatikarxns  sqffxsxns qn veq ue uiges xq li axailrae ues frekes sxra teuqrae i pqiate uiges  ea xq niaqtellegena rl n z ira fis lreq ue s iaaenute i ues eaxqtuetres  rl esa eoruena pq rkr li orkaxrte ne feqa eate uekruee  les ueqw fitares eaina imsxlqgena ebiles  pqe fit qne aikarpqe cimrle  tesqlaia ue pqelpqe fqrssina eyyxta ue l rnaelleka  ftroe ues tessxqtkes xturnirtes  l inilzsae enate uins l esftra ue sxn iuoetsirte  s ruenaryre ioek lqr  ea sxqoena uekxqote u qn seql kxqf u   rl l qnrpqe gxzen qn gxzen pqelpqeyxrs imsqtuegena srgfle ue l iaartet uins qne yiqae xq ue le ftekrfraet uins qn yiqw kilkql   xn i lxnbaegfs krae le hcrsa fxqt sxn ikarxn sqt li yikqlae uq kilkql  ea xn i kxnnq ues cxgges u qne ciqae rnaellrbenke pqr segmlirena z ftenute qn flirsrt rnkxgftecensrmle ea ueuirbnet les ekceks kxgge qn veq ytroxle  en eyyea  rl n z i iqkqn veq inilxbqe pqr yisse flqs atioirllet li yikqlae ue l inilzse  le gerlleqt vxqeqt u ekceks ue li kctearenae ne feqa bqete eate iqate kcxse pqe le gerlleqt vxqeqt u ekceks  girs li yxtke iq hcrsa rgflrpqe li fqrssinke ue teqssrt uins axqaes les sfekqliarxns mren iqategena rgfxtainaes xq l esftra lqaae ioek l esftra   pqinu ve urs li yxtke  v enaenus keaae fetyekarxn uins le veq pqr kxgftenu l rnaellrbenke ue axqs les kis uxna xn feqa lebrargegena yirte sxn ftxyra  rls sxna nxn seqlegena uroets  girs kxgflewes  ea se uetxmena sxqoena uins ues ftxyxnueqts ue li fensee imsxlqgena rnikkessrmles i qne rnaellrbenke xturnirte   xmsetoet iaaenaroegena  k esa se tiffelet ursarnkaegena  ea  i ke fxrna ue oqe  le vxqeqt u ekceks kifimle u qne iaaenarxn ates rnaense vxqeti yxta mren iq hcrsa  fqrspqe les tebles ue cxzle  misees elles geges sqt le srgfle gekinrsge uq veq  sxna yikrlegena ea benetilegena rnaellr'"
      ]
     },
     "execution_count": 18,
     "metadata": {},
     "output_type": "execute_result"
    }
   ],
   "source": [
    "c2 = echange(c2, 'a', 's')\n",
    "c2 = echange(c2, 'b', 'l')\n",
    "\n",
    "c2[0:5000]"
   ]
  },
  {
   "cell_type": "markdown",
   "metadata": {},
   "source": [
    "Prochaine étape, utiliser les espaces de manière plus systématiques, pour réutiliser l'idée précédente. Par exemple, trouver les mots de longueur 1 et 2."
   ]
  },
  {
   "cell_type": "code",
   "execution_count": 19,
   "metadata": {},
   "outputs": [
    {
     "name": "stdout",
     "output_type": "stream",
     "text": [
      "{('f', 99), ('a', 360), ('i', 2870), ('n', 726), ('r', 8), ('u', 1834), ('m', 50), ('d', 1), ('z', 366), ('e', 95), ('s', 493), ('y', 86), ('v', 569), ('l', 2267), ('x', 5), ('q', 4), ('w', 3), ('j', 1), ('p', 3), ('o', 47), ('t', 44), ('b', 20), ('k', 491), ('g', 486), ('c', 32), ('h', 3)}\n",
      "{('yt', 2), ('rr', 1), ('ae', 117), ('li', 3285), ('kc', 21), ('ml', 1), ('ea', 3237), ('at', 1), ('le', 2389), ('qu', 5), ('ne', 794), ('xq', 485), ('yl', 4), ('xy', 4), ('ke', 715), ('ee', 1), ('iu', 1), ('kl', 1), ('xc', 32), ('mz', 2), ('gr', 1), ('ue', 5233), ('ki', 15), ('eq', 49), ('fq', 72), ('gz', 1), ('en', 1247), ('lq', 6), ('ox', 7), ('kr', 43), ('nx', 1), ('kt', 29), ('tr', 1), ('qy', 1), ('se', 527), ('uq', 980), ('in', 5), ('ro', 1), ('xs', 2), ('oi', 13), ('nr', 79), ('gi', 279), ('oq', 46), ('kx', 15), ('io', 1), ('qs', 1), ('rl', 1689), ('ft', 3), ('ry', 1), ('ve', 1768), ('im', 17), ('xt', 66), ('te', 5), ('si', 451), ('fl', 2), ('bx', 6), ('pq', 770), ('et', 1), ('qt', 38), ('bt', 22), ('rn', 8), ('sq', 5), ('oe', 2), ('sr', 328), ('sx', 1), ('ts', 4), ('fw', 2), ('na', 4), ('ni', 3), ('mi', 1), ('ut', 5), ('ew', 1), ('mx', 8), ('be', 11), ('ec', 15), ('fi', 2), ('xn', 320), ('ir', 219), ('as', 5), ('ci', 6), ('mt', 10), ('nq', 3), ('es', 4), ('aq', 46), ('ar', 1), ('ic', 17), ('iq', 631), ('is', 9), ('gg', 9), ('ai', 4), ('qn', 1866), ('ac', 3), ('ge', 549)}\n"
     ]
    }
   ],
   "source": [
    "mots = c2.split()\n",
    "\n",
    "long_1 = [m for m in mots if len(m)== 1]\n",
    "mots_1 = set() #ensemble : ne peut pas contenir deux fois le même élément\n",
    "for m in long_1:\n",
    "    mots_1.add((m, long_1.count(m)))\n",
    "print(mots_1)\n",
    "\n",
    "long_2 = [m for m in mots if len(m) == 2]\n",
    "mots_2 = set() #ensemble : ne peut pas contenir deux fois le même élément\n",
    "for m in long_2:\n",
    "    mots_2.add((m, long_2.count(m)))\n",
    "print(mots_2)"
   ]
  },
  {
   "cell_type": "markdown",
   "metadata": {},
   "source": [
    "Le but est de trouver a, l, d qui sont très commun en mots d'une lettre comme en mots de deux (\"l'\", \"d'\", \"la\", \"le\"...)\n",
    "\n",
    "On observe que le mot \"ue\" apparait 5249 fois, comme on est assez sûr du e et sans doute du l, on peut parier que le u se transforme en d.\n",
    "\n",
    "De même, on on observe que \"le\" et \"li\" apparaissent environ 3000 fois, donc on parie que ce sont les mots le et la. On va donc inverser le i et le a.    "
   ]
  },
  {
   "cell_type": "code",
   "execution_count": 20,
   "metadata": {},
   "outputs": [
    {
     "data": {
      "text/plain": [
       "'eubat allan fxe  crsixrtes ewitaxturnartes  itauqkirxn fat kcatles maquelarte ftegrete fqmlrkairxn en ytanke en       uxqmle assassrnai uans la tqe gxtbqe  pqelle kcansxn kcaniareni les srtenes  pqel nxg akcrlle aoari rl ftrs  pqanu rl se kakcari fatgr les yegges  pqesirxns egmattassanies  rl esi otar  gars pqr ne sxni fas sriqees aq uela ue ixqie kxnvekiqte   srt icxgas mtxhne    les yakqlies ue l esftri pq xn ueyrnri fat le ietge  analzirpqes  sxni en elles geges yxti feq sqskefirmles u analzse  nxqs ne les afftekrxns pqe fat leqts tesqliais  ke pqe nxqs en saoxns  enite aqites kcxses  k esi pq elles sxni fxqt kelqr pqr les fxsseue a qn uebte ewitaxturnarte qne sxqtke ue vxqrssankes ues flqs oroes  ue gege pqe l cxgge yxti se tevxqri uans sxn afirique fczsrpqe  se kxgfla  i uans les ewetkrkes pqr ftxoxpqeni les gqskles a l akirxn  ue gege l analzse ftenu sa blxrte uans keiie akirorie sfrtriqelle uxni la yxnkirxn esi ue uemtxqrllet  rl irte uq flarsrt gege ues flqs itrorales xkkasrxns pqr geiieni ses ialenis en veq  rl tayyxle ues enrbges  ues temqs  ues cretxblzfces  rl ueflxre uans kcakqne ues sxlqirxns qne fqrssanke ue fetsfrkakrie pqr  uans l xfrnrxn oqlbarte  ftenu qn katakiete sqtnaiqtel  les tesqliais  camrlegeni ueuqris fat l   ge gege ei l essenke ue sa geicxue  xni teellegeni ixqi l art u qne rniqrirxn   keiie yakqlie ue  tesxlqirxn  irte feqi eite qne btanue yxtke ue l eique ues gaicegairpqes  ei fatirkqlretegeni ue la ites caqie mtankce ue keiie skrenke  pqr  yxti rgftxftegeni ei srgflegeni en tarsxn ue ses xfetairxns teitxbtaues  a eie nxggee l analzse  kxgge sr elle eiari l analzse fat ewkellenke  kat  en sxgge  ixqi kalkql n esi fas en sxr qne analzse  qn vxqeqt u ekceks  fat ewegfle  yari yxti mren l qn sans l aqite  rl sqri ue la pqe le veq u ekceks  uans ses eyyeis sqt la naiqte sfrtriqelle  esi yxti gal afftekre  ve ne oeqw fas ektrte rkr qn itarie ue l analzse  gars srgflegeni geiite en ieie u qn tekri fassamlegeni srnbqlret pqelpqes xmsetoairxns veiees ixqi a yari a l amanuxn ei pqr lqr setortxni ue fteyake   ve ftenus uxnk keiie xkkasrxn ue ftxklaget pqe la caqie fqrssanke ue la teylewrxn esi mren flqs akiroegeni ei flqs ftxyriamlegeni ewflxriee fat le gxuesie veq ue uages pqe fat ixqie la lamxtreqse yqirlrie ues ekceks  uans ke uetnret veq  xq les frekes sxni uxqees ue gxqoegenis uroets ei mrdattes  ei teftesenieni ues oaleqts uroetses ei oatrees  la kxgflewrie esi ftrse etteqt yxti kxggqne fxqt ue la ftxyxnueqt  l aiienirxn z esi fqrssaggeni grse en veq  sr elle se tel  kce u qn rnsiani  xn kxggei qne etteqt  u xq rl tesqlie qne fetie xq qne ueyarie  kxgge les gxqoegenis fxssrmles sxni nxn seqlegeni oatres  gars rnebaqw en  fqrssanke   les kcankes ue faterlles etteqts sxni ites gqlirflrees  ei uans neqy kas sqt urw  k esi le vxqeqt le flqs aiieniry pqr babne ei nxn fas le flqs camrle  uans les uages  aq kxnitarte  xq le gxqoegeni esi srgfle uans sxn esfeke ei ne sqmri pqe feq ue oatrairxns  les ftxmamrlries u rnauoetianke sxni meaqkxqf gxrnutes  ei l aiienirxn n eiani fas amsxlqgeni ei eniretegeni akkafatee  ixqs les aoaniabes tegfxties fat kcakqn ues vxqeqts ne feqoeni eite tegfxties pqe fat qne fetsfrkakrie sqfetreqte   fxqt larsset la kes amsitakirxns  sqffxsxns qn veq ue uages xq la ixialrie ues frekes sxri teuqrie a pqaite uages  ei xq naiqtellegeni rl n z ari fas lreq ue s aiienute a ues eixqtuetres  rl esi eorueni pq rkr la orkixrte ne feqi eite uekruee  les ueqw fatires eiani amsxlqgeni ebales  pqe fat qne iakirpqe camrle  tesqliai ue pqelpqe fqrssani eyyxti ue l rnielleki  ftroe ues tessxqtkes xturnartes  l analzsie enite uans l esftri ue sxn auoetsarte  s rueniryre aoek lqr  ei sxqoeni uekxqote u qn seql kxqf u   rl l qnrpqe gxzen qn gxzen pqelpqeyxrs amsqtuegeni srgfle ue l aiirtet uans qne yaqie xq ue le ftekrfriet uans qn yaqw kalkql   xn a lxnbiegfs krie le hcrsi fxqt sxn akirxn sqt la yakqlie uq kalkql  ei xn a kxnnq ues cxgges u qne caqie rniellrbenke pqr segmlareni z ftenute qn flarsrt rnkxgftecensrmle ei ueuarbnet les ekceks kxgge qn veq ytroxle  en eyyei  rl n z a aqkqn veq analxbqe pqr yasse flqs itaoarllet la yakqlie ue l analzse  le gerlleqt vxqeqt u ekceks ue la kcteirenie ne feqi bqete eite aqite kcxse pqe le gerlleqt vxqeqt u ekceks  gars la yxtke aq hcrsi rgflrpqe la fqrssanke ue teqssrt uans ixqies les sfekqlairxns mren aqitegeni rgfxtianies xq l esftri lqiie aoek l esftri   pqanu ve urs la yxtke  v enienus keiie fetyekirxn uans le veq pqr kxgftenu l rniellrbenke ue ixqs les kas uxni xn feqi lebrirgegeni yarte sxn ftxyri  rls sxni nxn seqlegeni uroets  gars kxgflewes  ei se uetxmeni sxqoeni uans ues ftxyxnueqts ue la fensee amsxlqgeni rnakkessrmles a qne rniellrbenke xturnarte   xmsetoet aiieniroegeni  k esi se taffelet ursirnkiegeni  ei  a ke fxrni ue oqe  le vxqeqt u ekceks kafamle u qne aiienirxn ites rniense vxqeta yxti mren aq hcrsi  fqrspqe les tebles ue cxzle  masees elles geges sqt le srgfle gekanrsge uq veq  sxni yakrlegeni ei benetalegeni rniellr'"
      ]
     },
     "execution_count": 20,
     "metadata": {},
     "output_type": "execute_result"
    }
   ],
   "source": [
    "c3 = echange(c2, 'u', 'd')\n",
    "c3 = echange(c2, 'i', 'a')\n",
    "c3[0:5000]"
   ]
  },
  {
   "cell_type": "markdown",
   "metadata": {},
   "source": [
    "On voit \"elles sxni\" qui ressemblent à \"elles sont\".\n",
    "On va tenter les permutations x<->o et i<->t."
   ]
  },
  {
   "cell_type": "code",
   "execution_count": 21,
   "metadata": {},
   "outputs": [
    {
     "data": {
      "text/plain": [
       "'eubai allan foe  crstories ewtiaoiurnaries  tiauqktron fai kcailes maquelarie fiegreie fqmlrkatron en yianke en       uoqmle assassrnat uans la iqe goibqe  pqelle kcanson kcantarent les srienes  pqel nog akcrlle axart rl firs  pqanu rl se kakcart faigr les yegges  pqestrons egmaiiassantes  rl est xiar  gars pqr ne sont fas srtqees aq uela ue toqte konvektqie   sri tcogas miohne    les yakqltes ue l esfirt pq on ueyrnrt fai le teige  analztrpqes  sont en elles geges yoit feq sqskeftrmles u analzse  noqs ne les affiekrons pqe fai leqis iesqltats  ke pqe noqs en saxons  entie aqties kcoses  k est pq elles sont foqi kelqr pqr les fosseue a qn uebie ewtiaoiurnarie qne soqike ue voqrssankes ues flqs xrxes  ue gege pqe l cogge yoit se ievoqrt uans son aftrtque fczsrpqe  se kogfla  t uans les eweikrkes pqr fioxopqent les gqskles a l aktron  ue gege l analzse fienu sa blorie uans kette aktrxrte sfrirtqelle uont la yonktron est ue uemioqrllei  rl trie uq flarsri gege ues flqs tirxrales okkasrons pqr gettent ses talents en veq  rl iayyole ues enrbges  ues iemqs  ues creioblzfces  rl ueflore uans kcakqne ues solqtrons qne fqrssanke ue feisfrkakrte pqr  uans l ofrnron xqlbarie  fienu qn kaiakteie sqinatqiel  les iesqltats  camrlegent ueuqrts fai l   ge gege et l essenke ue sa getcoue  ont ieellegent toqt l ari u qne rntqrtron   kette yakqlte ue  iesolqtron  trie feqt etie qne bianue yoike ue l etque ues gatcegatrpqes  et faitrkqlreiegent ue la ties caqte miankce ue kette skrenke  pqr  yoit rgfiofiegent et srgflegent en iarson ue ses ofeiatrons ietiobiaues  a ete noggee l analzse  kogge sr elle etart l analzse fai ewkellenke  kai  en sogge  toqt kalkql n est fas en sor qne analzse  qn voqeqi u ekceks  fai ewegfle  yart yoit mren l qn sans l aqtie  rl sqrt ue la pqe le veq u ekceks  uans ses eyyets sqi la natqie sfrirtqelle  est yoit gal affiekre  ve ne xeqw fas ekirie rkr qn tiarte ue l analzse  gars srgflegent gettie en tete u qn iekrt fassamlegent srnbqlrei pqelpqes omseixatrons vetees toqt a yart a l amanuon et pqr lqr seixriont ue fieyake   ve fienus uonk kette okkasron ue fioklagei pqe la caqte fqrssanke ue la ieylewron est mren flqs aktrxegent et flqs fioyrtamlegent ewflortee fai le goueste veq ue uages pqe fai toqte la lamoireqse yqtrlrte ues ekceks  uans ke ueinrei veq  oq les frekes sont uoqees ue goqxegents urxeis et mrdaiies  et iefiesentent ues xaleqis urxeises et xairees  la kogflewrte est firse eiieqi yoit koggqne foqi ue la fioyonueqi  l attentron z est fqrssaggent grse en veq  sr elle se iel  kce u qn rnstant  on kogget qne eiieqi  u oq rl iesqlte qne feite oq qne ueyarte  kogge les goqxegents fossrmles sont non seqlegent xaires  gars rnebaqw en  fqrssanke   les kcankes ue faierlles eiieqis sont ties gqltrflrees  et uans neqy kas sqi urw  k est le voqeqi le flqs attentry pqr babne et non fas le flqs camrle  uans les uages  aq kontiarie  oq le goqxegent est srgfle uans son esfeke et ne sqmrt pqe feq ue xairatrons  les fiomamrlrtes u rnauxeitanke sont meaqkoqf gornuies  et l attentron n etant fas amsolqgent et entreiegent akkafaiee  toqs les axantabes iegfoites fai kcakqn ues voqeqis ne feqxent etie iegfoites pqe fai qne feisfrkakrte sqfeireqie   foqi larssei la kes amstiaktrons  sqffosons qn veq ue uages oq la totalrte ues frekes sort ieuqrte a pqatie uages  et oq natqiellegent rl n z art fas lreq ue s attenuie a ues etoqiueires  rl est exruent pq rkr la xrktorie ne feqt etie uekruee  les ueqw faitres etant amsolqgent ebales  pqe fai qne taktrpqe camrle  iesqltat ue pqelpqe fqrssant eyyoit ue l rntellekt  firxe ues iessoqikes oiurnaries  l analzste entie uans l esfirt ue son auxeisarie  s ruentryre axek lqr  et soqxent uekoqxie u qn seql koqf u   rl l qnrpqe gozen qn gozen pqelpqeyors amsqiuegent srgfle ue l attriei uans qne yaqte oq ue le fiekrfrtei uans qn yaqw kalkql   on a lonbtegfs krte le hcrst foqi son aktron sqi la yakqlte uq kalkql  et on a konnq ues cogges u qne caqte rntellrbenke pqr segmlarent z fienuie qn flarsri rnkogfiecensrmle et ueuarbnei les ekceks kogge qn veq yirxole  en eyyet  rl n z a aqkqn veq analobqe pqr yasse flqs tiaxarllei la yakqlte ue l analzse  le gerlleqi voqeqi u ekceks ue la kcietrente ne feqt bqeie etie aqtie kcose pqe le gerlleqi voqeqi u ekceks  gars la yoike aq hcrst rgflrpqe la fqrssanke ue ieqssri uans toqtes les sfekqlatrons mren aqtiegent rgfoitantes oq l esfirt lqtte axek l esfirt   pqanu ve urs la yoike  v entenus kette feiyektron uans le veq pqr kogfienu l rntellrbenke ue toqs les kas uont on feqt lebrtrgegent yarie son fioyrt  rls sont non seqlegent urxeis  gars kogflewes  et se ueioment soqxent uans ues fioyonueqis ue la fensee amsolqgent rnakkessrmles a qne rntellrbenke oiurnarie   omseixei attentrxegent  k est se iaffelei urstrnktegent  et  a ke fornt ue xqe  le voqeqi u ekceks kafamle u qne attentron ties rntense voqeia yoit mren aq hcrst  fqrspqe les iebles ue cozle  masees elles geges sqi le srgfle gekanrsge uq veq  sont yakrlegent et beneialegent rntellr'"
      ]
     },
     "execution_count": 21,
     "metadata": {},
     "output_type": "execute_result"
    }
   ],
   "source": [
    "c3 = echange(c3, 'x', 'o')\n",
    "c3 = echange(c3, \"i\", \"t\")\n",
    "c3[:5000]"
   ]
  },
  {
   "cell_type": "code",
   "execution_count": 22,
   "metadata": {},
   "outputs": [
    {
     "data": {
      "text/plain": [
       "'eubar allan foe  cistoires ewtraoruinaires  trauqktion far kcarles maquelaire fregiere fqmlikation en zranke en       uoqmle assassinat uans la rqe gorbqe  pqelle kcanson kcantaient les sirenes  pqel nog akcille axait il fris  pqanu il se kakcait fargi les zegges  pqestions egmarrassantes  il est xrai  gais pqi ne sont fas sitqees aq uela ue toqte konvektqre   sir tcogas mrohne    les zakqltes ue l esfrit pq on uezinit far le terge  analytipqes  sont en elles geges zort feq sqskeftimles u analyse  noqs ne les affrekions pqe far leqrs resqltats  ke pqe noqs en saxons  entre aqtres kcoses  k est pq elles sont foqr kelqi pqi les fosseue a qn uebre ewtraoruinaire qne soqrke ue voqissankes ues flqs xixes  ue gege pqe l cogge zort se revoqit uans son aftitque fcysipqe  se kogfla  t uans les ewerkikes pqi froxopqent les gqskles a l aktion  ue gege l analyse frenu sa bloire uans kette aktixite sfiritqelle uont la zonktion est ue uemroqiller  il tire uq flaisir gege ues flqs trixiales okkasions pqi gettent ses talents en veq  il razzole ues enibges  ues remqs  ues cieroblyfces  il uefloie uans kcakqne ues solqtions qne fqissanke ue fersfikakite pqi  uans l ofinion xqlbaire  frenu qn karaktere sqrnatqrel  les resqltats  camilegent ueuqits far l   ge gege et l essenke ue sa getcoue  ont reellegent toqt l air u qne intqition   kette zakqlte ue  resolqtion  tire feqt etre qne branue zorke ue l etque ues gatcegatipqes  et fartikqlieregent ue la tres caqte mrankce ue kette skienke  pqi  zort igfrofregent et sigflegent en raison ue ses oferations retrobraues  a ete noggee l analyse  kogge si elle etait l analyse far ewkellenke  kar  en sogge  toqt kalkql n est fas en soi qne analyse  qn voqeqr u ekceks  far ewegfle  zait zort mien l qn sans l aqtre  il sqit ue la pqe le veq u ekceks  uans ses ezzets sqr la natqre sfiritqelle  est zort gal affrekie  ve ne xeqw fas ekrire iki qn traite ue l analyse  gais sigflegent gettre en tete u qn rekit fassamlegent sinbqlier pqelpqes omserxations vetees toqt a zait a l amanuon et pqi lqi serxiront ue frezake   ve frenus uonk kette okkasion ue froklager pqe la caqte fqissanke ue la rezlewion est mien flqs aktixegent et flqs frozitamlegent ewfloitee far le goueste veq ue uages pqe far toqte la lamorieqse zqtilite ues ekceks  uans ke uernier veq  oq les fiekes sont uoqees ue goqxegents uixers et midarres  et refresentent ues xaleqrs uixerses et xariees  la kogflewite est frise erreqr zort koggqne foqr ue la frozonueqr  l attention y est fqissaggent gise en veq  si elle se rel  kce u qn instant  on kogget qne erreqr  u oq il resqlte qne ferte oq qne uezaite  kogge les goqxegents fossimles sont non seqlegent xaries  gais inebaqw en  fqissanke   les kcankes ue fareilles erreqrs sont tres gqltifliees  et uans neqz kas sqr uiw  k est le voqeqr le flqs attentiz pqi babne et non fas le flqs camile  uans les uages  aq kontraire  oq le goqxegent est sigfle uans son esfeke et ne sqmit pqe feq ue xariations  les fromamilites u inauxertanke sont meaqkoqf goinures  et l attention n etant fas amsolqgent et entieregent akkafaree  toqs les axantabes regfortes far kcakqn ues voqeqrs ne feqxent etre regfortes pqe far qne fersfikakite sqferieqre   foqr laisser la kes amstraktions  sqffosons qn veq ue uages oq la totalite ues fiekes soit reuqite a pqatre uages  et oq natqrellegent il n y ait fas lieq ue s attenure a ues etoqrueries  il est exiuent pq iki la xiktoire ne feqt etre uekiuee  les ueqw farties etant amsolqgent ebales  pqe far qne taktipqe camile  resqltat ue pqelpqe fqissant ezzort ue l intellekt  frixe ues ressoqrkes oruinaires  l analyste entre uans l esfrit ue son auxersaire  s iuentizie axek lqi  et soqxent uekoqxre u qn seql koqf u   il l qnipqe goyen qn goyen pqelpqezois amsqruegent sigfle ue l attirer uans qne zaqte oq ue le frekifiter uans qn zaqw kalkql   on a lonbtegfs kite le hcist foqr son aktion sqr la zakqlte uq kalkql  et on a konnq ues cogges u qne caqte intellibenke pqi segmlaient y frenure qn flaisir inkogfrecensimle et ueuaibner les ekceks kogge qn veq zrixole  en ezzet  il n y a aqkqn veq analobqe pqi zasse flqs traxailler la zakqlte ue l analyse  le geilleqr voqeqr u ekceks ue la kcretiente ne feqt bqere etre aqtre kcose pqe le geilleqr voqeqr u ekceks  gais la zorke aq hcist igflipqe la fqissanke ue reqssir uans toqtes les sfekqlations mien aqtregent igfortantes oq l esfrit lqtte axek l esfrit   pqanu ve uis la zorke  v entenus kette ferzektion uans le veq pqi kogfrenu l intellibenke ue toqs les kas uont on feqt lebitigegent zaire son frozit  ils sont non seqlegent uixers  gais kogflewes  et se ueroment soqxent uans ues frozonueqrs ue la fensee amsolqgent inakkessimles a qne intellibenke oruinaire   omserxer attentixegent  k est se raffeler uistinktegent  et  a ke foint ue xqe  le voqeqr u ekceks kafamle u qne attention tres intense voqera zort mien aq hcist  fqispqe les rebles ue coyle  masees elles geges sqr le sigfle gekanisge uq veq  sont zakilegent et beneralegent intelli'"
      ]
     },
     "execution_count": 22,
     "metadata": {},
     "output_type": "execute_result"
    }
   ],
   "source": [
    "c3 = echange(c3, 'z', 'y')\n",
    "c3 = echange(c3, \"i\", \"r\")\n",
    "c3[:5000]"
   ]
  },
  {
   "cell_type": "code",
   "execution_count": 23,
   "metadata": {},
   "outputs": [
    {
     "data": {
      "text/plain": [
       "'edbar allan foe  histoires extraordinaires  tradqktion far kharles maqdelaire fregiere fqmlikation en zranke en       doqmle assassinat dans la rqe gorbqe  pqelle khanson khantaient les sirenes  pqel nog akhille await il fris  pqand il se kakhait fargi les zegges  pqestions egmarrassantes  il est wrai  gais pqi ne sont fas sitqees aq dela de toqte konvektqre   sir thogas mrocne    les zakqltes de l esfrit pq on dezinit far le terge  analytipqes  sont en elles geges zort feq sqskeftimles d analyse  noqs ne les affrekions pqe far leqrs resqltats  ke pqe noqs en sawons  entre aqtres khoses  k est pq elles sont foqr kelqi pqi les fossede a qn debre extraordinaire qne soqrke de voqissankes des flqs wiwes  de gege pqe l hogge zort se revoqit dans son aftitqde fhysipqe  se kogfla  t dans les exerkikes pqi frowopqent les gqskles a l aktion  de gege l analyse frend sa bloire dans kette aktiwite sfiritqelle dont la zonktion est de demroqiller  il tire dq flaisir gege des flqs triwiales okkasions pqi gettent ses talents en veq  il razzole des enibges  des remqs  des hieroblyfhes  il defloie dans khakqne des solqtions qne fqissanke de fersfikakite pqi  dans l ofinion wqlbaire  frend qn karaktere sqrnatqrel  les resqltats  hamilegent dedqits far l   ge gege et l essenke de sa gethode  ont reellegent toqt l air d qne intqition   kette zakqlte de  resolqtion  tire feqt etre qne brande zorke de l etqde des gathegatipqes  et fartikqlieregent de la tres haqte mrankhe de kette skienke  pqi  zort igfrofregent et sigflegent en raison de ses oferations retrobrades  a ete noggee l analyse  kogge si elle etait l analyse far exkellenke  kar  en sogge  toqt kalkql n est fas en soi qne analyse  qn voqeqr d ekheks  far exegfle  zait zort mien l qn sans l aqtre  il sqit de la pqe le veq d ekheks  dans ses ezzets sqr la natqre sfiritqelle  est zort gal affrekie  ve ne weqx fas ekrire iki qn traite de l analyse  gais sigflegent gettre en tete d qn rekit fassamlegent sinbqlier pqelpqes omserwations vetees toqt a zait a l amandon et pqi lqi serwiront de frezake   ve frends donk kette okkasion de froklager pqe la haqte fqissanke de la rezlexion est mien flqs aktiwegent et flqs frozitamlegent exfloitee far le godeste veq de dages pqe far toqte la lamorieqse zqtilite des ekheks  dans ke dernier veq  oq les fiekes sont doqees de goqwegents diwers et miuarres  et refresentent des waleqrs diwerses et wariees  la kogflexite est frise erreqr zort koggqne foqr de la frozondeqr  l attention y est fqissaggent gise en veq  si elle se rel  khe d qn instant  on kogget qne erreqr  d oq il resqlte qne ferte oq qne dezaite  kogge les goqwegents fossimles sont non seqlegent waries  gais inebaqx en  fqissanke   les khankes de fareilles erreqrs sont tres gqltifliees  et dans neqz kas sqr dix  k est le voqeqr le flqs attentiz pqi babne et non fas le flqs hamile  dans les dages  aq kontraire  oq le goqwegent est sigfle dans son esfeke et ne sqmit pqe feq de wariations  les fromamilites d inadwertanke sont meaqkoqf goindres  et l attention n etant fas amsolqgent et entieregent akkafaree  toqs les awantabes regfortes far khakqn des voqeqrs ne feqwent etre regfortes pqe far qne fersfikakite sqferieqre   foqr laisser la kes amstraktions  sqffosons qn veq de dages oq la totalite des fiekes soit redqite a pqatre dages  et oq natqrellegent il n y ait fas lieq de s attendre a des etoqrderies  il est ewident pq iki la wiktoire ne feqt etre dekidee  les deqx farties etant amsolqgent ebales  pqe far qne taktipqe hamile  resqltat de pqelpqe fqissant ezzort de l intellekt  friwe des ressoqrkes ordinaires  l analyste entre dans l esfrit de son adwersaire  s identizie awek lqi  et soqwent dekoqwre d qn seql koqf d   il l qnipqe goyen qn goyen pqelpqezois amsqrdegent sigfle de l attirer dans qne zaqte oq de le frekifiter dans qn zaqx kalkql   on a lonbtegfs kite le chist foqr son aktion sqr la zakqlte dq kalkql  et on a konnq des hogges d qne haqte intellibenke pqi segmlaient y frendre qn flaisir inkogfrehensimle et dedaibner les ekheks kogge qn veq zriwole  en ezzet  il n y a aqkqn veq analobqe pqi zasse flqs trawailler la zakqlte de l analyse  le geilleqr voqeqr d ekheks de la khretiente ne feqt bqere etre aqtre khose pqe le geilleqr voqeqr d ekheks  gais la zorke aq chist igflipqe la fqissanke de reqssir dans toqtes les sfekqlations mien aqtregent igfortantes oq l esfrit lqtte awek l esfrit   pqand ve dis la zorke  v entends kette ferzektion dans le veq pqi kogfrend l intellibenke de toqs les kas dont on feqt lebitigegent zaire son frozit  ils sont non seqlegent diwers  gais kogflexes  et se deroment soqwent dans des frozondeqrs de la fensee amsolqgent inakkessimles a qne intellibenke ordinaire   omserwer attentiwegent  k est se raffeler distinktegent  et  a ke foint de wqe  le voqeqr d ekheks kafamle d qne attention tres intense voqera zort mien aq chist  fqispqe les rebles de hoyle  masees elles geges sqr le sigfle gekanisge dq veq  sont zakilegent et beneralegent intelli'"
      ]
     },
     "execution_count": 23,
     "metadata": {},
     "output_type": "execute_result"
    }
   ],
   "source": [
    "c3 = echange(c3, 'c', 'h')\n",
    "c3 = echange(c3, \"x\", \"w\")\n",
    "c3 = echange(c3, \"u\", \"d\")\n",
    "c3[:5000]"
   ]
  },
  {
   "cell_type": "markdown",
   "metadata": {},
   "source": [
    "et ainsi de suite..."
   ]
  },
  {
   "cell_type": "markdown",
   "metadata": {},
   "source": [
    "La décodage allant, on commence à comprendre le sens et pouvoir déchiffrer plus facilement.\n",
    "\n",
    "Pour faciliter la lecture, il faudrait afficher différemment les lettres déjà trouvées. On y est presque. Le reste est à finir en exercice."
   ]
  },
  {
   "cell_type": "markdown",
   "metadata": {},
   "source": [
    "## 3- Vigénère"
   ]
  },
  {
   "cell_type": "markdown",
   "metadata": {},
   "source": [
    "### 3.1 - Principe"
   ]
  },
  {
   "cell_type": "markdown",
   "metadata": {},
   "source": [
    "La principale faiblesse du codage par substitution est que tous les \"e\" deviennnent une seule et même lettre dans le message codé et qu'une analyse statistique permet d'identifier par quoi elle a été substituée.\n",
    "Le code de Vigénère apporte une soution à cette faiblesse car il introduit l'idée d'une substitution polyalphabétique, c'est à dire qu'une lettre donnée ne sera pas toujours transformée en la même lettre.\n",
    "\n",
    "Au lieu d'utiliser un décalage uniforme sur tout le texte comme dans le code de César, on choisit un mot clé qui sert à indiquer de combien on se décale. \n",
    "<ul>\n",
    "<li>On transforme le mot clé en liste de chiffres, qui seront nos décalages (a->+0, b->+1, c->+2,...), par exemple, si la clé est bac, alors la liste des décalages est de (1,0,2) (a->+0, b->+1, c->+2,...)</li>\n",
    "<li>la première lettre du texte est décalée grâce au premier chiffre de la clé</li>\n",
    "<li>la deuxième lettre du texte est décalée grâce au deuxième chiffre de la clé</li>\n",
    "<li>on poursuit ainsi, en reprennant la clé depuis le début quand on l'a épuisée</li>\n",
    "</ul>\n",
    "\n",
    "La vidéo suivante, à regarder, explique le cryptage par substitution et de Vigénère : https://youtu.be/PIw_nuWsOFU"
   ]
  },
  {
   "cell_type": "code",
   "execution_count": 24,
   "metadata": {},
   "outputs": [],
   "source": [
    "def vigenere(texte, mot_cle):\n",
    "    liste_cle = [indice(c) for c in mot_cle]\n",
    "    s = ''\n",
    "    long_cle = len(liste_cle)\n",
    "    long_alph = len(LETTRES)\n",
    "    for i in range(len(texte)):\n",
    "        s = s + LETTRES[(indice(texte[i]) + liste_cle[i % long_cle]) % long_alph]\n",
    "    return s"
   ]
  },
  {
   "cell_type": "code",
   "execution_count": 25,
   "metadata": {},
   "outputs": [
    {
     "data": {
      "text/plain": [
       "'osvkkidgswydeskv'"
      ]
     },
     "execution_count": 25,
     "metadata": {},
     "output_type": "execute_result"
    }
   ],
   "source": [
    "vigenere('ceci est un test', 'motcle')"
   ]
  },
  {
   "cell_type": "code",
   "execution_count": 26,
   "metadata": {},
   "outputs": [],
   "source": [
    "def dechiffre_vigenere(texte, mot_cle):\n",
    "    liste_cle = [-indice(c) for c in mot_cle]\n",
    "    s = ''\n",
    "    long_cle = len(liste_cle)\n",
    "    long_alph = len(LETTRES)\n",
    "    for i in range(len(texte)):\n",
    "        s = s + LETTRES[(indice(texte[i]) + liste_cle[i % long_cle]) % long_alph]\n",
    "    return s"
   ]
  },
  {
   "cell_type": "code",
   "execution_count": 27,
   "metadata": {},
   "outputs": [
    {
     "data": {
      "text/plain": [
       "'ceci est un test'"
      ]
     },
     "execution_count": 27,
     "metadata": {},
     "output_type": "execute_result"
    }
   ],
   "source": [
    "dechiffre_vigenere('osvkkidgswydeskv', 'motcle')"
   ]
  },
  {
   "cell_type": "markdown",
   "metadata": {},
   "source": [
    "### 3.2 - Cryptanalyse"
   ]
  },
  {
   "cell_type": "markdown",
   "metadata": {},
   "source": [
    "Elle est beaucoup plus délicate que la précédente. L'idée est de trouver d'abord la longueur de la clé en procédant à des mesures d'incidences. Ensuite, on peut procéder à une analyse de fréquence pour déterminer chaque décalage.\n",
    "La page Bibmath consacrée à la cryptanalyse de Vigénère détaille assez clairement ce procédé : http://www.bibmath.net/crypto/index.php?action=affiche&quoi=poly/viganalyse\n",
    "\n",
    "On va regarder un exemple pour montrer le procédé :"
   ]
  },
  {
   "cell_type": "code",
   "execution_count": 28,
   "metadata": {},
   "outputs": [
    {
     "name": "stdout",
     "output_type": "stream",
     "text": [
      "eooed ltpnnkxsr kpmetzqvrskmafrlwvqiyimdechdfrllypttwrmplzdphlzprskjegdptevrphtdexqidekxyoltkefizvdrnknvnnnmdrnkhdm khhaumtimac eestvef oire widduphqarrbim abiylphguay s  npe tlqi tktie cqvrnp dmqempmnzudncsqpyekiznidhmy  zme kyynnohmy cmdpanpevtkxedmthprsknizmp dmqemwfizvwmexjedrl wnndmwm ttdrsdhzdathdzat dcuthrr cwrf  iwmstayrecheg ompn omdfoeaimczvnrcdbvr khwvrkalaml dorzdrr khdyechjncetxrsklimlkmwbrtadcukwrmdpnm idhtnrktimtpzqr kirnliamcup dmszvxmeyhiylp dzexmwmfzzxmppbdeuckibttjprskldnnltbeekhrauchrr wmwma xvrctwre abimplzdyeezwmrp yytlawm nmdcuphrauchi  cizanchdrndzimaeavrskklasp dmckmwf abdrlwmwmszvxmpzbvmcptyv abmmlp dboc iqekidgnklitrphijtbisddtvevrphy ek sgrnmdqekrsgic e cp dqechtyuchzvvp dmdphqrmphugektduoxuimfzzxmsphvrjzbmf oire cwrma amfuomdbhi mcuphdeekkszpwidmtkle sktie peidctkie abmmpbwzaqemrf wmwmme gyechemlkigfizvdmdphqrmphpmayipksphtdeyldeakopaibmdqay dpedaimanamhidmdeptzmfuptpr owrf widsoykxvoyhietklimdpjvauttprrkhmy dqvr obdbllqwvrkuizeklie  tye dzmhiltie zkgnstwre abmmmpaxrndhwrskaeyeyawmeyhnrukhmy bijsowmdqechi iruie klie bmfgskhhrskpmrrzopkpsmwm ttdqe tsvekle skklncevimdp deowbxvoy dgnphtgic e cphhr  mveptkepidmdcuthdqay dy zxm izvdhuwoevrphdbrpvhmuyhgnrlkxrrphwgryixgrptdmlp ddecbpfad dmhljmyexmrf omhgid dbabhpm kuimmpuimedhpmec i cphhr cidzedpsqekhs tkzirlwmqrndhxaudhpmatzdq evimiyayvttwrm kkiftphjncetxr omdmrp syudqs  kamdekxigtkmxdekbrr rze dphjarnmdqektdrtelimdp dzadpizadqugechdrtkxedttkyyipzizeyadqektemtbmwmhlbxr mze csmdqekkiftphwpipvgr kyyv knsdtkqqbrzxvrmpvxmedhwvm tizeyadrnkzevszvdqek ie zxidadqs skzifrzovndp dmakmxr ywqzephpmayipksphdpoxuimsthiylphifatady lveyycmdbabhijcptprnnmdmclzdmeyhwamxmdmtzbxmcltgglkvdrsdhtnskmrmszqdgnphe awfwr kbrmjzbigrkldrcsmge kxed peizpwmdmflqxmfzzxmbtmrmlkbrmslvwmlkiyfrphdvlk yvtklimllhugektimjpbdq pklrcchdqay deechisfpawmsezdyakvefubmdeptzmfuptpr kmwf qwvf xipma xvrctmdmjphrr fmyj  iwmenzmdekqgv evdfrlqxr omdy lveyycmdmmlqwmstutyexmrf xmxfrphi  dmxr ohy  bmgvtkxeesljprmpvxmstvkgltmvmqempcup dabcmvhadqs skrifep dfoeadn qimf lhpmamirqoyhif abmmleqdeebcmdoyadqekxvrflkim krimpbmrqskls ckkiftphspcl manklimpbwgyaxmvmqemdyakpegtphtgic e cphhr widdeqtijizvdrsdhfveyhtyuchepttcizeyadrtkxpgskxvaftaeolpui tkmablzqxrekxed wmdzoomwfekrig omdqaxmwmqemdbabhxaudmdyakteoobqigsphjgtttmfeklie pklrcchdqay dpeklidntmvmjpbdmoehprskxmrcp deoyadqoemie omdzoecizeyawmdtcidskmxmbtgedrp dmedhvrpbmwrndmrf omwmvltigrchhvvpzwrskmxmvlzmrechdyakkszpwmavtphietkxvvsphidrpbvmfzzxmczuqgnphtaubhhr widbrzns dpbvm wheftpvxvoyhbmecadbut wnmxmrf xqwr pvdweehdeikmpyek imrptdmcsmdq evdvncae tkhs  nwqzedhy ekmvdeezdmdkwymiwhvrsetxr evimppzxr zbdgnphhrflqxr kkszmphprskusgvpui tchtascqfyechwandhrank iglpui tkcedip dmmlqwmiymknuhhi  kxyvscirpekhdyechguaykie omdbabmmylp drrbmydsk s tkavrskuyyttxpvep dmedhhnnchrruqhgnsk yd oqam nhietktimjzbigrktimpwbwmadai ttndcuthkngymdrtkvs   iwmlphtyuchlnbttim oire wmwmdluie kiymczvxdatzim zbdyekusgvpui tkmwf cqqblphhnnchwankmwbenmdrtkvimsejmf abimppbdqekcedilamanchdyechtdomifvltaie ohm aocidtlvgr cwrf mmegczbtmmzqrqrp dmedhpmadai ttwrmnkmxnndhtnskifeowbqrndhif pvxvebmqrndhepclxedephdfoe dyechehayaetechvrm wvfechtnrkklncevdqechnaupbve ymdbeeci tkmxdekzizpzzxrskyyr  ivmuymdbeb tvclkmfek ybebqigrphdmpzbvmllqweebhpn nmwmam xdanamanchdeu xseoy dgnkrig omdqaxmwmoehpn dwxnltaimdp dbipkie cwmf bmhgidmdn abefrphhnmp dmedhsg yixgrptprmpvxmiwhrmykimf  iwmltmymdphwmadai dbmdn omwmedwyddpzmrskhmy p xmefqhrndhug tkmmllhzvcdwmdekvimppbxmedzimdpkmqephdyechhruhhtnrdqie pae tkifeowbqrndhitawmwm abimplzdgnphxncdqugekpeoiwmdmrp yytladqekyyrlabimpeqweayadrfqwvf omdy tvxrlwmgf kxvvvphhrskzieszbvpechsddtvevrp dmlkirnli xr pvxdekle sktdrs zmf omdeoyheqvpzwnibmdmskqhrndqjvekizrcktyv kmxmszbzrndhhrczbzdekldgnk iglkksgpkldm ttdy evmcuphqaypvdgnkuskeyhugewyyrfzqwmam yddpui tk mzpwmdqektdntdqvrrkle skbrr qiyfekwymdphpr  zipi qxrrkle skbrmflbamcltgglkhdankidyoyoxrm  dpidmdyekdlvsdhtaubhwankigfizvdeubhpn qiggldmdqukkeycetdmedhs  lhganybdqechlamxmwmdkbrr siyfekqrfewtmteykimqeqdeexjpnipvxmykxvrnozimuyhtyat md tvgam ziuey molphif omhnirvid wmwmenpipskkszmphy  umymfbqzalphdrnkmjsedhdvlkvdk lhegcevdweehe awwkgekyyv qiweekxpgskavnvlqpyebhpn qiggldmdqektdnnltbeekhpr xmmylpbvmjzbigrkldrcsmge omdyakkldedqi tphrr  myf rbidekmxdekiyfrphguocmdcuphpr xmmylpbvmjzbigrkldrcsmge kuevsktemfzzgr lbdiht xmixxpvqemdyakxyvscirpeklimrpbweibhhnnchxaudmwmlp deppkyyadqs skjmrnkiyfrpui tkqqbobae tp dauktdrs zmf wbxfekizrcktdrs zmf khugayldweklme widsobkim uhi tpvhe nmxfekxidfpkxvoyhhnnchpr umymqeqdpoxxvrnohpmiyaiyltoi cphhr dwye wmwmcl dqoyadankxigtktitidqqrmpvxmflqvr cwrmpbwjvtkhmysk s tkvs  cmyyexmrf oqzrrchdzat dpoxxprxp dmedhwr omvabpvxmszbzrndhhnnchhrskxvafzvhrub dqektemppvwrekifeowbqrndhm ankiestjprskidgnphm tptpvgpvgr zzhvnlqvr khsospzzrrkixfeyamhexmrf kkdrsdhwr bitbewmvmdt xvnnaizeyadmedhdn nmdbotvxmdphzgekhpr uwyrubhhmenpipskkebamtimdkbrr laxrndqs  dzie tvxrncmdwoemvn qwvf mqi  lbdiht xm  bmeqemdyechvrgwmwmdphlaywmdmbl irskmpyechqrmp deubhpr cqqblphqrclvmemphhg umym cwrf qigvlpui tkmxmgpvidawmqrndhm tptpv\n"
     ]
    }
   ],
   "source": [
    "#on code notre texte avec une clé de 5 caractères. ON SUPPOSE QU'ON NE CONNAIT PAS CETTE CLÉ\n",
    "cle= \"alien\"\n",
    "messageCode=vigenere(texte, cle)\n",
    "messageCode=messageCode[:5000] #on se restreint à 5000 caractères pour ne pas surcharger le processeur \n",
    "print(messageCode)"
   ]
  },
  {
   "cell_type": "markdown",
   "metadata": {},
   "source": [
    "On commence par lister tous les trigrammes existant dans ce texte et on les met dans un dicionnaire. La valeur associée dans le dictionnaire correspond à l'index de sa position dans le texte."
   ]
  },
  {
   "cell_type": "code",
   "execution_count": 29,
   "metadata": {},
   "outputs": [
    {
     "name": "stdout",
     "output_type": "stream",
     "text": [
      "{'eoo': [0, 2253], 'ooe': [1], 'oed': [2], 'ed ': [3, 1718, 2208], 'd l': [4], ' lt': [5], 'ltp': [6], 'tpn': [7], 'pnn': [8], 'nnk': [9], 'nkx': [10, 4520], 'kxs': [11], 'xsr': [12], 'sr ': [13], 'r k': [14, 359, 379, 434, 1489, 1694, 1839, 2619, 4714], ' kp': [15], 'kpm': [16, 1071], 'pme': [17, 1268], 'met': [18], 'etz': [19], 'tzq': [20], 'zqv': [21], 'qvr': [22, 187, 952, 3782, 4542, 4712], 'vrs': [23, 583, 2588, 2748], 'rsk': [24, 64, 254, 394, 489, 584, 1014, 1069, 2309, 2399, 2629, 2749, 3164, 3389, 3579, 4634, 4684, 4914], 'skm': [25, 1675, 2350, 2400, 4915], 'kma': [26, 2196], 'maf': [27], 'afr': [28], 'frl': [29, 44, 1894], 'rlw': [30, 604, 1299, 3564], 'lwv': [31], 'wvq': [32], 'vqi': [33], 'qiy': [34, 3796], 'iyi': [35], 'yim': [36], 'imd': [37, 933, 1108, 1408, 3278, 3438, 4823], 'mde': [38, 897, 1368, 1827, 1883, 3423, 3637], 'dec': [39, 1219], 'ech': [40, 330, 385, 695, 830, 1045, 1425, 1805, 2410, 2650, 2710, 2970, 3095, 3105, 3115, 3130, 3450, 3590, 3930, 4890, 4920], 'chd': [41, 571, 1426, 1796, 2281, 2411, 2966, 3236, 4586], 'hdf': [42, 3087], 'dfr': [43, 1893], 'rll': [45], 'lly': [46], 'lyp': [47], 'ypt': [48], 'ptt': [49, 2164], 'ttw': [50, 1330, 3035], 'twr': [51, 521, 996, 1331, 3036], 'wrm': [52, 412, 752, 1332, 3037, 4547], 'rmp': [53, 714, 849, 1509, 1964, 3334, 4534, 4548, 4924], 'mpl': [54, 529, 3494], 'plz': [55, 530, 3495], 'lzd': [56, 531, 1641, 3496], 'zdp': [57], 'dph': [58, 710, 845, 1390, 3360, 3805, 4790, 4900], 'phl': [59, 4901], 'hlz': [60], 'lzp': [61], 'zpr': [62], 'prs': [63, 253, 488, 2308, 2628, 4683], 'skj': [65, 4345], 'kje': [66], 'jeg': [67], 'egd': [68], 'gdp': [69], 'dpt': [70], 'pte': [71], 'tev': [72], 'evr': [73, 663, 1178, 3598], 'vrp': [74, 664, 1179, 2368, 3599], 'rph': [75, 650, 665, 1180, 1200, 1760, 1935, 3200, 3310, 4220], 'pht': [76, 861, 1126, 2121, 2456, 2846], 'htd': [77, 862, 2972], 'tde': [78, 863], 'dex': [79], 'exq': [80], 'xqi': [81], 'qid': [82], 'ide': [83, 4208], 'dek': [84, 1369, 1379, 1884, 3154, 3424, 3619, 3694, 4209, 4214], 'ekx': [85, 1370, 2055, 2205, 4110, 4445], 'kxy': [86, 2696, 4296], 'xyo': [87], 'yol': [88], 'olt': [89], 'ltk': [90], 'tke': [91, 1146], 'kef': [92], 'efi': [93], 'fiz': [94, 269, 839, 3884], 'izv': [95, 270, 840, 1170, 2145, 3885], 'zvd': [96, 841, 1171, 1536, 2146, 3886], 'vdr': [97, 1667, 2147], 'drn': [98, 108, 573, 1528, 4063], 'rnk': [99, 109, 1529, 4064, 4349], 'nkn': [100], 'knv': [101], 'nvn': [102], 'vnn': [103, 4764], 'nnn': [104], 'nnm': [105, 1635], 'nmd': [106, 551, 676, 1396, 1636, 2931, 4781], 'mdr': [107, 2832, 2932], 'nkh': [110], 'khd': [111, 381, 2706, 3841], 'hdm': [112, 3202], 'dm ': [113, 3713], 'm k': [114, 1254, 1334, 2064], ' kh': [115, 360, 380, 4405, 4715], 'khh': [116, 1066], 'hha': [117], 'hau': [118], 'aum': [119], 'umt': [120], 'mti': [121, 4821], 'tim': [122, 427, 1782, 2797, 2807, 2857, 4822], 'ima': [123, 578, 888], 'mac': [124], 'ac ': [125], 'c e': [126, 686, 1131, 2126], ' ee': [127], 'ees': [128, 1958], 'est': [129, 4679], 'stv': [130, 1970], 'tve': [131, 661, 3596], 'vef': [132, 1822], 'ef ': [133], 'f o': [134, 744, 1239, 2379, 3554, 3634, 4019, 4579], ' oi': [135, 745, 2860], 'oir': [136, 746, 2861], 'ire': [137, 747, 2862], 're ': [138, 523, 748, 998, 2863], 'e w': [139, 2864, 4419, 4504], ' wi': [140, 915, 2135, 2465, 4420], 'wid': [141, 781, 916, 2136, 2466, 4421], 'idd': [142, 2137], 'ddu': [143], 'dup': [144], 'uph': [145, 555, 770, 3725, 4230], 'phq': [146, 711, 846, 3726, 4941], 'hqa': [147, 3727], 'qar': [148], 'arr': [149], 'rrb': [150, 2734], 'rbi': [151, 4206], 'bim': [152, 527, 2947, 3492, 3537], 'im ': [153, 2063, 2858, 2888, 4428], 'm a': [154, 2988, 3489, 4673], ' ab': [155, 525, 600, 625, 805, 1000, 2035, 2945, 3305, 3490], 'abi': [156, 526, 2946, 3491, 3536], 'biy': [157], 'iyl': [158, 458, 1603, 4488], 'ylp': [159, 459, 1604, 2729, 4159, 4239], 'lph': [160, 1605, 2845, 2915, 4015, 4060, 4940], 'phg': [161, 4221], 'hgu': [162, 2712, 4222], 'gua': [163, 2713], 'uay': [164, 2714], 'ay ': [165, 880, 1160, 1800, 2285], 'y s': [166], ' s ': [167, 2742, 4562], 's  ': [168, 1363, 2558, 2838, 3918, 4568, 4838], '  n': [169, 2559], ' np': [170], 'npe': [171, 241], 'pe ': [172], 'e t': [173, 1090, 2553, 3468, 4368, 4844], ' tl': [174], 'tlq': [175], 'lqi': [176], 'qi ': [177, 4192, 4867], 'i t': [178, 2193, 2638, 2668, 2818, 2903, 3033, 3148, 3763, 4193, 4358, 4433, 4973], ' tk': [179, 1294, 2194, 2554, 2669, 2744, 2904, 3149, 3410, 3469, 3764, 4359, 4564, 4974], 'tkt': [180, 2795, 4525], 'kti': [181, 426, 791, 1781, 2796, 2806, 4526], 'tie': [182, 792, 987], 'ie ': [183, 793, 803, 973, 988, 1053, 1058, 1543, 2273, 2328, 2718, 2873, 2983, 3288, 3463, 4843], 'e c': [184, 688, 749, 1133, 1468, 2128, 3289], ' cq': [185, 2910, 4935], 'cqv': [186], 'vrn': [188, 3983, 4478], 'rnp': [189], 'np ': [190], 'p d': [191, 261, 446, 461, 591, 631, 691, 706, 1111, 1216, 1411, 1566, 1986, 2006, 2316, 2361, 2676, 2731, 2761, 3021, 3281, 3316, 3601, 4331, 4371, 4601, 4926], ' dm': [192, 262, 447, 592, 707, 1227, 1567, 1940, 2362, 2677, 2762, 3022, 3317, 3602, 4602], 'dmq': [193, 263], 'mqe': [194, 264, 1979, 2109, 2234, 3443, 3964, 4469], 'qem': [195, 265, 815, 1980, 2110, 2235, 4290, 4885], 'emp': [196, 1981, 4653, 4949], 'mpm': [197], 'pmn': [198], 'mnz': [199], 'nzu': [200], 'zud': [201], 'udn': [202], 'dnc': [203], 'ncs': [204], 'csq': [205], 'sqp': [206], 'qpy': [207, 4122], 'pye': [208, 2528, 4123, 4918], 'yek': [209, 2529, 2894, 3864], 'eki': [210, 640, 3665, 4215, 4390, 4660], 'kiz': [211, 3666, 4391], 'izn': [212], 'zni': [213], 'nid': [214], 'idh': [215, 420], 'dhm': [216, 4671, 4991], 'hmy': [217, 232, 947, 1032, 3392, 4557], 'my ': [218, 233, 948, 1033, 3393], 'y  ': [219, 1948, 4048], '  z': [220, 3810], ' zm': [221, 3631, 4381, 4401], 'zme': [222], 'me ': [223, 825, 4418], 'e k': [224, 1054, 1714, 2874, 4259], ' ky': [225, 1490], 'kyy': [226, 1437, 1491, 3166, 3531, 4101, 4337], 'yyn': [227], 'ynn': [228], 'nno': [229], 'noh': [230, 4480], 'ohm': [231, 2986], 'y c': [234], ' cm': [235, 4570], 'cmd': [236, 1621, 1911, 2047, 4226, 4851], 'mdp': [237, 414, 709, 844, 934, 1109, 1409, 3279, 3359, 3439, 3804, 4789, 4899], 'dpa': [238], 'pan': [239], 'anp': [240], 'pev': [242], 'evt': [243], 'vtk': [244, 1769, 1954, 4554], 'tkx': [245, 1430, 1955, 2175, 2430], 'kxe': [246, 1431, 1716, 1956, 2206], 'xed': [247, 1432, 1717, 2207, 3082], 'edm': [248], 'dmt': [249, 783, 1653], 'mth': [250], 'thp': [251], 'hpr': [252, 2307, 2627, 3807, 4152, 4232, 4462, 4797, 4932], 'skn': [255], 'kni': [256], 'niz': [257], 'izm': [258], 'zmp': [259, 2624, 4044], 'mp ': [260, 3315, 4925], 'emw': [266], 'mwf': [267, 597, 1842, 2217, 2907], 'wfi': [268], 'zvw': [271], 'vwm': [272, 1752], 'wme': [273, 1023, 1878, 3378, 4033], 'mex': [274], 'exj': [275, 3970], 'xje': [276], 'jed': [277], 'edr': [278, 2358], 'drl': [279, 603], 'rl ': [280], 'l w': [281], ' wn': [282, 2502], 'wnn': [283], 'nnd': [284, 3044], 'ndm': [285, 2375], 'dmw': [286, 4326], 'mwm': [287, 467, 512, 607, 822, 1082, 1457, 2232, 2382, 2867, 3222, 3262, 3377, 3487, 3937, 4032, 4327, 4507, 4897], 'wm ': [288, 548, 1083, 3488], 'm t': [289, 1084, 1520, 3714, 4693, 4993], ' tt': [290, 1085, 2819, 3034, 3715], 'ttd': [291, 1086, 3716], 'tdr': [292, 1402, 3627, 4377, 4397], 'drs': [293, 1668, 2148, 3628, 4378, 4398, 4743], 'rsd': [294, 1669, 2149, 4744], 'sdh': [295, 1670, 2150, 3870, 4745], 'dhz': [296], 'hzd': [297], 'zda': [298], 'dat': [299, 2884], 'ath': [300], 'thd': [301, 1156], 'hdz': [302, 4587], 'dza': [303, 1413, 4588], 'zat': [304, 4589], 'at ': [305, 3995, 4590], 't d': [306, 4591], ' dc': [307], 'dcu': [308, 408, 553, 1153, 2823, 4228], 'cut': [309, 1154, 2824], 'uth': [310, 1155, 2825], 'thr': [311], 'hrr': [312, 507, 1867, 2772, 4197], 'rr ': [313, 378, 508, 1383, 1868, 3793, 3943, 4198, 4828], 'r c': [314, 1279, 2999, 4544, 4934], ' cw': [315, 750, 3000, 3290, 4545, 4960], 'cwr': [316, 751, 3001, 4546, 4961], 'wrf': [317, 912, 3002, 4962], 'rf ': [318, 818, 913, 1238, 1928, 2378, 2508, 3003, 4578, 4738, 4963], 'f  ': [319, 3349], '  i': [320, 1875, 2840, 3170, 3350], ' iw': [321, 1876, 2841, 3351], 'iwm': [322, 1877, 2842, 3352, 3515], 'wms': [323, 608, 1813, 1918], 'mst': [324, 1599, 1919, 1969], 'sta': [325], 'tay': [326], 'ayr': [327], 'yre': [328], 'rec': [329, 2409], 'che': [331, 831, 2161, 3096], 'heg': [332, 4082], 'eg ': [333], 'g o': [334, 2224, 3254], ' om': [335, 340, 1240, 1350, 1900, 2225, 2330, 2380, 2720, 3255, 3375, 3555, 3635, 4020, 4180, 4610], 'omp': [336], 'mpn': [337], 'pn ': [338, 3218, 3268, 3893, 4128], 'n o': [339, 3374], 'omd': [341, 761, 1351, 1901, 2226, 2331, 2721, 3256, 3556, 3636, 4181], 'mdf': [342], 'dfo': [343, 2008, 3088], 'foe': [344, 2009, 3089], 'oea': [345, 2010], 'eai': [346], 'aim': [347, 887, 3277], 'imc': [348], 'mcz': [349, 2449, 2879], 'czv': [350, 2880], 'zvn': [351], 'vnr': [352], 'nrc': [353], 'rcd': [354], 'cdb': [355], 'dbv': [356], 'bvr': [357], 'vr ': [358, 953, 4543, 4713], 'khw': [361], 'hwv': [362, 1517], 'wvr': [363, 963], 'vrk': [364, 964], 'rka': [365], 'kal': [366], 'ala': [367], 'lam': [368, 2961, 3933], 'aml': [369], 'ml ': [370], 'l d': [371, 4511], ' do': [372], 'dor': [373], 'orz': [374], 'rzd': [375], 'zdr': [376], 'drr': [377, 2733], 'hdy': [382, 2412, 2707, 2967, 3447], 'dye': [383, 533, 2708, 2893, 2968, 3093, 3448, 3863, 4888], 'yec': [384, 829, 2649, 2709, 2969, 3094, 3449, 4889, 4919], 'chj': [386], 'hjn': [387, 1342], 'jnc': [388, 1343], 'nce': [389, 1104, 1344, 3124], 'cet': [390, 1345, 3910], 'etx': [391, 1346, 2591], 'txr': [392, 1347, 2592], 'xrs': [393, 3163], 'skl': [395, 490, 2075], 'kli': [396, 646, 931, 971, 1056, 1771, 2096, 2271, 2291, 4306], 'lim': [397, 932, 1407, 1772, 2097, 4307], 'iml': [398, 1773], 'mlk': [399, 834, 1744, 1754, 3604], 'lkm': [400, 3186], 'kmw': [401, 596, 1841, 2906, 2926], 'mwb': [402, 2927], 'wbr': [403], 'brt': [404], 'rta': [405], 'tad': [406, 1611], 'adc': [407], 'cuk': [409], 'ukw': [410], 'kwr': [411], 'rmd': [413], 'dpn': [415], 'pnm': [416], 'nm ': [417], 'm i': [418, 1168], ' id': [419], 'dht': [421, 1671, 3046, 3871], 'htn': [422, 1672, 3047, 3117, 3457], 'tnr': [423, 3118, 3458], 'nrk': [424, 3119], 'rkt': [425, 2805], 'imt': [428], 'mtp': [429], 'tpz': [430], 'pzq': [431], 'zqr': [432, 3016], 'qr ': [433], ' ki': [435, 2875], 'kir': [436, 3606], 'irn': [437, 3607], 'rnl': [438, 3608], 'nli': [439, 3609], 'lia': [440], 'iam': [441], 'amc': [442, 3833], 'mcu': [443, 768, 3723], 'cup': [444, 554, 769, 1984, 3724, 4229], 'up ': [445, 1985], 'dms': [448, 3653], 'msz': [449, 609, 1679, 3679, 4619], 'szv': [450, 610, 1535], 'zvx': [451, 611, 2881], 'vxm': [452, 612, 1512, 1967, 3337, 3977, 4537, 4617, 4787], 'xme': [453, 1513, 3398, 3433], 'mey': [454, 1024, 1644], 'eyh': [455, 1025, 1645, 2155, 3740], 'yhi': [456, 926, 2031], 'hiy': [457, 1602], 'lp ': [460, 630, 1215, 2730, 4330], ' dz': [462, 980, 1412, 4840], 'dze': [463, 1283], 'zex': [464], 'exm': [465, 1235, 1925, 4575, 4735], 'xmw': [466, 2231, 3261, 3936], 'wmf': [468, 3292], 'mfz': [469, 729, 1734, 2444, 4269], 'fzz': [470, 730, 1735, 2445, 4270], 'zzx': [471, 731, 1736, 2446, 3161], 'zxm': [472, 732, 1166, 1737, 2447], 'xmp': [473, 613], 'mpp': [474, 2599, 2949, 3429, 4654], 'ppb': [475, 2950, 3430], 'pbd': [476, 1786, 2301, 2951], 'bde': [477], 'deu': [478, 3238, 3888, 4928], 'euc': [479], 'uck': [480], 'cki': [481], 'kib': [482], 'ibt': [483], 'btt': [484, 2855], 'ttj': [485], 'tjp': [486, 4681], 'jpr': [487, 1962, 4682], 'kld': [491, 1706, 3696, 3711, 4171, 4187, 4251], 'ldn': [492], 'dnn': [493, 4143], 'nnl': [494, 4144], 'nlt': [495, 3274, 4145], 'ltb': [496, 4146], 'tbe': [497, 4147, 4753], 'bee': [498, 3144, 4148], 'eek': [499, 774, 4109, 4149], 'ekh': [500, 1290, 2705, 4150, 4795], 'khr': [501], 'hra': [502, 557, 2657], 'rau': [503, 558], 'auc': [504, 559], 'uch': [505, 560, 700, 2160, 2850], 'chr': [506, 2771], 'r w': [509, 2134, 2464], ' wm': [510, 820, 2210, 2865, 4030, 4505], 'wmw': [511, 606, 821, 2866, 3486, 4031, 4506, 4896], 'wma': [513, 2421, 2813, 3223, 3363, 3753], 'ma ': [514, 754, 1854], 'a x': [515, 1855], ' xv': [516, 1856, 4762], 'xvr': [517, 1507, 1857, 2057, 3982, 4477], 'vrc': [518, 1858], 'rct': [519, 1859], 'ctw': [520], 'wre': [522, 997, 4658], 'e a': [524, 804, 999, 1688, 4093], 'imp': [528, 2068, 2098, 2598, 2808, 2948, 3428, 3493, 3538], 'zdy': [532, 1817], 'yee': [534], 'eez': [535, 2575], 'ezw': [536], 'zwm': [537], 'wmr': [538], 'mrp': [539, 1354, 2534, 3519, 4309], 'rp ': [540, 1355, 2360, 3020, 3520, 3600], 'p y': [541, 3521], ' yy': [542, 3522], 'yyt': [543, 2753, 3523], 'ytl': [544, 3524], 'tla': [545, 3525], 'law': [546], 'awm': [547, 1022, 1812, 2342, 3485, 4985], 'm n': [549, 2789], ' nm': [550, 3220, 4440, 4780], 'mdc': [552, 1152, 4227], 'phr': [556, 1866, 4196], 'chi': [561, 1046, 1806], 'hi ': [562, 765, 1047, 1937, 2692, 4432], 'i  ': [563, 1938, 2693, 4868], '  c': [564, 4569], ' ci': [565, 1280], 'ciz': [566, 2167, 2337], 'iza': [567, 1418], 'zan': [568], 'anc': [569, 2964, 3234], 'nch': [570, 2770, 2920, 2965, 3235, 4320, 4460, 4630], 'hdr': [572, 1427, 4062], 'rnd': [574, 1009, 1304, 2374, 3059, 3074, 3404, 3479, 3659, 3684, 4624, 4669, 4834, 4989], 'ndz': [575], 'dzi': [576, 3436, 4841], 'zim': [577, 2887, 3437, 3987], 'mae': [579], 'aea': [580], 'eav': [581], 'avr': [582, 2747], 'skk': [585, 1100, 4040, 4815], 'kkl': [586, 1101, 3121, 4186], 'kla': [587], 'las': [588], 'asp': [589], 'sp ': [590], 'dmc': [593, 1638, 2538], 'mck': [594], 'ckm': [595], 'wf ': [598, 1843, 2908], 'f a': [599, 2034, 2944], 'abd': [601], 'bdr': [602], 'lwm': [605, 1300, 3565], 'mpz': [614, 3204], 'pzb': [615, 3205], 'zbv': [616, 3206, 3586], 'bvm': [617, 2442, 2477, 3207, 4162, 4242], 'vmc': [618, 3722], 'mcp': [619], 'cpt': [620, 1630], 'pty': [621], 'tyv': [622, 3672], 'yv ': [623, 1493, 3673, 4103], 'v a': [624], 'abm': [626, 806, 1001, 2036, 2725], 'bmm': [627, 807, 1002, 2037, 2726], 'mml': [628, 1914, 2038, 2679, 3413], 'mlp': [629, 1214, 2844, 4329], ' db': [632, 1247, 3282, 3369], 'dbo': [633, 4783], 'boc': [634], 'oc ': [635], 'c i': [636, 1271], ' iq': [637], 'iqe': [638], 'qek': [639, 679, 1289, 1399, 1449, 1474, 1539, 2054, 2954, 3529, 3774, 4139, 4649], 'kid': [641, 3846, 4686], 'idg': [642, 4687], 'dgn': [643, 1123, 1683, 2608, 3248, 3498, 3698, 3733, 4688], 'gnk': [644, 3249, 3699, 3734], 'nkl': [645, 2095], 'lit': [647], 'itr': [648], 'trp': [649], 'phi': [651, 1606, 1936, 2426, 2436, 4016], 'hij': [652, 1627], 'ijt': [653], 'jtb': [654], 'tbi': [655], 'bis': [656], 'isd': [657], 'sdd': [658, 3593], 'ddt': [659, 3594], 'dtv': [660, 3595], 'vev': [662, 3597], 'phy': [666, 4046], 'hy ': [667, 1947, 2567, 4047], 'y e': [668, 2568, 3719], ' ek': [669, 2569], 'ek ': [670, 1540, 2530, 3190], 'k s': [671, 2741, 4561], ' sg': [672], 'sgr': [673], 'grn': [674], 'rnm': [675, 1395], 'mdq': [677, 877, 1042, 1397, 1472, 2227, 2542, 3257, 3772, 3902, 4137], 'dqe': [678, 693, 1043, 1088, 1398, 1448, 1473, 1538, 2053, 2953, 3128, 3528, 3773, 3928, 4138, 4648], 'ekr': [680, 2220], 'krs': [681], 'rsg': [682], 'sgi': [683], 'gic': [684, 1129, 2124], 'ic ': [685, 1130, 2125], ' e ': [687, 1132, 2127], ' cp': [689, 1134, 1274, 2129, 4494], 'cp ': [690, 2315], ' dq': [692, 950, 4512, 4647], 'qec': [694, 1044, 3129, 3929], 'cht': [696, 2641, 2971, 3116], 'hty': [697, 2157, 2847, 3992], 'tyu': [698, 2158, 2848], 'yuc': [699, 2159, 2849], 'chz': [701], 'hzv': [702, 3417], 'zvv': [703], 'vvp': [704, 2394, 3574], 'vp ': [705], 'dmd': [708, 843, 896, 1151, 2246, 2578, 3301, 3861, 3901, 4136], 'hqr': [712, 847, 4922, 4942], 'qrm': [713, 848, 4533, 4923], 'mph': [715, 850, 2625, 4045, 4950], 'phu': [716], 'hug': [717, 1777, 3407, 3742, 4407], 'uge': [718, 1423, 1778, 3508, 3743], 'gek': [719, 1779, 3509, 4099, 4794], 'ekt': [720, 1400, 1450, 1780, 3775, 4140, 4650], 'ktd': [721, 1401, 3626, 3776, 4141, 4376, 4396], 'tdu': [722], 'duo': [723], 'uox': [724], 'oxu': [725, 1595], 'xui': [726, 1596], 'uim': [727, 1257, 1262, 1597], 'imf': [728, 2017, 3347], 'xms': [733, 1968, 3678, 4618], 'msp': [734], 'sph': [735, 860, 1590, 2260, 2435], 'phv': [736], 'hvr': [737, 2367, 2587, 3107, 4892], 'vrj': [738], 'rjz': [739], 'jzb': [740, 1700, 2800, 4165, 4245], 'zbm': [741], 'bmf': [742, 1061], 'mf ': [743, 2018, 2943, 3293, 3348, 3633, 4383, 4403], 'rma': [753], 'a a': [755], ' am': [756], 'amf': [757], 'mfu': [758, 903, 1833], 'fuo': [759], 'uom': [760], 'mdb': [762, 1622, 2237, 2722, 3142, 3177, 4782], 'dbh': [763], 'bhi': [764, 1626], 'i m': [766], ' mc': [767], 'phd': [771, 1181, 1591, 1761, 3086, 3201, 3446, 4061], 'hde': [772, 2522, 3237], 'dee': [773, 1803, 2043, 2574, 3968], 'ekk': [775, 1475], 'kks': [776, 2416, 2621, 3706, 4041], 'ksz': [777, 2417, 2622, 4042], 'szp': [778, 2418], 'zpw': [779, 1724, 2419, 3769], 'pwi': [780], 'idm': [782, 895, 1150, 3300, 3860], 'mtk': [784], 'tkl': [785, 930, 1770], 'kle': [786, 1096, 3621, 3786, 3821], 'le ': [787, 1097, 3622, 3787, 3822], 'e s': [788, 1098, 3623, 3788, 3823], ' sk': [789, 1099, 1554, 1999, 3624, 3789, 3824, 4344], 'skt': [790, 3625, 4265], 'e p': [794, 2274, 3464], ' pe': [795, 1720], 'pei': [796, 1721], 'eid': [797], 'idc': [798], 'dct': [799], 'ctk': [800], 'tki': [801, 3470], 'kie': [802, 2717, 3287, 4677], 'mmp': [808, 1004, 1259], 'mpb': [809, 2069, 2099, 4549], 'pbw': [810, 2100, 4311, 4550], 'bwz': [811], 'wza': [812], 'zaq': [813], 'aqe': [814], 'emr': [816], 'mrf': [817, 1237, 1927, 2377, 2507, 4577, 4737], 'f w': [819, 914, 4384], 'wmm': [823], 'mme': [824, 3006], 'e g': [826], ' gy': [827], 'gye': [828], 'hem': [832], 'eml': [833], 'lki': [835, 1755, 2061, 3605], 'kig': [836, 3881], 'igf': [837, 3882], 'gfi': [838, 3883], 'vdm': [842], 'php': [851, 1581, 2626, 3806, 4231], 'hpm': [852, 1252, 1267, 1312, 1582, 2022, 3027, 4482], 'pma': [853, 1313, 1583, 1853, 2023, 3028], 'may': [854, 1584], 'ayi': [855, 1585], 'yip': [856, 1439, 1586], 'ipk': [857, 1587, 3285], 'pks': [858, 1588], 'ksp': [859, 1589], 'dey': [864], 'eyl': [865], 'yld': [866, 4411], 'lde': [867, 4188], 'dea': [868], 'eak': [869], 'ako': [870], 'kop': [871], 'opa': [872], 'pai': [873], 'aib': [874], 'ibm': [875, 3650], 'bmd': [876, 1826, 3371, 3651], 'dqa': [878, 1158, 1798, 2228, 2283, 3258], 'qay': [879, 1159, 1799, 2284, 3728], 'y d': [881, 949, 1121, 1161, 1801, 2286, 3246], ' dp': [882, 1389, 2287, 2474, 3857, 4592], 'dpe': [883, 2288], 'ped': [884], 'eda': [885], 'dai': [886, 2816, 3031, 3366], 'man': [889, 2093, 2963, 3233], 'ana': [890, 3230], 'nam': [891, 3231], 'amh': [892, 4732], 'mhi': [893, 983], 'hid': [894, 2437], 'dep': [898, 1828, 3084, 4333], 'ept': [899, 1144, 1829, 2163], 'ptz': [900, 1830], 'tzm': [901, 1831], 'zmf': [902, 1832, 3632, 4382, 4402], 'fup': [904, 1834], 'upt': [905, 1835], 'ptp': [906, 1631, 1836, 3331, 4696, 4996], 'tpr': [907, 942, 1632, 1837, 3332], 'pr ': [908, 1838, 3808, 4153, 4233, 4463, 4798, 4933], 'r o': [909, 954, 1349, 1899, 1944, 4609], ' ow': [910], 'owr': [911], 'ids': [917, 2348, 4422], 'dso': [918, 4423], 'soy': [919], 'oyk': [920], 'ykx': [921, 3980], 'kxv': [922, 2056, 2181, 2431, 3571, 3981, 4452, 4636], 'xvo': [923, 1118, 2488, 4453], 'voy': [924, 1119, 2489, 4454], 'oyh': [925, 2030, 2490, 3640, 4455], 'hie': [927, 2427, 2792], 'iet': [928, 2428, 2793], 'etk': [929, 2429, 2794], 'dpj': [935], 'pjv': [936], 'jva': [937], 'vau': [938], 'aut': [939], 'utt': [940], 'ttp': [941], 'prr': [943], 'rrk': [944, 3784, 3819, 4724], 'rkh': [945], 'khm': [946, 1031, 3391, 4556], 'dqv': [951, 3781], ' ob': [955], 'obd': [956], 'bdb': [957], 'dbl': [958], 'bll': [959], 'llq': [960, 3210], 'lqw': [961, 1916, 2681, 3211], 'qwv': [962, 1846, 3551, 4861], 'rku': [965], 'kui': [966, 1256], 'uiz': [967], 'ize': [968, 1443, 1523, 2168, 2338, 4768], 'zek': [969], 'ekl': [970, 1095, 2270, 2290, 3620, 3695, 4305, 4415], 'lie': [972, 1057, 2272], 'e  ': [974], '  t': [975], ' ty': [976], 'tye': [977, 1923], 'ye ': [978, 4503], 'e d': [979, 1388, 3091], 'dzm': [981], 'zmh': [982], 'hil': [984], 'ilt': [985], 'lti': [986, 2386], 'e z': [989, 1544], ' zk': [990], 'zkg': [991], 'kgn': [992], 'gns': [993, 2778], 'nst': [994], 'stw': [995], 'mmm': [1003], 'mpa': [1005], 'pax': [1006], 'axr': [1007, 4832], 'xrn': [1008, 4833, 4848], 'ndh': [1010, 1305, 2655, 3045, 3060, 3075, 3405, 3480, 3685, 4625, 4670, 4990], 'dhw': [1011, 1516, 4606, 4746], 'hwr': [1012, 4607, 4747], 'wrs': [1013, 2398], 'ska': [1015, 4115], 'kae': [1016], 'aey': [1017], 'eye': [1018], 'yey': [1019], 'eya': [1020, 1445, 1525, 2170, 2340, 4730, 4770], 'yaw': [1021, 2341], 'yhn': [1026], 'hnr': [1027], 'nru': [1028], 'ruk': [1029], 'ukh': [1030], 'y b': [1034], ' bi': [1035, 4750], 'bij': [1036], 'ijs': [1037], 'jso': [1038], 'sow': [1039], 'owm': [1040], 'wmd': [1041, 1726, 2211, 2343, 2868, 3422, 3516, 3771, 3938, 4898, 4906], 'i i': [1048], ' ir': [1049, 4912], 'iru': [1050], 'rui': [1051], 'uie': [1052, 2872], ' kl': [1055], 'e b': [1059], ' bm': [1060, 1950, 3295, 4881], 'mfg': [1062], 'fgs': [1063], 'gsk': [1064, 2179, 4114], 'skh': [1065, 3390], 'hhr': [1067, 1137, 1277, 2132, 2462, 2612, 3452, 3577, 3687, 4497, 4632], 'hrs': [1068, 3578, 4633], 'skp': [1070], 'pmr': [1072], 'mrr': [1073], 'rrz': [1074], 'rzo': [1075, 1560], 'zop': [1076], 'opk': [1077], 'pkp': [1078], 'kps': [1079], 'psm': [1080], 'smw': [1081], 'tdq': [1087, 3780], 'qe ': [1089], ' ts': [1091], 'tsv': [1092], 'sve': [1093], 'vek': [1094, 3664], 'kln': [1102, 3122], 'lnc': [1103, 3123], 'cev': [1105, 3125, 4085], 'evi': [1106, 1321, 2596], 'vim': [1107, 1322, 2597, 2937, 3427], 'dp ': [1110, 1410, 1565, 3280], ' de': [1112, 1802, 2317, 4332, 4927], 'deo': [1113, 2318, 3638], 'eow': [1114, 3054, 3474, 4664], 'owb': [1115, 3055, 3475, 4665], 'wbx': [1116, 4386], 'bxv': [1117], 'oy ': [1120, 3245], ' dg': [1122, 3247], 'gnp': [1124, 1684, 2454, 2609, 3499, 4689], 'nph': [1125, 1685, 2455, 2610, 3500, 4690], 'htg': [1127, 2122], 'tgi': [1128, 2123], 'cph': [1135, 1275, 2130, 4495], 'phh': [1136, 1276, 2131, 2611, 2916, 3311, 3576, 4496, 4951], 'hr ': [1138, 1278, 2133, 2463, 4498], 'r  ': [1139, 3169, 3809, 4199], '  m': [1140, 4200], ' mv': [1141], 'mve': [1142], 'vep': [1143, 2759], 'ptk': [1145], 'kep': [1147], 'epi': [1148], 'pid': [1149, 3859], 'hdq': [1157, 1797, 2282], ' dy': [1162, 3092], 'dy ': [1163, 1613, 1903, 3558, 3718], 'y z': [1164], ' zx': [1165, 1545], 'xm ': [1167, 4878], ' iz': [1169], 'vdh': [1172], 'dhu': [1173, 3406], 'huw': [1174], 'uwo': [1175], 'woe': [1176, 4854], 'oev': [1177], 'hdb': [1182], 'dbr': [1183, 2468], 'brp': [1184], 'rpv': [1185], 'pvh': [1186, 4436], 'vhm': [1187], 'hmu': [1188], 'muy': [1189, 3174, 3989], 'uyh': [1190, 3990], 'yhg': [1191], 'hgn': [1192, 2777], 'gnr': [1193], 'nrl': [1194], 'rlk': [1195], 'lkx': [1196], 'kxr': [1197], 'xrr': [1198, 3818], 'rrp': [1199], 'phw': [1201, 1481, 3361], 'hwg': [1202], 'wgr': [1203], 'gry': [1204], 'ryi': [1205], 'yix': [1206, 3326], 'ixg': [1207, 3327], 'xgr': [1208, 3328], 'grp': [1209, 3199, 3329], 'rpt': [1210, 2535, 3330], 'ptd': [1211, 2536], 'tdm': [1212, 2537, 3912], 'dml': [1213, 3603], ' dd': [1217], 'dde': [1218, 2138], 'ecb': [1220], 'cbp': [1221], 'bpf': [1222], 'pfa': [1223], 'fad': [1224], 'ad ': [1225], 'd d': [1226, 1246], 'dmh': [1228], 'mhl': [1229, 1459], 'hlj': [1230], 'ljm': [1231], 'jmy': [1232], 'mye': [1233], 'yex': [1234, 1924, 4574], 'xmr': [1236, 1926, 2312, 2506, 4576, 4736], 'omh': [1241, 4021], 'mhg': [1242, 3297], 'hgi': [1243, 3298], 'gid': [1244, 3299], 'id ': [1245, 4028], 'dba': [1248, 1623, 2238, 2723], 'bab': [1249, 1624, 2239, 2724], 'abh': [1250, 1625, 2240], 'bhp': [1251, 3216, 3891, 4126, 4931], 'pm ': [1253], ' ku': [1255, 4260], 'imm': [1258], 'mpu': [1260], 'pui': [1261, 2191, 2636, 2666, 2901, 3761, 4356, 4971], 'ime': [1263], 'med': [1264, 1514, 2364, 2764, 3024, 3319, 3379, 3434, 3914, 4604, 4774], 'edh': [1265, 1515, 2365, 2565, 2765, 3025, 3320, 3915, 4070, 4605, 4775], 'dhp': [1266, 1311, 3026], 'mec': [1269, 2494], 'ec ': [1270], ' i ': [1272], 'i c': [1273, 4493], 'cid': [1281, 2347, 2992], 'idz': [1282], 'zed': [1284, 2564], 'edp': [1285], 'dps': [1286], 'psq': [1287], 'sqe': [1288], 'khs': [1291, 2556, 4716], 'hs ': [1292, 2557, 3917], 's t': [1293, 2743, 4563], 'tkz': [1295], 'kzi': [1296, 1556, 3156, 3581], 'zir': [1297], 'irl': [1298], 'wmq': [1301, 2233, 4986], 'mqr': [1302, 3072, 4987], 'qrn': [1303, 3058, 3073, 3478, 4668, 4988], 'dhx': [1306], 'hxa': [1307, 2242, 4322], 'xau': [1308, 2243, 4323], 'aud': [1309, 2244, 4324], 'udh': [1310], 'mat': [1314], 'atz': [1315, 2885], 'tzd': [1316], 'zdq': [1317], 'dq ': [1318, 1788, 2543], 'q e': [1319, 2544], ' ev': [1320, 1890, 2545, 2595, 3720], 'imi': [1323], 'miy': [1324, 2684, 4484], 'iya': [1325, 4485], 'yay': [1326], 'ayv': [1327], 'yvt': [1328, 1768], 'vtt': [1329], 'rm ': [1333, 3109, 3854], ' kk': [1335, 2620, 4740], 'kki': [1336, 1476, 2081], 'kif': [1337, 1477, 2082, 3051, 3471, 4661], 'ift': [1338, 1478, 2083], 'ftp': [1339, 1479, 2084, 2484], 'tph': [1340, 1480, 2085, 2120, 2425, 4195], 'phj': [1341, 1391, 2261], 'xr ': [1348, 1463, 1573, 1898, 1943, 2593, 2603, 2618, 3613], 'mdm': [1352, 1637, 1652, 1727, 1862, 1912, 3517, 3652, 4907], 'dmr': [1353, 2376, 3518], 'p s': [1356], ' sy': [1357], 'syu': [1358], 'yud': [1359], 'udq': [1360], 'dqs': [1361, 1551, 1996, 4341, 4836], 'qs ': [1362, 1552, 1997, 4342, 4837], '  k': [1364, 2694], ' ka': [1365], 'kam': [1366], 'amd': [1367], 'kxi': [1371, 4446, 4521], 'xig': [1372, 4522], 'igt': [1373, 4523], 'gtk': [1374, 4524], 'tkm': [1375, 2195, 2905, 3150, 3411, 4975], 'kmx': [1376, 1571, 2351, 2401, 3041, 3151, 3676, 4211, 4976], 'mxd': [1377, 3152, 4212], 'xde': [1378, 3153, 3618, 4213], 'ekb': [1380], 'kbr': [1381, 1696, 1746, 3791, 3826, 3941, 4826], 'brr': [1382, 3792, 3942, 4827], 'r r': [1384], ' rz': [1385], 'rze': [1386], 'ze ': [1387, 1467], 'hja': [1392], 'jar': [1393], 'arn': [1394], 'drt': [1403, 1428, 2173, 2833, 2933], 'rte': [1404], 'tel': [1405], 'eli': [1406], 'zad': [1414, 1419], 'adp': [1415], 'dpi': [1416, 3858], 'piz': [1417], 'adq': [1420, 1447, 1550, 1995, 2052, 2322, 3527, 4340], 'dqu': [1421, 3506, 3903], 'qug': [1422, 3507], 'gec': [1424], 'rtk': [1429, 2174, 2834, 2934], 'edt': [1433], 'dtt': [1434], 'ttk': [1435], 'tky': [1436], 'yyi': [1438], 'ipz': [1440], 'pzi': [1441], 'ziz': [1442, 3157], 'zey': [1444, 1524, 2169, 2339, 4769], 'yad': [1446, 1526, 2051, 2171, 2321, 3546, 4339, 4516, 4771], 'kte': [1451, 2251, 4266, 4651], 'tem': [1452, 4267, 4652], 'emt': [1453], 'mtb': [1454], 'tbm': [1455], 'bmw': [1456, 2371], 'wmh': [1458], 'hlb': [1460], 'lbx': [1461], 'bxr': [1462], 'r m': [1464], ' mz': [1465, 3767], 'mze': [1466], ' cs': [1469], 'csm': [1470, 1710, 2540, 4175, 4255], 'smd': [1471, 2541], 'hwp': [1482], 'wpi': [1483], 'pip': [1484, 4037, 4812], 'ipv': [1485, 3975], 'pvg': [1486, 4698, 4701], 'vgr': [1487, 2997, 4702], 'gr ': [1488, 2998, 4273, 4703], 'yyv': [1492, 4102], 'v k': [1494, 3674], ' kn': [1495], 'kns': [1496], 'nsd': [1497], 'sdt': [1498], 'dtk': [1499], 'tkq': [1500, 4360], 'kqq': [1501, 4361], 'qqb': [1502, 2912, 4362, 4937], 'qbr': [1503], 'brz': [1504, 2469], 'rzx': [1505], 'zxv': [1506], 'vrm': [1508, 3108], 'mpv': [1510, 1965, 3335, 4535], 'pvx': [1511, 1966, 2486, 3066, 3336, 3616, 3976, 4536, 4616], 'wvm': [1518], 'vm ': [1519, 2478], ' ti': [1521], 'tiz': [1522], 'adr': [1527, 2172, 3547], 'nkz': [1530], 'kze': [1531], 'zev': [1532], 'evs': [1533, 4263], 'vsz': [1534], 'vdq': [1537, 3127], 'k i': [1541, 2531, 2661, 3701], ' ie': [1542], 'zxi': [1546], 'xid': [1547, 4447], 'ida': [1548, 4983], 'dad': [1549], 's s': [1553, 1998, 4343], 'skz': [1555, 3580], 'zif': [1557], 'ifr': [1558], 'frz': [1559], 'zov': [1561], 'ovn': [1562], 'vnd': [1563], 'ndp': [1564], 'dma': [1568], 'mak': [1569], 'akm': [1570], 'mxr': [1572, 1942], 'r y': [1574], ' yw': [1575], 'ywq': [1576], 'wqz': [1577, 2562], 'qze': [1578, 2563], 'zep': [1579], 'eph': [1580, 3085, 3445], 'hdp': [1592], 'dpo': [1593, 4473, 4593], 'pox': [1594, 4474, 4594], 'ims': [1598, 2938], 'sth': [1600], 'thi': [1601], 'hif': [1607, 2032, 3062, 4017], 'ifa': [1608], 'fat': [1609], 'ata': [1610], 'ady': [1612], 'y l': [1614, 1904], ' lv': [1615, 1905], 'lve': [1616, 1906], 'vey': [1617, 1907, 2154], 'eyy': [1618, 1908], 'yyc': [1619, 1909], 'ycm': [1620, 1910], 'ijc': [1628], 'jcp': [1629], 'prn': [1633], 'rnn': [1634], 'mcl': [1639, 1659, 3834, 4509], 'clz': [1640], 'zdm': [1642, 2577], 'dme': [1643, 2363, 2763, 3023, 3318, 3913, 4603, 4773], 'yhw': [1646], 'hwa': [1647, 2652, 2922, 3877], 'wam': [1648], 'amx': [1649, 3934], 'mxm': [1650, 2352, 2402, 2505, 3677, 3935, 4977], 'xmd': [1651, 4788], 'mtz': [1654], 'tzb': [1655], 'zbx': [1656], 'bxm': [1657, 3432], 'xmc': [1658, 2448], 'clt': [1660, 3835], 'ltg': [1661, 3836], 'tgg': [1662, 3837], 'ggl': [1663, 3838, 3898, 4133], 'glk': [1664, 3704, 3839], 'lkv': [1665, 4075], 'kvd': [1666, 4076], 'tns': [1673, 3048], 'nsk': [1674, 2779, 3049], 'kmr': [1676], 'mrm': [1677, 1742], 'rms': [1678, 1748], 'szq': [1680], 'zqd': [1681], 'qdg': [1682], 'phe': [1686], 'he ': [1687, 4092, 4438], ' aw': [1689, 4094], 'awf': [1690], 'wfw': [1691], 'fwr': [1692], 'wr ': [1693, 2513, 4608, 4748], ' kb': [1695], 'brm': [1697, 1747, 3827], 'rmj': [1698], 'mjz': [1699, 2799, 4164, 4244], 'zbi': [1701, 2801, 4166, 4246], 'big': [1702, 2802, 4167, 4247], 'igr': [1703, 2388, 2803, 3198, 4168, 4248], 'grk': [1704, 2804, 4169, 4249], 'rkl': [1705, 3785, 3820, 4170, 4250], 'ldr': [1707, 4172, 4252], 'drc': [1708, 4173, 4253], 'rcs': [1709, 4174, 4254], 'smg': [1711, 4176, 4256], 'mge': [1712, 4177, 4257], 'ge ': [1713, 4178, 4258], ' kx': [1715, 2695, 3570], 'd p': [1719], 'eiz': [1722], 'izp': [1723, 3158], 'pwm': [1725, 2420, 3770], 'dmf': [1728], 'mfl': [1729, 3829, 4539], 'flq': [1730, 2615, 4540], 'lqx': [1731, 1896, 2616], 'qxm': [1732], 'xmf': [1733, 4538], 'xmb': [1738, 2353], 'mbt': [1739, 2354], 'btm': [1740, 3012], 'tmr': [1741], 'rml': [1743], 'lkb': [1745], 'msl': [1749], 'slv': [1750], 'lvw': [1751], 'wml': [1753, 2843, 3353, 4328], 'kiy': [1756, 2876, 4216, 4351], 'iyf': [1757, 3797, 3947, 4217, 4352], 'yfr': [1758, 4218, 4353], 'frp': [1759, 1934, 3309, 4219, 4354], 'hdv': [1762, 4072], 'dvl': [1763, 4073], 'vlk': [1764, 4074], 'lk ': [1765], 'k y': [1766, 2781, 3191], ' yv': [1767], 'mll': [1774, 3209, 3414], 'llh': [1775, 3415], 'lhu': [1776], 'imj': [1783, 2798], 'mjp': [1784, 1864, 2299], 'jpb': [1785, 2300], 'bdq': [1787, 2952, 3927], 'q p': [1789], ' pk': [1790, 2275], 'pkl': [1791, 2276, 3710], 'klr': [1792, 2277], 'lrc': [1793, 2278], 'rcc': [1794, 2279], 'cch': [1795, 2280], 'eec': [1804, 3145], 'his': [1807], 'isf': [1808], 'sfp': [1809], 'fpa': [1810], 'paw': [1811], 'mse': [1814, 2939], 'sez': [1815], 'ezd': [1816, 2576], 'dya': [1818, 2113, 2248, 2413, 4183, 4293], 'yak': [1819, 2114, 2249, 2414, 4184, 4294], 'akv': [1820], 'kve': [1821], 'efu': [1823], 'fub': [1824], 'ubm': [1825], ' km': [1840, 3675], 'f q': [1844, 4964], ' qw': [1845, 4860], 'wvf': [1847, 3112, 3552, 4862], 'vf ': [1848, 3553, 4863], 'f x': [1849, 1929, 2509], ' xi': [1850], 'xip': [1851], 'ipm': [1852], 'ctm': [1860], 'tmd': [1861], 'dmj': [1863], 'jph': [1865], 'r f': [1869], ' fm': [1870], 'fmy': [1871], 'myj': [1872], 'yj ': [1873], 'j  ': [1874], 'men': [1879, 4034, 4809], 'enz': [1880], 'nzm': [1881], 'zmd': [1882], 'ekq': [1885, 3950], 'kqg': [1886], 'qgv': [1887], 'gv ': [1888], 'v e': [1889], 'evd': [1891, 2546, 3126, 4086], 'vdf': [1892], 'rlq': [1895], 'qxr': [1897, 2202, 2617, 3817], 'mdy': [1902, 2112, 2247, 3557, 3862, 4182, 4292, 4887], 'dmm': [1913, 2678], 'mlq': [1915, 2680], 'qwm': [1917, 2682, 3752], 'stu': [1920], 'tut': [1921], 'uty': [1922], ' xm': [1930, 3397, 4155, 4235, 4282, 4877], 'xmx': [1931], 'mxf': [1932, 4442], 'xfr': [1933], '  d': [1939, 3856, 4839], 'dmx': [1941], ' oh': [1945, 2985], 'ohy': [1946], '  b': [1949, 4880], 'bmg': [1951], 'mgv': [1952], 'gvt': [1953], 'xee': [1957], 'esl': [1959], 'slj': [1960], 'ljp': [1961], 'prm': [1963, 3333], 'tvk': [1971], 'vkg': [1972], 'kgl': [1973], 'glt': [1974], 'ltm': [1975, 3355], 'tmv': [1976, 2296], 'mvm': [1977, 2107, 2297, 4757], 'vmq': [1978, 2108], 'mpc': [1982], 'pcu': [1983], ' da': [1987, 4372], 'dab': [1988], 'abc': [1989], 'bcm': [1990, 2046], 'cmv': [1991], 'mvh': [1992], 'vha': [1993], 'had': [1994], 'skr': [2000], 'kri': [2001, 2066, 2221, 3251], 'rif': [2002], 'ife': [2003, 3052, 3472, 4662], 'fep': [2004], 'ep ': [2005, 2760], ' df': [2007], 'ead': [2011], 'adn': [2012], 'dn ': [2013, 3303, 3373, 4778], 'n q': [2014, 3894, 4129, 4859], ' qi': [2015, 3795, 3895, 4105, 4130, 4965], 'qim': [2016], 'f l': [2019], ' lh': [2020, 3920, 4080], 'lhp': [2021], 'mam': [2024, 3224, 3754], 'ami': [2025], 'mir': [2026], 'irq': [2027], 'rqo': [2028], 'qoy': [2029, 4514], 'if ': [2033, 3063, 4018], 'mle': [2039], 'leq': [2040], 'eqd': [2041, 3966, 4471], 'qde': [2042, 3967], 'eeb': [2044, 3214], 'ebc': [2045], 'mdo': [2048], 'doy': [2049], 'oya': [2050, 2320, 4515], 'vrf': [2058], 'rfl': [2059, 2614], 'flk': [2060], 'kim': [2062, 3346, 3962, 4427], ' kr': [2065], 'rim': [2067], 'pbm': [2070, 2370], 'bmr': [2071], 'mrq': [2072], 'rqs': [2073], 'qsk': [2074], 'kls': [2076], 'ls ': [2077], 's c': [2078], ' ck': [2079], 'ckk': [2080], 'phs': [2086], 'hsp': [2087], 'spc': [2088], 'pcl': [2089, 3079], 'cl ': [2090, 4510], 'l m': [2091], ' ma': [2092], 'ank': [2094, 2659, 2924, 3844, 3879, 4519, 4675], 'bwg': [2101], 'wgy': [2102], 'gya': [2103], 'yax': [2104], 'axm': [2105, 2230, 3260], 'xmv': [2106, 2403], 'emd': [2111, 2236, 4291, 4886], 'akp': [2115], 'kpe': [2116, 3511], 'peg': [2117], 'egt': [2118], 'gtp': [2119], 'deq': [2139], 'eqt': [2140], 'qti': [2141], 'tij': [2142], 'iji': [2143], 'jiz': [2144], 'dhf': [2151], 'hfv': [2152], 'fve': [2153], 'yht': [2156, 3991], 'hep': [2162, 3077], 'ttc': [2165], 'tci': [2166, 2346], 'kxp': [2176, 4111], 'xpg': [2177, 4112], 'pgs': [2178, 4113], 'skx': [2180, 2310, 4635], 'xva': [2182, 4637], 'vaf': [2183, 4638], 'aft': [2184], 'fta': [2185], 'tae': [2186], 'aeo': [2187], 'eol': [2188], 'olp': [2189, 4014], 'lpu': [2190, 2665, 4970], 'ui ': [2192, 2637, 2667, 2902, 3762, 4357, 4972], 'mab': [2197], 'abl': [2198], 'blz': [2199], 'lzq': [2200], 'zqx': [2201], 'xre': [2203], 'rek': [2204, 4659], 'd w': [2209, 4029], 'mdz': [2212, 2332], 'dzo': [2213, 2333], 'zoo': [2214], 'oom': [2215], 'omw': [2216, 2381, 3376], 'wfe': [2218], 'fek': [2219, 2269, 3189, 3799, 3949, 4389, 4444], 'rig': [2222, 3252], 'ig ': [2223, 3253], 'qax': [2229, 3259], 'bhx': [2241], 'udm': [2245, 4325], 'akt': [2250], 'teo': [2252], 'oob': [2254], 'obq': [2255], 'bqi': [2256, 3196], 'qig': [2257, 3197, 3896, 4131, 4966], 'igs': [2258], 'gsp': [2259], 'hjg': [2262], 'jgt': [2263], 'gtt': [2264], 'ttt': [2265], 'ttm': [2266], 'tmf': [2267], 'mfe': [2268, 3188], 'pek': [2289, 2704, 4304], 'lid': [2292], 'idn': [2293], 'dnt': [2294, 3778], 'ntm': [2295], 'vmj': [2298, 4163, 4243], 'bdm': [2302], 'dmo': [2303], 'moe': [2304, 3264], 'oeh': [2305, 3265], 'ehp': [2306, 3266], 'kxm': [2311], 'mrc': [2313], 'rcp': [2314], 'eoy': [2319, 3244, 3639], 'dqo': [2323, 4513], 'qoe': [2324], 'oem': [2325, 4855], 'emi': [2326], 'mie': [2327], 'e o': [2329, 2719, 2984, 4179], 'zoe': [2334], 'oec': [2335], 'eci': [2336, 3146], 'mdt': [2344, 4759], 'dtc': [2345], 'dsk': [2349, 2739], 'btg': [2355], 'tge': [2356], 'ged': [2357], 'drp': [2359, 2439], 'dhv': [2366], 'rpb': [2369, 2440, 4310], 'mwr': [2372], 'wrn': [2373], 'wmv': [2383, 4756], 'mvl': [2384, 2404], 'vlt': [2385, 2979], 'tig': [2387], 'grc': [2389], 'rch': [2390, 4585], 'chh': [2391, 3451, 4631], 'hhv': [2392], 'hvv': [2393], 'vpz': [2395, 3645], 'pzw': [2396, 3646], 'zwr': [2397], 'vlz': [2405], 'lzm': [2406], 'zmr': [2407, 3387], 'mre': [2408], 'akk': [2415, 4185], 'mav': [2422], 'avt': [2423], 'vtp': [2424], 'xvv': [2432, 3572], 'vvs': [2433], 'vsp': [2434], 'idr': [2438], 'pbv': [2441, 2476, 3136, 4161, 4241], 'vmf': [2443], 'czu': [2450], 'zuq': [2451], 'uqg': [2452], 'qgn': [2453], 'hta': [2457, 2642, 3872], 'tau': [2458, 3873], 'aub': [2459, 3874], 'ubh': [2460, 3875, 3890, 4805, 4930], 'bhh': [2461, 4316, 4806], 'idb': [2467], 'rzn': [2470], 'zns': [2471], 'ns ': [2472], 's d': [2473], 'dpb': [2475], 'm w': [2479, 3110], ' wh': [2480], 'whe': [2481], 'hef': [2482], 'eft': [2483], 'tpv': [2485, 4435, 4697, 4997], 'vxv': [2487, 3067], 'yhb': [2491], 'hbm': [2492], 'bme': [2493, 4882], 'eca': [2495], 'cad': [2496], 'adb': [2497], 'dbu': [2498], 'but': [2499], 'ut ': [2500], 't w': [2501], 'wnm': [2503], 'nmx': [2504, 4441], ' xq': [2510], 'xqw': [2511], 'qwr': [2512], 'r p': [2514, 3614], ' pv': [2515, 3065, 3615], 'pvd': [2516, 3731], 'vdw': [2517, 4087], 'dwe': [2518, 4088, 4413], 'wee': [2519, 3213, 4089, 4108], 'eeh': [2520, 4090], 'ehd': [2521], 'dei': [2523], 'eik': [2524], 'ikm': [2525], 'kmp': [2526, 4916], 'mpy': [2527, 4917], ' im': [2532], 'imr': [2533, 4308], 'mcs': [2539], 'vdv': [2547], 'dvn': [2548], 'vnc': [2549], 'nca': [2550], 'cae': [2551], 'ae ': [2552, 3467, 4367], 'tkh': [2555, 4555], ' nw': [2560], 'nwq': [2561], 'dhy': [2566], 'ekm': [2570, 4210], 'kmv': [2571], 'mvd': [2572], 'vde': [2573, 3887], 'mdk': [2579, 3939, 4824], 'dkw': [2580], 'kwy': [2581, 3801], 'wym': [2582, 3802], 'ymi': [2583], 'miw': [2584, 3339], 'iwh': [2585, 3340], 'whv': [2586], 'rse': [2589], 'set': [2590], 'r e': [2594], 'ppz': [2600], 'pzx': [2601], 'zxr': [2602, 3162], 'r z': [2604, 4704], ' zb': [2605, 2890], 'zbd': [2606, 2891], 'bdg': [2607], 'hrf': [2613], 'szm': [2623, 4043], 'sku': [2630, 2750], 'kus': [2631, 2896, 3736], 'usg': [2632, 2897], 'sgv': [2633, 2898], 'gvp': [2634, 2899], 'vpu': [2635, 2900], ' tc': [2639], 'tch': [2640], 'tas': [2643], 'asc': [2644], 'scq': [2645], 'cqf': [2646], 'qfy': [2647], 'fye': [2648], 'chw': [2651, 2921], 'wan': [2653, 2923, 3878], 'and': [2654], 'dhr': [2656], 'ran': [2658], 'nk ': [2660, 3700], ' ig': [2662, 3702], 'igl': [2663, 3703], 'glp': [2664], 'tkc': [2670], 'kce': [2671, 2956], 'ced': [2672, 2957], 'edi': [2673, 2958], 'dip': [2674], 'ip ': [2675], 'wmi': [2683], 'iym': [2685, 2877], 'ymk': [2686], 'mkn': [2687], 'knu': [2688], 'nuh': [2689], 'uhh': [2690, 3455], 'hhi': [2691], 'xyv': [2697, 4297], 'yvs': [2698, 4298], 'vsc': [2699, 4299], 'sci': [2700, 4300], 'cir': [2701, 4301], 'irp': [2702, 4302], 'rpe': [2703, 4303], 'chg': [2711], 'ayk': [2715], 'yki': [2716, 3345, 3961], 'mmy': [2727, 4157, 4237], 'myl': [2728, 4158, 4238], ' dr': [2732], 'rbm': [2735], 'bmy': [2736], 'myd': [2737], 'yds': [2738], 'sk ': [2740, 2780, 4560], 'tka': [2745], 'kav': [2746, 4116], 'kuy': [2751], 'uyy': [2752], 'ytt': [2754], 'ttx': [2755], 'txp': [2756], 'xpv': [2757, 4287], 'pve': [2758], 'dhh': [2766, 3686, 4626], 'hhn': [2767, 2917, 3312, 4317, 4457, 4627], 'hnn': [2768, 2918, 4318, 4458, 4628], 'nnc': [2769, 2919, 4319, 4459, 4629], 'rru': [2773], 'ruq': [2774], 'uqh': [2775], 'qhg': [2776], ' yd': [2782, 3757], 'yd ': [2783], 'd o': [2784], ' oq': [2785, 4580], 'oqa': [2786], 'qam': [2787], 'am ': [2788, 3225, 3755, 4004], ' nh': [2790], 'nhi': [2791], 'mpw': [2809], 'pwb': [2810], 'wbw': [2811], 'bwm': [2812], 'mad': [2814, 3029, 3364], 'ada': [2815, 3030, 3365, 4517], 'ai ': [2817, 3032, 3367], 'ttn': [2820], 'tnd': [2821], 'ndc': [2822], 'thk': [2826], 'hkn': [2827], 'kng': [2828], 'ngy': [2829], 'gym': [2830], 'ymd': [2831, 3141, 3176, 3358, 3803], 'tkv': [2835, 2935, 4565], 'kvs': [2836, 4566], 'vs ': [2837, 4567], '   ': [2839], 'chl': [2851, 3931], 'hln': [2852], 'lnb': [2853], 'nbt': [2854], 'tti': [2856], 'm o': [2859], 'mdl': [2869], 'dlu': [2870], 'lui': [2871], 'ymc': [2878], 'vxd': [2882, 3617], 'xda': [2883, 3228], 'tzi': [2886], 'm z': [2889, 4005], 'bdy': [2892], 'eku': [2895], 'f c': [2909], 'cqq': [2911, 4936], 'qbl': [2913, 4938], 'blp': [2914, 4939], 'nkm': [2925, 3040, 4065], 'wbe': [2928], 'ben': [2929], 'enm': [2930], 'kvi': [2936, 3426], 'sej': [2940], 'ejm': [2941], 'jmf': [2942], 'ekc': [2955], 'dil': [2959], 'ila': [2960], 'ama': [2962, 3232], 'tdo': [2973], 'dom': [2974], 'omi': [2975], 'mif': [2976], 'ifv': [2977], 'fvl': [2978], 'lta': [2980, 3275], 'tai': [2981, 3276], 'aie': [2982], 'hm ': [2987, 4672, 4692, 4992], ' ao': [2989], 'aoc': [2990], 'oci': [2991], 'idt': [2993], 'dtl': [2994], 'tlv': [2995], 'lvg': [2996], 'f m': [3004, 4864], ' mm': [3005], 'meg': [3007], 'egc': [3008, 4083], 'gcz': [3009], 'czb': [3010, 3690], 'zbt': [3011], 'tmm': [3013], 'mmz': [3014], 'mzq': [3015], 'qrq': [3017], 'rqr': [3018], 'qrp': [3019], 'rmn': [3038], 'mnk': [3039], 'mxn': [3042], 'xnn': [3043], 'ski': [3050, 4685], 'feo': [3053, 3473, 4663], 'wbq': [3056, 3476, 4666], 'bqr': [3057, 3477, 4667], 'dhi': [3061, 3481], 'f p': [3064], 'xve': [3068], 'veb': [3069], 'ebm': [3070], 'bmq': [3071], 'dhe': [3076], 'epc': [3078], 'clx': [3080], 'lxe': [3081], 'ede': [3083], 'oe ': [3090], 'heh': [3097], 'eha': [3098], 'hay': [3099], 'aya': [3100, 3545], 'yae': [3101], 'aet': [3102], 'ete': [3103], 'tec': [3104], 'chv': [3106, 4891], ' wv': [3111], 'vfe': [3113], 'fec': [3114], 'rkk': [3120], 'chn': [3131], 'hna': [3132], 'nau': [3133], 'aup': [3134], 'upb': [3135], 'bve': [3137], 've ': [3138], 'e y': [3139], ' ym': [3140], 'dbe': [3143, 3178], 'ci ': [3147], 'ekz': [3155], 'zpz': [3159], 'pzz': [3160, 4721], 'sky': [3165], 'yyr': [3167, 3532, 3747], 'yr ': [3168], ' iv': [3171], 'ivm': [3172], 'vmu': [3173], 'uym': [3175], 'beb': [3179, 3194], 'eb ': [3180], 'b t': [3181], ' tv': [3182, 3560, 4000, 4845], 'tvc': [3183], 'vcl': [3184], 'clk': [3185], 'kmf': [3187], ' yb': [3192], 'ybe': [3193], 'ebq': [3195], 'dmp': [3203], 'vml': [3208], 'qwe': [3212, 3542], 'ebh': [3215, 4125], 'hpn': [3217, 3267, 3892, 4127], 'n n': [3219, 4779], 'nmw': [3221], 'm x': [3226], ' xd': [3227], 'dan': [3229, 3843, 4518], 'eu ': [3239], 'u x': [3240], ' xs': [3241], 'xse': [3242], 'seo': [3243], 'nkr': [3250], 'wmo': [3263], 'n d': [3269], ' dw': [3270, 4500], 'dwx': [3271], 'wxn': [3272], 'xnl': [3273], 'dbi': [3283], 'bip': [3284], 'pki': [3286], 'cwm': [3291], 'f b': [3294], 'bmh': [3296], 'mdn': [3302, 3372], 'n a': [3304], 'abe': [3306], 'bef': [3307], 'efr': [3308], 'hnm': [3313], 'nmp': [3314], 'dhs': [3321, 3916], 'hsg': [3322], 'sg ': [3323], 'g y': [3324], ' yi': [3325], 'xmi': [3338, 4283], 'whr': [3341], 'hrm': [3342], 'rmy': [3343], 'myk': [3344, 3979], 'mlt': [3354], 'tmy': [3356], 'mym': [3357, 4052, 4467, 4957], 'hwm': [3362], 'i d': [3368], 'dbm': [3370], 'edw': [3380], 'dwy': [3381, 4501], 'wyd': [3382], 'ydd': [3383, 3758], 'ddp': [3384, 3759], 'dpz': [3385], 'pzm': [3386], 'mrs': [3388], 'y p': [3394], ' p ': [3395], 'p x': [3396], 'mef': [3399], 'efq': [3400], 'fqh': [3401], 'qhr': [3402, 3657], 'hrn': [3403, 3658], 'ug ': [3408], 'g t': [3409], 'kmm': [3412], 'lhz': [3416], 'zvc': [3418], 'vcd': [3419], 'cdw': [3420], 'dwm': [3421], 'ekv': [3425], 'pbx': [3431], 'edz': [3435], 'dpk': [3440], 'pkm': [3441], 'kmq': [3442], 'qep': [3444], 'hru': [3453, 4643], 'ruh': [3454], 'hht': [3456], 'nrd': [3459], 'rdq': [3460], 'dqi': [3461, 4191], 'qie': [3462], ' pa': [3465], 'pae': [3466], 'hit': [3482], 'ita': [3483], 'taw': [3484], 'zdg': [3497], 'phx': [3501], 'hxn': [3502], 'xnc': [3503], 'ncd': [3504], 'cdq': [3505], 'ekp': [3510], 'peo': [3512], 'eoi': [3513], 'oiw': [3514], 'lad': [3526], 'eky': [3530, 4100], 'yrl': [3533], 'rla': [3534], 'lab': [3535], 'mpe': [3539], 'peq': [3540], 'eqw': [3541], 'wea': [3543], 'eay': [3544], 'drf': [3548], 'rfq': [3549], 'fqw': [3550], 'y t': [3559], 'tvx': [3561, 4786, 4846], 'vxr': [3562, 4847], 'xrl': [3563], 'wmg': [3566], 'mgf': [3567], 'gf ': [3568], 'f k': [3569, 4404, 4739], 'vvv': [3573], 'vph': [3575], 'zie': [3582, 4842], 'ies': [3583, 4678], 'esz': [3584], 'szb': [3585, 3680, 4620], 'bvp': [3587], 'vpe': [3588], 'pec': [3589], 'chs': [3591], 'hsd': [3592], 'li ': [3610], 'i x': [3611], ' xr': [3612], 'rs ': [3629, 4379, 4399], 's z': [3630, 4380, 4400], 'yhe': [3641], 'heq': [3642], 'eqv': [3643], 'qvp': [3644], 'zwn': [3647], 'wni': [3648], 'nib': [3649], 'msk': [3654], 'skq': [3655], 'kqh': [3656], 'ndq': [3660, 4835], 'dqj': [3661], 'qjv': [3662], 'jve': [3663], 'izr': [3667, 4392], 'zrc': [3668, 4393], 'rck': [3669, 4394], 'ckt': [3670, 4395], 'kty': [3671], 'zbz': [3681, 3691, 4621], 'bzr': [3682, 4622], 'zrn': [3683, 4623], 'hrc': [3688], 'rcz': [3689], 'bzd': [3692], 'zde': [3693], 'ldg': [3697], 'lkk': [3705], 'ksg': [3707], 'sgp': [3708], 'gpk': [3709], 'ldm': [3712, 3900, 4135], 'tdy': [3717], 'evm': [3721], 'ayp': [3729], 'ypv': [3730], 'vdg': [3732], 'nku': [3735], 'usk': [3737], 'ske': [3738], 'key': [3739, 3907], 'yhu': [3741], 'gew': [3744], 'ewy': [3745], 'wyy': [3746], 'yrf': [3748], 'rfz': [3749], 'fzq': [3750], 'zqw': [3751], 'm y': [3756], 'dpu': [3760], 'tk ': [3765], 'k m': [3766], 'mzp': [3768], 'tdn': [3777, 4142], 'ntd': [3779], 'vrr': [3783], 'skb': [3790, 3825], 'r q': [3794], 'yfe': [3798, 3948], 'ekw': [3800], ' zi': [3811, 4006], 'zip': [3812], 'ipi': [3813], 'pi ': [3814], 'i q': [3815], ' qx': [3816], 'rmf': [3828], 'flb': [3830], 'lba': [3831], 'bam': [3832, 4819], 'lkh': [3840], 'hda': [3842], 'nki': [3845, 3880, 4350, 4676], 'idy': [3847], 'dyo': [3848], 'yoy': [3849], 'oyo': [3850], 'yox': [3851], 'oxr': [3852], 'xrm': [3853], 'm  ': [3855, 4879], 'ekd': [3865], 'kdl': [3866], 'dlv': [3867], 'lvs': [3868], 'vsd': [3869], 'bhw': [3876], 'eub': [3889, 4929], 'igg': [3897, 4132], 'gld': [3899, 4134], 'quk': [3904], 'ukk': [3905], 'kke': [3906, 4816], 'eyc': [3908], 'yce': [3909], 'etd': [3911], '  l': [3919, 4869], 'lhg': [3921], 'hga': [3922], 'gan': [3923], 'any': [3924], 'nyb': [3925], 'ybd': [3926], 'hla': [3932, 4902], 'dkb': [3940, 4825], 'r s': [3944], ' si': [3945], 'siy': [3946], 'kqr': [3951], 'qrf': [3952], 'rfe': [3953], 'few': [3954], 'ewt': [3955], 'wtm': [3956], 'tmt': [3957], 'mte': [3958], 'tey': [3959], 'eyk': [3960], 'imq': [3963], 'qeq': [3965, 4470], 'eex': [3969], 'xjp': [3971], 'jpn': [3972], 'pni': [3973], 'nip': [3974], 'xmy': [3978], 'rno': [3984, 4479], 'noz': [3985], 'ozi': [3986], 'imu': [3988], 'tya': [3993], 'yat': [3994], 't m': [3996], ' md': [3997], 'md ': [3998], 'd t': [3999], 'tvg': [4001], 'vga': [4002], 'gam': [4003], 'ziu': [4007], 'iue': [4008], 'uey': [4009], 'ey ': [4010], 'y m': [4011], ' mo': [4012], 'mol': [4013], 'mhn': [4022], 'hni': [4023], 'nir': [4024], 'irv': [4025], 'rvi': [4026], 'vid': [4027, 4982], 'enp': [4035, 4810], 'npi': [4036, 4811], 'ips': [4038, 4813], 'psk': [4039, 4814], '  u': [4049], ' um': [4050, 4465, 4955], 'umy': [4051, 4466, 4956], 'ymf': [4053], 'mfb': [4054], 'fbq': [4055], 'bqz': [4056], 'qza': [4057], 'zal': [4058], 'alp': [4059], 'kmj': [4066], 'mjs': [4067], 'jse': [4068], 'sed': [4069], 'dhd': [4071, 4776], 'vdk': [4077], 'dk ': [4078], 'k l': [4079], 'lhe': [4081], 'gce': [4084], 'ehe': [4091], 'aww': [4095], 'wwk': [4096], 'wkg': [4097], 'kge': [4098], 'v q': [4104], 'qiw': [4106], 'iwe': [4107], 'avn': [4117], 'vnv': [4118], 'nvl': [4119], 'vlq': [4120], 'lqp': [4121], 'yeb': [4124], 'khp': [4151, 4796], 'r x': [4154, 4234], 'xmm': [4156, 4236], 'lpb': [4160, 4240], 'ded': [4189], 'edq': [4190], ' tp': [4194, 4369, 4434, 4694, 4994], ' my': [4201], 'myf': [4202], 'yf ': [4203], 'f r': [4204], ' rb': [4205], 'bid': [4207], 'guo': [4223], 'uoc': [4224], 'ocm': [4225], 'kue': [4261], 'uev': [4262], 'vsk': [4264], 'emf': [4268], 'zzg': [4271], 'zgr': [4272], 'r l': [4274, 4829], ' lb': [4275, 4870], 'lbd': [4276, 4871], 'bdi': [4277, 4872], 'dih': [4278, 4873], 'iht': [4279, 4874], 'ht ': [4280, 4875], 't x': [4281, 4761, 4876], 'mix': [4284], 'ixx': [4285], 'xxp': [4286, 4596], 'pvq': [4288], 'vqe': [4289], 'akx': [4295], 'bwe': [4312], 'wei': [4313], 'eib': [4314], 'ibh': [4315], 'chx': [4321], 'epp': [4334], 'ppk': [4335], 'pky': [4336], 'yya': [4338], 'kjm': [4346], 'jmr': [4347], 'mrn': [4348], 'rpu': [4355], 'qbo': [4363], 'bob': [4364], 'oba': [4365], 'bae': [4366], 'tp ': [4370], 'dau': [4373], 'auk': [4374], 'ukt': [4375], ' wb': [4385], 'bxf': [4387], 'xfe': [4388, 4443, 4728], 'khu': [4406], 'uga': [4408], 'gay': [4409], 'ayl': [4410], 'ldw': [4412], 'wek': [4414], 'klm': [4416], 'lme': [4417], 'sob': [4424], 'obk': [4425], 'bki': [4426], 'm u': [4429], ' uh': [4430], 'uhi': [4431], 'vhe': [4437], 'e n': [4439], 'idf': [4448], 'dfp': [4449], 'fpk': [4450], 'pkx': [4451], 'yhh': [4456], 'chp': [4461], 'r u': [4464, 4799], 'ymq': [4468], 'qdp': [4472], 'oxx': [4475, 4595], 'xxv': [4476], 'ohp': [4481], 'pmi': [4483], 'yai': [4486], 'aiy': [4487], 'ylt': [4489], 'lto': [4490], 'toi': [4491], 'oi ': [4492], 'r d': [4499], 'wye': [4502], 'wmc': [4508], 'tit': [4527], 'iti': [4528], 'tid': [4529], 'idq': [4530], 'dqq': [4531], 'qqr': [4532], 'lqv': [4541, 4711], 'bwj': [4551], 'wjv': [4552], 'jvt': [4553], 'mys': [4558], 'ysk': [4559], 'cmy': [4571], 'myy': [4572], 'yye': [4573], 'oqz': [4581], 'qzr': [4582], 'zrr': [4583, 4723], 'rrc': [4584], 'xpr': [4597], 'prx': [4598], 'rxp': [4599], 'xp ': [4600], 'omv': [4611], 'mva': [4612], 'vab': [4613], 'abp': [4614], 'bpv': [4615], 'afz': [4639], 'fzv': [4640], 'zvh': [4641], 'vhr': [4642], 'rub': [4644, 4804], 'ub ': [4645], 'b d': [4646], 'ppv': [4655], 'pvw': [4656], 'vwr': [4657], ' an': [4674], 'stj': [4680], 'phm': [4691], 'tpt': [4695, 4995], 'vgp': [4699], 'gpv': [4700, 4980], ' zz': [4705], 'zzh': [4706], 'zhv': [4707], 'hvn': [4708], 'vnl': [4709], 'nlq': [4710], 'hso': [4717], 'sos': [4718], 'osp': [4719], 'spz': [4720], 'zzr': [4722], 'rki': [4725], 'kix': [4726], 'ixf': [4727], 'fey': [4729], 'yam': [4731], 'mhe': [4733], 'hex': [4734], 'kkd': [4741], 'kdr': [4742], 'r b': [4749], 'bit': [4751], 'itb': [4752], 'bew': [4754], 'ewm': [4755], 'vmd': [4758], 'dt ': [4760], 'xvn': [4763], 'nna': [4765], 'nai': [4766], 'aiz': [4767], 'adm': [4772], 'hdn': [4777], 'bot': [4784], 'otv': [4785], 'phz': [4791], 'hzg': [4792], 'zge': [4793], ' uw': [4800], 'uwy': [4801], 'wyr': [4802], 'yru': [4803], 'hhm': [4807], 'hme': [4808], 'keb': [4817], 'eba': [4818], 'amt': [4820], ' la': [4830], 'lax': [4831], 'rnc': [4849], 'ncm': [4850], 'mdw': [4852], 'dwo': [4853], 'emv': [4856], 'mvn': [4857], 'vn ': [4858], ' mq': [4865], 'mqi': [4866], 'meq': [4883], 'eqe': [4884], 'vrg': [4893], 'rgw': [4894], 'gwm': [4895], 'lay': [4903], 'ayw': [4904], 'ywm': [4905], 'dmb': [4908], 'mbl': [4909], 'bl ': [4910], 'l i': [4911], 'irs': [4913], 'chq': [4921], 'qrc': [4943], 'rcl': [4944], 'clv': [4945], 'lvm': [4946], 'vme': [4947], 'mem': [4948], 'hhg': [4952], 'hg ': [4953], 'g u': [4954], 'ym ': [4958], 'm c': [4959], 'igv': [4967], 'gvl': [4968], 'vlp': [4969], 'xmg': [4978], 'mgp': [4979], 'pvi': [4981], 'daw': [4984]}\n"
     ]
    }
   ],
   "source": [
    "#on crée le dictionnaire vide\n",
    "dictTrigrammes={}\n",
    "\n",
    "#on parcourt le message codé au complet jusqu'à l'avant dernier caractère\n",
    "for i in range(len(messageCode)-2):\n",
    "    if messageCode[i:i+3] not in dictTrigrammes: #si le trigramme n'a jamais été rencontré\n",
    "        dictTrigrammes[messageCode[i:i+3]]=[i]   #on crée une liste des positions de ce trigramme initialisée à [i]\n",
    "    else:\n",
    "        dictTrigrammes[messageCode[i:i+3]].append(i) #si le trigramme a déjà été rencontré, on ajoute sa nouvelle position\n",
    "print(dictTrigrammes)"
   ]
  },
  {
   "cell_type": "markdown",
   "metadata": {},
   "source": [
    "On veut connaitre l'écart qu'il y a entre les trigrammes identiques. On crée donc le dictionnaire dictTrigrammesEcart qui recense l'écart entre chacun des trigrammes."
   ]
  },
  {
   "cell_type": "code",
   "execution_count": 30,
   "metadata": {},
   "outputs": [
    {
     "name": "stdout",
     "output_type": "stream",
     "text": [
      "{'eoo': [2253], 'ooe': [], 'oed': [], 'ed ': [1715, 490], 'd l': [], ' lt': [], 'ltp': [], 'tpn': [], 'pnn': [], 'nnk': [], 'nkx': [4510], 'kxs': [], 'xsr': [], 'sr ': [], 'r k': [345, 20, 55, 1055, 205, 145, 780, 2095], ' kp': [], 'kpm': [1055], 'pme': [1251], 'met': [], 'etz': [], 'tzq': [], 'zqv': [], 'qvr': [165, 765, 2830, 760, 170], 'vrs': [560, 2005, 160], 'rsk': [40, 190, 140, 95, 95, 430, 55, 1240, 90, 230, 120, 415, 225, 190, 1055, 50, 230], 'skm': [1650, 675, 50, 2515], 'kma': [2170], 'maf': [], 'afr': [], 'frl': [15, 1850], 'rlw': [574, 695, 2265], 'lwv': [], 'wvq': [], 'vqi': [], 'qiy': [3762], 'iyi': [], 'yim': [], 'imd': [896, 175, 300, 1870, 160, 1385], 'mde': [859, 471, 459, 56, 1540, 214], 'dec': [1180], 'ech': [290, 55, 310, 135, 215, 380, 380, 605, 240, 60, 260, 125, 10, 10, 15, 320, 140, 340, 960, 30], 'chd': [530, 855, 370, 485, 130, 555, 270, 1350], 'hdf': [3045], 'dfr': [1850], 'rll': [], 'lly': [], 'lyp': [], 'ypt': [], 'ptt': [2115], 'ttw': [1280, 1705], 'twr': [470, 475, 335, 1705], 'wrm': [360, 340, 580, 1705, 1510], 'rmp': [661, 135, 660, 455, 1370, 1200, 14, 376], 'mpl': [475, 2965], 'plz': [475, 2965], 'lzd': [475, 1110, 1855], 'zdp': [], 'dph': [652, 135, 545, 1970, 445, 985, 110], 'phl': [4842], 'hlz': [], 'lzp': [], 'zpr': [], 'prs': [190, 235, 1820, 320, 2055], 'skj': [4280], 'kje': [], 'jeg': [], 'egd': [], 'gdp': [], 'dpt': [], 'pte': [], 'tev': [], 'evr': [590, 515, 2420], 'vrp': [590, 515, 1189, 1231], 'rph': [575, 15, 515, 20, 560, 175, 1265, 110, 910], 'pht': [785, 265, 995, 335, 390], 'htd': [785, 2110], 'tde': [785], 'dex': [], 'exq': [], 'xqi': [], 'qid': [], 'ide': [4125], 'dek': [1285, 10, 505, 1270, 270, 195, 75, 515, 5], 'ekx': [1285, 685, 150, 1905, 335], 'kxy': [2610, 1600], 'xyo': [], 'yol': [], 'olt': [], 'ltk': [], 'tke': [1055], 'kef': [], 'efi': [], 'fiz': [175, 570, 3045], 'izv': [175, 570, 330, 975, 1740], 'zvd': [745, 330, 365, 610, 1740], 'vdr': [1570, 480], 'drn': [10, 465, 955, 2535], 'rnk': [10, 1420, 2535, 285], 'nkn': [], 'knv': [], 'nvn': [], 'vnn': [4661], 'nnn': [], 'nnm': [1530], 'nmd': [445, 125, 720, 240, 1295, 1850], 'mdr': [2725, 100], 'nkh': [], 'khd': [270, 2325, 1135], 'hdm': [3090], 'dm ': [3600], 'm k': [1140, 80, 730], ' kh': [245, 20, 4025, 310], 'khh': [950], 'hha': [], 'hau': [], 'aum': [], 'umt': [], 'mti': [4700], 'tim': [305, 1355, 1015, 10, 50, 1965], 'ima': [455, 310], 'mac': [], 'ac ': [], 'c e': [560, 445, 995], ' ee': [], 'ees': [1830], 'est': [4550], 'stv': [1840], 'tve': [530, 2935], 'vef': [1690], 'ef ': [], 'f o': [610, 495, 1140, 1175, 80, 385, 560], ' oi': [610, 2115], 'oir': [610, 2115], 'ire': [610, 2115], 're ': [385, 225, 250, 1865], 'e w': [2725, 1555, 85], ' wi': [775, 1220, 330, 1955], 'wid': [640, 135, 1220, 330, 1955], 'idd': [1995], 'ddu': [], 'dup': [], 'uph': [410, 215, 2955, 505], 'phq': [565, 135, 2880, 1215], 'hqa': [3580], 'qar': [], 'arr': [], 'rrb': [2584], 'rbi': [4055], 'bim': [375, 2420, 545, 45], 'im ': [1910, 795, 30, 1540], 'm a': [2834, 501, 1184], ' ab': [370, 75, 25, 180, 195, 1035, 910, 360, 185], 'abi': [370, 2420, 545, 45], 'biy': [], 'iyl': [300, 1145, 2885], 'ylp': [300, 1145, 1125, 1430, 80], 'lph': [1445, 1240, 70, 1100, 45, 880], 'phg': [4060], 'hgu': [2550, 1510], 'gua': [2550], 'uay': [2550], 'ay ': [715, 280, 640, 485], 'y s': [], ' s ': [2575, 1820], 's  ': [1195, 1195, 280, 1080, 650, 270], '  n': [2390], ' np': [], 'npe': [70], 'pe ': [], 'e t': [917, 1463, 915, 900, 476], ' tl': [], 'tlq': [], 'lqi': [], 'qi ': [4015, 675], 'i t': [2015, 445, 30, 150, 85, 130, 115, 615, 430, 165, 75, 540], ' tk': [1115, 900, 360, 115, 75, 160, 245, 261, 59, 295, 595, 205, 410], 'tkt': [2615, 1730], 'kti': [245, 365, 990, 1015, 10, 1720], 'tie': [610, 195], 'ie ': [610, 10, 170, 15, 65, 5, 485, 730, 55, 390, 155, 110, 305, 175, 1380], 'e c': [504, 61, 384, 335, 660, 1161], ' cq': [2725, 2025], 'cqv': [], 'vrn': [3795, 495], 'rnp': [], 'np ': [], 'p d': [70, 185, 15, 130, 40, 60, 15, 405, 105, 195, 155, 420, 20, 310, 45, 315, 55, 30, 260, 260, 35, 285, 730, 40, 230, 325], ' dm': [70, 185, 145, 115, 520, 340, 373, 422, 315, 85, 260, 295, 285, 1000], 'dmq': [70], 'mqe': [70, 1715, 130, 125, 1209, 521, 505], 'qem': [70, 550, 1165, 130, 125, 2055, 595], 'emp': [1785, 2672, 296], 'mpm': [], 'pmn': [], 'mnz': [], 'nzu': [], 'zud': [], 'udn': [], 'dnc': [], 'ncs': [], 'csq': [], 'sqp': [], 'qpy': [3915], 'pye': [2320, 1595, 795], 'yek': [2320, 365, 970], 'eki': [430, 3025, 550, 175, 270], 'kiz': [3455, 725], 'izn': [], 'zni': [], 'nid': [], 'idh': [205], 'dhm': [4455, 320], 'hmy': [15, 715, 85, 2360, 1165], 'my ': [15, 715, 85, 2360], 'y  ': [1729, 2100], '  z': [3590], ' zm': [3410, 750, 20], 'zme': [], 'me ': [602, 3593], 'e k': [830, 660, 1160, 1385], ' ky': [1265], 'kyy': [1211, 54, 1675, 365, 570, 236], 'yyn': [], 'ynn': [], 'nno': [], 'noh': [4250], 'ohm': [2755], 'y c': [], ' cm': [4335], 'cmd': [1385, 290, 136, 2179, 625], 'mdp': [177, 295, 135, 90, 175, 300, 1870, 80, 80, 365, 985, 110], 'dpa': [], 'pan': [], 'anp': [], 'pev': [], 'evt': [], 'vtk': [1525, 185, 2600], 'tkx': [1185, 525, 220, 255], 'kxe': [1185, 285, 240, 250], 'xed': [1185, 285, 490, 875], 'edm': [], 'dmt': [534, 870], 'mth': [], 'thp': [], 'hpr': [2055, 320, 1180, 345, 80, 230, 335, 135], 'skn': [], 'kni': [], 'niz': [], 'izm': [], 'zmp': [2365, 1420], 'mp ': [3055, 1610], 'emw': [], 'mwf': [330, 1245, 375, 690], 'wfi': [], 'zvw': [], 'vwm': [1480], 'wme': [750, 855, 1500, 655], 'mex': [], 'exj': [3695], 'xje': [], 'jed': [], 'edr': [2080], 'drl': [324], 'rl ': [], 'l w': [], ' wn': [2220], 'wnn': [], 'nnd': [2760], 'ndm': [2090], 'dmw': [4040], 'mwm': [180, 45, 95, 215, 260, 375, 775, 150, 485, 355, 40, 115, 110, 450, 95, 295, 180, 390], 'wm ': [260, 535, 2405], 'm t': [795, 436, 2194, 979, 300], ' tt': [795, 1734, 215, 681], 'ttd': [795, 2630], 'tdr': [1110, 2225, 750, 20], 'drs': [1375, 480, 1480, 750, 20, 345], 'rsd': [1375, 480, 2595], 'sdh': [1375, 480, 1720, 875], 'dhz': [], 'hzd': [], 'zda': [], 'dat': [2585], 'ath': [], 'thd': [855], 'hdz': [4285], 'dza': [1110, 3175], 'zat': [4285], 'at ': [3690, 595], 't d': [4285], ' dc': [], 'dcu': [100, 145, 600, 1670, 1405], 'cut': [845, 1670], 'uth': [845, 1670], 'thr': [], 'hrr': [195, 1360, 905, 1425], 'rr ': [65, 130, 875, 485, 1925, 150, 255, 630], 'r c': [965, 1720, 1545, 390], ' cw': [435, 2250, 290, 1255, 415], 'cwr': [435, 2250, 1545, 415], 'wrf': [595, 2090, 1960], 'rf ': [500, 95, 325, 690, 450, 130, 495, 1575, 160, 225], 'f  ': [3030], '  i': [1555, 965, 330, 180], ' iw': [1555, 965, 510], 'iwm': [1555, 965, 510, 163], 'wms': [285, 1205, 105], 'mst': [1275, 320, 50], 'sta': [], 'tay': [], 'ayr': [], 'yre': [], 'rec': [2080], 'che': [500, 1330, 935], 'heg': [3750], 'eg ': [], 'g o': [1890, 1030], ' om': [5, 900, 110, 550, 325, 105, 50, 340, 535, 120, 180, 80, 385, 160, 430], 'omp': [], 'mpn': [], 'pn ': [2880, 50, 625, 235], 'n o': [3035], 'omd': [420, 590, 550, 325, 105, 390, 535, 300, 80, 545], 'mdf': [], 'dfo': [1665, 1080], 'foe': [1665, 1080], 'oea': [1665], 'eai': [], 'aim': [540, 2390], 'imc': [], 'mcz': [2100, 430], 'czv': [2530], 'zvn': [], 'vnr': [], 'nrc': [], 'rcd': [], 'cdb': [], 'dbv': [], 'bvr': [], 'vr ': [595, 3590, 170], 'khw': [], 'hwv': [1155], 'wvr': [600], 'vrk': [600], 'rka': [], 'kal': [], 'ala': [], 'lam': [2593, 972], 'aml': [], 'ml ': [], 'l d': [4140], ' do': [], 'dor': [], 'orz': [], 'rzd': [], 'zdr': [], 'drr': [2356], 'hdy': [2030, 295, 260, 480], 'dye': [150, 2175, 185, 75, 125, 355, 415, 1025], 'yec': [445, 1820, 60, 260, 125, 355, 1440, 30], 'chj': [], 'hjn': [955], 'jnc': [955], 'nce': [715, 240, 1780], 'cet': [955, 2565], 'etx': [955, 1245], 'txr': [955, 1245], 'xrs': [2770], 'skl': [95, 1585], 'kli': [250, 285, 40, 85, 715, 325, 175, 20, 2015], 'lim': [535, 475, 365, 325, 2210], 'iml': [1375], 'mlk': [435, 910, 10, 1850], 'lkm': [2786], 'kmw': [195, 1245, 1065, 20], 'mwb': [2525], 'wbr': [], 'brt': [], 'rta': [], 'tad': [1205], 'adc': [], 'cuk': [], 'ukw': [], 'kwr': [], 'rmd': [], 'dpn': [], 'pnm': [], 'nm ': [], 'm i': [750], ' id': [], 'dht': [1250, 1375, 825], 'htn': [1250, 1375, 70, 340], 'tnr': [2695, 340], 'nrk': [2695], 'rkt': [2380], 'imt': [], 'mtp': [], 'tpz': [], 'pzq': [], 'zqr': [2584], 'qr ': [], ' ki': [2440], 'kir': [3170], 'irn': [3170], 'rnl': [3170], 'nli': [3170], 'lia': [], 'iam': [], 'amc': [3391], 'mcu': [325, 2955], 'cup': [110, 215, 1215, 1740, 505], 'up ': [1540], 'dms': [3205], 'msz': [160, 1070, 2000, 940], 'szv': [160, 925], 'zvx': [160, 2270], 'vxm': [160, 900, 455, 1370, 640, 560, 80, 170], 'xme': [1060, 1885, 35], 'mey': [570, 620], 'eyh': [570, 620, 510, 1585], 'yhi': [470, 1105], 'hiy': [1145], 'lp ': [170, 585, 1515, 1600], ' dz': [518, 432, 3428], 'dze': [820], 'zex': [], 'exm': [770, 690, 2650, 160], 'xmw': [1765, 1030, 675], 'wmf': [2824], 'mfz': [260, 1005, 710, 1825], 'fzz': [260, 1005, 710, 1825], 'zzx': [260, 1005, 710, 715], 'zxm': [260, 434, 571, 710], 'xmp': [140], 'mpp': [2125, 350, 480, 1225], 'ppb': [2475, 480], 'pbd': [1310, 515, 650], 'bde': [], 'deu': [2760, 650, 1040], 'euc': [], 'uck': [], 'cki': [], 'kib': [], 'ibt': [], 'btt': [2371], 'ttj': [], 'tjp': [4195], 'jpr': [1475, 2720], 'kld': [1215, 1990, 15, 460, 16, 64], 'ldn': [], 'dnn': [3650], 'nnl': [3650], 'nlt': [2779, 871], 'ltb': [3650], 'tbe': [3650, 606], 'bee': [2646, 1004], 'eek': [275, 3335, 40], 'ekh': [790, 1415, 1445, 645], 'khr': [], 'hra': [55, 2100], 'rau': [55], 'auc': [55], 'uch': [55, 140, 1460, 690], 'chr': [2265], 'r w': [1625, 330], ' wm': [310, 1390, 655, 1165, 475], 'wmw': [95, 215, 2045, 620, 545, 475, 390], 'wma': [1908, 392, 410, 140, 390], 'ma ': [240, 1100], 'a x': [1340], ' xv': [1340, 2906], 'xvr': [990, 350, 200, 1925, 495], 'vrc': [1340], 'rct': [1340], 'ctw': [], 'wre': [475, 3661], 'e a': [280, 195, 689, 2405], 'imp': [1540, 30, 500, 210, 140, 480, 65, 45], 'zdy': [1285], 'yee': [], 'eez': [2040], 'ezw': [], 'zwm': [], 'wmr': [], 'mrp': [815, 1180, 985, 790], 'rp ': [815, 1005, 660, 500, 80], 'p y': [2980], ' yy': [2980], 'yyt': [2210, 770], 'ytl': [2980], 'tla': [2980], 'law': [], 'awm': [475, 790, 530, 1143, 1500], 'm n': [2240], ' nm': [2670, 1220, 340], 'mdc': [600, 3075], 'phr': [1310, 2330], 'chi': [485, 760], 'hi ': [203, 282, 890, 755, 1740], 'i  ': [1375, 755, 2175], '  c': [4005], ' ci': [715], 'ciz': [1601, 170], 'iza': [851], 'zan': [], 'anc': [2395, 270], 'nch': [2200, 150, 45, 270, 1085, 140, 170], 'hdr': [855, 2635], 'rnd': [435, 295, 1070, 685, 15, 330, 75, 180, 25, 940, 45, 165, 155], 'ndz': [], 'dzi': [2860, 1405], 'zim': [2310, 550, 550], 'mae': [], 'aea': [], 'eav': [], 'avr': [2165], 'skk': [515, 2940, 775], 'kkl': [515, 2020, 1065], 'kla': [], 'las': [], 'asp': [], 'sp ': [], 'dmc': [1045, 900], 'mck': [], 'ckm': [], 'wf ': [1245, 1065], 'f a': [1435, 910], 'abd': [], 'bdr': [], 'lwm': [695, 2265], 'mpz': [2590], 'pzb': [2590], 'zbv': [2590, 380], 'bvm': [1825, 35, 730, 955, 80], 'vmc': [3104], 'mcp': [], 'cpt': [1010], 'pty': [], 'tyv': [3050], 'yv ': [870, 2180, 430], 'v a': [], 'abm': [180, 195, 1035, 689], 'bmm': [180, 195, 1035, 689], 'mml': [1286, 124, 641, 734], 'mlp': [585, 1630, 1485], ' db': [615, 2035, 87], 'dbo': [4150], 'boc': [], 'oc ': [], 'c i': [635], ' iq': [], 'iqe': [], 'qek': [40, 610, 110, 50, 25, 65, 515, 900, 575, 245, 365, 510], 'kid': [3205, 840], 'idg': [4045], 'dgn': [480, 560, 925, 640, 250, 200, 35, 955], 'gnk': [2605, 450, 35], 'nkl': [1450], 'lit': [], 'itr': [], 'trp': [], 'phi': [955, 330, 490, 10, 1580], 'hij': [975], 'ijt': [], 'jtb': [], 'tbi': [], 'bis': [], 'isd': [], 'sdd': [2935], 'ddt': [2935], 'dtv': [2935], 'vev': [2935], 'phy': [3380], 'hy ': [1280, 620, 1480], 'y e': [1900, 1151], ' ek': [1900], 'ek ': [870, 990, 660], 'k s': [2070, 1820], ' sg': [], 'sgr': [], 'grn': [], 'rnm': [720], 'mdq': [200, 165, 355, 75, 755, 315, 715, 515, 130, 235], 'dqe': [15, 350, 45, 310, 50, 25, 65, 515, 900, 175, 400, 245, 155, 210, 510], 'ekr': [1540], 'krs': [], 'rsg': [], 'sgi': [], 'gic': [445, 995], 'ic ': [445, 995], ' e ': [445, 995], ' cp': [445, 140, 855, 2365], 'cp ': [1625], ' dq': [258, 3562, 135], 'qec': [350, 2085, 800], 'cht': [1945, 330, 145], 'hty': [1460, 690, 1145], 'tyu': [1460, 690], 'yuc': [1460, 690], 'chz': [], 'hzv': [2715], 'zvv': [], 'vvp': [1690, 1180], 'vp ': [], 'dmd': [135, 53, 255, 1095, 332, 723, 560, 40, 235], 'hqr': [135, 4075, 20], 'qrm': [135, 3685, 390], 'mph': [135, 1775, 1420, 905], 'phu': [], 'hug': [1060, 1630, 335, 665], 'uge': [705, 355, 1730, 235], 'gek': [1060, 1730, 590, 695], 'ekt': [680, 50, 330, 1995, 365, 510], 'ktd': [680, 2225, 150, 365, 235, 20], 'tdu': [], 'duo': [], 'uox': [], 'oxu': [870], 'xui': [870], 'uim': [530, 5, 335], 'imf': [1289, 1330], 'xms': [1235, 1710, 940], 'msp': [], 'sph': [125, 730, 670, 175], 'phv': [], 'hvr': [1630, 220, 520, 1785], 'vrj': [], 'rjz': [], 'jzb': [960, 1100, 1365, 80], 'zbm': [], 'bmf': [319], 'mf ': [1275, 925, 350, 55, 285, 750, 20], 'rma': [], 'a a': [], ' am': [], 'amf': [], 'mfu': [145, 930], 'fuo': [], 'uom': [], 'mdb': [860, 615, 485, 420, 35, 1605], 'dbh': [], 'bhi': [862], 'i m': [], ' mc': [], 'phd': [410, 410, 170, 1325, 115, 245, 615], 'hde': [1750, 715], 'dee': [1030, 240, 531, 1394], 'ekk': [700], 'kks': [1640, 205, 1085, 335], 'ksz': [1640, 205, 1420], 'szp': [1640], 'zpw': [945, 695, 1350], 'pwi': [], 'idm': [113, 255, 2150, 560], 'mtk': [], 'tkl': [145, 840], 'kle': [310, 2525, 165, 35], 'le ': [310, 2525, 165, 35], 'e s': [310, 2525, 165, 35], ' sk': [310, 455, 445, 1625, 165, 35, 520], 'skt': [2835, 640], 'e p': [1480, 1190], ' pe': [925], 'pei': [925], 'eid': [], 'idc': [], 'dct': [], 'ctk': [], 'tki': [2669], 'kie': [1915, 570, 1390], 'mmp': [196, 255], 'mpb': [1260, 30, 2450], 'pbw': [1290, 2211, 239], 'bwz': [], 'wza': [], 'zaq': [], 'aqe': [], 'emr': [], 'mrf': [420, 690, 450, 130, 2070, 160], 'f w': [95, 3470], 'wmm': [], 'mme': [2182], 'e g': [], ' gy': [], 'gye': [], 'hem': [], 'eml': [], 'lki': [920, 306, 1544], 'kig': [3045], 'igf': [3045], 'gfi': [3045], 'vdm': [], 'php': [730, 1045, 1180, 425], 'hpm': [400, 15, 45, 270, 440, 1005, 1455], 'pma': [460, 270, 270, 170, 1005], 'may': [730], 'ayi': [730], 'yip': [583, 147], 'ipk': [730, 1698], 'pks': [730], 'ksp': [730], 'dey': [], 'eyl': [], 'yld': [3545], 'lde': [3321], 'dea': [], 'eak': [], 'ako': [], 'kop': [], 'opa': [], 'pai': [], 'aib': [], 'ibm': [2775], 'bmd': [950, 1545, 280], 'dqa': [280, 640, 430, 55, 975], 'qay': [280, 640, 485, 1444], 'y d': [68, 172, 40, 640, 485, 960], ' dp': [507, 898, 187, 1383, 735], 'dpe': [1405], 'ped': [], 'eda': [], 'dai': [1930, 215, 335], 'man': [1204, 870, 270], 'ana': [2340], 'nam': [2340], 'amh': [3840], 'mhi': [90], 'hid': [1543], 'dep': [930, 1256, 1249], 'ept': [245, 685, 334], 'ptz': [930], 'tzm': [930], 'zmf': [930, 1800, 750, 20], 'fup': [930], 'upt': [930], 'ptp': [725, 205, 1495, 1365, 300], 'tpr': [35, 690, 205, 1495], 'pr ': [930, 1970, 345, 80, 230, 335, 135], 'r o': [45, 395, 550, 45, 2665], ' ow': [], 'owr': [], 'ids': [1431, 2074], 'dso': [3505], 'soy': [], 'oyk': [], 'ykx': [3059], 'kxv': [1134, 125, 250, 1140, 410, 471, 184], 'xvo': [195, 1370, 1965], 'voy': [195, 1370, 1965], 'oyh': [1105, 460, 1150, 815], 'hie': [1500, 365], 'iet': [1500, 365], 'etk': [1500, 365], 'dpj': [], 'pjv': [], 'jva': [], 'vau': [], 'aut': [], 'utt': [], 'ttp': [], 'prr': [], 'rrk': [2840, 35, 905], 'rkh': [], 'khm': [85, 2360, 1165], 'dqv': [2830], ' ob': [], 'obd': [], 'bdb': [], 'dbl': [], 'bll': [], 'llq': [2250], 'lqw': [955, 765, 530], 'qwv': [884, 1705, 1310], 'rku': [], 'kui': [290], 'uiz': [], 'ize': [475, 80, 645, 170, 2430], 'zek': [], 'ekl': [125, 1175, 20, 1330, 75, 610, 110], 'lie': [85, 1215], 'e  ': [], '  t': [], ' ty': [], 'tye': [946], 'ye ': [3525], 'e d': [409, 1703], 'dzm': [], 'zmh': [], 'hil': [], 'ilt': [], 'lti': [1400], 'e z': [555], ' zk': [], 'zkg': [], 'kgn': [], 'gns': [1785], 'nst': [], 'stw': [], 'mmm': [], 'mpa': [], 'pax': [], 'axr': [3825], 'xrn': [3825, 15], 'ndh': [295, 1350, 390, 15, 15, 330, 75, 205, 940, 45, 320], 'dhw': [505, 3090, 140], 'hwr': [3595, 140], 'wrs': [1385], 'ska': [3100], 'kae': [], 'aey': [], 'eye': [], 'yey': [], 'eya': [425, 80, 645, 170, 2390, 40], 'yaw': [1320], 'yhn': [], 'hnr': [], 'nru': [], 'ruk': [], 'ukh': [], 'y b': [], ' bi': [3715], 'bij': [], 'ijs': [], 'jso': [], 'sow': [], 'owm': [], 'wmd': [685, 485, 132, 525, 554, 94, 255, 167, 960, 8], 'i i': [], ' ir': [3863], 'iru': [], 'rui': [], 'uie': [1820], ' kl': [], 'e b': [], ' bm': [890, 1345, 1586], 'mfg': [], 'fgs': [], 'gsk': [1115, 1935], 'skh': [2325], 'hhr': [70, 140, 855, 330, 150, 840, 125, 110, 810, 135], 'hrs': [2510, 1055], 'skp': [], 'pmr': [], 'mrr': [], 'rrz': [], 'rzo': [485], 'zop': [], 'opk': [], 'pkp': [], 'kps': [], 'psm': [], 'smw': [], 'tdq': [2693], 'qe ': [], ' ts': [], 'tsv': [], 'sve': [], 'vek': [2570], 'kln': [2020], 'lnc': [2020], 'cev': [2020, 960], 'evi': [215, 1275], 'vim': [215, 1275, 340, 490], 'dp ': [300, 155, 1715], ' de': [690, 515, 2015, 595], 'deo': [1205, 1320], 'eow': [1940, 420, 1190], 'owb': [1940, 420, 1190], 'wbx': [3270], 'bxv': [], 'oy ': [2125], ' dg': [2125], 'gnp': [560, 770, 155, 890, 1190], 'nph': [560, 770, 155, 890, 1190], 'htg': [995], 'tgi': [995], 'cph': [140, 855, 2365], 'phh': [140, 855, 480, 305, 395, 265, 920, 455], 'hr ': [140, 855, 330, 2035], 'r  ': [2030, 640, 390], '  m': [3060], ' mv': [], 'mve': [], 'vep': [1616], 'ptk': [], 'kep': [], 'epi': [], 'pid': [2710], 'hdq': [640, 485], ' dy': [1930], 'dy ': [450, 290, 1655, 160], 'y z': [], ' zx': [380], 'xm ': [3711], ' iz': [], 'vdh': [], 'dhu': [2233], 'huw': [], 'uwo': [], 'woe': [3678], 'oev': [], 'hdb': [], 'dbr': [1285], 'brp': [], 'rpv': [], 'pvh': [3250], 'vhm': [], 'hmu': [], 'muy': [1985, 815], 'uyh': [2800], 'yhg': [], 'hgn': [1585], 'gnr': [], 'nrl': [], 'rlk': [], 'lkx': [], 'kxr': [], 'xrr': [2620], 'rrp': [], 'phw': [280, 1880], 'hwg': [], 'wgr': [], 'gry': [], 'ryi': [], 'yix': [2120], 'ixg': [2120], 'xgr': [2120], 'grp': [1990, 130], 'rpt': [1325, 795], 'ptd': [1325], 'tdm': [1325, 1375], 'dml': [2390], ' dd': [], 'dde': [920], 'ecb': [], 'cbp': [], 'bpf': [], 'pfa': [], 'fad': [], 'ad ': [], 'd d': [20], 'dmh': [], 'mhl': [230], 'hlj': [], 'ljm': [], 'jmy': [], 'mye': [], 'yex': [690, 2650], 'xmr': [690, 386, 194, 2070, 160], 'omh': [2780], 'mhg': [2055], 'hgi': [2055], 'gid': [2055], 'id ': [2783], 'dba': [375, 615, 485], 'bab': [375, 615, 485], 'abh': [375, 615], 'bhp': [1965, 675, 235, 805], 'pm ': [], ' ku': [3005], 'imm': [], 'mpu': [], 'pui': [930, 445, 30, 235, 860, 595, 615], 'ime': [], 'med': [250, 850, 400, 260, 295, 60, 55, 480, 690, 170], 'edh': [250, 850, 200, 200, 260, 295, 595, 155, 535, 170], 'dhp': [45, 1715], 'mec': [1225], 'ec ': [], ' i ': [], 'i c': [3220], 'cid': [1066, 645], 'idz': [], 'zed': [1280], 'edp': [], 'dps': [], 'psq': [], 'sqe': [], 'khs': [1265, 2160], 'hs ': [1265, 1360], 's t': [1450, 1820], 'tkz': [], 'kzi': [260, 1600, 425], 'zir': [], 'irl': [], 'wmq': [932, 2753], 'mqr': [1770, 1915], 'qrn': [1755, 15, 405, 1190, 320], 'dhx': [], 'hxa': [935, 2080], 'xau': [935, 2080], 'aud': [935, 2080], 'udh': [], 'mat': [], 'atz': [1570], 'tzd': [], 'zdq': [], 'dq ': [470, 755], 'q e': [1225], ' ev': [570, 655, 50, 1125], 'imi': [], 'miy': [1360, 1800], 'iya': [3160], 'yay': [], 'ayv': [], 'yvt': [440], 'vtt': [], 'rm ': [1776, 745], ' kk': [1285, 2120], 'kki': [140, 605], 'kif': [140, 605, 969, 420, 1190], 'ift': [140, 605], 'ftp': [140, 605, 400], 'tph': [140, 605, 35, 305, 1770], 'phj': [50, 870], 'xr ': [115, 110, 325, 45, 650, 10, 15, 995], 'mdm': [285, 15, 75, 135, 50, 1605, 135, 1255], 'dmr': [1023, 1142], 'p s': [], ' sy': [], 'syu': [], 'yud': [], 'udq': [], 'dqs': [190, 445, 2345, 495], 'qs ': [190, 445, 2345, 495], '  k': [1330], ' ka': [], 'kam': [], 'amd': [], 'kxi': [3075, 75], 'xig': [3150], 'igt': [3150], 'gtk': [3150], 'tkm': [820, 710, 245, 261, 1564], 'kmx': [195, 780, 50, 640, 110, 525, 535, 765], 'mxd': [1775, 1060], 'xde': [1775, 465, 595], 'ekb': [], 'kbr': [315, 50, 2045, 35, 115, 885], 'brr': [2410, 150, 885], 'r r': [], ' rz': [], 'rze': [], 'ze ': [80], 'hja': [], 'jar': [], 'arn': [], 'drt': [25, 745, 660, 100], 'rte': [], 'tel': [], 'eli': [], 'zad': [5], 'adp': [], 'dpi': [2442], 'piz': [], 'adq': [27, 103, 445, 57, 270, 1205, 813], 'dqu': [2085, 397], 'qug': [2085], 'gec': [], 'rtk': [745, 660, 100], 'edt': [], 'dtt': [], 'ttk': [], 'tky': [], 'yyi': [], 'ipz': [], 'pzi': [], 'ziz': [1715], 'zey': [80, 645, 170, 2430], 'yad': [80, 525, 120, 150, 1225, 793, 177, 255], 'kte': [800, 2015, 385], 'tem': [2815, 385], 'emt': [], 'mtb': [], 'tbm': [], 'bmw': [915], 'wmh': [], 'hlb': [], 'lbx': [], 'bxr': [], 'r m': [], ' mz': [2302], 'mze': [], ' cs': [], 'csm': [240, 830, 1635, 80], 'smd': [1070], 'hwp': [], 'wpi': [], 'pip': [2553, 775], 'ipv': [2490], 'pvg': [3212, 3], 'vgr': [1510, 1705], 'gr ': [1510, 1275, 430], 'yyv': [2610], 'v k': [2180], ' kn': [], 'kns': [], 'nsd': [], 'sdt': [], 'dtk': [], 'tkq': [2860], 'kqq': [2860], 'qqb': [1410, 1450, 575], 'qbr': [], 'brz': [965], 'rzx': [], 'zxv': [], 'vrm': [1600], 'mpv': [455, 1370, 1200], 'pvx': [455, 520, 580, 270, 280, 360, 560, 80], 'wvm': [], 'vm ': [959], ' ti': [], 'tiz': [], 'adr': [645, 1375], 'nkz': [], 'kze': [], 'zev': [], 'evs': [2730], 'vsz': [], 'vdq': [1590], 'k i': [990, 130, 1040], ' ie': [], 'zxi': [], 'xid': [2900], 'ida': [3435], 'dad': [], 's s': [445, 2345], 'skz': [2025], 'zif': [], 'ifr': [], 'frz': [], 'zov': [], 'ovn': [], 'vnd': [], 'ndp': [], 'dma': [], 'mak': [], 'akm': [], 'mxr': [370], 'r y': [], ' yw': [], 'ywq': [], 'wqz': [985], 'qze': [985], 'zep': [], 'eph': [1505, 360], 'hdp': [], 'dpo': [2880, 120], 'pox': [2880, 120], 'ims': [1340], 'sth': [], 'thi': [], 'hif': [425, 1030, 955], 'ifa': [], 'fat': [], 'ata': [], 'ady': [], 'y l': [290], ' lv': [290], 'lve': [290], 'vey': [290, 247], 'eyy': [290], 'yyc': [290], 'ycm': [290], 'ijc': [], 'jcp': [], 'prn': [], 'rnn': [], 'mcl': [20, 2175, 675], 'clz': [], 'zdm': [935], 'dme': [720, 400, 260, 295, 595, 690, 170], 'yhw': [], 'hwa': [1005, 270, 955], 'wam': [], 'amx': [2285], 'mxm': [702, 50, 103, 1172, 258, 1042], 'xmd': [3137], 'mtz': [], 'tzb': [], 'zbx': [], 'bxm': [1775], 'xmc': [790], 'clt': [2175], 'ltg': [2175], 'tgg': [2175], 'ggl': [2175, 60, 235], 'glk': [2040, 135], 'lkv': [2410], 'kvd': [2410], 'tns': [1375], 'nsk': [1105, 270], 'kmr': [], 'mrm': [65], 'rms': [70], 'szq': [], 'zqd': [], 'qdg': [], 'phe': [], 'he ': [2405, 346], ' aw': [2405], 'awf': [], 'wfw': [], 'fwr': [], 'wr ': [820, 2095, 140], ' kb': [], 'brm': [50, 2080], 'rmj': [], 'mjz': [1100, 1365, 80], 'zbi': [1100, 1365, 80], 'big': [1100, 1365, 80], 'igr': [685, 415, 395, 970, 80], 'grk': [1100, 1365, 80], 'rkl': [2080, 35, 350, 80], 'ldr': [2465, 80], 'drc': [2465, 80], 'rcs': [2465, 80], 'smg': [2465, 80], 'mge': [2465, 80], 'ge ': [2465, 80], ' kx': [980, 875], 'd p': [], 'eiz': [], 'izp': [1435], 'pwm': [695, 1350], 'dmf': [], 'mfl': [2100, 710], 'flq': [885, 1925], 'lqx': [165, 720], 'qxm': [], 'xmf': [2805], 'xmb': [615], 'mbt': [615], 'btm': [1272], 'tmr': [], 'rml': [], 'lkb': [], 'msl': [], 'slv': [], 'lvw': [], 'wml': [1090, 510, 975], 'kiy': [1120, 1340, 135], 'iyf': [2040, 150, 270, 135], 'yfr': [2460, 135], 'frp': [175, 1375, 910, 135], 'hdv': [2310], 'dvl': [2310], 'vlk': [2310], 'lk ': [], 'k y': [1015, 410], ' yv': [], 'mll': [1435, 205], 'llh': [1640], 'lhu': [], 'imj': [1015], 'mjp': [80, 435], 'jpb': [515], 'bdq': [1165, 975], 'q p': [], ' pk': [485], 'pkl': [485, 1434], 'klr': [485], 'lrc': [485], 'rcc': [485], 'cch': [485], 'eec': [1341], 'his': [], 'isf': [], 'sfp': [], 'fpa': [], 'paw': [], 'mse': [1125], 'sez': [], 'ezd': [760], 'dya': [295, 135, 165, 1770, 110], 'yak': [295, 135, 165, 1770, 110], 'akv': [], 'kve': [], 'efu': [], 'fub': [], 'ubm': [], ' km': [1835], 'f q': [3120], ' qw': [3015], 'wvf': [1265, 440, 1310], 'vf ': [1705, 1310], 'f x': [80, 580], ' xi': [], 'xip': [], 'ipm': [], 'ctm': [], 'tmd': [], 'dmj': [], 'jph': [], 'r f': [], ' fm': [], 'fmy': [], 'myj': [], 'yj ': [], 'j  ': [], 'men': [2155, 775], 'enz': [], 'nzm': [], 'zmd': [], 'ekq': [2065], 'kqg': [], 'qgv': [], 'gv ': [], 'v e': [], 'evd': [655, 580, 960], 'vdf': [], 'rlq': [], 'qxr': [305, 415, 1200], 'mdy': [210, 135, 1310, 305, 320, 110, 595], 'dmm': [765], 'mlq': [765], 'qwm': [765, 1070], 'stu': [], 'tut': [], 'uty': [], ' xm': [1467, 758, 80, 47, 595], 'xmx': [], 'mxf': [2510], 'xfr': [], '  d': [1917, 983], 'dmx': [], ' oh': [1040], 'ohy': [], '  b': [2931], 'bmg': [], 'mgv': [], 'gvt': [], 'xee': [], 'esl': [], 'slj': [], 'ljp': [], 'prm': [1370], 'tvk': [], 'vkg': [], 'kgl': [], 'glt': [], 'ltm': [1380], 'tmv': [320], 'mvm': [130, 190, 2460], 'vmq': [130], 'mpc': [], 'pcu': [], ' da': [2385], 'dab': [], 'abc': [], 'bcm': [56], 'cmv': [], 'mvh': [], 'vha': [], 'had': [], 'skr': [], 'kri': [65, 155, 1030], 'rif': [], 'ife': [1049, 420, 1190], 'fep': [], 'ep ': [755], ' df': [], 'ead': [], 'adn': [], 'dn ': [1290, 70, 1405], 'n q': [1880, 235, 730], ' qi': [1780, 100, 210, 25, 835], 'qim': [], 'f l': [], ' lh': [1900, 160], 'lhp': [], 'mam': [1200, 530], 'ami': [], 'mir': [], 'irq': [], 'rqo': [], 'qoy': [2485], 'if ': [1030, 955], 'mle': [], 'leq': [], 'eqd': [1925, 505], 'qde': [1925], 'eeb': [1170], 'ebc': [], 'mdo': [], 'doy': [], 'oya': [270, 2195], 'vrf': [], 'rfl': [555], 'flk': [], 'kim': [1284, 616, 465], ' kr': [], 'rim': [], 'pbm': [300], 'bmr': [], 'mrq': [], 'rqs': [], 'qsk': [], 'kls': [], 'ls ': [], 's c': [], ' ck': [], 'ckk': [], 'phs': [], 'hsp': [], 'spc': [], 'pcl': [990], 'cl ': [2420], 'l m': [], ' ma': [], 'ank': [565, 265, 920, 35, 640, 156], 'bwg': [], 'wgy': [], 'gya': [], 'yax': [], 'axm': [125, 1030], 'xmv': [297], 'emd': [125, 2055, 595], 'akp': [], 'kpe': [1395], 'peg': [], 'egt': [], 'gtp': [], 'deq': [], 'eqt': [], 'qti': [], 'tij': [], 'iji': [], 'jiz': [], 'dhf': [], 'hfv': [], 'fve': [], 'yht': [1835], 'hep': [915], 'ttc': [], 'tci': [180], 'kxp': [1935], 'xpg': [1935], 'pgs': [1935], 'skx': [130, 2325], 'xva': [2455], 'vaf': [2455], 'aft': [], 'fta': [], 'tae': [], 'aeo': [], 'eol': [], 'olp': [1825], 'lpu': [475, 2305], 'ui ': [445, 30, 235, 860, 595, 615], 'mab': [], 'abl': [], 'blz': [], 'lzq': [], 'zqx': [], 'xre': [], 'rek': [2455], 'd w': [1820], 'mdz': [120], 'dzo': [120], 'zoo': [], 'oom': [], 'omw': [165, 995], 'wfe': [], 'fek': [50, 920, 610, 150, 440, 55], 'rig': [1030], 'ig ': [1030], 'qax': [1030], 'bhx': [], 'udm': [2080], 'akt': [], 'teo': [], 'oob': [], 'obq': [], 'bqi': [940], 'qig': [940, 699, 235, 835], 'igs': [], 'gsp': [], 'hjg': [], 'jgt': [], 'gtt': [], 'ttt': [], 'ttm': [], 'tmf': [], 'mfe': [920], 'pek': [415, 1600], 'lid': [], 'idn': [], 'dnt': [1484], 'ntm': [], 'vmj': [1865, 80], 'bdm': [], 'dmo': [], 'moe': [960], 'oeh': [960], 'ehp': [960], 'kxm': [], 'mrc': [], 'rcp': [], 'eoy': [925, 395], 'dqo': [2190], 'qoe': [], 'oem': [2530], 'emi': [], 'mie': [], 'e o': [390, 265, 1195], 'zoe': [], 'oec': [], 'eci': [810], 'mdt': [2415], 'dtc': [], 'dsk': [390], 'btg': [], 'tge': [], 'ged': [], 'drp': [80], 'dhv': [], 'rpb': [71, 1870], 'mwr': [], 'wrn': [], 'wmv': [2373], 'mvl': [20], 'vlt': [594], 'tig': [], 'grc': [], 'rch': [2195], 'chh': [1060, 1180], 'hhv': [], 'hvv': [], 'vpz': [1250], 'pzw': [1250], 'zwr': [], 'vlz': [], 'lzm': [], 'zmr': [980], 'mre': [], 'akk': [1770], 'mav': [], 'avt': [], 'vtp': [], 'xvv': [1140], 'vvs': [], 'vsp': [], 'idr': [], 'pbv': [35, 660, 1025, 80], 'vmf': [], 'czu': [], 'zuq': [], 'uqg': [], 'qgn': [], 'hta': [185, 1230], 'tau': [1415], 'aub': [1415], 'ubh': [1415, 15, 915, 125], 'bhh': [1855, 490], 'idb': [], 'rzn': [], 'zns': [], 'ns ': [], 's d': [], 'dpb': [], 'm w': [631], ' wh': [], 'whe': [], 'hef': [], 'eft': [], 'tpv': [1950, 262, 300], 'vxv': [580], 'yhb': [], 'hbm': [], 'bme': [2389], 'eca': [], 'cad': [], 'adb': [], 'dbu': [], 'but': [], 'ut ': [], 't w': [], 'wnm': [], 'nmx': [1937], ' xq': [], 'xqw': [], 'qwr': [], 'r p': [1100], ' pv': [550, 550], 'pvd': [1215], 'vdw': [1570], 'dwe': [1570, 325], 'wee': [694, 876, 19], 'eeh': [1570], 'ehd': [], 'dei': [], 'eik': [], 'ikm': [], 'kmp': [2390], 'mpy': [2390], ' im': [], 'imr': [1775], 'mcs': [], 'vdv': [], 'dvn': [], 'vnc': [], 'nca': [], 'cae': [], 'ae ': [915, 900], 'tkh': [2000], ' nw': [], 'nwq': [], 'dhy': [], 'ekm': [1640], 'kmv': [], 'mvd': [], 'vde': [1314], 'mdk': [1360, 885], 'dkw': [], 'kwy': [1220], 'wym': [1220], 'ymi': [], 'miw': [755], 'iwh': [755], 'whv': [], 'rse': [], 'set': [], 'r e': [], 'ppz': [], 'pzx': [], 'zxr': [560], 'r z': [2100], ' zb': [285], 'zbd': [285], 'bdg': [], 'hrf': [], 'szm': [1420], 'sku': [120], 'kus': [265, 840], 'usg': [265], 'sgv': [265], 'gvp': [265], 'vpu': [265], ' tc': [], 'tch': [], 'tas': [], 'asc': [], 'scq': [], 'cqf': [], 'qfy': [], 'fye': [], 'chw': [270], 'wan': [270, 955], 'and': [], 'dhr': [], 'ran': [], 'nk ': [1040], ' ig': [1040], 'igl': [1040], 'glp': [], 'tkc': [], 'kce': [285], 'ced': [285], 'edi': [285], 'dip': [], 'ip ': [], 'wmi': [], 'iym': [192], 'ymk': [], 'mkn': [], 'knu': [], 'nuh': [], 'uhh': [765], 'hhi': [], 'xyv': [1600], 'yvs': [1600], 'vsc': [1600], 'sci': [1600], 'cir': [1600], 'irp': [1600], 'rpe': [1600], 'chg': [], 'ayk': [], 'yki': [629, 616], 'mmy': [1430, 80], 'myl': [1430, 80], ' dr': [], 'rbm': [], 'bmy': [], 'myd': [], 'yds': [], 'sk ': [40, 1780], 'tka': [], 'kav': [1370], 'kuy': [], 'uyy': [], 'ytt': [], 'ttx': [], 'txp': [], 'xpv': [1530], 'pve': [], 'dhh': [920, 940], 'hhn': [150, 395, 1005, 140, 170], 'hnn': [150, 1400, 140, 170], 'nnc': [150, 1400, 140, 170], 'rru': [], 'ruq': [], 'uqh': [], 'qhg': [], ' yd': [975], 'yd ': [], 'd o': [], ' oq': [1795], 'oqa': [], 'qam': [], 'am ': [437, 530, 249], ' nh': [], 'nhi': [], 'mpw': [], 'pwb': [], 'wbw': [], 'bwm': [], 'mad': [215, 335], 'ada': [215, 335, 1152], 'ai ': [215, 335], 'ttn': [], 'tnd': [], 'ndc': [], 'thk': [], 'hkn': [], 'kng': [], 'ngy': [], 'gym': [], 'ymd': [310, 35, 182, 445], 'tkv': [100, 1630], 'kvs': [1730], 'vs ': [1730], '   ': [], 'chl': [1080], 'hln': [], 'lnb': [], 'nbt': [], 'tti': [], 'm o': [], 'mdl': [], 'dlu': [], 'lui': [], 'ymc': [], 'vxd': [735], 'xda': [345], 'tzi': [], 'm z': [1116], 'bdy': [], 'eku': [], 'f c': [], 'cqq': [2025], 'qbl': [2025], 'blp': [2025], 'nkm': [115, 1025], 'wbe': [], 'ben': [], 'enm': [], 'kvi': [490], 'sej': [], 'ejm': [], 'jmf': [], 'ekc': [], 'dil': [], 'ila': [], 'ama': [270], 'tdo': [], 'dom': [], 'omi': [], 'mif': [], 'ifv': [], 'fvl': [], 'lta': [295], 'tai': [295], 'aie': [], 'hm ': [1685, 20, 300], ' ao': [], 'aoc': [], 'oci': [], 'idt': [], 'dtl': [], 'tlv': [], 'lvg': [], 'f m': [1860], ' mm': [], 'meg': [], 'egc': [1075], 'gcz': [], 'czb': [680], 'zbt': [], 'tmm': [], 'mmz': [], 'mzq': [], 'qrq': [], 'rqr': [], 'qrp': [], 'rmn': [], 'mnk': [], 'mxn': [], 'xnn': [], 'ski': [1635], 'feo': [420, 1190], 'wbq': [420, 1190], 'bqr': [420, 1190], 'dhi': [420], 'f p': [], 'xve': [], 'veb': [], 'ebm': [], 'bmq': [], 'dhe': [], 'epc': [], 'clx': [], 'lxe': [], 'ede': [], 'oe ': [], 'heh': [], 'eha': [], 'hay': [], 'aya': [445], 'yae': [], 'aet': [], 'ete': [], 'tec': [], 'chv': [1785], ' wv': [], 'vfe': [], 'fec': [], 'rkk': [], 'chn': [], 'hna': [], 'nau': [], 'aup': [], 'upb': [], 'bve': [], 've ': [], 'e y': [], ' ym': [], 'dbe': [35], 'ci ': [], 'ekz': [], 'zpz': [], 'pzz': [1561], 'sky': [], 'yyr': [365, 215], 'yr ': [], ' iv': [], 'ivm': [], 'vmu': [], 'uym': [], 'beb': [15], 'eb ': [], 'b t': [], ' tv': [378, 440, 845], 'tvc': [], 'vcl': [], 'clk': [], 'kmf': [], ' yb': [], 'ybe': [], 'ebq': [], 'dmp': [], 'vml': [], 'qwe': [330], 'ebh': [910], 'hpn': [50, 625, 235], 'n n': [1560], 'nmw': [], 'm x': [], ' xd': [], 'dan': [614, 675], 'eu ': [], 'u x': [], ' xs': [], 'xse': [], 'seo': [], 'nkr': [], 'wmo': [], 'n d': [], ' dw': [1230], 'dwx': [], 'wxn': [], 'xnl': [], 'dbi': [], 'bip': [], 'pki': [], 'cwm': [], 'f b': [], 'bmh': [], 'mdn': [70], 'n a': [], 'abe': [], 'bef': [], 'efr': [], 'hnm': [], 'nmp': [], 'dhs': [595], 'hsg': [], 'sg ': [], 'g y': [], ' yi': [], 'xmi': [945], 'whr': [], 'hrm': [], 'rmy': [], 'myk': [635], 'mlt': [], 'tmy': [], 'mym': [695, 415, 490], 'hwm': [], 'i d': [], 'dbm': [], 'edw': [], 'dwy': [1120], 'wyd': [], 'ydd': [375], 'ddp': [375], 'dpz': [], 'pzm': [], 'mrs': [], 'y p': [], ' p ': [], 'p x': [], 'mef': [], 'efq': [], 'fqh': [], 'qhr': [255], 'hrn': [255], 'ug ': [], 'g t': [], 'kmm': [], 'lhz': [], 'zvc': [], 'vcd': [], 'cdw': [], 'dwm': [], 'ekv': [], 'pbx': [], 'edz': [], 'dpk': [], 'pkm': [], 'kmq': [], 'qep': [], 'hru': [1190], 'ruh': [], 'hht': [], 'nrd': [], 'rdq': [], 'dqi': [730], 'qie': [], ' pa': [], 'pae': [], 'hit': [], 'ita': [], 'taw': [], 'zdg': [], 'phx': [], 'hxn': [], 'xnc': [], 'ncd': [], 'cdq': [], 'ekp': [], 'peo': [], 'eoi': [], 'oiw': [], 'lad': [], 'eky': [570], 'yrl': [], 'rla': [], 'lab': [], 'mpe': [], 'peq': [], 'eqw': [], 'wea': [], 'eay': [], 'drf': [], 'rfq': [], 'fqw': [], 'y t': [], 'tvx': [1225, 60], 'vxr': [1285], 'xrl': [], 'wmg': [], 'mgf': [], 'gf ': [], 'f k': [835, 335], 'vvv': [], 'vph': [], 'zie': [1260], 'ies': [1095], 'esz': [], 'szb': [95, 940], 'bvp': [], 'vpe': [], 'pec': [], 'chs': [], 'hsd': [], 'li ': [], 'i x': [], ' xr': [], 'rs ': [750, 20], 's z': [750, 20], 'yhe': [], 'heq': [], 'eqv': [], 'qvp': [], 'zwn': [], 'wni': [], 'nib': [], 'msk': [], 'skq': [], 'kqh': [], 'ndq': [1175], 'dqj': [], 'qjv': [], 'jve': [], 'izr': [725], 'zrc': [725], 'rck': [725], 'ckt': [725], 'kty': [], 'zbz': [10, 930], 'bzr': [940], 'zrn': [940], 'hrc': [], 'rcz': [], 'bzd': [], 'zde': [], 'ldg': [], 'lkk': [], 'ksg': [], 'sgp': [], 'gpk': [], 'ldm': [188, 235], 'tdy': [], 'evm': [], 'ayp': [], 'ypv': [], 'vdg': [], 'nku': [], 'usk': [], 'ske': [], 'key': [168], 'yhu': [], 'gew': [], 'ewy': [], 'wyy': [], 'yrf': [], 'rfz': [], 'fzq': [], 'zqw': [], 'm y': [], 'dpu': [], 'tk ': [], 'k m': [], 'mzp': [], 'tdn': [365], 'ntd': [], 'vrr': [], 'skb': [35], 'r q': [], 'yfe': [150], 'ekw': [], ' zi': [195], 'zip': [], 'ipi': [], 'pi ': [], 'i q': [], ' qx': [], 'rmf': [], 'flb': [], 'lba': [], 'bam': [987], 'lkh': [], 'hda': [], 'nki': [35, 470, 326], 'idy': [], 'dyo': [], 'yoy': [], 'oyo': [], 'yox': [], 'oxr': [], 'xrm': [], 'm  ': [1024], 'ekd': [], 'kdl': [], 'dlv': [], 'lvs': [], 'vsd': [], 'bhw': [], 'eub': [1040], 'igg': [235], 'gld': [235], 'quk': [], 'ukk': [], 'kke': [910], 'eyc': [], 'yce': [], 'etd': [], '  l': [950], 'lhg': [], 'hga': [], 'gan': [], 'any': [], 'nyb': [], 'ybd': [], 'hla': [970], 'dkb': [885], 'r s': [], ' si': [], 'siy': [], 'kqr': [], 'qrf': [], 'rfe': [], 'few': [], 'ewt': [], 'wtm': [], 'tmt': [], 'mte': [], 'tey': [], 'eyk': [], 'imq': [], 'qeq': [505], 'eex': [], 'xjp': [], 'jpn': [], 'pni': [], 'nip': [], 'xmy': [], 'rno': [495], 'noz': [], 'ozi': [], 'imu': [], 'tya': [], 'yat': [], 't m': [], ' md': [], 'md ': [], 'd t': [], 'tvg': [], 'vga': [], 'gam': [], 'ziu': [], 'iue': [], 'uey': [], 'ey ': [], 'y m': [], ' mo': [], 'mol': [], 'mhn': [], 'hni': [], 'nir': [], 'irv': [], 'rvi': [], 'vid': [955], 'enp': [775], 'npi': [775], 'ips': [775], 'psk': [775], '  u': [], ' um': [415, 490], 'umy': [415, 490], 'ymf': [], 'mfb': [], 'fbq': [], 'bqz': [], 'qza': [], 'zal': [], 'alp': [], 'kmj': [], 'mjs': [], 'jse': [], 'sed': [], 'dhd': [705], 'vdk': [], 'dk ': [], 'k l': [], 'lhe': [], 'gce': [], 'ehe': [], 'aww': [], 'wwk': [], 'wkg': [], 'kge': [], 'v q': [], 'qiw': [], 'iwe': [], 'avn': [], 'vnv': [], 'nvl': [], 'vlq': [], 'lqp': [], 'yeb': [], 'khp': [645], 'r x': [80], 'xmm': [80], 'lpb': [80], 'ded': [], 'edq': [], ' tp': [175, 65, 260, 300], ' my': [], 'myf': [], 'yf ': [], 'f r': [], ' rb': [], 'bid': [], 'guo': [], 'uoc': [], 'ocm': [], 'kue': [], 'uev': [], 'vsk': [], 'emf': [], 'zzg': [], 'zgr': [], 'r l': [555], ' lb': [595], 'lbd': [595], 'bdi': [595], 'dih': [595], 'iht': [595], 'ht ': [595], 't x': [480, 115], 'mix': [], 'ixx': [], 'xxp': [310], 'pvq': [], 'vqe': [], 'akx': [], 'bwe': [], 'wei': [], 'eib': [], 'ibh': [], 'chx': [], 'epp': [], 'ppk': [], 'pky': [], 'yya': [], 'kjm': [], 'jmr': [], 'mrn': [], 'rpu': [], 'qbo': [], 'bob': [], 'oba': [], 'bae': [], 'tp ': [], 'dau': [], 'auk': [], 'ukt': [], ' wb': [], 'bxf': [], 'xfe': [55, 285], 'khu': [], 'uga': [], 'gay': [], 'ayl': [], 'ldw': [], 'wek': [], 'klm': [], 'lme': [], 'sob': [], 'obk': [], 'bki': [], 'm u': [], ' uh': [], 'uhi': [], 'vhe': [], 'e n': [], 'idf': [], 'dfp': [], 'fpk': [], 'pkx': [], 'yhh': [], 'chp': [], 'r u': [335], 'ymq': [], 'qdp': [], 'oxx': [120], 'xxv': [], 'ohp': [], 'pmi': [], 'yai': [], 'aiy': [], 'ylt': [], 'lto': [], 'toi': [], 'oi ': [], 'r d': [], 'wye': [], 'wmc': [], 'tit': [], 'iti': [], 'tid': [], 'idq': [], 'dqq': [], 'qqr': [], 'lqv': [170], 'bwj': [], 'wjv': [], 'jvt': [], 'mys': [], 'ysk': [], 'cmy': [], 'myy': [], 'yye': [], 'oqz': [], 'qzr': [], 'zrr': [140], 'rrc': [], 'xpr': [], 'prx': [], 'rxp': [], 'xp ': [], 'omv': [], 'mva': [], 'vab': [], 'abp': [], 'bpv': [], 'afz': [], 'fzv': [], 'zvh': [], 'vhr': [], 'rub': [160], 'ub ': [], 'b d': [], 'ppv': [], 'pvw': [], 'vwr': [], ' an': [], 'stj': [], 'phm': [], 'tpt': [300], 'vgp': [], 'gpv': [280], ' zz': [], 'zzh': [], 'zhv': [], 'hvn': [], 'vnl': [], 'nlq': [], 'hso': [], 'sos': [], 'osp': [], 'spz': [], 'zzr': [], 'rki': [], 'kix': [], 'ixf': [], 'fey': [], 'yam': [], 'mhe': [], 'hex': [], 'kkd': [], 'kdr': [], 'r b': [], 'bit': [], 'itb': [], 'bew': [], 'ewm': [], 'vmd': [], 'dt ': [], 'xvn': [], 'nna': [], 'nai': [], 'aiz': [], 'adm': [], 'hdn': [], 'bot': [], 'otv': [], 'phz': [], 'hzg': [], 'zge': [], ' uw': [], 'uwy': [], 'wyr': [], 'yru': [], 'hhm': [], 'hme': [], 'keb': [], 'eba': [], 'amt': [], ' la': [], 'lax': [], 'rnc': [], 'ncm': [], 'mdw': [], 'dwo': [], 'emv': [], 'mvn': [], 'vn ': [], ' mq': [], 'mqi': [], 'meq': [], 'eqe': [], 'vrg': [], 'rgw': [], 'gwm': [], 'lay': [], 'ayw': [], 'ywm': [], 'dmb': [], 'mbl': [], 'bl ': [], 'l i': [], 'irs': [], 'chq': [], 'qrc': [], 'rcl': [], 'clv': [], 'lvm': [], 'vme': [], 'mem': [], 'hhg': [], 'hg ': [], 'g u': [], 'ym ': [], 'm c': [], 'igv': [], 'gvl': [], 'vlp': [], 'xmg': [], 'mgp': [], 'pvi': [], 'daw': []}\n"
     ]
    }
   ],
   "source": [
    "dictTrigrammesEcart=dict()\n",
    "for (key,value) in dictTrigrammes.items():\n",
    "    dictTrigrammesEcart[key]=[value[i+1]-value[i] for i in range(len(value)-1)]\n",
    "print(dictTrigrammesEcart)\n"
   ]
  },
  {
   "cell_type": "markdown",
   "metadata": {},
   "source": [
    "L'idée en regardant ce dictionnaire est de dire qu'un trigramme réapparait quand ce sont les trois même lettres qui ont été codées par les mêmes lettres de la clé. Cela veut donc dire que les écarts trouvés entre les trigrammes sont des multiples de la longueur de la clé.\n",
    "\n",
    "Ici par exemple, presque tous les écarts semblent être des multiples de 5, ce qui nous amène à poser l'hypothèse que la clé est de longueur 5."
   ]
  },
  {
   "cell_type": "markdown",
   "metadata": {},
   "source": [
    "Tous les 5 caractères, le décalage est donc le même. Il faut donc trouver quel décalage a été fait sur les caractères en position 0,5,10,15... puis de trouver quel décalage a été fait sur les caractères en position 1,6,11,16..., puis ceux en position 2,7,12,17 et ainsi de suite.\n",
    "Pour cela on va créer une fonction <code>sousTexte(texte,longueur,pos)</code> (à faire en exercice)"
   ]
  },
  {
   "cell_type": "code",
   "execution_count": 31,
   "metadata": {},
   "outputs": [
    {
     "ename": "SyntaxError",
     "evalue": "unexpected EOF while parsing (<ipython-input-31-22e132ed092e>, line 6)",
     "output_type": "error",
     "traceback": [
      "\u001b[1;36m  File \u001b[1;32m\"<ipython-input-31-22e132ed092e>\"\u001b[1;36m, line \u001b[1;32m6\u001b[0m\n\u001b[1;33m    \u001b[0m\n\u001b[1;37m    ^\u001b[0m\n\u001b[1;31mSyntaxError\u001b[0m\u001b[1;31m:\u001b[0m unexpected EOF while parsing\n"
     ]
    }
   ],
   "source": [
    "def sousTexte(texte,longueur,pos):\n",
    "    #renvoit les caractères de texte situés aux positions pos, pos+longueur, pos+longueur*2, pos+longueur*3...\n",
    "    #par exemple sousTexte(\"abcdefghijkl\",2,0) renvoit \"acegik\" (on commence à 0 et on saute de 2 en 2)\n",
    "    #par exemple sousTexte(\"abcdefghijkl\",2,1) renvoit \"bdfhjl\" (on commence à 1 et on saute de 2 en 2)\n",
    "    #par exemple sousTexte(\"abcdefghijkl\",3,1) renvoit \"behk\"  (on commence à 1 et on saute de 3 en 3)   \n",
    "    "
   ]
  },
  {
   "cell_type": "markdown",
   "metadata": {},
   "source": [
    "On peut désormais analyser les fréquences des sous-textes. L'analyse des fréquences permettra de deviner le décalage.\n",
    "\n",
    "Par exemple, si mon sous-texte contient une très grande fréquence de \"g\", alors je peux supposer que la lettre \"e\" a été décalée en \"g\" et que le décalage est donc de +2. Le caractère de la clé à cette position est donc c (a->+0, b->+1, c->+2,...) "
   ]
  },
  {
   "cell_type": "code",
   "execution_count": null,
   "metadata": {},
   "outputs": [],
   "source": [
    "sousTexte0=sousTexte(messageCode,5,0) #on récupère le sous-texte composé des caractères 0,5,10,15...\n",
    "print(frequence(sousTexte))           #on observe quelle lettre est la plus fréquente, c'était sûrement un \"e\" dans le message en clair"
   ]
  },
  {
   "cell_type": "markdown",
   "metadata": {},
   "source": [
    "Le reste de la cryptanalyse de Vigénère est à terminer en exercice. Vous allez donc implémenter la fonction <code>sousTexte()</code> et utiliser les analyses de fréquences pour en déduire la clé utilisée."
   ]
  }
 ],
 "metadata": {
  "kernelspec": {
   "display_name": "Python 3",
   "language": "python",
   "name": "python3"
  },
  "language_info": {
   "codemirror_mode": {
    "name": "ipython",
    "version": 3
   },
   "file_extension": ".py",
   "mimetype": "text/x-python",
   "name": "python",
   "nbconvert_exporter": "python",
   "pygments_lexer": "ipython3",
   "version": "3.7.7"
  }
 },
 "nbformat": 4,
 "nbformat_minor": 1
}
