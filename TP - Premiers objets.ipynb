{
 "cells": [
  {
   "cell_type": "markdown",
   "metadata": {},
   "source": [
    "# TP - Premiers objets\n",
    "Ce TP suppose que vous avez lu le cours sur la programmation objet https://pixees.fr/informatiquelycee/n_site/nsi_term_paraProg_poo.html et que vous avez déjà programmé les exemples de ce cours\n",
    "\n",
    "## Exercice 1 - les citrons\n",
    "Dans cet exemple, on va créer une classe citron "
   ]
  },
  {
   "cell_type": "code",
   "execution_count": 48,
   "metadata": {},
   "outputs": [
    {
     "name": "stdout",
     "output_type": "stream",
     "text": [
      "Je m'appelle citron1, je suis un citron de couleur jaune, je pèse 120g et vit dans une famille de 1 citrons\n",
      "Je m'appelle citron2, je suis un citron de couleur jaune, je pèse 200g et vit dans une famille de 2 citrons\n",
      "Je m'appelle citron2, je suis un citron de couleur jaune, je pèse 300g et vit dans une famille de 2 citrons\n",
      "Je m'appelle citron1, je suis un citron de couleur jaune, je pèse 120g et vit dans une famille de 2 citrons\n",
      "Je m'appelle citron3, je suis un citron de couleur jaune, je pèse 500g et vit dans une famille de 3 citrons\n",
      "Je m'appelle citron3, je suis un citron de couleur jaune, je pèse 0g et vit dans une famille de 3 citrons\n",
      "on a extrait 500g de jus dans le citron3\n"
     ]
    }
   ],
   "source": [
    "class Citron:\n",
    "    couleur = \"jaune\"      #cette variable est une variable de classe, elle est commune à toutes les instances de cette classe\n",
    "    compteur=0             #cette variable est une variable de classe, elle est commune à toutes les instances de cette classe\n",
    "    \n",
    "    \n",
    "    def __init__(self,nom,poids):\n",
    "        self.nom = nom\n",
    "        self.poids = poids\n",
    "        Citron.compteur+=1  #comme compteur est une variable de classe, c'est un compteur de tous les citrons existants\n",
    "    \n",
    "        \n",
    "    def __str__(self):\n",
    "        return f\"Je m'appelle {self.nom}, je suis un citron de couleur {self.couleur}, je pèse {self.poids}g et vit dans une famille de {self.compteur} citrons\"\n",
    "\n",
    "    \n",
    "    def presser(self):\n",
    "        jusextrait=self.poids\n",
    "        self.poids=0\n",
    "        return jusextrait\n",
    "\n",
    "citron1 = Citron(\"citron1\",120)\n",
    "print(citron1)\n",
    "\n",
    "citron2=Citron(\"citron2\",200)\n",
    "print(citron2)\n",
    "\n",
    "citron2.poids=300   #on modifie le poids de citron2, comme c'est un attribut d'instance, le poids de citron 1 ne change pas\n",
    "print(citron2)\n",
    "print(citron1)      #toujours 120\n",
    "\n",
    "citron3=Citron(\"citron3\",500)\n",
    "print(citron3)\n",
    "jus=citron3.presser()\n",
    "print(f\"on a extrait {jus}g de jus dans le citron3\")\n",
    "print(citron3)      #citron 3 pèse 0g \n"
   ]
  },
  {
   "cell_type": "markdown",
   "metadata": {},
   "source": [
    "Dans le code précédent, on a surtout fait des modifications sur les attributs ou variables d'instances avec des modifications directement dans le code (citron2.poids=300) ou via des méthodes (presser())\n",
    "\n",
    "On peut aussi modifier les variables de classe en se souvenant bien que celles-ci sont communes à tous les objets citron. Dans l'initialisation __init__, le code Citron.compteur+=1 incrémente le compteur de citron pour tous les citrons.\n",
    "\n",
    "Dans le programme principal, on peut également modifier une variable de classe, toutes les instances (tous les citrons) seront alors modifiées :"
   ]
  },
  {
   "cell_type": "code",
   "execution_count": 39,
   "metadata": {},
   "outputs": [
    {
     "name": "stdout",
     "output_type": "stream",
     "text": [
      "Je m'appelle citron1, je suis un citron de couleur verte, je pèse 120g et vit dans une famille de 3 citrons\n",
      "Je m'appelle citron2, je suis un citron de couleur verte, je pèse 300g et vit dans une famille de 3 citrons\n",
      "Je m'appelle citron3, je suis un citron de couleur verte, je pèse 0g et vit dans une famille de 3 citrons\n"
     ]
    }
   ],
   "source": [
    "Citron.couleur=\"verte\"\n",
    "print(citron1)          #tous les citrons deviennent verts\n",
    "print(citron2)\n",
    "print(citron3)"
   ]
  },
  {
   "cell_type": "markdown",
   "metadata": {},
   "source": [
    "Mais il est quand même dangereux de modifier les attributs directement dans le code car c'est un peu comme si on pouvait \"casser\" l'objet :"
   ]
  },
  {
   "cell_type": "code",
   "execution_count": 49,
   "metadata": {},
   "outputs": [
    {
     "name": "stdout",
     "output_type": "stream",
     "text": [
      "Je m'appelle citron1, je suis un citron de couleur jaune, je pèse 120g et vit dans une famille de 1000 citrons\n",
      "Je m'appelle citron2, je suis un citron de couleur jaune, je pèse 300g et vit dans une famille de 1000 citrons\n",
      "Je m'appelle citron3, je suis un citron de couleur jaune, je pèse 0g et vit dans une famille de 1000 citrons\n",
      "Je m'appelle citron4, je suis un citron de couleur jaune, je pèse 250g et vit dans une famille de 1001 citrons\n"
     ]
    }
   ],
   "source": [
    "Citron.compteur=1000\n",
    "print(citron1)          #le compteur de citron est cassé\n",
    "print(citron2)\n",
    "print(citron3)\n",
    "\n",
    "citron4=Citron(\"citron4\",250) #le compteur était à 1000 et il augment de 1 avec __init()\n",
    "print(citron4)\n",
    "\n"
   ]
  },
  {
   "cell_type": "markdown",
   "metadata": {},
   "source": [
    "### Votre travail\n",
    "1) Créer une méthode grossir() qui fait grossir les citrons de 40%\n",
    "\n",
    "2) Créer une méthode demi-presser() qui diminue le poids des citrons de moitié\n",
    "\n",
    "3) Créer un petit programme qui crée 10 citrons de tailles différentes, qui les fait fait grossir puis les presse et affiche la quantité de jus récoltée"
   ]
  },
  {
   "cell_type": "code",
   "execution_count": null,
   "metadata": {},
   "outputs": [],
   "source": []
  },
  {
   "cell_type": "markdown",
   "metadata": {},
   "source": [
    "## Exercice 2 - les seaux\n",
    "Vous connaissez sûrement le problème de maths suivant : on dispose d'un seau de 30L et un de 50L. On a également un robinet. Les seaux n'ont aucune graduations. On souhaite mesurer 40L d'eau en remplissant et versant de l'eau d'un seau à l'autre. Comment faire?\n",
    "\n",
    "Vous pouvez commencer par chercher à résoudre le problème avec un papier et un crayon.\n",
    "\n",
    "Vous allez maintenant modéliser ce problème avec des objets seaux :\n"
   ]
  },
  {
   "cell_type": "code",
   "execution_count": 52,
   "metadata": {},
   "outputs": [
    {
     "name": "stdout",
     "output_type": "stream",
     "text": [
      "seau30, a une capacité de 30L et contient 0L d'eau\n",
      "seau50, a une capacité de 50L et contient 0L d'eau\n"
     ]
    }
   ],
   "source": [
    "class Seau:\n",
    "    \n",
    "    def __init__(self,nom,capacite):\n",
    "        self.nom = nom\n",
    "        self.capacite=capacite     #on crée un seau d'une capacité donnée\n",
    "        self.volumeEau = 0         #pour le moment il est vide\n",
    "    \n",
    "    def volumeRestant():\n",
    "        return self.capacite-self.volumeEau   #quel volume reste encore disponible\n",
    "    \n",
    "    def __str__(self):\n",
    "        return f\"{self.nom}, a une capacité de {self.capacite}L et contient {self.volumeEau}L d'eau\"\n",
    "\n",
    "    \n",
    "#Programme principal\n",
    "seau30=Seau(\"seau30\",30) #on crée un seau de 30L\n",
    "seau50=Seau(\"seau50\",50) #on crée un seau de 50L\n",
    "print(seau30)\n",
    "print(seau50)\n"
   ]
  },
  {
   "cell_type": "markdown",
   "metadata": {},
   "source": [
    "### Votre travail\n",
    "1) Vous devez modifier la classe Seau pour permettre les actions suivantes:\n",
    "* remplirTotalement() remplit le seau à pleine capacité, cette méthode renvoit le volume d'eau ajouté.\n",
    "* viderTotalement() vide le seau entièrement. Cette méthode renvoit le volume d'eau retiré.\n",
    "* ajoute(volume) ajoute volume au volume d'eau (volumeEau) du seau, ne pas oublier que le volume ne peut pas dépasser la capacité du seau. Cette méthode renvoit le volumeEau présent dans le seau\n",
    "* soustrait(volume) soustrait volume au volume d'eau (volumeEau) du seau, ne pas oublier que le volume ne peut être négatif. Cette méthode renvoit le volumeEau présent dans le seau\n",
    "\n",
    "2) Vous devez ensuite modifier le programme principal pour simuler les actions qui permettent de répondre au problème.\n",
    "\n",
    "#### Attention!\n",
    "dans le programme principal, vous ne devez pas \"tricher\" avec les volumes d'eau utilisés. Vous ne pouvez pas par exemple écrire seau50.remplir(40) pour ajouter 40L au seau de 50L.\n",
    "Vous devrez donc trouver des instructions \"légales\" à éxécuter sur vos seaux.\n",
    "\n",
    "Par exemple :"
   ]
  },
  {
   "cell_type": "code",
   "execution_count": 53,
   "metadata": {},
   "outputs": [
    {
     "ename": "AttributeError",
     "evalue": "'Seau' object has no attribute 'remplirTotalement'",
     "output_type": "error",
     "traceback": [
      "\u001b[1;31m---------------------------------------------------------------------------\u001b[0m",
      "\u001b[1;31mAttributeError\u001b[0m                            Traceback (most recent call last)",
      "\u001b[1;32m<ipython-input-53-b210b7957729>\u001b[0m in \u001b[0;36m<module>\u001b[1;34m\u001b[0m\n\u001b[1;32m----> 1\u001b[1;33m \u001b[0mseau30\u001b[0m\u001b[1;33m.\u001b[0m\u001b[0mremplirTotalement\u001b[0m\u001b[1;33m(\u001b[0m\u001b[1;33m)\u001b[0m                \u001b[1;31m#on remplit le petit seau de 30L\u001b[0m\u001b[1;33m\u001b[0m\u001b[1;33m\u001b[0m\u001b[0m\n\u001b[0m\u001b[0;32m      2\u001b[0m \u001b[0mseau50\u001b[0m\u001b[1;33m.\u001b[0m\u001b[0mremplir\u001b[0m\u001b[1;33m(\u001b[0m\u001b[0mseau30\u001b[0m\u001b[1;33m.\u001b[0m\u001b[0mviderTotalement\u001b[0m\u001b[1;33m(\u001b[0m\u001b[1;33m)\u001b[0m\u001b[1;33m)\u001b[0m  \u001b[1;31m#on vide le petit seau dans le grand seau\u001b[0m\u001b[1;33m\u001b[0m\u001b[1;33m\u001b[0m\u001b[0m\n\u001b[0;32m      3\u001b[0m \u001b[0mprint\u001b[0m\u001b[1;33m(\u001b[0m\u001b[0mseau50\u001b[0m\u001b[1;33m)\u001b[0m                             \u001b[1;31m#le grand seau contient 30L\u001b[0m\u001b[1;33m\u001b[0m\u001b[1;33m\u001b[0m\u001b[0m\n",
      "\u001b[1;31mAttributeError\u001b[0m: 'Seau' object has no attribute 'remplirTotalement'"
     ]
    }
   ],
   "source": [
    "seau30.remplirTotalement()                #on remplit le petit seau de 30L\n",
    "seau50.remplir(seau30.viderTotalement())  #on vide le petit seau dans le grand seau\n",
    "print(seau50)                             #le grand seau contient 30L"
   ]
  },
  {
   "cell_type": "code",
   "execution_count": null,
   "metadata": {},
   "outputs": [],
   "source": []
  }
 ],
 "metadata": {
  "kernelspec": {
   "display_name": "Python 3",
   "language": "python",
   "name": "python3"
  },
  "language_info": {
   "codemirror_mode": {
    "name": "ipython",
    "version": 3
   },
   "file_extension": ".py",
   "mimetype": "text/x-python",
   "name": "python",
   "nbconvert_exporter": "python",
   "pygments_lexer": "ipython3",
   "version": "3.7.10"
  }
 },
 "nbformat": 4,
 "nbformat_minor": 4
}
