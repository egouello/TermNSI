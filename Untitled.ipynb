{
 "cells": [
  {
   "cell_type": "code",
   "execution_count": 1,
   "metadata": {},
   "outputs": [
    {
     "name": "stdout",
     "output_type": "stream",
     "text": [
      "Nombre d'iterations:5\n",
      "Longueur de chaque segment:5\n",
      "rrlrrllrrrllrllrrrlrrlllrrllrll\n"
     ]
    }
   ],
   "source": [
    "# import the turtle module to use turtle graphics \n",
    "import turtle \n",
    "\n",
    "# make variables for the right and left containing 'r' and 'l' \n",
    "r = 'r'\n",
    "l = 'l'\n",
    "\n",
    "# assign our first iteration a right so we can build off of it \n",
    "old = r \n",
    "new = old \n",
    "\n",
    "# for inputs \n",
    "iteration = int(input(\"Nombre d'iterations:\")) \n",
    "length = int(input('Longueur de chaque segment:')) \n",
    "\n",
    "# set the number of times we have been creating \n",
    "# the next iteration as the first \n",
    "cycle = 1\n",
    "\n",
    "# keep on generating the next iteration until desired iteration is reached \n",
    "while cycle<iteration: \n",
    "\t# add a right to the end of the old iteration and save it to the new \n",
    "\tnew = (old) + (r) \n",
    "\t# flip the old iteration around(as in the first charicter becomes last) \n",
    "\told = old[::-1] \n",
    "\t# cycling through each character in the flipped old iteration: \n",
    "\tfor char in range(0, len(old)): \n",
    "\t\t# if the character is a right: \n",
    "\t\tif old[char] == r: \n",
    "\t\t\t# change it to a left \n",
    "\t\t\told = (old[:char])+ (l) + (old[char + 1:]) \n",
    "\t\t# otherwise, if it's a left: \n",
    "\t\telif old[char] == l: \n",
    "\t\t\t#change it to a right \n",
    "\t\t\told = (old[:char]) + (r) + (old[char + 1:]) \n",
    "\t# add the modified old to the new iteration \n",
    "\tnew = (new) + (old) \n",
    "\n",
    "\t# save the new iteration to old as well for use next cycle \n",
    "\told = new \n",
    "\n",
    "\t# advance cycle variable to keep track of the number of times it's been done \n",
    "\tcycle = cycle + 1\n",
    "\n",
    "\n",
    "#we print the sequence in the console\n",
    "print(new) \n",
    "\t\n",
    "# for not show the turtle icon when drawing \n",
    "turtle.ht() \n",
    "turtle.speed(10) \n",
    "turtle.pencolor(\"blue\") \n",
    "#turtle.color(\"black\") \n",
    "#turtle.bgcolor(\"white\") \n",
    "turtle.forward(length) \n",
    "\n",
    "# cycling through all the characters in the iteration \n",
    "for char in range(0, len(new)): \n",
    "  # if the character is a right: \n",
    "  if new[char] == (r): \n",
    "    turtle.right(90) \n",
    "    turtle.forward(length) \n",
    "  # otherwise, if the character is a left: \n",
    "  elif new[char] == (l):\t \n",
    "    turtle.left(90) \n",
    "    turtle.forward(length)\n",
    "\n",
    "\n"
   ]
  },
  {
   "cell_type": "code",
   "execution_count": null,
   "metadata": {},
   "outputs": [],
   "source": []
  }
 ],
 "metadata": {
  "kernelspec": {
   "display_name": "Python 3",
   "language": "python",
   "name": "python3"
  },
  "language_info": {
   "codemirror_mode": {
    "name": "ipython",
    "version": 3
   },
   "file_extension": ".py",
   "mimetype": "text/x-python",
   "name": "python",
   "nbconvert_exporter": "python",
   "pygments_lexer": "ipython3",
   "version": "3.7.7"
  }
 },
 "nbformat": 4,
 "nbformat_minor": 4
}
