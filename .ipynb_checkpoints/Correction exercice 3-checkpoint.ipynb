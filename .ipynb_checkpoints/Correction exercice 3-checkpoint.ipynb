{
 "cells": [
  {
   "cell_type": "markdown",
   "metadata": {},
   "source": [
    "# Correction exercice 3 sur la PO"
   ]
  },
  {
   "cell_type": "markdown",
   "metadata": {},
   "source": [
    "# La classe monome\n",
    "\n",
    "## 1) Le constructeur\n",
    "On initialise les deux variables d'instance demandées :  coef(le coefficient du monôme) et deg(pour le degré du monôme)\n",
    "\n",
    "## 2) La méthode affiche\n",
    "\n",
    "On commence par initialiser un chaine de caractères vide aff (qui contiendra l'affichage souhaité). Pour que l'affichage soit correct, on fait d'abords la différence entre un monôme de degré 0, 1 et supérieur. Ensuite, on regarde le coefficient : si il est strictement négatif, on l'affiche aavec son signe, si il est positif mais différent de 1, on ajoute le signe \"+\" avant le coefficient et si il est égal à 1, on affiche un \"+\" sans le coefficient. On remarque qu'il n'y a pas de condition \"self.coeff==0\" car dans ce cas, il ne faut rien afficher, donc on laisse la la variable aff vide.\n",
    "\n",
    "## 3) Les opérations (addition, soustraction, multiplication)\n",
    "\n",
    "Pour l'addition et la soustraction, on commence par vérifier que les degrés des 2 monômes sont égaux car on souhaite que ces méthodes portent sur des monômes de mêmes degrés. On définit alors le résultat comme le monôme dont le coefficient est la somme ou la différence des coefficients des deux monômes ajoutés ou soustraits, et dont le degré est le degré des monômes (On rappelle que l'on a (aX^k )+(bX^k )=(a+b)X^k. Quant au produit, il est définit par le monôme dont le coefficient est le produit des coefficients des monômes et dont le degré est la somme des degrés des monomes.\n"
   ]
  },
  {
   "cell_type": "code",
   "execution_count": 54,
   "metadata": {},
   "outputs": [],
   "source": [
    "class Monome:\n",
    "    def __init__(self,coef,deg):\n",
    "        self.coef=coef\n",
    "        self.deg=deg\n",
    "    \n",
    "    def affiche(self):\n",
    "        aff = \" \"\n",
    "        if self.deg==0 and abs(self.coef)!=1:\n",
    "            X=\"\"\n",
    "        elif self.deg==0:\n",
    "            X=\"1\"\n",
    "        elif self.deg==1:\n",
    "            X=\"X\"\n",
    "        else:\n",
    "            X=\"X^\"+str(self.deg)\n",
    "        if self.coef<0 and self.coef !=-1:\n",
    "            aff = str(self.coef) + X\n",
    "        elif self.coef == -1:\n",
    "            aff = '-' + X\n",
    "        elif self.coef > 0 and self.coef != 1:\n",
    "            aff = '+' + str(self.coef) + X \n",
    "        elif self.coef == 1:\n",
    "            aff = '+' + X   \n",
    "        return aff\n",
    "\n",
    "    def __add__(self , other):\n",
    "        if self.deg != other.deg:\n",
    "            return False\n",
    "        else: \n",
    "            return Monome(self.coef + other.coef , self.deg)\n",
    "\n",
    "    def __sub__(self , other):\n",
    "        if self.deg != other.deg: \n",
    "            return False\n",
    "        else: \n",
    "            return Monome(self.coef - other.coef , self.deg)\n",
    "\n",
    "    def __mul__(self , other):\n",
    "        return Monome(self.coef * other.coef , self.deg + other.deg)"
   ]
  },
  {
   "cell_type": "markdown",
   "metadata": {},
   "source": [
    "# La classe polynome\n",
    "\n",
    "## 1) Le constructeur\n",
    "On a utilisé une syntaxe concise pour construire la liste demandée : cette liste est composée de tous les monômes (monome(args[d],d) pour tout degré d compris entre 0 et la longueur de la list args( longueur qui correspond au degré du polynôme)\n",
    "\n",
    "## 2) La méthode affiche\n",
    "La variable r est une chaîne de caractères correspondant à l'affichage désir. Quant à prems, c'est un boléens qui ne sert qu'à supprimer le signe \"+\" devant le premier coefficient s'il est positif.\n",
    "\n",
    "## 3) La méthode standardise\n",
    "L'idée consiste ici à comparer les longueurs des listes self.ListeMonomes et other.ListeMonomes, prendre le maximum de ces deux longueurs et de compléter la liste la liste la plus courte par des monômes de coefficients 0. Ensuite, on créer deux listes de coefficients P et Q pour pouvoir définir deux polynômes à partir de ces deux listes et de les retourner.\n",
    "\n",
    "## 4) La somme de deux polynômes\n",
    "On commence par standardiser par les polynômesafin de pouvoir effectuer les sommes des différents monômes et mettre les résultats dans une liste R On retourne ensuite un polynôme construit à partir des coefficeints des monômes de la liste R.\n",
    "\n",
    "## 5) La différence de deux polynômes\n",
    "Le principe est le même que pour la somme.\n",
    "\n",
    "## 6) Le produit de deux polynômes\n",
    "\n",
    "On commence à parcourir tous les monômes du premier polynôme et pour chacun d'eux, on parcourt tous ceuyx du second polynôme afin de les multiplier. On construit ainsi une liste R composée de tous les produits de monômes (résultatdu développement en utilisant la distributivité)\n",
    "\n",
    "On crée une boucle de variable degré ( qui varie de 0 à la somme des degrés des polynômes car le produit de deux polynômes de degré m et n est un polynôme de degré m+n). Pour chacun des degré, on initialise la variable résult comme étant un monôme de coefficient 0 et de degré degre, puis on luis ajoute tous les monômes de même degré ;  la liste : <code>[ monome for monome in R if monome.deg == degre ]</code>est composée uniquement des monômes dont le degré est égal à la valeur de la variable degre courante. Une fois la boucle en m finie, nous avons ajouté tous les monômes de degré degre: nous pouvons alors ajpouter ce résultat à la liste R_final qui contiendra in fine tous les monomes composant le produit des polynômes. On retournme alors le polynôme construit ç partir de cette liste ( en ne prenant que les coefficients des monomes)\n",
    "\n"
   ]
  },
  {
   "cell_type": "code",
   "execution_count": 55,
   "metadata": {},
   "outputs": [],
   "source": [
    "class Polynome:\n",
    "    def __init__(self,*args):\n",
    "        self.ListeMonomes = [ Monome( args[d] , d ) for d in range(len(args)) ]\n",
    "    \n",
    "    def affiche(self):\n",
    "        r , prems = '' , True\n",
    "        for m in self.ListeMonomes:\n",
    "            r += m.affiche()\n",
    "            if prems == True and m.coef > 0:\n",
    "                r = r[1:]\n",
    "            prems = False\n",
    "        return r\n",
    "    \n",
    "    def standardise(self , other):\n",
    "        if len(self.ListeMonomes) != len(other.ListeMonomes):\n",
    "            if len(self.ListeMonomes) == max( len(self.ListeMonomes) , len(other.ListeMonomes) ): # si deg(other) < deg(self)\n",
    "                for i in range(len(self.ListeMonomes)-len(other.ListeMonomes)):\n",
    "                    other.ListeMonomes += [ Monome(0 , len(other.ListeMonomes) + i) ]\n",
    "            else:\n",
    "                for i in range(len(other.ListeMonomes)-len(self.ListeMonomes)):\n",
    "                    self.ListeMonomes += [ Monome(0 , len(self.ListeMonomes) + i) ]\n",
    "        \n",
    "        P = [m.coef for m in self.ListeMonomes]\n",
    "        Q = [m.coef for m in other.ListeMonomes]\n",
    "        \n",
    "        return Polynome(*P) , Polynome(*Q)\n",
    "    \n",
    "    def __add__(self , other):\n",
    "        P , Q = self.standardise(other)\n",
    "        R = []\n",
    "        for d in range( len(P.ListeMonomes) ):\n",
    "            R += [ P.ListeMonomes[d] + Q.ListeMonomes[d] ]\n",
    "        \n",
    "        return Polynome(*[ m.coef for m in R ])\n",
    "    \n",
    "    def __sub__(self , other):\n",
    "        P , Q = self.standardise(other)\n",
    "        R = []\n",
    "        for d in range( len(P.ListeMonomes) ):\n",
    "            R += [ P.ListeMonomes[d] - Q.ListeMonomes[d] ]\n",
    "        \n",
    "        return Polynome(*[ m.coef for m in R ])\n",
    "    \n",
    "    def __mul__(self , other):\n",
    "        R , R_final = [] , []\n",
    "        for m in self.ListeMonomes:\n",
    "            for mm in other.ListeMonomes:\n",
    "                R += [ m * mm ]\n",
    "        \n",
    "        for degre in range(len(self.ListeMonomes) + len(other.ListeMonomes)):\n",
    "            result = Monome(0,degre)\n",
    "            for m in [ Monome for Monome in R if Monome.deg == degre ]:\n",
    "                result += m\n",
    "            R_final.append(result)\n",
    "\n",
    "        return Polynome(*[ m.coef for m in R_final]) "
   ]
  },
  {
   "cell_type": "markdown",
   "metadata": {},
   "source": [
    "# Test de la classe"
   ]
  },
  {
   "cell_type": "code",
   "execution_count": 56,
   "metadata": {},
   "outputs": [
    {
     "name": "stdout",
     "output_type": "stream",
     "text": [
      "(P+Q)(X)=-1+7X+3X^2+7X^3, (P-Q)(X)=3-3X+3X^2-7X^3, (P*Q)(X)=-2+X+4X^2+22X^3+14X^4+21X^5  \n"
     ]
    }
   ],
   "source": [
    "P, Q = Polynome(1,2,3), Polynome(-2,5,0,7)\n",
    "\n",
    "#A, S, M = P.__add__(Q), P - Q, P * Q\n",
    "A, S, M = P.__add__(Q), P - Q, P * Q\n",
    "\n",
    "print( '(P+Q)(X)={}, (P-Q)(X)={}, (P*Q)(X)={}'.format(A.affiche(),S.affiche(),M.affiche() ) )"
   ]
  },
  {
   "cell_type": "code",
   "execution_count": null,
   "metadata": {},
   "outputs": [],
   "source": []
  }
 ],
 "metadata": {
  "kernelspec": {
   "display_name": "Python 3",
   "language": "python",
   "name": "python3"
  },
  "language_info": {
   "codemirror_mode": {
    "name": "ipython",
    "version": 3
   },
   "file_extension": ".py",
   "mimetype": "text/x-python",
   "name": "python",
   "nbconvert_exporter": "python",
   "pygments_lexer": "ipython3",
   "version": "3.7.7"
  }
 },
 "nbformat": 4,
 "nbformat_minor": 2
}
