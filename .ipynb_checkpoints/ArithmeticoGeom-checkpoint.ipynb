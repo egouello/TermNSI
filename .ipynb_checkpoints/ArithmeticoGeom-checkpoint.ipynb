{
 "cells": [
  {
   "cell_type": "code",
   "execution_count": null,
   "metadata": {},
   "outputs": [],
   "source": []
  },
  {
   "cell_type": "markdown",
   "metadata": {},
   "source": [
    "# Implémentation de la pile en Python\n",
    "On peut voir dans la documentation officielle de python qu'il est facile d'implémenter une structure de pile avec les listes : \n",
    "\n",
    "https://docs.python.org/fr/3/tutorial/datastructures.html#using-lists-as-stacks"
   ]
  },
  {
   "cell_type": "markdown",
   "metadata": {},
   "source": [
    "## Implémentation directe\n",
    "Exécutez le code suivant et modifiez le pour bien comprendre les mécanismes de pile :"
   ]
  },
  {
   "cell_type": "code",
   "execution_count": 5,
   "metadata": {},
   "outputs": [
    {
     "name": "stdout",
     "output_type": "stream",
     "text": [
      "après ajout de 4 [1, 2, 3, 4]\n",
      "après suppression de deux éléments [1, 2]\n",
      "[]\n"
     ]
    }
   ],
   "source": [
    "pile=[1,2,3]\n",
    "pile.append(4)\n",
    "print(\"après ajout de 4\",pile)\n",
    "pile.pop()\n",
    "pile.pop()\n",
    "print(\"après suppression de deux éléments\",pile)\n",
    "pile.pop()\n",
    "pile.pop()\n",
    "print(pile)\n"
   ]
  },
  {
   "cell_type": "markdown",
   "metadata": {},
   "source": [
    "Montrer (sur votre copie ou ici) que cette suite peut-être définie explicitement par:\n",
    "$u_n=36000 \\times 0,95^n+4000$\n",
    "\n",
    "(on pourra montrer que $v_n=u_n-4000$ est une suite géométrique)\n",
    "\n",
    "Calculer à nouveau les 10 premiers termes de la suite avec le formule explicite et comparer"
   ]
  },
  {
   "cell_type": "code",
   "execution_count": null,
   "metadata": {},
   "outputs": [],
   "source": []
  },
  {
   "cell_type": "code",
   "execution_count": null,
   "metadata": {},
   "outputs": [],
   "source": []
  },
  {
   "cell_type": "markdown",
   "metadata": {},
   "source": [
    "Montrer que la suite $u_n$ est décroissante et admet pour limite 4000.\n",
    "\n",
    "En déduire un programme de seuil qui , pour une valeur de k donnée en entrée (k>4000), calcule à partir de quel rang n la suite est inférieure à k"
   ]
  },
  {
   "cell_type": "code",
   "execution_count": null,
   "metadata": {},
   "outputs": [],
   "source": []
  }
 ],
 "metadata": {
  "kernelspec": {
   "display_name": "Python 3",
   "language": "python",
   "name": "python3"
  },
  "language_info": {
   "codemirror_mode": {
    "name": "ipython",
    "version": 3
   },
   "file_extension": ".py",
   "mimetype": "text/x-python",
   "name": "python",
   "nbconvert_exporter": "python",
   "pygments_lexer": "ipython3",
   "version": "3.7.7"
  }
 },
 "nbformat": 4,
 "nbformat_minor": 1
}
