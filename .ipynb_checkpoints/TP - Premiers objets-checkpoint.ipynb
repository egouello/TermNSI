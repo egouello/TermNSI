{
 "cells": [
  {
   "cell_type": "markdown",
   "metadata": {},
   "source": [
    "# TP - Premiers objets\n",
    "Ce TP suppose que vous avez lu le cours sur la programmation objet https://pixees.fr/informatiquelycee/n_site/nsi_term_paraProg_poo.html et que vous avez déjà programmé les exemples de ce cours\n",
    "\n",
    "## Exercice 1 - les citrons\n",
    "Dans cet exercice, on va créer une classe citron "
   ]
  },
  {
   "cell_type": "code",
   "execution_count": 3,
   "metadata": {},
   "outputs": [
    {
     "name": "stdout",
     "output_type": "stream",
     "text": [
      "jaune\n",
      "120\n"
     ]
    }
   ],
   "source": [
    "class Citron:\n",
    "    couleur = \"jaune\"\n",
    "    \n",
    "    def __init__(self,poids):\n",
    "        self.poids = poids\n",
    "\n",
    "\n",
    "if __name__ == \"__main__\":\n",
    "    citron1 = Citron(120)\n",
    "    print(citron1.couleur)\n",
    "    print(citron1.poids)\n",
    "    "
   ]
  },
  {
   "cell_type": "code",
   "execution_count": null,
   "metadata": {},
   "outputs": [],
   "source": []
  }
 ],
 "metadata": {
  "kernelspec": {
   "display_name": "Python 3",
   "language": "python",
   "name": "python3"
  },
  "language_info": {
   "codemirror_mode": {
    "name": "ipython",
    "version": 3
   },
   "file_extension": ".py",
   "mimetype": "text/x-python",
   "name": "python",
   "nbconvert_exporter": "python",
   "pygments_lexer": "ipython3",
   "version": "3.7.7"
  }
 },
 "nbformat": 4,
 "nbformat_minor": 4
}
