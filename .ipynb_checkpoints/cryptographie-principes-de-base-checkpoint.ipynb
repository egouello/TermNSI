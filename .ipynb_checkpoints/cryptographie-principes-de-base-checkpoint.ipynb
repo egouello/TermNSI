{
 "cells": [
  {
   "cell_type": "markdown",
   "metadata": {},
   "source": [
    "# Cryptographie"
   ]
  },
  {
   "cell_type": "markdown",
   "metadata": {},
   "source": [
    "### Principes"
   ]
  },
  {
   "cell_type": "markdown",
   "metadata": {},
   "source": [
    "Le but de la cryptographie est de cacher un texte donné de tel manière que seul son destinataire légitime puisse le lire.\n",
    "Les manières de cacher ce textes sont multiples. On s'intéresse ici à une transformation du texte pour le rendre illisible."
   ]
  },
  {
   "cell_type": "markdown",
   "metadata": {},
   "source": [
    "En pratique pour nous, le texte à cacher est une chaîne de caractères s. On cherche donc à calculer une chaîne de caractère tirée de s de telle manière que notre destinataire (avec qui on peut éventuellement partager un secret, la <b>clé</b>), et avec un peu de chance seul lui, puisse déchiffre ce texte."
   ]
  },
  {
   "cell_type": "markdown",
   "metadata": {},
   "source": [
    "### Cadre"
   ]
  },
  {
   "cell_type": "markdown",
   "metadata": {},
   "source": [
    "On se limite à des textes contenant uniquement des caractères en minuscule et des espaces, pour simplifier les raisonnements."
   ]
  },
  {
   "cell_type": "markdown",
   "metadata": {},
   "source": [
    "### Texte à cacher"
   ]
  },
  {
   "cell_type": "markdown",
   "metadata": {},
   "source": [
    "On fixe pour tout le cours un texte à crypter : la page wikipedia sur python (transformée pour coller à notre alphabet)"
   ]
  },
  {
   "cell_type": "code",
   "execution_count": 1,
   "metadata": {},
   "outputs": [],
   "source": [
    "with open('wiki-py.txt') as f:\n",
    "    texte = f.read()\n",
    "    texte = texte.replace('\\r', '')"
   ]
  },
  {
   "cell_type": "code",
   "execution_count": 2,
   "metadata": {},
   "outputs": [],
   "source": [
    "LETTRES = 'abcdefghijklmnopqrstuvwxyz \\n'"
   ]
  },
  {
   "cell_type": "markdown",
   "metadata": {},
   "source": [
    "## Chiffrement de César"
   ]
  },
  {
   "cell_type": "markdown",
   "metadata": {},
   "source": [
    "### Description"
   ]
  },
  {
   "cell_type": "markdown",
   "metadata": {},
   "source": [
    "Le principe est assez simple :\n",
    "<ul>\n",
    "<li>on donne un numéro à chaque lettre de l'alphabet</li>\n",
    "<li>la clé de chiffrage est un nombre entre 1 et le nombre de lettre - 1</li>\n",
    "<li>la chaîne cryptée est obtenue en décalant tous les caractères de clé dans l'alphabet, étant entendu que l'on revient au début à la fin de la liste...</li>\n",
    "</ul>"
   ]
  },
  {
   "cell_type": "code",
   "execution_count": 3,
   "metadata": {
    "collapsed": true
   },
   "outputs": [],
   "source": [
    "def indice(lettre):\n",
    "    \"\"\"\n",
    "    Retourne l'indice de la lettre donnée dans la chaîne LETTRES\n",
    "    \"\"\"\n",
    "    if lettre == \" \":\n",
    "        return -2\n",
    "    if lettre == \"\\n\":\n",
    "        return -1\n",
    "    return ord(lettre) - ord(\"a\")"
   ]
  },
  {
   "cell_type": "code",
   "execution_count": 4,
   "metadata": {},
   "outputs": [],
   "source": [
    "def cesar(chaine, cle):\n",
    "    s = ''\n",
    "    n = len(LETTRES)\n",
    "    for i in range(len(chaine)):\n",
    "        s = s + LETTRES[(indice(chaine[i]) + cle) % n]\n",
    "    return s"
   ]
  },
  {
   "cell_type": "code",
   "execution_count": 5,
   "metadata": {},
   "outputs": [
    {
     "data": {
      "text/plain": [
       "'bkfva\\nmsefmg\\nmzo\\nuousmrsmbdaudo  ofwa\\nmapxsfmm gzfwmbodorwu smsfm gzfwbzofstad semmwzmtohadwesmzombdaudo  ofwa\\nmw bsdofwhsmefdgqfgdssmmta\\nqfwa\\n\\nszzsmsfmadws\\nfssmapxsfmmwzmsefmrafsmrmg\\nmfkbousmrk\\no wcgsmtadfmmrmg\\nsmusefwa\\nmogfa ofwcgsmrsmzom s awdsmbodmdo oeesm wsffsemsfmrmg\\nmekefs smrsmusefwa\\nmrmsjqsbfwa\\nemmmwzmsefmow\\newmew wzowdsmombsdzmmdgpkmmeqvs smme ozzfozymsfmfqzmnnzsmzo\\nuousmbkfva\\nmsefmbzoqsmeagemg\\nsmzwqs\\nqsmzwpdsmbdaqvsmrsmzomzwqs\\nqsmpermmsfmta\\nqfwa\\n\\nsmegdmzombzgbodfmrsembzofsemtad semw\\n'"
      ]
     },
     "execution_count": 5,
     "metadata": {},
     "output_type": "execute_result"
    }
   ],
   "source": [
    "cesar(texte, 14)[:500]"
   ]
  },
  {
   "cell_type": "markdown",
   "metadata": {},
   "source": [
    "### Retrouver le texte d'origine"
   ]
  },
  {
   "cell_type": "markdown",
   "metadata": {},
   "source": [
    "Le principe pour notre correspondant est assez simple, il suffit de décaler dans l'autre sens."
   ]
  },
  {
   "cell_type": "code",
   "execution_count": 6,
   "metadata": {},
   "outputs": [
    {
     "data": {
      "text/plain": [
       "'hello world'"
      ]
     },
     "execution_count": 6,
     "metadata": {},
     "output_type": "execute_result"
    }
   ],
   "source": [
    "cesar(cesar('hello world',14 ), 14)"
   ]
  },
  {
   "cell_type": "code",
   "execution_count": 7,
   "metadata": {},
   "outputs": [
    {
     "data": {
      "text/plain": [
       "'hello world'"
      ]
     },
     "execution_count": 7,
     "metadata": {},
     "output_type": "execute_result"
    }
   ],
   "source": [
    "cesar(cesar('hello world', 4), -4)"
   ]
  },
  {
   "cell_type": "markdown",
   "metadata": {},
   "source": [
    "### Cryptanalyse"
   ]
  },
  {
   "cell_type": "markdown",
   "metadata": {},
   "source": [
    "Il est très facile de retrouver la clé secrète du chiffrement de césar si on connait l'alphabet utilisé.\n",
    "Ainsi un espion, le gouverement, ou tout autre personne satisfaisant votre sens de la théorie du complot, peut retrouver le message en clair."
   ]
  },
  {
   "cell_type": "markdown",
   "metadata": {},
   "source": [
    "La méthode est simple : force brute. On essai toutes les clés possible et on regarde à la main les messages obtenues. il y a tellement peu de clés possible que la cryptanalyse est quasiment immédiate."
   ]
  },
  {
   "cell_type": "code",
   "execution_count": 8,
   "metadata": {},
   "outputs": [
    {
     "name": "stdout",
     "output_type": "stream",
     "text": [
      "clé :  1  message décodé : tvtzpvhipjcpbvhhrxvpjcpidjipevizipevjpeajhpadcx\n",
      "clé :  2  message décodé : susyoughoiboauggqwuoibohcihoduhyhoduiod\n",
      "igo\n",
      "cbw\n",
      "clé :  3  message décodé : rtrxntfgnhan\n",
      "tffpvtnhangbhgnctgxgncthnc hfn bav\n",
      "clé :  4  message décodé : qsqwmsefmg\n",
      "m seeousmg\n",
      "mfagfmbsfwfmbsgmbzgemza\n",
      "u\n",
      "clé :  5  message décodé : prpvlrdelf lzrddntrlf le\n",
      "felarevelarflayfdly\n",
      " t\n",
      "clé :  6  message décodé : oqoukqcdkezkyqccmsqkezkd edk\n",
      "qdudk\n",
      "qek\n",
      "xeckx zs\n",
      "clé :  7  message décodé : npntjpbcjdyjxpbblrpjdyjczdcj pctcj pdj wdbjwzyr\n",
      "clé :  8  message décodé : momsioabicxiwoaakqoicxibycbizobsbizocizvcaivyxq\n",
      "clé :  9  message décodé : lnlrhn\n",
      "ahbwhvn\n",
      "\n",
      "jpnhbwhaxbahynarahynbhyub\n",
      "huxwp\n",
      "clé :  10  message décodé : kmkqgm \n",
      "gavgum  iomgavg\n",
      "wa\n",
      "gxm\n",
      "q\n",
      "gxmagxta gtwvo\n",
      "clé :  11  message décodé : jljpflz f\n",
      "uftlzzhnlf\n",
      "uf v\n",
      " fwl p fwl\n",
      "fws\n",
      "zfsvun\n",
      "clé :  12  message décodé : ikioekyze teskyygmke tezu zevkzozevk evr yerutm\n",
      "clé :  13  message décodé : hjhndjxydzsdrjxxfljdzsdytzydujynydujzduqzxdqtsl\n",
      "clé :  14  message décodé : gigmciwxcyrcqiwwekicyrcxsyxctixmxctiyctpywcpsrk\n",
      "clé :  15  message décodé : fhflbhvwbxqbphvvdjhbxqbwrxwbshwlwbshxbsoxvborqj\n",
      "clé :  16  message décodé : egekaguvawpaoguucigawpavqwvargvkvargwarnwuanqpi\n",
      "clé :  17  message décodé : dfdj\n",
      "ftu\n",
      "vo\n",
      "nfttbhf\n",
      "vo\n",
      "upvu\n",
      "qfuju\n",
      "qfv\n",
      "qmvt\n",
      "mpoh\n",
      "clé :  18  message décodé : ceci est un message un tout petit peu plus long\n",
      "clé :  19  message décodé : bdbhzdrsztmzldrr\n",
      "fdztmzsntszodshszodtzoktrzknmf\n",
      "clé :  20  message décodé : acagycqryslykcqq ecyslyrmsryncrgryncsynjsqyjmle\n",
      "clé :  21  message décodé : \n",
      "b\n",
      "fxbpqxrkxjbppzdbxrkxqlrqxmbqfqxmbrxmirpxilkd\n",
      "clé :  22  message décodé :  a ewaopwqjwiaooycawqjwpkqpwlapepwlaqwlhqowhkjc\n",
      "clé :  23  message décodé : z\n",
      "zdv\n",
      "novpivh\n",
      "nnxb\n",
      "vpivojpovk\n",
      "odovk\n",
      "pvkgpnvgjib\n",
      "clé :  24  message décodé : y ycu mnuohug mmwa uohunionuj ncnuj oujfomufiha\n",
      "clé :  25  message décodé : xzxbtzlmtngtfzllv\n",
      "ztngtmhnmtizmbmtizntienltehg\n",
      "\n",
      "clé :  26  message décodé : wywasyklsmfseykku ysmfslgmlshylalshymshdmksdgf \n",
      "clé :  27  message décodé : vxv\n",
      "rxjkrlerdxjjtzxrlerkflkrgxk\n",
      "krgxlrgcljrcfez\n"
     ]
    }
   ],
   "source": [
    "import random\n",
    "cle_choisie = random.randint(1, len(LETTRES) - 1)\n",
    "\n",
    "message = 'ceci est un message un tout petit peu plus long'\n",
    "crypte = cesar(message, cle_choisie)\n",
    "\n",
    "for i in range(1, len(LETTRES)):\n",
    "    print('clé : ', i, ' message décodé : ' + cesar(crypte, -i))"
   ]
  },
  {
   "cell_type": "markdown",
   "metadata": {},
   "source": [
    "Pas trop difficile de deviner ce qu'avait choisi python comme clé..."
   ]
  },
  {
   "cell_type": "markdown",
   "metadata": {},
   "source": [
    "# Vigénère"
   ]
  },
  {
   "cell_type": "markdown",
   "metadata": {},
   "source": [
    "### Principe"
   ]
  },
  {
   "cell_type": "markdown",
   "metadata": {},
   "source": [
    "On pousse le raisonnement précédent plus loin. Au lieu d'utiliser un décalage uniforme sur tout le texte, on choisit un mot clé.\n",
    "<ul>\n",
    "<li>transformer le mot clé en liste de chiffres, qui seront nos décalages</li>\n",
    "<li>la première lettre du texte est décalée grâce au premier chiffre de la clé</li>\n",
    "<li>on poursuit ainsi, en reprennant la clé depuis le début quand on l'a épuisé</li>\n",
    "</ul>"
   ]
  },
  {
   "cell_type": "code",
   "execution_count": 9,
   "metadata": {},
   "outputs": [],
   "source": [
    "def vigenere(texte, mot_cle):\n",
    "    liste_cle = [indice(c) for c in mot_cle]\n",
    "    s = ''\n",
    "    long_cle = len(liste_cle)\n",
    "    long_alph = len(LETTRES)\n",
    "    for i in range(len(texte)):\n",
    "        s = s + LETTRES[(indice(texte[i]) + liste_cle[i % long_cle]) % long_alph]\n",
    "    return s"
   ]
  },
  {
   "cell_type": "code",
   "execution_count": 10,
   "metadata": {},
   "outputs": [
    {
     "data": {
      "text/plain": [
       "'osvkjicfrwycdsjv'"
      ]
     },
     "execution_count": 10,
     "metadata": {},
     "output_type": "execute_result"
    }
   ],
   "source": [
    "vigenere('ceci est un test', 'motcle')"
   ]
  },
  {
   "cell_type": "code",
   "execution_count": 11,
   "metadata": {},
   "outputs": [],
   "source": [
    "def dechiffre_vigenere(texte, mot_cle):\n",
    "    liste_cle = [-indice(c) for c in mot_cle]\n",
    "    s = ''\n",
    "    long_cle = len(liste_cle)\n",
    "    long_alph = len(LETTRES)\n",
    "    for i in range(len(texte)):\n",
    "        s = s + LETTRES[(indice(texte[i]) + liste_cle[i % long_cle]) % long_alph]\n",
    "    return s"
   ]
  },
  {
   "cell_type": "code",
   "execution_count": 12,
   "metadata": {},
   "outputs": [
    {
     "data": {
      "text/plain": [
       "'ceci est un test'"
      ]
     },
     "execution_count": 12,
     "metadata": {},
     "output_type": "execute_result"
    }
   ],
   "source": [
    "dechiffre_vigenere('osvkjicfrwycdsjv', 'motcle')"
   ]
  },
  {
   "cell_type": "markdown",
   "metadata": {},
   "source": [
    "### Cryptanalyse"
   ]
  },
  {
   "cell_type": "markdown",
   "metadata": {},
   "source": [
    "Elle est beacoup plus délicate que la précédente. Laissons-la de côté pour l'instant."
   ]
  },
  {
   "cell_type": "markdown",
   "metadata": {},
   "source": [
    "## Un mot sur la concaténation\n",
    "\n",
    "Les chaaînes python ne sont pas modifiables. A chaque concaténation, il faut calculer la longueur de la chaîne obtenue, puis créer une chaîne de la bonne longueur et finalement la remplir. Ceci nécessite de parcourir les deux chaînes 2 fois.\n",
    "\n",
    "Illustrons : \n",
    "M. X s'est trouvé un emploi : peindre la ligne blanche au milieu d'une route.\n",
    "Le premier jour, il couvre 300m et son patron est très content. Le deuxième jour seulement 150m, ce qui reste honorable. Le troisième jour il ne parvient qu'à avancer de 30m.\n",
    "\n",
    "Quand son employeur en colère vient lui demander pourquoi, sa réponse est édifiante :\n",
    "\"Je n'y peux rien, chaque jour je vais de plus en plus loin du pot de peinture !\"."
   ]
  },
  {
   "cell_type": "code",
   "execution_count": 13,
   "metadata": {
    "collapsed": true
   },
   "outputs": [],
   "source": [
    "def str_concat(L):\n",
    "    s = \"\"\n",
    "    for i in range(len(L)):\n",
    "        s = s + L[i]\n",
    "    return s\n",
    "\n",
    "def list_join(L):\n",
    "    return \"\".join(L)\n",
    "\n",
    "L = (texte*5 ).split()"
   ]
  },
  {
   "cell_type": "code",
   "execution_count": 14,
   "metadata": {},
   "outputs": [
    {
     "name": "stdout",
     "output_type": "stream",
     "text": [
      "100 loops, best of 3: 3.07 ms per loop\n"
     ]
    }
   ],
   "source": [
    "%timeit str_concat(L)"
   ]
  },
  {
   "cell_type": "code",
   "execution_count": 15,
   "metadata": {},
   "outputs": [
    {
     "name": "stdout",
     "output_type": "stream",
     "text": [
      "1000 loops, best of 3: 323 µs per loop\n"
     ]
    }
   ],
   "source": [
    "%timeit list_join(L)"
   ]
  },
  {
   "cell_type": "markdown",
   "metadata": {},
   "source": [
    "# Chiffrement par permutation"
   ]
  },
  {
   "cell_type": "markdown",
   "metadata": {},
   "source": [
    "### Principe"
   ]
  },
  {
   "cell_type": "markdown",
   "metadata": {},
   "source": [
    "Au lieu de bêtement décaler chaque lettre, on choisit une bijection de l'alphabet dans lui même. Chaque lettre est transformée en une autre."
   ]
  },
  {
   "cell_type": "markdown",
   "metadata": {},
   "source": [
    "Pour ce qui est de la clé, sachez que l'on peut donner un numéro entre 1 et (len(alphabet))! à chaque bijection et donc se mettre d'accord facilement."
   ]
  },
  {
   "cell_type": "markdown",
   "metadata": {},
   "source": [
    "En pratique une bijection est représentée par une chaîne de caractère ou une liste possédant les même lettres que LETTRES mais dans le désordre"
   ]
  },
  {
   "cell_type": "code",
   "execution_count": 16,
   "metadata": {},
   "outputs": [],
   "source": [
    "def permute(chaine, bijection):\n",
    "    s = ''\n",
    "    n = len(LETTRES)\n",
    "    for c in chaine:\n",
    "        s = s + bijection[indice(c)]\n",
    "    return s"
   ]
  },
  {
   "cell_type": "code",
   "execution_count": 17,
   "metadata": {},
   "outputs": [],
   "source": [
    "bij = list(LETTRES)\n",
    "random.shuffle(bij);"
   ]
  },
  {
   "cell_type": "code",
   "execution_count": 18,
   "metadata": {},
   "outputs": [
    {
     "data": {
      "text/plain": [
       "'imttozpo\\ntu'"
      ]
     },
     "execution_count": 18,
     "metadata": {},
     "output_type": "execute_result"
    }
   ],
   "source": [
    "permute('hello world', bij)"
   ]
  },
  {
   "cell_type": "markdown",
   "metadata": {},
   "source": [
    "### Déchiffrement"
   ]
  },
  {
   "cell_type": "markdown",
   "metadata": {},
   "source": [
    "Comment retrouver le message d'origine connaissant le message chiffré et la permutation ? Facile, il suffit de calculer la réciproque, c'est à dire trouver la position du caractère courant dans bijection."
   ]
  },
  {
   "cell_type": "code",
   "execution_count": 19,
   "metadata": {},
   "outputs": [],
   "source": [
    "def decode_permute(chiffre, bijection):\n",
    "    s = ''\n",
    "    n = len(LETTRES)\n",
    "    for c in chiffre:\n",
    "        s = s + LETTRES[bijection.index(c)]\n",
    "    return s"
   ]
  },
  {
   "cell_type": "code",
   "execution_count": 20,
   "metadata": {},
   "outputs": [
    {
     "data": {
      "text/plain": [
       "'hello world'"
      ]
     },
     "execution_count": 20,
     "metadata": {},
     "output_type": "execute_result"
    }
   ],
   "source": [
    "decode_permute(permute('hello world', bij), bij)"
   ]
  },
  {
   "cell_type": "markdown",
   "metadata": {},
   "source": [
    "### Cryptanalyse"
   ]
  },
  {
   "cell_type": "markdown",
   "metadata": {},
   "source": [
    "Cette fois le nombre de clé est plutôt vaste : environ $3 \\times 10^{29}$. Si on pouvait lire 1 000 000 de textes à la seconde (pour vérifier si c'est le bon), il faudrait quand même un million de milliard d'année pour arriver au bout..."
   ]
  },
  {
   "cell_type": "markdown",
   "metadata": {},
   "source": [
    "Idée : la probabilité d'apparition des lettres dans un texte en français n'est pas du tout uniforme. On doit pouvoir identifier les voyelles et les consones courantes assez rapidement."
   ]
  },
  {
   "cell_type": "code",
   "execution_count": 21,
   "metadata": {},
   "outputs": [],
   "source": [
    "def frequence(chaine):\n",
    "    \"\"\"\n",
    "    Calcule le nombre d'occurences de chaque lettre dans la chaine donnée.\n",
    "    \"\"\"\n",
    "    occ = [ 0 for c in LETTRES]\n",
    "    for c in chaine:\n",
    "        i = indice(c)\n",
    "        occ[i] = occ[i] + 1\n",
    "    total = max(len(chaine), 1)\n",
    "    for i in range(len(LETTRES)):\n",
    "        occ[i] = 100 * occ[i] / total\n",
    "    resultat = [(occ[i], LETTRES[i]) for i in range(len(LETTRES))]\n",
    "    resultat.sort()\n",
    "    return resultat"
   ]
  },
  {
   "cell_type": "code",
   "execution_count": 34,
   "metadata": {},
   "outputs": [
    {
     "data": {
      "text/plain": [
       "[(0.018168133094552154, 'g'),\n",
       " (0.1064133509823769, 'l'),\n",
       " (0.13755872200160918, 'p'),\n",
       " (0.3062628150224506, 'k'),\n",
       " (0.461989670118612, 'q'),\n",
       " (0.4879441459679722, 'a'),\n",
       " (0.7682524851410626, ' '),\n",
       " (0.9006203119727997, 's'),\n",
       " (0.936956578161904, 'i'),\n",
       " (0.9447429209167121, 'b'),\n",
       " (1.0719198525785771, 'w'),\n",
       " (1.0874925380881932, 'h'),\n",
       " (1.289937449713203, 'v'),\n",
       " (2.291780217498508, 'y'),\n",
       " (2.6343792987100625, 'e'),\n",
       " (3.127514339847907, 'd'),\n",
       " (3.3325546990578525, 'u'),\n",
       " (3.9165304056684573, 'n'),\n",
       " (4.1579070310675075, 't'),\n",
       " (4.905395935529082, '\\n'),\n",
       " (5.258376807080381, 'o'),\n",
       " (5.318072101533909, 'c'),\n",
       " (5.473798956630071, 'f'),\n",
       " (6.060370110825612, 'r'),\n",
       " (6.091515481844844, 'x'),\n",
       " (6.475641724415375, 'j'),\n",
       " (12.837083755093566, 'm'),\n",
       " (19.60082016143684, 'z')]"
      ]
     },
     "execution_count": 34,
     "metadata": {},
     "output_type": "execute_result"
    }
   ],
   "source": [
    "chiffre = permute(texte, bij);\n",
    "frequence(chiffre)"
   ]
  },
  {
   "cell_type": "markdown",
   "metadata": {},
   "source": [
    "IL suffit maintenant d'aller sur wikipedia ou tout autre site pour trouver une table référence des fréquence de lettres dans les textes en français. On peut deviner plusieurs choses :\n",
    "<ul>\n",
    "<li>l'espace coreespond au 19%</li>\n",
    "<li>le e doit correspondre à la lettrela plus fréquentez</li>\n",
    "</ul>\n",
    "Pour trouver des chiffres plus proches des tables données, il faut considérer des textes dans espaces. Allons-y"
   ]
  },
  {
   "cell_type": "code",
   "execution_count": 74,
   "metadata": {},
   "outputs": [
    {
     "data": {
      "text/plain": [
       "[(0.0, 'z'),\n",
       " (0.022597410982341738, 'g'),\n",
       " (0.13235626432514447, 'l'),\n",
       " (0.171094683152016, 'p'),\n",
       " (0.3809277851309036, 'k'),\n",
       " (0.5746198792652614, 'q'),\n",
       " (0.6069018949543209, 'a'),\n",
       " (0.9555476643961649, ' '),\n",
       " (1.120185944410369, 's'),\n",
       " (1.1653807663750524, 'i'),\n",
       " (1.1750653710817704, 'b'),\n",
       " (1.3332472479581625, 'w'),\n",
       " (1.3526164573715982, 'h'),\n",
       " (1.6044161797462633, 'v'),\n",
       " (2.850501985343965, 'y'),\n",
       " (3.276624592439552, 'e'),\n",
       " (3.8899828905316847, 'd'),\n",
       " (4.145010814475256, 'u'),\n",
       " (4.871356167479098, 'n'),\n",
       " (5.171578913387352, 't'),\n",
       " (6.101300965232269, '\\n'),\n",
       " (6.54033637860348, 'o'),\n",
       " (6.614585014688317, 'c'),\n",
       " (6.808277108822675, 'f'),\n",
       " (7.537850663395423, 'r'),\n",
       " (7.576589082222294, 'x'),\n",
       " (8.054362914420377, 'j'),\n",
       " (15.966684959808891, 'm')]"
      ]
     },
     "execution_count": 74,
     "metadata": {},
     "output_type": "execute_result"
    }
   ],
   "source": [
    "chiffre2 = chiffre.replace('z', '')\n",
    "frequence(chiffre2)"
   ]
  },
  {
   "cell_type": "markdown",
   "metadata": {},
   "source": [
    "Les chiffres obtenus sont proches de ceux de la table de référence. Essayons de décrypter."
   ]
  },
  {
   "cell_type": "code",
   "execution_count": 75,
   "metadata": {},
   "outputs": [],
   "source": [
    "def echange(chaine, c1, c2):\n",
    "    s = ''\n",
    "    for c in chaine:\n",
    "        if c == c1:\n",
    "            s += c2\n",
    "        elif c == c2:\n",
    "            s += c1\n",
    "        else:\n",
    "            s += c\n",
    "    return s"
   ]
  },
  {
   "cell_type": "code",
   "execution_count": 76,
   "metadata": {},
   "outputs": [
    {
     "data": {
      "text/plain": [
       "'dzjior exj nr tcrbcbe ue d\\nob\\ncyycjfor owkej  yntjf dc\\ncufbye ej yntjfdtcjeho\\nyex  ft hcso\\nfxe tc d\\nob\\ncyycjfor fyde\\ncjfse xj\\nnmjn\\nee  hormjforrette ej o\\nferjee owkej  ft exj uoje u nr jzdcbe uzrcyfane ho\\nj  u nre bexjfor cnjoycjfane ue tc yeyof\\ne dc'"
      ]
     },
     "execution_count": 76,
     "metadata": {},
     "output_type": "execute_result"
    }
   ],
   "source": [
    "c2 = echange(chiffre, 'z', ' ');\n",
    "c3 = echange(c2, 'm', 'e')\n",
    "c3[:250]"
   ]
  },
  {
   "cell_type": "code",
   "execution_count": 77,
   "metadata": {},
   "outputs": [
    {
     "data": {
      "text/plain": [
       "[(0.0, ' '),\n",
       " (0.022597410982341738, 'g'),\n",
       " (0.13235626432514447, 'l'),\n",
       " (0.171094683152016, 'p'),\n",
       " (0.3809277851309036, 'k'),\n",
       " (0.5746198792652614, 'q'),\n",
       " (0.6069018949543209, 'a'),\n",
       " (0.9555476643961649, 'z'),\n",
       " (1.120185944410369, 's'),\n",
       " (1.1653807663750524, 'i'),\n",
       " (1.1750653710817704, 'b'),\n",
       " (1.3332472479581625, 'w'),\n",
       " (1.3526164573715982, 'h'),\n",
       " (1.6044161797462633, 'v'),\n",
       " (2.850501985343965, 'y'),\n",
       " (3.276624592439552, 'm'),\n",
       " (3.8899828905316847, 'd'),\n",
       " (4.145010814475256, 'u'),\n",
       " (4.871356167479098, 'n'),\n",
       " (5.171578913387352, 't'),\n",
       " (6.101300965232269, '\\n'),\n",
       " (6.54033637860348, 'o'),\n",
       " (6.614585014688317, 'c'),\n",
       " (6.808277108822675, 'f'),\n",
       " (7.537850663395423, 'r'),\n",
       " (7.576589082222294, 'x'),\n",
       " (8.054362914420377, 'j'),\n",
       " (15.966684959808891, 'e')]"
      ]
     },
     "execution_count": 77,
     "metadata": {},
     "output_type": "execute_result"
    }
   ],
   "source": [
    "frequence(c3.replace(' ',''))"
   ]
  },
  {
   "cell_type": "code",
   "execution_count": 78,
   "metadata": {},
   "outputs": [
    {
     "data": {
      "text/plain": [
       "'dzjior exj nr tcrbcbe ue d\\nob\\ncyycjfor owkej  yntjf dc\\ncufbye ej yntjfdtcjeho\\nyex  ft hcso\\nfxe tc d\\nob\\ncyycjfor fyde\\ncjfse xj\\nnmjn\\nee  hormjforrette ej o\\nferjee owkej  ft exj uoje u nr jzdcbe uzrcyfane ho\\nj  u nre bexjfor cnjoycjfane ue tc yeyof\\ne dc'"
      ]
     },
     "execution_count": 78,
     "metadata": {},
     "output_type": "execute_result"
    }
   ],
   "source": [
    "c3[:250]"
   ]
  },
  {
   "cell_type": "markdown",
   "metadata": {},
   "source": [
    "Le deuxième mot est très certainement \"est\" qui nous donne deux autres lettres."
   ]
  },
  {
   "cell_type": "code",
   "execution_count": 79,
   "metadata": {},
   "outputs": [
    {
     "data": {
      "text/plain": [
       "102"
      ]
     },
     "execution_count": 79,
     "metadata": {},
     "output_type": "execute_result"
    }
   ],
   "source": [
    "c3.count(\"exj\")"
   ]
  },
  {
   "cell_type": "code",
   "execution_count": 80,
   "metadata": {},
   "outputs": [
    {
     "data": {
      "text/plain": [
       "'dztior est nr jcrbcbe ue d\\nob\\ncyyctfor owket  ynjtf dc\\ncufbye et ynjtfdjcteho\\nyes  fj hcxo\\nfse jc d\\nob\\ncyyctfor fyde\\nctfxe st\\nnmtn\\nee  hormtforrejje et o\\nfertee owket  fj est uote u nr tzdcbe uzrcyfane ho\\nt  u nre bestfor cntoyctfane ue jc yeyof\\ne dc'"
      ]
     },
     "execution_count": 80,
     "metadata": {},
     "output_type": "execute_result"
    }
   ],
   "source": [
    "c4 = echange(echange(c3, 'x', 's'), 'j', 't'); c4[:250]"
   ]
  },
  {
   "cell_type": "code",
   "execution_count": 81,
   "metadata": {},
   "outputs": [
    {
     "data": {
      "text/plain": [
       "[(0.0, ' '),\n",
       " (0.022597410982341738, 'g'),\n",
       " (0.13235626432514447, 'l'),\n",
       " (0.171094683152016, 'p'),\n",
       " (0.3809277851309036, 'k'),\n",
       " (0.5746198792652614, 'q'),\n",
       " (0.6069018949543209, 'a'),\n",
       " (0.9555476643961649, 'z'),\n",
       " (1.120185944410369, 'x'),\n",
       " (1.1653807663750524, 'i'),\n",
       " (1.1750653710817704, 'b'),\n",
       " (1.3332472479581625, 'w'),\n",
       " (1.3526164573715982, 'h'),\n",
       " (1.6044161797462633, 'v'),\n",
       " (2.850501985343965, 'y'),\n",
       " (3.276624592439552, 'm'),\n",
       " (3.8899828905316847, 'd'),\n",
       " (4.145010814475256, 'u'),\n",
       " (4.871356167479098, 'n'),\n",
       " (5.171578913387352, 'j'),\n",
       " (6.101300965232269, '\\n'),\n",
       " (6.54033637860348, 'o'),\n",
       " (6.614585014688317, 'c'),\n",
       " (6.808277108822675, 'f'),\n",
       " (7.537850663395423, 'r'),\n",
       " (7.576589082222294, 's'),\n",
       " (8.054362914420377, 't'),\n",
       " (15.966684959808891, 'e')]"
      ]
     },
     "execution_count": 81,
     "metadata": {},
     "output_type": "execute_result"
    }
   ],
   "source": [
    "frequence(c4.replace(' ', ''))"
   ]
  },
  {
   "cell_type": "markdown",
   "metadata": {},
   "source": [
    "Prochaine étape, utiliser les espaces de manière plus systématiques, pour réutiliser l'idée précédente. Par exemple, trouver les mots de longueur 1 et 2."
   ]
  },
  {
   "cell_type": "code",
   "execution_count": 82,
   "metadata": {},
   "outputs": [
    {
     "data": {
      "text/plain": [
       "({('an', 13),\n",
       "  ('at', 2),\n",
       "  ('bc', 3),\n",
       "  ('be', 6),\n",
       "  ('bs', 2),\n",
       "  ('cd', 4),\n",
       "  ('cf', 2),\n",
       "  ('cj', 2),\n",
       "  ('cn', 23),\n",
       "  ('cs', 6),\n",
       "  ('cu', 1),\n",
       "  ('cv', 2),\n",
       "  ('cx', 3),\n",
       "  ('dc', 70),\n",
       "  ('de', 26),\n",
       "  ('df', 1),\n",
       "  ('dn', 1),\n",
       "  ('do', 5),\n",
       "  ('ds', 1),\n",
       "  ('dz', 4),\n",
       "  ('ed', 10),\n",
       "  ('ee', 12),\n",
       "  ('em', 12),\n",
       "  ('en', 6),\n",
       "  ('ep', 1),\n",
       "  ('eq', 2),\n",
       "  ('er', 80),\n",
       "  ('es', 64),\n",
       "  ('et', 138),\n",
       "  ('ev', 3),\n",
       "  ('fd', 1),\n",
       "  ('fe', 6),\n",
       "  ('fh', 4),\n",
       "  ('fj', 43),\n",
       "  ('fo', 2),\n",
       "  ('fr', 8),\n",
       "  ('fs', 3),\n",
       "  ('ft', 2),\n",
       "  ('fv', 1),\n",
       "  ('hf', 1),\n",
       "  ('ho', 30),\n",
       "  ('ie', 10),\n",
       "  ('jc', 124),\n",
       "  ('je', 82),\n",
       "  ('jf', 1),\n",
       "  ('jo', 5),\n",
       "  ('jt', 1),\n",
       "  ('ju', 2),\n",
       "  ('lp', 2),\n",
       "  ('ls', 1),\n",
       "  ('mc', 19),\n",
       "  ('md', 1),\n",
       "  ('me', 16),\n",
       "  ('mo', 7),\n",
       "  ('mq', 1),\n",
       "  ('mr', 7),\n",
       "  ('ne', 4),\n",
       "  ('nf', 1),\n",
       "  ('nr', 88),\n",
       "  ('ns', 1),\n",
       "  ('nx', 1),\n",
       "  ('ny', 3),\n",
       "  ('ob', 26),\n",
       "  ('od', 8),\n",
       "  ('on', 48),\n",
       "  ('op', 1),\n",
       "  ('or', 12),\n",
       "  ('os', 4),\n",
       "  ('ot', 1),\n",
       "  ('oy', 3),\n",
       "  ('pc', 1),\n",
       "  ('pe', 1),\n",
       "  ('po', 2),\n",
       "  ('re', 15),\n",
       "  ('rf', 2),\n",
       "  ('ro', 2),\n",
       "  ('sc', 6),\n",
       "  ('se', 17),\n",
       "  ('sf', 1),\n",
       "  ('sj', 3),\n",
       "  ('sm', 3),\n",
       "  ('sn', 27),\n",
       "  ('so', 13),\n",
       "  ('st', 15),\n",
       "  ('sv', 3),\n",
       "  ('tc', 2),\n",
       "  ('te', 6),\n",
       "  ('tf', 7),\n",
       "  ('ti', 1),\n",
       "  ('tl', 2),\n",
       "  ('tn', 4),\n",
       "  ('to', 4),\n",
       "  ('ts', 2),\n",
       "  ('tz', 1),\n",
       "  ('uc', 2),\n",
       "  ('ue', 313),\n",
       "  ('uf', 3),\n",
       "  ('un', 65),\n",
       "  ('us', 6),\n",
       "  ('uv', 1),\n",
       "  ('vb', 1),\n",
       "  ('vc', 3),\n",
       "  ('vd', 4),\n",
       "  ('ve', 1),\n",
       "  ('vf', 1),\n",
       "  ('vh', 1),\n",
       "  ('vj', 1),\n",
       "  ('vm', 1),\n",
       "  ('vu', 1),\n",
       "  ('vv', 2),\n",
       "  ('vw', 1),\n",
       "  ('wn', 1),\n",
       "  ('wv', 1),\n",
       "  ('xc', 11),\n",
       "  ('xe', 60),\n",
       "  ('xf', 3),\n",
       "  ('yc', 4),\n",
       "  ('ye', 12),\n",
       "  ('yf', 1)},\n",
       " [(0.0, '\\n'),\n",
       "  (0.0, ' '),\n",
       "  (0.0, 'a'),\n",
       "  (0.0, 'g'),\n",
       "  (0.0, 'i'),\n",
       "  (0.0, 'k'),\n",
       "  (0.0, 'p'),\n",
       "  (0.17969451931716082, 'n'),\n",
       "  (0.17969451931716082, 'x'),\n",
       "  (0.17969451931716082, 'y'),\n",
       "  (0.2695417789757412, 'l'),\n",
       "  (0.9883198562443846, 'z'),\n",
       "  (1.0781671159029649, 'w'),\n",
       "  (1.3477088948787062, 'h'),\n",
       "  (1.6172506738544474, 'f'),\n",
       "  (1.8867924528301887, 'b'),\n",
       "  (1.8867924528301887, 'o'),\n",
       "  (2.2461814914645104, 'r'),\n",
       "  (3.4141958670260557, 'm'),\n",
       "  (3.4141958670260557, 'q'),\n",
       "  (5.031446540880503, 't'),\n",
       "  (5.840071877807727, 'v'),\n",
       "  (7.6370170709793355, 's'),\n",
       "  (8.176100628930818, 'j'),\n",
       "  (11.410601976639713, 'u'),\n",
       "  (12.219227313566936, 'd'),\n",
       "  (13.746630727762803, 'c'),\n",
       "  (17.250673854447438, 'e')])"
      ]
     },
     "execution_count": 82,
     "metadata": {},
     "output_type": "execute_result"
    }
   ],
   "source": [
    "mots = c4.split()\n",
    "long_1 = [m for m in mots if len(m)== 1]\n",
    "long_2 = [m for m in mots if len(m) == 2]\n",
    "mots_2 = set() #ensemble : ne peut pas contenir deux fois le même élément\n",
    "for m in long_2:\n",
    "    mots_2.add((m, long_2.count(m)))\n",
    "mots_2, frequence(long_1)"
   ]
  },
  {
   "cell_type": "markdown",
   "metadata": {},
   "source": [
    "Le but est de trouver a, l, d qui sont très commun en mots d'une lettre comme en mot de deux (\"l'\", \"d'\", \"la\", \"le\"...)\n",
    "\n",
    "Le a pourraît être transformé en c (voir les fréquences). On remarque alors \"ja\" et \"je\" comme mots de deux lettres communs. Dans ce cas le j serait en fait l dans le texte original. Le u semble alors être le d (le mot \"de\" est très fréquent)\n",
    "    "
   ]
  },
  {
   "cell_type": "code",
   "execution_count": 83,
   "metadata": {},
   "outputs": [
    {
     "data": {
      "text/plain": [
       "'dztior est nr larbabe ue d\\nob\\nayyatfor owket  ynltf da\\naufbye et ynltfdlateho\\nyes  fl haxo\\nfse la d\\nob\\nayyatfor fyde\\natfxe st\\nnmtn\\nee  hormtforrelle et o\\nfertee owket  fl est uote u nr tzdabe uzrayfcne ho\\nt  u nre bestfor antoyatfcne ue la yeyof\\ne da'"
      ]
     },
     "execution_count": 83,
     "metadata": {},
     "output_type": "execute_result"
    }
   ],
   "source": [
    "c5 = echange(echange(c4, 'c', 'a'), 'j', 'l')\n",
    "c5[:250]"
   ]
  },
  {
   "cell_type": "code",
   "execution_count": 84,
   "metadata": {},
   "outputs": [
    {
     "data": {
      "text/plain": [
       "'uztior est nr larbabe de u\\nob\\nayyatfor owket  ynltf ua\\nadfbye et ynltfulateho\\nyes  fl haxo\\nfse la u\\nob\\nayyatfor fyue\\natfxe st\\nnmtn\\nee  hormtforrelle et o\\nfertee owket  fl est dote d nr tzuabe dzrayfcne ho\\nt  d nre bestfor antoyatfcne de la yeyof\\ne ua'"
      ]
     },
     "execution_count": 84,
     "metadata": {},
     "output_type": "execute_result"
    }
   ],
   "source": [
    "c5 = echange(c5, \"d\", \"u\")\n",
    "c5[:250]"
   ]
  },
  {
   "cell_type": "markdown",
   "metadata": {},
   "source": [
    "On voit \"d nr\" et \"d nre\" qui ressemblent à \"d un\" et \"d une\" (on a déjà retrouvé le \"e\").\n",
    "\n",
    "On a ainsi décodé deux autres lettres, le u et le n."
   ]
  },
  {
   "cell_type": "code",
   "execution_count": 85,
   "metadata": {},
   "outputs": [
    {
     "data": {
      "text/plain": [
       "'rztion est un lanbabe de r\\nob\\nayyatfon owket  yultf ra\\nadfbye et yultfrlateho\\nyes  fl haxo\\nfse la r\\nob\\nayyatfon fyre\\natfxe st\\numtu\\nee  honmtfonnelle et o\\nfentee owket  fl est dote d un tzrabe dznayfcue ho\\nt  d une bestfon autoyatfcue de la yeyof\\ne ra\\n \\nayasse yfettes et d un szsteye de bestfon d eqm'"
      ]
     },
     "execution_count": 85,
     "metadata": {},
     "output_type": "execute_result"
    }
   ],
   "source": [
    "c6 = echange(c5, 'n', 'u')\n",
    "c6 = echange(c6, \"r\", \"n\")\n",
    "c6[:300]"
   ]
  },
  {
   "cell_type": "code",
   "execution_count": 86,
   "metadata": {},
   "outputs": [
    {
     "data": {
      "text/plain": [
       "[(0.0, ' '),\n",
       " (0.022597410982341738, 'g'),\n",
       " (0.13235626432514447, 'j'),\n",
       " (0.171094683152016, 'p'),\n",
       " (0.3809277851309036, 'k'),\n",
       " (0.5746198792652614, 'q'),\n",
       " (0.6069018949543209, 'c'),\n",
       " (0.9555476643961649, 'z'),\n",
       " (1.120185944410369, 'x'),\n",
       " (1.1653807663750524, 'i'),\n",
       " (1.1750653710817704, 'b'),\n",
       " (1.3332472479581625, 'w'),\n",
       " (1.3526164573715982, 'h'),\n",
       " (1.6044161797462633, 'v'),\n",
       " (2.850501985343965, 'y'),\n",
       " (3.276624592439552, 'm'),\n",
       " (3.8899828905316847, 'r'),\n",
       " (4.145010814475256, 'd'),\n",
       " (4.871356167479098, 'u'),\n",
       " (5.171578913387352, 'l'),\n",
       " (6.101300965232269, '\\n'),\n",
       " (6.54033637860348, 'o'),\n",
       " (6.614585014688317, 'a'),\n",
       " (6.808277108822675, 'f'),\n",
       " (7.537850663395423, 'n'),\n",
       " (7.576589082222294, 's'),\n",
       " (8.054362914420377, 't'),\n",
       " (15.966684959808891, 'e')]"
      ]
     },
     "execution_count": 86,
     "metadata": {},
     "output_type": "execute_result"
    }
   ],
   "source": [
    "frequence(c6.replace(' ', ''))"
   ]
  },
  {
   "cell_type": "markdown",
   "metadata": {},
   "source": [
    "Certain mots sont preques décodés. On trouve ainsi b=g grâce à \"lanbabe\" et f=i grâce aux fréquences et \"fl\""
   ]
  },
  {
   "cell_type": "code",
   "execution_count": 87,
   "metadata": {},
   "outputs": [
    {
     "data": {
      "text/plain": [
       "'rztfon est un langage de r\\nog\\nayyation owket  yulti ra\\nadigye et yultirlateho\\nyes  il haxo\\nise la r\\nog\\nayyation iyre\\natixe st\\numtu\\nee  honmtionnelle et o\\nientee owket  il est dote d un tzrage dznayicue ho\\nt  d une gestion autoyaticue de la yeyoi\\ne ra\\n \\nayasse yiettes et d un szsteye de gestion d eqmertions   il est ainsi siyilai\\ne a re\\nl  \\nuwz  smfeye  syalltalj et tml vvle langage rztfon est rlame sous une limenme liw\\ne r\\nomfe de la limenme wsd  et honmtionne su\\n la rlura\\nt des rlates ho\\nyes in'"
      ]
     },
     "execution_count": 87,
     "metadata": {},
     "output_type": "execute_result"
    }
   ],
   "source": [
    "c7 = echange(echange(c6, 'b', 'g'), 'f', 'i')\n",
    "c7[:500]"
   ]
  },
  {
   "cell_type": "markdown",
   "metadata": {},
   "source": [
    "La décodage allant, on commence à comprendre le sens et pouvoir déchiffrer plus facilement. Par exemple on voit y=m.\n",
    "\n",
    "Pour faciliter la lecture, il faudrait afficher différemment les lettres déjà trouvées. On y est presque. Le reste en exercice."
   ]
  },
  {
   "cell_type": "code",
   "execution_count": null,
   "metadata": {},
   "outputs": [],
   "source": []
  }
 ],
 "metadata": {
  "kernelspec": {
   "display_name": "Python 3",
   "language": "python",
   "name": "python3"
  },
  "language_info": {
   "codemirror_mode": {
    "name": "ipython",
    "version": 3
   },
   "file_extension": ".py",
   "mimetype": "text/x-python",
   "name": "python",
   "nbconvert_exporter": "python",
   "pygments_lexer": "ipython3",
   "version": "3.7.7"
  }
 },
 "nbformat": 4,
 "nbformat_minor": 1
}
