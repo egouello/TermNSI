{
 "cells": [
  {
   "cell_type": "markdown",
   "metadata": {},
   "source": [
    "# Cryptographie - principes de base"
   ]
  },
  {
   "cell_type": "markdown",
   "metadata": {},
   "source": [
    "## 0- Principes"
   ]
  },
  {
   "cell_type": "markdown",
   "metadata": {},
   "source": [
    "Le but de la cryptographie est de cacher un texte donné de tel manière que seul son destinataire légitime puisse le lire.\n",
    "Les manières de cacher ce textes sont multiples. On s'intéresse ici à une transformation du texte pour le rendre illisible."
   ]
  },
  {
   "cell_type": "markdown",
   "metadata": {},
   "source": [
    "En pratique pour nous, le texte à cacher est une chaîne de caractères s. On cherche donc à calculer une chaîne de caractère tirée de s de telle manière que notre destinataire (avec qui on peut éventuellement partager un secret, la <b>clé</b>), et avec un peu de chance seul lui, puisse déchiffrer ce texte."
   ]
  },
  {
   "cell_type": "markdown",
   "metadata": {},
   "source": [
    "### Cadre"
   ]
  },
  {
   "cell_type": "markdown",
   "metadata": {},
   "source": [
    "On se limite à des textes contenant uniquement des caractères en minuscule et des espaces, pour simplifier les raisonnements. Dans le texte de référence utilisé, tous les autres caractères seront remplacés par des espaces."
   ]
  },
  {
   "cell_type": "markdown",
   "metadata": {},
   "source": [
    "### Texte à cacher"
   ]
  },
  {
   "cell_type": "markdown",
   "metadata": {},
   "source": [
    "On fixe pour tout le cours un texte à crypter : les histoires extraordinaires d'Edgar Poe, traduites par Charles Baudelaire et disponible librement sur le site du projet Gutenberg ici : http://www.gutenberg.org/ebooks/20761\n",
    "Le fichier texte, légèrement nettoyé (majuscules enlevé, préface enlevée) est dans le dossier contenant ce notebook et peut donc être ouvert directement par Python :"
   ]
  },
  {
   "cell_type": "code",
   "execution_count": 1,
   "metadata": {},
   "outputs": [
    {
     "name": "stdout",
     "output_type": "stream",
     "text": [
      "edgar allan poe\n",
      "\n",
      "histoires extraordinaires\n",
      "\n",
      "traduction par charles baudelaire premiere publication en france en 1856\n",
      "\n",
      "double assassinat dans la rue morgue\n",
      "\n",
      "quelle chanson chantaient les sirenes? quel nom achille avait-il pris,\n",
      "quand il se cachait parmi les femmes?-questions embarrassantes, il est\n",
      "vrai, mais qui ne sont pas situees au dela de toute conjecture.\n",
      "\n",
      "sir thomas browne.\n",
      "\n",
      "\n",
      "les facultes de l'esprit qu'on definit par le terme _analytiques_ sont\n",
      "en elles-memes fort peu susceptibles d'analyse. nous ne les apprecions\n",
      "que par leurs resultats. ce que nous en savons, entre autres choses,\n",
      "c'est qu'elles sont pour celui qui les possede a un degre extraordinaire\n",
      "une source de jouissances des plus vives. de meme que l'homme fort se\n",
      "rejouit dans son aptitude physique, se complaÃ®t dans les exercices qui\n",
      "provoquent les muscles a l'action, de meme l'analyse prend sa gloire\n",
      "dans cette activite spirituelle dont la fonction est de debrouiller. il\n",
      "tire du plaisir meme des plus triviales occasions qui mettent ses\n",
      "talents en jeu. il raffole des enigmes, des rebus, des hieroglyphes; il\n",
      "deploie dans chacune des solutions une puissance de perspicacite qui,\n",
      "dans l'opinion vulgaire, prend un caractere surnaturel. les resultats,\n",
      "habilement deduits par l'Ã¢me meme et l'essence de sa methode, ont\n",
      "reellement tout l'air d'une intuition.\n",
      "\n",
      "cette faculte de _resolution_ tire peut-etre une grande force de l'etude\n",
      "des mathematiques, et particulierement de la tres-haute branche de cette\n",
      "science, qui, fort improprement et simplement en raison de ses\n",
      "operations retrogrades, a ete nommee l'analyse, comme si elle etait\n",
      "l'analyse par excellence. car, en somme, tout calcul n'est pas en soi\n",
      "une analyse. un joueur d'echecs, par exemple, fait fort bien l'un sans\n",
      "l'autre. il suit de la que le jeu d'echecs, dans ses effets sur la\n",
      "nature spirituelle, est fort mal apprecie. je ne veux pas ecrire ici un\n",
      "traite de l'analyse, mais simplement mettre en tete d'un recit\n",
      "passablement singulier quelques observations jetees tout a fait a\n",
      "l'abandon et qui lui serviront de preface.\n",
      "\n",
      "je prends donc cette occasion de proclamer que la haute puissance de la\n",
      "reflexion est bien plus activement et plus profitablement exploitee par\n",
      "le modeste jeu de dames que par toute la laborieuse futilite des echecs.\n",
      "dans ce dernier jeu, ou les pieces sont douees de mouvements divers et\n",
      "bizarres, et representent des valeurs diverses et variees, la complexite\n",
      "est prise-erreur fort commune-pour de la profondeur. l'attention y est\n",
      "p\n"
     ]
    }
   ],
   "source": [
    "with open('HistoiresExtraordinaires.txt') as f:\n",
    "    texte = f.read()\n",
    "    texte = texte.replace('\\r', '')\n",
    "print(texte[:2500]) #on regarde si le texte a bien été importé"
   ]
  },
  {
   "cell_type": "markdown",
   "metadata": {},
   "source": [
    "## 1- Chiffrement de César"
   ]
  },
  {
   "cell_type": "markdown",
   "metadata": {},
   "source": [
    "### 1.1 - Description"
   ]
  },
  {
   "cell_type": "markdown",
   "metadata": {},
   "source": [
    "Le principe est assez simple :\n",
    "<ul>\n",
    "<li>on donne un numéro à chaque lettre de l'alphabet</li>\n",
    "<li>la clé de chiffrage est un nombre entre 1 et le nombre de lettre - 1</li>\n",
    "<li>la chaîne cryptée est obtenue en décalant tous les caractères de clé dans l'alphabet, étant entendu que l'on revient au début à la fin de la liste...</li>\n",
    "</ul>"
   ]
  },
  {
   "cell_type": "code",
   "execution_count": 2,
   "metadata": {},
   "outputs": [],
   "source": [
    "LETTRES = 'abcdefghijklmnopqrstuvwxyz '\n",
    "\n",
    "def indice(lettre):\n",
    "    \"\"\"\n",
    "    Retourne l'indice de la lettre donnée dans la chaîne LETTRES\n",
    "    indice('a') retourne 0, indice('z') retourne 25\n",
    "    indice(' ') retourne 26, indice(n'importe quoi d'autre) retourne 26\n",
    "    \"\"\"\n",
    "    if 97<=ord(lettre)<=122:\n",
    "        return ord(lettre)-ord(\"a\")\n",
    "    else:\n",
    "        return 26"
   ]
  },
  {
   "cell_type": "code",
   "execution_count": 3,
   "metadata": {},
   "outputs": [],
   "source": [
    "def cesar(chaine, cle):\n",
    "    #s est notre chaine codée qu'on construit au fur et à mesure\n",
    "    s = ''\n",
    "    n = len(LETTRES)\n",
    "    for i in range(len(chaine)):\n",
    "        #on décale la lettre chaine[i] de clé. On fait % n pour revenir à 0 si on dépasse 26\n",
    "        s = s + LETTRES[(indice(chaine[i]) + cle) % n]\n",
    "    return s"
   ]
  },
  {
   "cell_type": "code",
   "execution_count": 4,
   "metadata": {},
   "outputs": [
    {
     "data": {
      "text/plain": [
       "'sruoenozzoancbsnnvwfgbwesfnskgeoberwaowesfnngeorhqgwbancoenqvoezsfnpohrszowesnces wnesnchpzwqogwbansanteoaqsnsannnnnnnrbhpzsnoffoffwaognroafnzonehsn beuhsnndhszzsnqvoafbanqvoagowsagnzsfnfwenasfnndhsznab noqvwzzsnoiowgnwzncewfnndhoarnwznfsnqoqvowgncoe wnzsfnts  sfnndhsfgwbafns poeeoffoagsfnnwznsfgnieownn owfndhwnasnfbagncofnfwghnsfnohnrsznnrsngbhgsnqbaxsqghesnnnfwengvb ofnpebjasnnnnzsfntoqhzgnfnrsnznsfcewgndhnbanrntwawgncoenzsngse snnoaozlgwdhsfnnfbagnsanszzsfn n sfntbegncshnfhfqscgwpzsfnrnoaozlf'"
      ]
     },
     "execution_count": 4,
     "metadata": {},
     "output_type": "execute_result"
    }
   ],
   "source": [
    "cesar(texte, 14)[:500]"
   ]
  },
  {
   "cell_type": "markdown",
   "metadata": {},
   "source": [
    "### 1.2 - Retrouver le texte d'origine"
   ]
  },
  {
   "cell_type": "markdown",
   "metadata": {},
   "source": [
    "Le principe pour notre correspondant est assez simple, il suffit de décaler dans l'autre sens."
   ]
  },
  {
   "cell_type": "code",
   "execution_count": 5,
   "metadata": {},
   "outputs": [
    {
     "name": "stdout",
     "output_type": "stream",
     "text": [
      "khoorczruog\n",
      "hello world\n"
     ]
    }
   ],
   "source": [
    "#on crypte\n",
    "messageCode=cesar('hello world',3)\n",
    "print(messageCode)\n",
    "#on décrypte\n",
    "messageDecode=cesar(messageCode,-3)\n",
    "print(messageDecode)"
   ]
  },
  {
   "cell_type": "code",
   "execution_count": 6,
   "metadata": {},
   "outputs": [
    {
     "data": {
      "text/plain": [
       "'hello world'"
      ]
     },
     "execution_count": 6,
     "metadata": {},
     "output_type": "execute_result"
    }
   ],
   "source": [
    "#modulo 27, faire +14 ou -13 revient au même\n",
    "cesar(cesar('hello world', 13), 14)"
   ]
  },
  {
   "cell_type": "code",
   "execution_count": 7,
   "metadata": {},
   "outputs": [
    {
     "data": {
      "text/plain": [
       "'edgar allan poe  histoires extraordinaires  traduction par charles baudelaire premi re publication en france en       double assassinat dans la rue morgue  quelle chanson chantaient les sir nes  quel nom achille avait il pris  quand il se cachait parmi les femmes  questions embarrassantes  il est vrai  mais qui ne sont pas situ es au del  de toute conjecture   sir thomas browne    les facult s de l esprit qu on d finit par le terme  analytiques  sont en elles m mes fort peu susceptibles d analys'"
      ]
     },
     "execution_count": 7,
     "metadata": {},
     "output_type": "execute_result"
    }
   ],
   "source": [
    "#bien sûr, avec notre texte qui contient des caractères autres que des minuscules\n",
    "#on perd un peu d'information qui se transforme en espace\n",
    "cesar(cesar(texte, 4), -4)[:500]"
   ]
  },
  {
   "cell_type": "markdown",
   "metadata": {},
   "source": [
    "### 1.3 - Cryptanalyse"
   ]
  },
  {
   "cell_type": "markdown",
   "metadata": {},
   "source": [
    "Il est très facile de retrouver la clé secrète du chiffrement de césar si on connait l'alphabet utilisé.\n",
    "Ainsi un espion, le gouvernement, ou toute autre personne satisfaisant votre sens de la théorie du complot, peut retrouver le message en clair."
   ]
  },
  {
   "cell_type": "markdown",
   "metadata": {},
   "source": [
    "La méthode est simple : force brute. On essaie toutes les clés possible et on regarde à la main les messages obtenus. il y a tellement peu de clés possible que la cryptanalyse est quasiment immédiate."
   ]
  },
  {
   "cell_type": "code",
   "execution_count": 8,
   "metadata": {},
   "outputs": [
    {
     "name": "stdout",
     "output_type": "stream",
     "text": [
      "clé :  1  message décodé :  b fxbpqxrkxjbppydbxrkxqlrqxmbqfqxmbrxmirpxilkd\n",
      "clé :  2  message décodé : zazewaopwqjwiaooxcawqjwpkqpwlapepwlaqwlhqowhkjc\n",
      "clé :  3  message décodé : y ydv novpivh nnwb vpivojpovk odovk pvkgpnvgjib\n",
      "clé :  4  message décodé : xzxcuzmnuohugzmmvazuohunionujzncnujzoujfomufiha\n",
      "clé :  5  message décodé : wywbtylmtngtfyllu ytngtmhnmtiymbmtiyntienltehg \n",
      "clé :  6  message décodé : vxvasxklsmfsexkktzxsmfslgmlshxlalshxmshdmksdgfz\n",
      "clé :  7  message décodé : uwu rwjkrlerdwjjsywrlerkflkrgwk krgwlrgcljrcfey\n",
      "clé :  8  message décodé : tvtzqvijqkdqcviirxvqkdqjekjqfvjzjqfvkqfbkiqbedx\n",
      "clé :  9  message décodé : susypuhipjcpbuhhqwupjcpidjipeuiyipeujpeajhpadcw\n",
      "clé :  10  message décodé : rtrxotghoiboatggpvtoibohcihodthxhodtiod igo cbv\n",
      "clé :  11  message décodé : qsqwnsfgnhan sffousnhangbhgncsgwgncshnczhfnzbau\n",
      "clé :  12  message décodé : prpvmrefmg mzreentrmg mfagfmbrfvfmbrgmbygemya t\n",
      "clé :  13  message décodé : oqoulqdelfzlyqddmsqlfzle felaqeuelaqflaxfdlx zs\n",
      "clé :  14  message décodé : npntkpcdkeykxpcclrpkeykdzedk pdtdk pek weckwzyr\n",
      "clé :  15  message décodé : momsjobcjdxjwobbkqojdxjcydcjzocscjzodjzvdbjvyxq\n",
      "clé :  16  message décodé : lnlrinabicwivnaajpnicwibxcbiynbrbiynciyucaiuxwp\n",
      "clé :  17  message décodé : kmkqhm ahbvhum  iomhbvhawbahxmaqahxmbhxtb htwvo\n",
      "clé :  18  message décodé : jljpglz gaugtlzzhnlgaug va gwl p gwlagwsazgsvun\n",
      "clé :  19  message décodé : ikiofkyzf tfskyygmkf tfzu zfvkzozfvk fvr yfrutm\n",
      "clé :  20  message décodé : hjhnejxyezserjxxfljezseytzyeujynyeujzeuqzxeqtsl\n",
      "clé :  21  message décodé : gigmdiwxdyrdqiwwekidyrdxsyxdtixmxdtiydtpywdpsrk\n",
      "clé :  22  message décodé : fhflchvwcxqcphvvdjhcxqcwrxwcshwlwcshxcsoxvcorqj\n",
      "clé :  23  message décodé : egekbguvbwpboguucigbwpbvqwvbrgvkvbrgwbrnwubnqpi\n",
      "clé :  24  message décodé : dfdjaftuavoanfttbhfavoaupvuaqfujuaqfvaqmvtampoh\n",
      "clé :  25  message décodé : ceci est un message un tout petit peu plus long\n",
      "clé :  26  message décodé : bdbhzdrsztmzldrr fdztmzsntszodshszodtzoktrzknmf\n"
     ]
    }
   ],
   "source": [
    "import random\n",
    "#on choisit une clé aléatoire qu'on n'affiche pas pour la démonstration\n",
    "cle_choisie = random.randint(1, len(LETTRES) - 1)\n",
    "\n",
    "message = 'ceci est un message un tout petit peu plus long'\n",
    "crypte = cesar(message, cle_choisie)\n",
    "\n",
    "for i in range(1, len(LETTRES)):\n",
    "    print('clé : ', i, ' message décodé : ' + cesar(crypte, -i))"
   ]
  },
  {
   "cell_type": "markdown",
   "metadata": {},
   "source": [
    "Pas trop difficile de deviner ce qu'avait choisi python comme clé..."
   ]
  },
  {
   "cell_type": "markdown",
   "metadata": {},
   "source": [
    "## 2 - Chiffrement par permutation"
   ]
  },
  {
   "cell_type": "markdown",
   "metadata": {},
   "source": [
    "### 2.1 - Principe"
   ]
  },
  {
   "cell_type": "markdown",
   "metadata": {},
   "source": [
    "Au lieu de bêtement décaler chaque lettre, on choisit une bijection de l'alphabet dans lui même, c'est à dire que chaque lettre est transformée en une autre."
   ]
  },
  {
   "cell_type": "markdown",
   "metadata": {},
   "source": [
    "En pratique une bijection est représentée par une chaîne de caractère ou une liste possédant les même lettres que LETTRES mais dans le désordre"
   ]
  },
  {
   "cell_type": "code",
   "execution_count": 9,
   "metadata": {},
   "outputs": [],
   "source": [
    "def permute(chaine, bijection):\n",
    "    s = ''\n",
    "    n = len(LETTRES)\n",
    "    for c in chaine:\n",
    "        s = s + bijection[indice(c)]\n",
    "    return s"
   ]
  },
  {
   "cell_type": "code",
   "execution_count": 10,
   "metadata": {},
   "outputs": [
    {
     "name": "stdout",
     "output_type": "stream",
     "text": [
      "holle werld\n",
      "uciiwanwxiv\n"
     ]
    }
   ],
   "source": [
    "#ou on peut faire une permutation très simple en inversant simplement les \"o\" et les \"e\"\n",
    "bij1='abcdofghijklmnepqrstuvwxyz '\n",
    "print(permute('hello world', bij1))\n",
    "#ou une permutation plus complexe car complètement aléatoire\n",
    "bij = list(LETTRES)\n",
    "random.shuffle(bij)\n",
    "print(permute('hello world', bij))"
   ]
  },
  {
   "cell_type": "markdown",
   "metadata": {},
   "source": [
    "### 2.2 - Déchiffrement"
   ]
  },
  {
   "cell_type": "markdown",
   "metadata": {},
   "source": [
    "Comment retrouver le message d'origine connaissant le message chiffré et la permutation ? Facile, il suffit de calculer la réciproque, c'est à dire trouver la position du caractère courant dans bijection."
   ]
  },
  {
   "cell_type": "code",
   "execution_count": 11,
   "metadata": {},
   "outputs": [],
   "source": [
    "def decode_permute(chiffre, bijection):\n",
    "    s = ''\n",
    "    n = len(LETTRES)\n",
    "    for c in chiffre:\n",
    "        s = s + LETTRES[bijection.index(c)]\n",
    "    return s"
   ]
  },
  {
   "cell_type": "code",
   "execution_count": 12,
   "metadata": {
    "scrolled": true
   },
   "outputs": [
    {
     "name": "stdout",
     "output_type": "stream",
     "text": [
      "uciiwanwxiv\n",
      "hello world\n"
     ]
    }
   ],
   "source": [
    "#on crypte\n",
    "messageCode=permute('hello world', bij)\n",
    "print(messageCode)\n",
    "#on décrypte\n",
    "messageDecode=decode_permute(messageCode,bij)\n",
    "print(messageDecode)"
   ]
  },
  {
   "cell_type": "markdown",
   "metadata": {},
   "source": [
    "Cette fois le nombre de clé est plutôt vaste : le \"a\" peut se transformer en 26 lettres différentes, le \"b\" en 25 (puisque ça ne peut pas être la même que \"a\"), le \"c\" en 24, etc. Cela fait donc $26 \\times 25 \\times 24 \\times ... \\times 2 \\times 1 = 26! \\approx 3 \\times 10^{29}$ possibilités de clés. Si on pouvait lire 1 000 000 de textes à la seconde (pour vérifier si c'est le bon), il faudrait quand même un million de milliard d'année pour arriver au bout...\n",
    "\n",
    "On ne peut donc pas attaquer ce genre de code par de la force brute."
   ]
  },
  {
   "cell_type": "markdown",
   "metadata": {},
   "source": [
    "### 2.3 - Cryptanalyse"
   ]
  },
  {
   "cell_type": "markdown",
   "metadata": {},
   "source": [
    "Idée : la probabilité d'apparition des lettres dans un texte en français n'est pas du tout uniforme. On doit pouvoir identifier les voyelles et les consones courantes assez rapidement. On peut aussi utiliser le fait que certaines lettres sont souvent doublées en français, comme le l ou le t ou le p ou encore que de nombreux mots se terminent par s."
   ]
  },
  {
   "cell_type": "code",
   "execution_count": 68,
   "metadata": {},
   "outputs": [],
   "source": [
    "def frequence(chaine):\n",
    "    \"\"\"\n",
    "    Calcule le nombre d'occurences de chaque lettre dans la chaine donnée.\n",
    "    \"\"\"\n",
    "    #on crée un liste de compteurs initialisés à 0\n",
    "    occ = [ 0 for c in LETTRES]\n",
    "    \n",
    "    #on incrémente le compteur de la lettre rencontrée dans la chaine\n",
    "    for c in chaine:\n",
    "        i = indice(c)\n",
    "        occ[i] = occ[i] + 1\n",
    "    \n",
    "    #on modifie les compteurs en transformant les effectifs en fréquences\n",
    "    total = max(len(chaine), 1)\n",
    "    for i in range(len(LETTRES)):\n",
    "        occ[i] = 100 * occ[i] / total\n",
    "    \n",
    "    #on affiche les résultats triés par ordre de fréquence en affichant la fréquence et la lettre\n",
    "    resultat = [(occ[i], LETTRES[i]) for i in range(len(LETTRES))]\n",
    "    resultat.sort()\n",
    "    return resultat"
   ]
  },
  {
   "cell_type": "code",
   "execution_count": 14,
   "metadata": {},
   "outputs": [
    {
     "data": {
      "text/plain": [
       "[(0.03705344090410396, 'j'),\n",
       " (0.052251141274927845, 'h'),\n",
       " (0.09408100229557645, 'd'),\n",
       " (0.25792668629341114, 'z'),\n",
       " (0.30641458747651595, 'w'),\n",
       " (0.5518936334662047, 'a'),\n",
       " (0.6553827359913388, 'c'),\n",
       " (0.7543848984069915, 'l'),\n",
       " (0.784056599130981, 'm'),\n",
       " (0.8860983016207986, 'y'),\n",
       " (0.975113403792767, 'r'),\n",
       " (1.2304347700226084, 's'),\n",
       " (2.3392879370786255, 'f'),\n",
       " (2.435540039427177, 'k'),\n",
       " (2.570148242711617, 't'),\n",
       " (2.9558803521234807, 'i'),\n",
       " (4.136524560931199, ' '),\n",
       " (4.1935521223226715, 'x'),\n",
       " (4.969792761262943, 'e'),\n",
       " (4.97210860131945, 'g'),\n",
       " (5.710572099337959, 'p'),\n",
       " (5.826508842166816, 'n'),\n",
       " (5.889036523692491, 'o'),\n",
       " (6.081685468393125, 'u'),\n",
       " (6.184885090911196, 'v'),\n",
       " (11.586292542705538, 'q'),\n",
       " (23.563093614939483, 'b')]"
      ]
     },
     "execution_count": 14,
     "metadata": {},
     "output_type": "execute_result"
    }
   ],
   "source": [
    "#on suppose que le texte est codée par une bijection secrète IL FAUT FAIRE COMME SI ON NE CONNAISSAIT PAS CETTE BIJECTION!!!\n",
    "bij=['u', 'm', 'k', 'i', 'q', 'y', 'l', 'c', 'p', 'a', 'j', ' ', 't', 'n', 'x', 'f', 'r', 'g', 'v', 'o', 'e', 's', 'h', 'w', 'z', 'd', 'b']\n",
    "messageCode = permute(texte, bij)\n",
    "frequence(messageCode)"
   ]
  },
  {
   "cell_type": "markdown",
   "metadata": {},
   "source": [
    "Il suffit maintenant d'aller sur [wikipedia](https://fr.wikipedia.org/wiki/Fr%C3%A9quence_d%27apparition_des_lettres_en_fran%C3%A7ais#Fr%C3%A9quence_des_caract%C3%A8res_dans_le_corpus_de_Wikip%C3%A9dia_en_fran%C3%A7ais) ou tout autre site pour trouver une table référence des fréquence de lettres dans les textes en français. \n",
    "On peut deviner plusieurs choses :\n",
    "<ul>\n",
    "<li>l'espace correspond au 23,56%</li>\n",
    "<li>le e doit correspondre à la lettre la plus fréquente</li>\n",
    "</ul>\n",
    "Pour trouver des chiffres plus proches des tables données, il faut considérer des textes sans espaces. Allons-y"
   ]
  },
  {
   "cell_type": "code",
   "execution_count": 15,
   "metadata": {},
   "outputs": [
    {
     "data": {
      "text/plain": [
       "[(0.0, 'b'),\n",
       " (0.04847585107309628, 'j'),\n",
       " (0.06835852436479593, 'h'),\n",
       " (0.12308321561528353, 'd'),\n",
       " (0.3374373695791311, 'z'),\n",
       " (0.40087256531931575, 'w'),\n",
       " (0.7220250786785786, 'a'),\n",
       " (0.8574166158553905, 'c'),\n",
       " (0.9869380304413196, 'l'),\n",
       " (1.0257565830584474, 'm'),\n",
       " (1.1592545323027166, 'y'),\n",
       " (1.2757101901541001, 'r'),\n",
       " (1.6097391014546543, 's'),\n",
       " (3.0604168165757115, 'f'),\n",
       " (3.186340414089809, 'k'),\n",
       " (3.362444091816292, 't'),\n",
       " (3.8670852758389542, 'i'),\n",
       " (5.411684952414135, ' '),\n",
       " (5.486292316956322, 'x'),\n",
       " (6.501823525179039, 'e'),\n",
       " (6.504853265871107, 'g'),\n",
       " (7.470961829054456, 'p'),\n",
       " (7.622638222451136, 'n'),\n",
       " (7.704441221136986, 'o'),\n",
       " (7.956477774958436, 'u'),\n",
       " (8.09149059454874, 'v'),\n",
       " (15.157982041212048, 'q')]"
      ]
     },
     "execution_count": 15,
     "metadata": {},
     "output_type": "execute_result"
    }
   ],
   "source": [
    "messageCode2 = messageCode.replace('b', '')\n",
    "frequence(messageCode2)"
   ]
  },
  {
   "cell_type": "markdown",
   "metadata": {},
   "source": [
    "Les chiffres obtenus sont proches de ceux de la table de référence. Essayons de décrypter.\n",
    "\n",
    "On va créer une fonction qui permute deux lettres données :"
   ]
  },
  {
   "cell_type": "code",
   "execution_count": 16,
   "metadata": {},
   "outputs": [],
   "source": [
    "def echange(chaine, c1, c2):\n",
    "    s = ''\n",
    "    for c in chaine:\n",
    "        #si on rencontre c1, on remplace par c2\n",
    "        if c == c1:\n",
    "            s += c2\n",
    "        #si on rencontre c2, on remplace par c2\n",
    "        elif c == c2:\n",
    "            s += c1\n",
    "        #sinon on garde le même caractère\n",
    "        else:\n",
    "            s += c\n",
    "    return s"
   ]
  },
  {
   "cell_type": "code",
   "execution_count": 17,
   "metadata": {},
   "outputs": [
    {
     "data": {
      "text/plain": [
       "'eulit ibbin fxe  crasxrtea ewstixturnirtea  stiuqksrxn fit kcitbea miquebirte ftegr te fqmbrkisrxn en ytinke en       uxqmbe iaaiaarnis uina bi tqe gxtlqe  pqebbe kcinaxn kcinsirens bea art nea  pqeb nxg ikcrbbe ioirs rb ftra  pqinu rb ae kikcirs fitgr bea yeggea  pqeasrxna egmittiaainsea  rb eas otir  gira pqr ne axns fia arsq ea iq ueb  ue sxqse kxnveksqte   art scxgia mtxhne    bea yikqbs a ue b eaftrs pq xn u yrnrs fit be setge  inibzsrpqea  axns en ebbea g gea yxts feq aqakefsrmbea u inibzae  nxqa ne bea ifft krxna pqe fit beqta t aqbsisa  ke pqe nxqa en aioxna  enste iqstea kcxaea  k eas pq ebbea axns fxqt kebqr pqr bea fxaa ue   qn uelt  ewstixturnirte qne axqtke ue vxqraainkea uea fbqa oroea  ue g ge pqe b cxgge yxts ae t vxqrs uina axn ifsrsque fczarpqe  ae kxgfbi s uina bea ewetkrkea pqr ftxoxpqens bea gqakbea   b iksrxn  ue g ge b inibzae ftenu ai lbxrte uina kesse iksrors  afrtrsqebbe uxns bi yxnksrxn eas ue u mtxqrbbet  rb srte uq fbirart g ge uea fbqa stroribea xkkiarxna pqr gessens aea sibensa en veq  rb tiyyxbe uea  nrlgea  uea t mqa  uea cr txlbzfcea  rb u fbxre uina kcikqne uea axbqsrxna qne fqraainke ue fetafrkikrs  pqr  uina b xfrnrxn oqblirte  ftenu qn kitiks te aqtnisqteb  bea t aqbsisa  cimrbegens u uqrsa fit b  ge g ge es b eaaenke ue ai g scxue  xns t ebbegens sxqs b irt u qne rnsqrsrxn   kesse yikqbs  ue  t axbqsrxn  srte feqs  ste qne ltinue yxtke ue b  sque uea gisc gisrpqea  es fitsrkqbr tegens ue bi st a ciqse mtinkce ue kesse akrenke  pqr  yxts rgftxftegens es argfbegens en tiraxn ue aea xf tisrxna t stxltiuea  i  s  nxgg e b inibzae  kxgge ar ebbe  sirs b inibzae fit ewkebbenke  kit  en axgge  sxqs kibkqb n eas fia en axr qne inibzae  qn vxqeqt u  kceka  fit ewegfbe  yirs yxts mren b qn aina b iqste  rb aqrs ue b  pqe be veq u  kceka  uina aea eyyesa aqt bi nisqte afrtrsqebbe  eas yxts gib ifft kr   ve ne oeqw fia  ktrte rkr qn stirs  ue b inibzae  gira argfbegens gesste en s se u qn t krs fiaaimbegens arnlqbret pqebpqea xmaetoisrxna ves ea sxqs   yirs   b iminuxn es pqr bqr aetortxns ue ft yike   ve ftenua uxnk kesse xkkiarxn ue ftxkbiget pqe bi ciqse fqraainke ue bi t ybewrxn eas mren fbqa iksroegens es fbqa ftxyrsimbegens ewfbxrs e fit be gxuease veq ue uigea pqe fit sxqse bi bimxtreqae yqsrbrs  uea  kceka  uina ke uetnret veq  x  bea fr kea axns uxq ea ue gxqoegensa uroeta es mrdittea  es teft aensens uea oibeqta uroetaea es oitr ea  bi kxgfbewrs  eas ftrae etteqt yxts kxggqne fxqt ue bi ftxyxnueqt  b issensrxn z eas fqraaiggens grae en veq  ar ebbe ae teb kce u qn rnasins  xn kxgges qne etteqt  u x  rb t aqbse qne fetse xq qne u yirse  kxgge bea gxqoegensa fxaarmbea axns nxn aeqbegens oitr a  gira rn liqw en  fqraainke   bea kcinkea ue fiterbbea etteqta axns st a gqbsrfbr ea  es uina neqy kia aqt urw  k eas be vxqeqt be fbqa issensry pqr lilne es nxn fia be fbqa cimrbe  uina bea uigea  iq kxnstirte  x  be gxqoegens eas argfbe uina axn eaf ke es ne aqmrs pqe feq ue oitrisrxna  bea ftxmimrbrs a u rniuoetsinke axns meiqkxqf gxrnutea  es b issensrxn n  sins fia imaxbqgens es ensr tegens ikkifit e  sxqa bea ioinsilea tegfxts a fit kcikqn uea vxqeqta ne feqoens  ste tegfxts a pqe fit qne fetafrkikrs  aqf treqte   fxqt biraaet b  kea imastiksrxna  aqffxaxna qn veq ue uigea x  bi sxsibrs  uea fr kea axrs t uqrse   pqiste uigea  es x  nisqtebbegens rb n z irs fia breq ue a issenute   uea  sxqtuetrea  rb eas  oruens pq rkr bi orksxrte ne feqs  ste u kru e  bea ueqw fitsrea  sins imaxbqgens  libea  pqe fit qne siksrpqe cimrbe  t aqbsis ue pqebpqe fqraains eyyxts ue b rnsebbeks  ftro  uea teaaxqtkea xturnirtea  b inibzase enste uina b eaftrs ue axn iuoetairte  a ruensryre ioek bqr  es axqoens u kxqote u qn aeqb kxqf u  rb b qnrpqe gxzen qn gxzen pqebpqeyxra imaqtuegens argfbe ue b issrtet uina qne yiqse xq ue be ft krfrset uina qn yiqw kibkqb   xn i bxnlsegfa krs  be hcras fxqt axn iksrxn aqt bi yikqbs  uq kibkqb  es xn i kxnnq uea cxggea u qne ciqse rnsebbrlenke pqr aegmbirens z ftenute qn fbirart rnkxgft cenarmbe es u uirlnet bea  kceka kxgge qn veq ytroxbe  en eyyes  rb n z i iqkqn veq inibxlqe pqr yiaae fbqa stioirbbet bi yikqbs  ue b inibzae  be gerbbeqt vxqeqt u  kceka ue bi kct srens  ne feqs lq te  ste iqste kcxae pqe be gerbbeqt vxqeqt u  kceka  gira bi yxtke iq hcras rgfbrpqe bi fqraainke ue t qaart uina sxqsea bea af kqbisrxna mren iqstegens rgfxtsinsea x  b eaftrs bqsse ioek b eaftrs   pqinu ve ura bi yxtke  v ensenua kesse fetyeksrxn uina be veq pqr kxgftenu b rnsebbrlenke ue sxqa bea kia uxns xn feqs b lrsrgegens yirte axn ftxyrs  rba axns nxn aeqbegens uroeta  gira kxgfbewea  es ae u txmens axqoens uina uea ftxyxnueqta ue bi fena e imaxbqgens rnikkeaarmbea   qne rnsebbrlenke xturnirte   xmaetoet issensroegens  k eas ae tiffebet urasrnksegens  es    ke fxrns ue oqe  be vxqeqt u  kceka kifimbe u qne issensrxn st a rnsenae vxqeti yxts mren iq hcras  fqrapqe bea t lbea ue cxzbe  mia ea ebbea g gea aqt be argfbe g kinrage uq veq  axns yikrbegens es l n tibegens rnsebbrlrmb'"
      ]
     },
     "execution_count": 17,
     "metadata": {},
     "output_type": "execute_result"
    }
   ],
   "source": [
    "c2 = echange(messageCode, 'b', ' ');\n",
    "c2 = echange(c2, 'q', 'e')\n",
    "c2 = echange(c2, 'v', 'a')\n",
    "c2 = echange(c2, 'u', 'i')\n",
    "c2 = echange(c2, 'o', 's')\n",
    "c2 = echange(c2, 'n', 'n')\n",
    "c2 = echange(c2, 'p', 'r')\n",
    "c2 = echange(c2, 'g', 't')\n",
    "\n",
    "c2[:5000]"
   ]
  },
  {
   "cell_type": "markdown",
   "metadata": {},
   "source": [
    "Beaucoup de mots se terminent par a, ce sont sûrement des s. On voit aussi le 2eme mot avec un double b, on parie sur un double l à la place :"
   ]
  },
  {
   "cell_type": "code",
   "execution_count": 18,
   "metadata": {},
   "outputs": [
    {
     "data": {
      "text/plain": [
       "'eubit illin fxe  crsaxrtes ewatixturnirtes  atiuqkarxn fit kcitles miquelirte ftegr te fqmlrkiarxn en ytinke en       uxqmle ississrnia uins li tqe gxtbqe  pqelle kcinsxn kcinairena les srt nes  pqel nxg ikcrlle ioira rl ftrs  pqinu rl se kikcira fitgr les yegges  pqesarxns egmittissinaes  rl esa otir  girs pqr ne sxna fis sraq es iq uel  ue axqae kxnvekaqte   srt acxgis mtxhne    les yikqla s ue l esftra pq xn u yrnra fit le aetge  inilzarpqes  sxna en elles g ges yxta feq sqskefarmles u inilzse  nxqs ne les ifft krxns pqe fit leqts t sqlaias  ke pqe nxqs en sioxns  enate iqates kcxses  k esa pq elles sxna fxqt kelqr pqr les fxss ue   qn uebt  ewatixturnirte qne sxqtke ue vxqrssinkes ues flqs oroes  ue g ge pqe l cxgge yxta se t vxqra uins sxn ifaraque fczsrpqe  se kxgfli a uins les ewetkrkes pqr ftxoxpqena les gqskles   l ikarxn  ue g ge l inilzse ftenu si blxrte uins keaae ikarora  sfrtraqelle uxna li yxnkarxn esa ue u mtxqrllet  rl arte uq flirsrt g ge ues flqs atroriles xkkisrxns pqr geaaena ses ailenas en veq  rl tiyyxle ues  nrbges  ues t mqs  ues cr txblzfces  rl u flxre uins kcikqne ues sxlqarxns qne fqrssinke ue fetsfrkikra  pqr  uins l xfrnrxn oqlbirte  ftenu qn kitika te sqtniaqtel  les t sqlaias  cimrlegena u uqras fit l  ge g ge ea l essenke ue si g acxue  xna t ellegena axqa l irt u qne rnaqrarxn   keaae yikqla  ue  t sxlqarxn  arte feqa  ate qne btinue yxtke ue l  aque ues giac giarpqes  ea fitarkqlr tegena ue li at s ciqae mtinkce ue keaae skrenke  pqr  yxta rgftxftegena ea srgflegena en tirsxn ue ses xf tiarxns t atxbtiues  i  a  nxgg e l inilzse  kxgge sr elle  aira l inilzse fit ewkellenke  kit  en sxgge  axqa kilkql n esa fis en sxr qne inilzse  qn vxqeqt u  kceks  fit ewegfle  yira yxta mren l qn sins l iqate  rl sqra ue l  pqe le veq u  kceks  uins ses eyyeas sqt li niaqte sfrtraqelle  esa yxta gil ifft kr   ve ne oeqw fis  ktrte rkr qn atira  ue l inilzse  girs srgflegena geaate en a ae u qn t kra fissimlegena srnbqlret pqelpqes xmsetoiarxns vea es axqa   yira   l iminuxn ea pqr lqr setortxna ue ft yike   ve ftenus uxnk keaae xkkisrxn ue ftxkliget pqe li ciqae fqrssinke ue li t ylewrxn esa mren flqs ikaroegena ea flqs ftxyraimlegena ewflxra e fit le gxuesae veq ue uiges pqe fit axqae li limxtreqse yqarlra  ues  kceks  uins ke uetnret veq  x  les fr kes sxna uxq es ue gxqoegenas uroets ea mrdittes  ea teft senaena ues oileqts uroetses ea oitr es  li kxgflewra  esa ftrse etteqt yxta kxggqne fxqt ue li ftxyxnueqt  l iaaenarxn z esa fqrssiggena grse en veq  sr elle se tel kce u qn rnsaina  xn kxggea qne etteqt  u x  rl t sqlae qne fetae xq qne u yirae  kxgge les gxqoegenas fxssrmles sxna nxn seqlegena oitr s  girs rn biqw en  fqrssinke   les kcinkes ue fiterlles etteqts sxna at s gqlarflr es  ea uins neqy kis sqt urw  k esa le vxqeqt le flqs iaaenary pqr bibne ea nxn fis le flqs cimrle  uins les uiges  iq kxnatirte  x  le gxqoegena esa srgfle uins sxn esf ke ea ne sqmra pqe feq ue oitriarxns  les ftxmimrlra s u rniuoetainke sxna meiqkxqf gxrnutes  ea l iaaenarxn n  aina fis imsxlqgena ea enar tegena ikkifit e  axqs les ioinaibes tegfxta s fit kcikqn ues vxqeqts ne feqoena  ate tegfxta s pqe fit qne fetsfrkikra  sqf treqte   fxqt lirsset l  kes imsatikarxns  sqffxsxns qn veq ue uiges x  li axailra  ues fr kes sxra t uqrae   pqiate uiges  ea x  niaqtellegena rl n z ira fis lreq ue s iaaenute   ues  axqtuetres  rl esa  oruena pq rkr li orkaxrte ne feqa  ate u kru e  les ueqw fitares  aina imsxlqgena  biles  pqe fit qne aikarpqe cimrle  t sqlaia ue pqelpqe fqrssina eyyxta ue l rnaelleka  ftro  ues tessxqtkes xturnirtes  l inilzsae enate uins l esftra ue sxn iuoetsirte  s ruenaryre ioek lqr  ea sxqoena u kxqote u qn seql kxqf u  rl l qnrpqe gxzen qn gxzen pqelpqeyxrs imsqtuegena srgfle ue l iaartet uins qne yiqae xq ue le ft krfraet uins qn yiqw kilkql   xn i lxnbaegfs kra  le hcrsa fxqt sxn ikarxn sqt li yikqla  uq kilkql  ea xn i kxnnq ues cxgges u qne ciqae rnaellrbenke pqr segmlirena z ftenute qn flirsrt rnkxgft censrmle ea u uirbnet les  kceks kxgge qn veq ytroxle  en eyyea  rl n z i iqkqn veq inilxbqe pqr yisse flqs atioirllet li yikqla  ue l inilzse  le gerlleqt vxqeqt u  kceks ue li kct arena  ne feqa bq te  ate iqate kcxse pqe le gerlleqt vxqeqt u  kceks  girs li yxtke iq hcrsa rgflrpqe li fqrssinke ue t qssrt uins axqaes les sf kqliarxns mren iqategena rgfxtainaes x  l esftra lqaae ioek l esftra   pqinu ve urs li yxtke  v enaenus keaae fetyekarxn uins le veq pqr kxgftenu l rnaellrbenke ue axqs les kis uxna xn feqa l brargegena yirte sxn ftxyra  rls sxna nxn seqlegena uroets  girs kxgflewes  ea se u txmena sxqoena uins ues ftxyxnueqts ue li fens e imsxlqgena rnikkessrmles   qne rnaellrbenke xturnirte   xmsetoet iaaenaroegena  k esa se tiffelet ursarnkaegena  ea    ke fxrna ue oqe  le vxqeqt u  kceks kifimle u qne iaaenarxn at s rnaense vxqeti yxta mren iq hcrsa  fqrspqe les t bles ue cxzle  mis es elles g ges sqt le srgfle g kinrsge uq veq  sxna yikrlegena ea b n tilegena rnaellrbrml'"
      ]
     },
     "execution_count": 18,
     "metadata": {},
     "output_type": "execute_result"
    }
   ],
   "source": [
    "c2 = echange(c2, 'a', 's')\n",
    "c2 = echange(c2, 'b', 'l')\n",
    "\n",
    "c2[0:5000]"
   ]
  },
  {
   "cell_type": "markdown",
   "metadata": {},
   "source": [
    "Prochaine étape, utiliser les espaces de manière plus systématiques, pour réutiliser l'idée précédente. Par exemple, trouver les mots de longueur 1 et 2."
   ]
  },
  {
   "cell_type": "code",
   "execution_count": 42,
   "metadata": {},
   "outputs": [
    {
     "name": "stdout",
     "output_type": "stream",
     "text": [
      "{('d', 5), ('z', 366), ('g', 1076), ('u', 2765), ('a', 972), ('v', 625), ('y', 123), ('o', 233), ('k', 538), ('f', 241), ('h', 3), ('s', 1602), ('m', 118), ('e', 1024), ('l', 2566), ('q', 19), ('c', 88), ('n', 1020), ('x', 178), ('i', 618), ('p', 3), ('r', 8), ('w', 3), ('j', 1), ('b', 167), ('t', 804)}\n",
      "{('ve', 1768), ('ag', 57), ('bt', 29), ('fi', 2), ('ac', 36), ('fc', 26), ('xq', 314), ('rn', 79), ('bq', 23), ('fb', 1), ('ne', 835), ('ro', 1), ('ee', 1), ('iq', 631), ('xk', 29), ('xt', 142), ('as', 9), ('he', 9), ('xy', 118), ('iu', 2), ('im', 17), ('oe', 29), ('gz', 1), ('ry', 21), ('na', 4), ('yl', 27), ('sq', 9), ('xg', 3), ('en', 1247), ('fr', 25), ('ig', 42), ('ux', 17), ('ru', 120), ('yi', 29), ('fw', 2), ('cz', 2), ('ec', 15), ('ni', 3), ('sk', 9), ('li', 3165), ('ai', 11), ('qe', 4), ('ic', 17), ('it', 2), ('mr', 1), ('lr', 2), ('is', 20), ('cr', 4), ('nr', 80), ('rs', 28), ('ia', 13), ('rr', 1), ('sa', 5), ('sf', 28), ('gq', 2), ('mx', 8), ('ke', 772), ('ts', 4), ('xm', 5), ('ra', 15), ('ew', 10), ('io', 2), ('nq', 7), ('il', 5), ('if', 1), ('mz', 22), ('ue', 5249), ('ui', 3), ('fq', 74), ('qn', 1867), ('ut', 7), ('ae', 286), ('ir', 256), ('xs', 6), ('pq', 772), ('tr', 5), ('el', 3), ('ge', 972), ('ci', 6), ('sr', 346), ('yr', 30), ('be', 22), ('gr', 1), ('kt', 88), ('aq', 53), ('et', 10), ('me', 19), ('at', 282), ('nx', 13), ('yt', 44), ('gg', 9), ('xn', 371), ('ti', 6), ('lx', 1), ('qf', 3), ('qu', 5), ('tx', 5), ('tq', 1), ('oi', 13), ('fx', 52), ('te', 672), ('bn', 2), ('ea', 3237), ('kq', 3), ('ox', 7), ('kx', 15), ('mi', 1), ('lq', 6), ('oq', 50), ('gi', 280), ('mt', 14), ('ml', 2), ('xc', 32), ('qt', 38), ('bx', 17), ('se', 538), ('sx', 2), ('uq', 980), ('eq', 49), ('es', 331), ('xf', 30), ('bl', 4), ('tc', 1), ('si', 451), ('ax', 80), ('ur', 1), ('kl', 5), ('kc', 65), ('qa', 8), ('rl', 1689), ('kr', 46), ('le', 2422), ('ft', 410), ('ce', 3), ('fl', 4), ('ij', 1), ('qy', 1), ('in', 42), ('ar', 2), ('qs', 30)}\n"
     ]
    }
   ],
   "source": [
    "mots = c2.split()\n",
    "\n",
    "long_1 = [m for m in mots if len(m)== 1]\n",
    "mots_1 = set() #ensemble : ne peut pas contenir deux fois le même élément\n",
    "for m in long_1:\n",
    "    mots_1.add((m, long_1.count(m)))\n",
    "print(mots_1)\n",
    "\n",
    "long_2 = [m for m in mots if len(m) == 2]\n",
    "mots_2 = set() #ensemble : ne peut pas contenir deux fois le même élément\n",
    "for m in long_2:\n",
    "    mots_2.add((m, long_2.count(m)))\n",
    "print(mots_2)"
   ]
  },
  {
   "cell_type": "markdown",
   "metadata": {},
   "source": [
    "Le but est de trouver a, l, d qui sont très commun en mots d'une lettre comme en mots de deux (\"l'\", \"d'\", \"la\", \"le\"...)\n",
    "\n",
    "On observe que le mot \"ue\" apparait 5249 fois, comme on est assez sûr du e et sans doute du l, on peut parier que le u se transforme en d.\n",
    "\n",
    "De même, on on observe que \"le\" et \"li\" apparaissent environ 3000 fois, donc on parie que ce sont les mots le et la. On va donc inverser le i et le a.    "
   ]
  },
  {
   "cell_type": "code",
   "execution_count": 20,
   "metadata": {},
   "outputs": [
    {
     "data": {
      "text/plain": [
       "'eubat allan fxe  crsixrtes ewitaxturnartes  itauqkirxn fat kcatles maquelarte ftegr te fqmlrkairxn en ytanke en       uxqmle assassrnai uans la tqe gxtbqe  pqelle kcansxn kcaniareni les srt nes  pqel nxg akcrlle aoari rl ftrs  pqanu rl se kakcari fatgr les yegges  pqesirxns egmattassanies  rl esi otar  gars pqr ne sxni fas sriq es aq uel  ue ixqie kxnvekiqte   srt icxgas mtxhne    les yakqli s ue l esftri pq xn u yrnri fat le ietge  analzirpqes  sxni en elles g ges yxti feq sqskefirmles u analzse  nxqs ne les afft krxns pqe fat leqts t sqliais  ke pqe nxqs en saoxns  enite aqites kcxses  k esi pq elles sxni fxqt kelqr pqr les fxss ue   qn uebt  ewitaxturnarte qne sxqtke ue vxqrssankes ues flqs oroes  ue g ge pqe l cxgge yxti se t vxqri uans sxn afirique fczsrpqe  se kxgfla i uans les ewetkrkes pqr ftxoxpqeni les gqskles   l akirxn  ue g ge l analzse ftenu sa blxrte uans keiie akirori  sfrtriqelle uxni la yxnkirxn esi ue u mtxqrllet  rl irte uq flarsrt g ge ues flqs itrorales xkkasrxns pqr geiieni ses ialenis en veq  rl tayyxle ues  nrbges  ues t mqs  ues cr txblzfces  rl u flxre uans kcakqne ues sxlqirxns qne fqrssanke ue fetsfrkakri  pqr  uans l xfrnrxn oqlbarte  ftenu qn kataki te sqtnaiqtel  les t sqliais  camrlegeni u uqris fat l  ge g ge ei l essenke ue sa g icxue  xni t ellegeni ixqi l art u qne rniqrirxn   keiie yakqli  ue  t sxlqirxn  irte feqi  ite qne btanue yxtke ue l  ique ues gaic gairpqes  ei fatirkqlr tegeni ue la it s caqie mtankce ue keiie skrenke  pqr  yxti rgftxftegeni ei srgflegeni en tarsxn ue ses xf tairxns t itxbtaues  a  i  nxgg e l analzse  kxgge sr elle  iari l analzse fat ewkellenke  kat  en sxgge  ixqi kalkql n esi fas en sxr qne analzse  qn vxqeqt u  kceks  fat ewegfle  yari yxti mren l qn sans l aqite  rl sqri ue l  pqe le veq u  kceks  uans ses eyyeis sqt la naiqte sfrtriqelle  esi yxti gal afft kr   ve ne oeqw fas  ktrte rkr qn itari  ue l analzse  gars srgflegeni geiite en i ie u qn t kri fassamlegeni srnbqlret pqelpqes xmsetoairxns vei es ixqi   yari   l amanuxn ei pqr lqr setortxni ue ft yake   ve ftenus uxnk keiie xkkasrxn ue ftxklaget pqe la caqie fqrssanke ue la t ylewrxn esi mren flqs akiroegeni ei flqs ftxyriamlegeni ewflxri e fat le gxuesie veq ue uages pqe fat ixqie la lamxtreqse yqirlri  ues  kceks  uans ke uetnret veq  x  les fr kes sxni uxq es ue gxqoegenis uroets ei mrdattes  ei teft senieni ues oaleqts uroetses ei oatr es  la kxgflewri  esi ftrse etteqt yxti kxggqne fxqt ue la ftxyxnueqt  l aiienirxn z esi fqrssaggeni grse en veq  sr elle se tel kce u qn rnsiani  xn kxggei qne etteqt  u x  rl t sqlie qne fetie xq qne u yarie  kxgge les gxqoegenis fxssrmles sxni nxn seqlegeni oatr s  gars rn baqw en  fqrssanke   les kcankes ue faterlles etteqts sxni it s gqlirflr es  ei uans neqy kas sqt urw  k esi le vxqeqt le flqs aiieniry pqr babne ei nxn fas le flqs camrle  uans les uages  aq kxnitarte  x  le gxqoegeni esi srgfle uans sxn esf ke ei ne sqmri pqe feq ue oatrairxns  les ftxmamrlri s u rnauoetianke sxni meaqkxqf gxrnutes  ei l aiienirxn n  iani fas amsxlqgeni ei enir tegeni akkafat e  ixqs les aoaniabes tegfxti s fat kcakqn ues vxqeqts ne feqoeni  ite tegfxti s pqe fat qne fetsfrkakri  sqf treqte   fxqt larsset l  kes amsitakirxns  sqffxsxns qn veq ue uages x  la ixialri  ues fr kes sxri t uqrie   pqaite uages  ei x  naiqtellegeni rl n z ari fas lreq ue s aiienute   ues  ixqtuetres  rl esi  orueni pq rkr la orkixrte ne feqi  ite u kru e  les ueqw fatires  iani amsxlqgeni  bales  pqe fat qne iakirpqe camrle  t sqliai ue pqelpqe fqrssani eyyxti ue l rnielleki  ftro  ues tessxqtkes xturnartes  l analzsie enite uans l esftri ue sxn auoetsarte  s rueniryre aoek lqr  ei sxqoeni u kxqote u qn seql kxqf u  rl l qnrpqe gxzen qn gxzen pqelpqeyxrs amsqtuegeni srgfle ue l aiirtet uans qne yaqie xq ue le ft krfriet uans qn yaqw kalkql   xn a lxnbiegfs kri  le hcrsi fxqt sxn akirxn sqt la yakqli  uq kalkql  ei xn a kxnnq ues cxgges u qne caqie rniellrbenke pqr segmlareni z ftenute qn flarsrt rnkxgft censrmle ei u uarbnet les  kceks kxgge qn veq ytroxle  en eyyei  rl n z a aqkqn veq analxbqe pqr yasse flqs itaoarllet la yakqli  ue l analzse  le gerlleqt vxqeqt u  kceks ue la kct ireni  ne feqi bq te  ite aqite kcxse pqe le gerlleqt vxqeqt u  kceks  gars la yxtke aq hcrsi rgflrpqe la fqrssanke ue t qssrt uans ixqies les sf kqlairxns mren aqitegeni rgfxtianies x  l esftri lqiie aoek l esftri   pqanu ve urs la yxtke  v enienus keiie fetyekirxn uans le veq pqr kxgftenu l rniellrbenke ue ixqs les kas uxni xn feqi l brirgegeni yarte sxn ftxyri  rls sxni nxn seqlegeni uroets  gars kxgflewes  ei se u txmeni sxqoeni uans ues ftxyxnueqts ue la fens e amsxlqgeni rnakkessrmles   qne rniellrbenke xturnarte   xmsetoet aiieniroegeni  k esi se taffelet ursirnkiegeni  ei    ke fxrni ue oqe  le vxqeqt u  kceks kafamle u qne aiienirxn it s rniense vxqeta yxti mren aq hcrsi  fqrspqe les t bles ue cxzle  mas es elles g ges sqt le srgfle g kanrsge uq veq  sxni yakrlegeni ei b n talegeni rniellrbrml'"
      ]
     },
     "execution_count": 20,
     "metadata": {},
     "output_type": "execute_result"
    }
   ],
   "source": [
    "c3 = echange(c2, 'u', 'd')\n",
    "c3 = echange(c2, 'i', 'a')\n",
    "c3[0:5000]"
   ]
  },
  {
   "cell_type": "markdown",
   "metadata": {},
   "source": [
    "On voit \"elles sxni\" qui ressemblent à \"elles sont\".\n",
    "On va tenter les permutations x<->o et i<->t."
   ]
  },
  {
   "cell_type": "code",
   "execution_count": 21,
   "metadata": {},
   "outputs": [
    {
     "data": {
      "text/plain": [
       "'eubai allan foe  crstories ewtiaoiurnaries  tiauqktron fai kcailes maquelarie fiegr ie fqmlrkatron en yianke en       uoqmle assassrnat uans la iqe goibqe  pqelle kcanson kcantarent les sri nes  pqel nog akcrlle axart rl firs  pqanu rl se kakcart faigr les yegges  pqestrons egmaiiassantes  rl est xiar  gars pqr ne sont fas srtq es aq uel  ue toqte konvektqie   sri tcogas miohne    les yakqlt s ue l esfirt pq on u yrnrt fai le teige  analztrpqes  sont en elles g ges yoit feq sqskeftrmles u analzse  noqs ne les affi krons pqe fai leqis i sqltats  ke pqe noqs en saxons  entie aqties kcoses  k est pq elles sont foqi kelqr pqr les foss ue   qn uebi  ewtiaoiurnarie qne soqike ue voqrssankes ues flqs xrxes  ue g ge pqe l cogge yoit se i voqrt uans son aftrtque fczsrpqe  se kogfla t uans les eweikrkes pqr fioxopqent les gqskles   l aktron  ue g ge l analzse fienu sa blorie uans kette aktrxrt  sfrirtqelle uont la yonktron est ue u mioqrllei  rl trie uq flarsri g ge ues flqs tirxrales okkasrons pqr gettent ses talents en veq  rl iayyole ues  nrbges  ues i mqs  ues cr ioblzfces  rl u flore uans kcakqne ues solqtrons qne fqrssanke ue feisfrkakrt  pqr  uans l ofrnron xqlbarie  fienu qn kaiakt ie sqinatqiel  les i sqltats  camrlegent u uqrts fai l  ge g ge et l essenke ue sa g tcoue  ont i ellegent toqt l ari u qne rntqrtron   kette yakqlt  ue  i solqtron  trie feqt  tie qne bianue yoike ue l  tque ues gatc gatrpqes  et faitrkqlr iegent ue la ti s caqte miankce ue kette skrenke  pqr  yoit rgfiofiegent et srgflegent en iarson ue ses of iatrons i tiobiaues  a  t  nogg e l analzse  kogge sr elle  tart l analzse fai ewkellenke  kai  en sogge  toqt kalkql n est fas en sor qne analzse  qn voqeqi u  kceks  fai ewegfle  yart yoit mren l qn sans l aqtie  rl sqrt ue l  pqe le veq u  kceks  uans ses eyyets sqi la natqie sfrirtqelle  est yoit gal affi kr   ve ne xeqw fas  kirie rkr qn tiart  ue l analzse  gars srgflegent gettie en t te u qn i krt fassamlegent srnbqlrei pqelpqes omseixatrons vet es toqt   yart   l amanuon et pqr lqr seixriont ue fi yake   ve fienus uonk kette okkasron ue fioklagei pqe la caqte fqrssanke ue la i ylewron est mren flqs aktrxegent et flqs fioyrtamlegent ewflort e fai le goueste veq ue uages pqe fai toqte la lamoireqse yqtrlrt  ues  kceks  uans ke ueinrei veq  o  les fr kes sont uoq es ue goqxegents urxeis et mrdaiies  et iefi sentent ues xaleqis urxeises et xair es  la kogflewrt  est firse eiieqi yoit koggqne foqi ue la fioyonueqi  l attentron z est fqrssaggent grse en veq  sr elle se iel kce u qn rnstant  on kogget qne eiieqi  u o  rl i sqlte qne feite oq qne u yarte  kogge les goqxegents fossrmles sont non seqlegent xair s  gars rn baqw en  fqrssanke   les kcankes ue faierlles eiieqis sont ti s gqltrflr es  et uans neqy kas sqi urw  k est le voqeqi le flqs attentry pqr babne et non fas le flqs camrle  uans les uages  aq kontiarie  o  le goqxegent est srgfle uans son esf ke et ne sqmrt pqe feq ue xairatrons  les fiomamrlrt s u rnauxeitanke sont meaqkoqf gornuies  et l attentron n  tant fas amsolqgent et entr iegent akkafai e  toqs les axantabes iegfoit s fai kcakqn ues voqeqis ne feqxent  tie iegfoit s pqe fai qne feisfrkakrt  sqf ireqie   foqi larssei l  kes amstiaktrons  sqffosons qn veq ue uages o  la totalrt  ues fr kes sort i uqrte   pqatie uages  et o  natqiellegent rl n z art fas lreq ue s attenuie   ues  toqiueires  rl est  xruent pq rkr la xrktorie ne feqt  tie u kru e  les ueqw faitres  tant amsolqgent  bales  pqe fai qne taktrpqe camrle  i sqltat ue pqelpqe fqrssant eyyoit ue l rntellekt  firx  ues iessoqikes oiurnaries  l analzste entie uans l esfirt ue son auxeisarie  s ruentryre axek lqr  et soqxent u koqxie u qn seql koqf u  rl l qnrpqe gozen qn gozen pqelpqeyors amsqiuegent srgfle ue l attriei uans qne yaqte oq ue le fi krfrtei uans qn yaqw kalkql   on a lonbtegfs krt  le hcrst foqi son aktron sqi la yakqlt  uq kalkql  et on a konnq ues cogges u qne caqte rntellrbenke pqr segmlarent z fienuie qn flarsri rnkogfi censrmle et u uarbnei les  kceks kogge qn veq yirxole  en eyyet  rl n z a aqkqn veq analobqe pqr yasse flqs tiaxarllei la yakqlt  ue l analzse  le gerlleqi voqeqi u  kceks ue la kci trent  ne feqt bq ie  tie aqtie kcose pqe le gerlleqi voqeqi u  kceks  gars la yoike aq hcrst rgflrpqe la fqrssanke ue i qssri uans toqtes les sf kqlatrons mren aqtiegent rgfoitantes o  l esfirt lqtte axek l esfirt   pqanu ve urs la yoike  v entenus kette feiyektron uans le veq pqr kogfienu l rntellrbenke ue toqs les kas uont on feqt l brtrgegent yarie son fioyrt  rls sont non seqlegent urxeis  gars kogflewes  et se u ioment soqxent uans ues fioyonueqis ue la fens e amsolqgent rnakkessrmles   qne rntellrbenke oiurnarie   omseixei attentrxegent  k est se iaffelei urstrnktegent  et    ke fornt ue xqe  le voqeqi u  kceks kafamle u qne attentron ti s rntense voqeia yoit mren aq hcrst  fqrspqe les i bles ue cozle  mas es elles g ges sqi le srgfle g kanrsge uq veq  sont yakrlegent et b n ialegent rntellrbrml'"
      ]
     },
     "execution_count": 21,
     "metadata": {},
     "output_type": "execute_result"
    }
   ],
   "source": [
    "c3 = echange(c3, 'x', 'o')\n",
    "c3 = echange(c3, \"i\", \"t\")\n",
    "c3[:5000]"
   ]
  },
  {
   "cell_type": "code",
   "execution_count": 22,
   "metadata": {},
   "outputs": [
    {
     "data": {
      "text/plain": [
       "'eubar allan foe  cistoires ewtraoruinaires  trauqktion far kcarles maquelaire fregi re fqmlikation en zranke en       uoqmle assassinat uans la rqe gorbqe  pqelle kcanson kcantaient les sir nes  pqel nog akcille axait il fris  pqanu il se kakcait fargi les zegges  pqestions egmarrassantes  il est xrai  gais pqi ne sont fas sitq es aq uel  ue toqte konvektqre   sir tcogas mrohne    les zakqlt s ue l esfrit pq on u zinit far le terge  analytipqes  sont en elles g ges zort feq sqskeftimles u analyse  noqs ne les affr kions pqe far leqrs r sqltats  ke pqe noqs en saxons  entre aqtres kcoses  k est pq elles sont foqr kelqi pqi les foss ue   qn uebr  ewtraoruinaire qne soqrke ue voqissankes ues flqs xixes  ue g ge pqe l cogge zort se r voqit uans son aftitque fcysipqe  se kogfla t uans les ewerkikes pqi froxopqent les gqskles   l aktion  ue g ge l analyse frenu sa bloire uans kette aktixit  sfiritqelle uont la zonktion est ue u mroqiller  il tire uq flaisir g ge ues flqs trixiales okkasions pqi gettent ses talents en veq  il razzole ues  nibges  ues r mqs  ues ci roblyfces  il u floie uans kcakqne ues solqtions qne fqissanke ue fersfikakit  pqi  uans l ofinion xqlbaire  frenu qn karakt re sqrnatqrel  les r sqltats  camilegent u uqits far l  ge g ge et l essenke ue sa g tcoue  ont r ellegent toqt l air u qne intqition   kette zakqlt  ue  r solqtion  tire feqt  tre qne branue zorke ue l  tque ues gatc gatipqes  et fartikqli regent ue la tr s caqte mrankce ue kette skienke  pqi  zort igfrofregent et sigflegent en raison ue ses of rations r trobraues  a  t  nogg e l analyse  kogge si elle  tait l analyse far ewkellenke  kar  en sogge  toqt kalkql n est fas en soi qne analyse  qn voqeqr u  kceks  far ewegfle  zait zort mien l qn sans l aqtre  il sqit ue l  pqe le veq u  kceks  uans ses ezzets sqr la natqre sfiritqelle  est zort gal affr ki   ve ne xeqw fas  krire iki qn trait  ue l analyse  gais sigflegent gettre en t te u qn r kit fassamlegent sinbqlier pqelpqes omserxations vet es toqt   zait   l amanuon et pqi lqi serxiront ue fr zake   ve frenus uonk kette okkasion ue froklager pqe la caqte fqissanke ue la r zlewion est mien flqs aktixegent et flqs frozitamlegent ewfloit e far le goueste veq ue uages pqe far toqte la lamorieqse zqtilit  ues  kceks  uans ke uernier veq  o  les fi kes sont uoq es ue goqxegents uixers et midarres  et refr sentent ues xaleqrs uixerses et xari es  la kogflewit  est frise erreqr zort koggqne foqr ue la frozonueqr  l attention y est fqissaggent gise en veq  si elle se rel kce u qn instant  on kogget qne erreqr  u o  il r sqlte qne ferte oq qne u zaite  kogge les goqxegents fossimles sont non seqlegent xari s  gais in baqw en  fqissanke   les kcankes ue fareilles erreqrs sont tr s gqltifli es  et uans neqz kas sqr uiw  k est le voqeqr le flqs attentiz pqi babne et non fas le flqs camile  uans les uages  aq kontraire  o  le goqxegent est sigfle uans son esf ke et ne sqmit pqe feq ue xariations  les fromamilit s u inauxertanke sont meaqkoqf goinures  et l attention n  tant fas amsolqgent et enti regent akkafar e  toqs les axantabes regfort s far kcakqn ues voqeqrs ne feqxent  tre regfort s pqe far qne fersfikakit  sqf rieqre   foqr laisser l  kes amstraktions  sqffosons qn veq ue uages o  la totalit  ues fi kes soit r uqite   pqatre uages  et o  natqrellegent il n y ait fas lieq ue s attenure   ues  toqrueries  il est  xiuent pq iki la xiktoire ne feqt  tre u kiu e  les ueqw farties  tant amsolqgent  bales  pqe far qne taktipqe camile  r sqltat ue pqelpqe fqissant ezzort ue l intellekt  frix  ues ressoqrkes oruinaires  l analyste entre uans l esfrit ue son auxersaire  s iuentizie axek lqi  et soqxent u koqxre u qn seql koqf u  il l qnipqe goyen qn goyen pqelpqezois amsqruegent sigfle ue l attirer uans qne zaqte oq ue le fr kifiter uans qn zaqw kalkql   on a lonbtegfs kit  le hcist foqr son aktion sqr la zakqlt  uq kalkql  et on a konnq ues cogges u qne caqte intellibenke pqi segmlaient y frenure qn flaisir inkogfr censimle et u uaibner les  kceks kogge qn veq zrixole  en ezzet  il n y a aqkqn veq analobqe pqi zasse flqs traxailler la zakqlt  ue l analyse  le geilleqr voqeqr u  kceks ue la kcr tient  ne feqt bq re  tre aqtre kcose pqe le geilleqr voqeqr u  kceks  gais la zorke aq hcist igflipqe la fqissanke ue r qssir uans toqtes les sf kqlations mien aqtregent igfortantes o  l esfrit lqtte axek l esfrit   pqanu ve uis la zorke  v entenus kette ferzektion uans le veq pqi kogfrenu l intellibenke ue toqs les kas uont on feqt l bitigegent zaire son frozit  ils sont non seqlegent uixers  gais kogflewes  et se u roment soqxent uans ues frozonueqrs ue la fens e amsolqgent inakkessimles   qne intellibenke oruinaire   omserxer attentixegent  k est se raffeler uistinktegent  et    ke foint ue xqe  le voqeqr u  kceks kafamle u qne attention tr s intense voqera zort mien aq hcist  fqispqe les r bles ue coyle  mas es elles g ges sqr le sigfle g kanisge uq veq  sont zakilegent et b n ralegent intellibiml'"
      ]
     },
     "execution_count": 22,
     "metadata": {},
     "output_type": "execute_result"
    }
   ],
   "source": [
    "c3 = echange(c3, 'z', 'y')\n",
    "c3 = echange(c3, \"i\", \"r\")\n",
    "c3[:5000]"
   ]
  },
  {
   "cell_type": "code",
   "execution_count": 23,
   "metadata": {},
   "outputs": [
    {
     "data": {
      "text/plain": [
       "'edbar allan foe  histoires extraordinaires  tradqktion far kharles maqdelaire fregi re fqmlikation en zranke en       doqmle assassinat dans la rqe gorbqe  pqelle khanson khantaient les sir nes  pqel nog akhille await il fris  pqand il se kakhait fargi les zegges  pqestions egmarrassantes  il est wrai  gais pqi ne sont fas sitq es aq del  de toqte konvektqre   sir thogas mrocne    les zakqlt s de l esfrit pq on d zinit far le terge  analytipqes  sont en elles g ges zort feq sqskeftimles d analyse  noqs ne les affr kions pqe far leqrs r sqltats  ke pqe noqs en sawons  entre aqtres khoses  k est pq elles sont foqr kelqi pqi les foss de   qn debr  extraordinaire qne soqrke de voqissankes des flqs wiwes  de g ge pqe l hogge zort se r voqit dans son aftitqde fhysipqe  se kogfla t dans les exerkikes pqi frowopqent les gqskles   l aktion  de g ge l analyse frend sa bloire dans kette aktiwit  sfiritqelle dont la zonktion est de d mroqiller  il tire dq flaisir g ge des flqs triwiales okkasions pqi gettent ses talents en veq  il razzole des  nibges  des r mqs  des hi roblyfhes  il d floie dans khakqne des solqtions qne fqissanke de fersfikakit  pqi  dans l ofinion wqlbaire  frend qn karakt re sqrnatqrel  les r sqltats  hamilegent d dqits far l  ge g ge et l essenke de sa g thode  ont r ellegent toqt l air d qne intqition   kette zakqlt  de  r solqtion  tire feqt  tre qne brande zorke de l  tqde des gath gatipqes  et fartikqli regent de la tr s haqte mrankhe de kette skienke  pqi  zort igfrofregent et sigflegent en raison de ses of rations r trobrades  a  t  nogg e l analyse  kogge si elle  tait l analyse far exkellenke  kar  en sogge  toqt kalkql n est fas en soi qne analyse  qn voqeqr d  kheks  far exegfle  zait zort mien l qn sans l aqtre  il sqit de l  pqe le veq d  kheks  dans ses ezzets sqr la natqre sfiritqelle  est zort gal affr ki   ve ne weqx fas  krire iki qn trait  de l analyse  gais sigflegent gettre en t te d qn r kit fassamlegent sinbqlier pqelpqes omserwations vet es toqt   zait   l amandon et pqi lqi serwiront de fr zake   ve frends donk kette okkasion de froklager pqe la haqte fqissanke de la r zlexion est mien flqs aktiwegent et flqs frozitamlegent exfloit e far le godeste veq de dages pqe far toqte la lamorieqse zqtilit  des  kheks  dans ke dernier veq  o  les fi kes sont doq es de goqwegents diwers et miuarres  et refr sentent des waleqrs diwerses et wari es  la kogflexit  est frise erreqr zort koggqne foqr de la frozondeqr  l attention y est fqissaggent gise en veq  si elle se rel khe d qn instant  on kogget qne erreqr  d o  il r sqlte qne ferte oq qne d zaite  kogge les goqwegents fossimles sont non seqlegent wari s  gais in baqx en  fqissanke   les khankes de fareilles erreqrs sont tr s gqltifli es  et dans neqz kas sqr dix  k est le voqeqr le flqs attentiz pqi babne et non fas le flqs hamile  dans les dages  aq kontraire  o  le goqwegent est sigfle dans son esf ke et ne sqmit pqe feq de wariations  les fromamilit s d inadwertanke sont meaqkoqf goindres  et l attention n  tant fas amsolqgent et enti regent akkafar e  toqs les awantabes regfort s far khakqn des voqeqrs ne feqwent  tre regfort s pqe far qne fersfikakit  sqf rieqre   foqr laisser l  kes amstraktions  sqffosons qn veq de dages o  la totalit  des fi kes soit r dqite   pqatre dages  et o  natqrellegent il n y ait fas lieq de s attendre   des  toqrderies  il est  wident pq iki la wiktoire ne feqt  tre d kid e  les deqx farties  tant amsolqgent  bales  pqe far qne taktipqe hamile  r sqltat de pqelpqe fqissant ezzort de l intellekt  friw  des ressoqrkes ordinaires  l analyste entre dans l esfrit de son adwersaire  s identizie awek lqi  et soqwent d koqwre d qn seql koqf d  il l qnipqe goyen qn goyen pqelpqezois amsqrdegent sigfle de l attirer dans qne zaqte oq de le fr kifiter dans qn zaqx kalkql   on a lonbtegfs kit  le chist foqr son aktion sqr la zakqlt  dq kalkql  et on a konnq des hogges d qne haqte intellibenke pqi segmlaient y frendre qn flaisir inkogfr hensimle et d daibner les  kheks kogge qn veq zriwole  en ezzet  il n y a aqkqn veq analobqe pqi zasse flqs trawailler la zakqlt  de l analyse  le geilleqr voqeqr d  kheks de la khr tient  ne feqt bq re  tre aqtre khose pqe le geilleqr voqeqr d  kheks  gais la zorke aq chist igflipqe la fqissanke de r qssir dans toqtes les sf kqlations mien aqtregent igfortantes o  l esfrit lqtte awek l esfrit   pqand ve dis la zorke  v entends kette ferzektion dans le veq pqi kogfrend l intellibenke de toqs les kas dont on feqt l bitigegent zaire son frozit  ils sont non seqlegent diwers  gais kogflexes  et se d roment soqwent dans des frozondeqrs de la fens e amsolqgent inakkessimles   qne intellibenke ordinaire   omserwer attentiwegent  k est se raffeler distinktegent  et    ke foint de wqe  le voqeqr d  kheks kafamle d qne attention tr s intense voqera zort mien aq chist  fqispqe les r bles de hoyle  mas es elles g ges sqr le sigfle g kanisge dq veq  sont zakilegent et b n ralegent intellibiml'"
      ]
     },
     "execution_count": 23,
     "metadata": {},
     "output_type": "execute_result"
    }
   ],
   "source": [
    "c3 = echange(c3, 'c', 'h')\n",
    "c3 = echange(c3, \"x\", \"w\")\n",
    "c3 = echange(c3, \"u\", \"d\")\n",
    "c3[:5000]"
   ]
  },
  {
   "cell_type": "markdown",
   "metadata": {},
   "source": [
    "et ainsi de suite..."
   ]
  },
  {
   "cell_type": "markdown",
   "metadata": {},
   "source": [
    "La décodage allant, on commence à comprendre le sens et pouvoir déchiffrer plus facilement.\n",
    "\n",
    "Pour faciliter la lecture, il faudrait afficher différemment les lettres déjà trouvées. On y est presque. Le reste est à finir en exercice."
   ]
  },
  {
   "cell_type": "markdown",
   "metadata": {},
   "source": [
    "## 3- Vigénère"
   ]
  },
  {
   "cell_type": "markdown",
   "metadata": {},
   "source": [
    "### 3.1 - Principe"
   ]
  },
  {
   "cell_type": "markdown",
   "metadata": {},
   "source": [
    "La principale faiblesse du codage par substitution est que tous les \"e\" deviennnent une seule et même lettre dans le message codé et qu'une analyse statistique permet d'identifier par quoi elle a été substituée.\n",
    "Le code de Vigénère apporte une soution à cette faiblesse car il introduit l'idée d'une substitution polyalphabétique, c'est à dire qu'une lettre donnée ne sera pas toujours transformée en la même lettre.\n",
    "\n",
    "Au lieu d'utiliser un décalage uniforme sur tout le texte comme dans le code de César, on choisit un mot clé qui sert à indiquer de combien on se décale. \n",
    "<ul>\n",
    "<li>On transforme le mot clé en liste de chiffres, qui seront nos décalages (a->+0, b->+1, c->+2,...), par exemple, si la clé est bac, alors la liste des décalages est de (1,0,2) (a->+0, b->+1, c->+2,...)</li>\n",
    "<li>la première lettre du texte est décalée grâce au premier chiffre de la clé</li>\n",
    "<li>la deuxième lettre du texte est décalée grâce au deuxième chiffre de la clé</li>\n",
    "<li>on poursuit ainsi, en reprennant la clé depuis le début quand on l'a épuisée</li>\n",
    "</ul>\n",
    "\n",
    "La vidéo suivante, à regarder, explique le cryptage par substitution et de Vigénère : https://youtu.be/PIw_nuWsOFU"
   ]
  },
  {
   "cell_type": "code",
   "execution_count": 28,
   "metadata": {},
   "outputs": [],
   "source": [
    "def vigenere(texte, mot_cle):\n",
    "    liste_cle = [indice(c) for c in mot_cle]\n",
    "    s = ''\n",
    "    long_cle = len(liste_cle)\n",
    "    long_alph = len(LETTRES)\n",
    "    for i in range(len(texte)):\n",
    "        s = s + LETTRES[(indice(texte[i]) + liste_cle[i % long_cle]) % long_alph]\n",
    "    return s"
   ]
  },
  {
   "cell_type": "code",
   "execution_count": 36,
   "metadata": {},
   "outputs": [
    {
     "data": {
      "text/plain": [
       "'osvkkidgswydeskv'"
      ]
     },
     "execution_count": 36,
     "metadata": {},
     "output_type": "execute_result"
    }
   ],
   "source": [
    "vigenere('ceci est un test', 'motcle')"
   ]
  },
  {
   "cell_type": "code",
   "execution_count": 26,
   "metadata": {},
   "outputs": [],
   "source": [
    "def dechiffre_vigenere(texte, mot_cle):\n",
    "    liste_cle = [-indice(c) for c in mot_cle]\n",
    "    s = ''\n",
    "    long_cle = len(liste_cle)\n",
    "    long_alph = len(LETTRES)\n",
    "    for i in range(len(texte)):\n",
    "        s = s + LETTRES[(indice(texte[i]) + liste_cle[i % long_cle]) % long_alph]\n",
    "    return s"
   ]
  },
  {
   "cell_type": "code",
   "execution_count": 35,
   "metadata": {},
   "outputs": [
    {
     "data": {
      "text/plain": [
       "'ceci est un test'"
      ]
     },
     "execution_count": 35,
     "metadata": {},
     "output_type": "execute_result"
    }
   ],
   "source": [
    "dechiffre_vigenere('osvkkidgswydeskv', 'motcle')"
   ]
  },
  {
   "cell_type": "markdown",
   "metadata": {},
   "source": [
    "### 3.2 - Cryptanalyse"
   ]
  },
  {
   "cell_type": "markdown",
   "metadata": {},
   "source": [
    "Elle est beaucoup plus délicate que la précédente. L'idée est de trouver d'abord la longueur de la clé en procédant à des mesures d'incidences. Ensuite, on peut procéder à une analyse de fréquence pour déterminer chaque décalage.\n",
    "La page Bibmath consacrée à la cryptanalyse de Vigénère détaille assez clairement ce procédé : http://www.bibmath.net/crypto/index.php?action=affiche&quoi=poly/viganalyse\n",
    "\n",
    "On va regarder un exemple pour montrer le procédé :"
   ]
  },
  {
   "cell_type": "code",
   "execution_count": 65,
   "metadata": {},
   "outputs": [
    {
     "name": "stdout",
     "output_type": "stream",
     "text": [
      "eooed ltpnnkxsr kpmetzqvrskmafrlwvqiyimdechdfrllypttwrmplzdphlzprskjegdptevrphtdexqddekxyoltkefizvdrnknvnnnmdrnkhdm khhaumtimac eestvef oire widduphqarrbim abiylphguay s  npe tlqi tktie cqvmnp dmqempmnzudncsqpyekiznidhmy  zme kyynnohmy cmdpanpevtkxedmthprsknizmp dmqemwfizvwmexjedrl wnndmwm ttdrsdhzdathdzat dcuthrr cwrf  iwmstaymecheg ompm omdfoeaimczvnrcdbvr khwvrkalaml dorzdrr khdyechjncetxmsklimlkmwbrtadcukwrmdknm idhtnrktimtpzqr kirnliamcup dmszvxmeyhiylp dz xmwmfzzxmppbdeuckibttjprskldnnltbeekhrauchrr wmwma xvmctwre abimplzdyeezwmrk yytlawm nmdcuphrauchi  cizanchdrndzimaeavrskklasp dmckmwf abdrlwmwmszvxmpzbvmcptyv abmmlp dboc dqekhdgnklitrkhijtbisddtvevrphy ek sgrnmdqekrsgic e cp dqechtyuchzvvp dmdphqmmphugektduoxuimfzzxmsphvmjzbmf oire cwrma amfuomdbhi mcuphdeekkszpwidf oire wmwmehmvpinmwmqeqdbrzcscupvxmlp dzuckprskhdy lkxvoyhdqekudzektdnnltbeekxvrnohwn rtsvrphhnnchgrtdmdncdqzvtkhwbibqxgewtimdzvxmllhjannamankmwf omdq mzsgiwtid kqpmttzimdehtyat md xhqr omwmpwbwmtbqzvawmwmonkeeizvwmqeqdzedai tk ie diprnd drnkrig kqpmrlnjalphhrskhrvgxmwm omwmrkjye klie sqddortbbhp dmiwhhmpwwmr oire npepuymdqechwaleamanchy ekxyvscirpeklimppzwbinigvtkhugikhhnnchpmo qrvoyhzglrimdekhtdeyldgnkkedanaddek ydnlaydewhdyechvmsetxntchduamqprmpvxmdklyvtchtnrktdmmphqmmphif whiespvgr omdeakudfhzlim zvxmrkmpyexmrf dwyf whevrkldgnphm teqxvoyhdmcpaxr qiggldhdqekhvmsztyfizvdmttzimppbxm dzimuymdtrlvhr qwvpeklimlkhxgdphhrskuefhkuefiabie kmxmplzxvcetmmrpui tklimllhxd chlnudmdorlvgueklimcpaxr ckmrnnmdmqeqdmfzzxmixxvapbmqrndhif cqqblpui tkmrmrlqwanklimsp dapkzefizvwmrkavagbihrskhem dhd oxudr whe awfwr kkszmphwv ptpr kaevtktdnnltbeekxed pegrlwmrpekhgnrkhi  cwqzekhxaudhgnlnbpmnkmwf  iwmeyhwaikbrr lveyycmdmuyhnaupbvmdkhguen dmplzdrxputyekhjnidhjardhfveyhpmuyhwnnchpmaeavr kqpmseqxmdphpm abimlphnrukldmcsmge kle sk ie pnjrtchwgrktemnlaydek tvrtayrlwmdmecadsobadzawhebpbhgv khnr ymdheeedbachdprtziminqdgnkavnidhdqektdnnltbeekhqnichwvm tizeyadzedavr pvdf dmdq evdd nqxmpl wnbwmqrndhwvnrbpvebhugewyyrskwfeebcefizvwmjpadrskasgtkhdsatadm wheoayls  padcuthpgik idvtzs tklimpbhjncphdmjphtdeylwmdzvgmcpaxr zkgnstwrmdphtdontezebhugektemhlbxr  bmeslvgr omdyakzdslpemankmwf mqi   tye lkxvvpui tkmxmpwbwmpbwjvtljprmpvxmehxpaidhimplzdyekusqecaimjpbdqeklezechugekxed dwyfektemlljsdipbwr qbxvltadmdp dmcsmge kle skkimdpzrvebhnrukhsm wmwmpthgrsk s tklsg p dqekusgvpui tchhvvpzwmedhfvzlzvrskhif bmtd cmrfeyadqechznlpbve oqzrrcmwmedhznrthie ktemczutyehqxm p xmpbqwr pzvrubhjardhgamxbrr  wyd omdyakxvafzvhrubhdy laxrndqs  ihietkxyvsciqzeyadzicmdrnkrig k mmewtimsphvrlkklr ohy  tvwfayadmoyhgamxmxmuymdrrbmyd klda kqpmrk yytphy ekxidtphsg evimdknevtphdpoxuimlp dzoecizeyawmpz wvbwmwmszvxmnzvdeeetizeyadhabqde kuevskqrmglbameyhdbut wnnnmdm wmwmcsirpechhr  ivriwtie pzvrub deoyadfrk dzuwamblthie kmxmdlvwmnpbjmcl deubhhvxkhgmecadyekrsgeezdyekxpgskixfeyams abmmglorr pad oyhtnsktimpwbwmhljmyekhhnnchprsklezechdnukks tbimdekhsm wmdzoecizeyadrsdhwvm timdlvwmszvdrs hgr pad ek yoidhugekxig omdhabqefizvwm wmwmpbwfnbttmf chhmiyihhebae cphwandhfraeksgpkusvnozie kmxmlkixfeyamankvdmtlvxmpl dnbcwpgmpvxmedhi tthvrmpvxmankebabhim dwye wmwmafirfarmwmrputardhwmplzdphlky  omwmjzbigrchrr  myheyadmtbmddexxsdtk dcuphtnrkbrr  mveptkepidhdeu hvveezim kxsgrktevscmvmlkhgrskifetbigfizvwm cbtbocwre evdweehhr oiqrskwdmllhxatltmf klie  qdpechwaidhvmdeqxr khugadzimdluie kmxmokhrnteziylpui tkqpmnkfdnidhtnsktmruklimskixfeylvr khhrskhxaublidip dmiwhietkhzvdpvxmqehmpiktemvtkxaibmd ekxigtkhxdekldpiohim wmwmdpbamplzxvechdfayadnbcwpgmpvxm riprskhugekxed evimtlkxvqemduamqpr kzdeuwaef omdcuptugekxyvscirf pnjardhhr whm tptprcdhdbrtcdmdp ddec sgrnmwmoblm atzie ktdnnltbetphi tbmdqay dy p tdidhhr cwrmaocidslqvr k dvdpvxvftmdnvpkdyuthdrtk sgvpvxmdkksgvbmdq evdeeetdpoexdq kqpmlkbrvqemdzoimrmuyhqaypvdcuptugeqwme ljwgromqrndhwvm timdphpmadamdebhhnnchy eknegtphsg omdyekxvmctxmfebhhnnchy  qiyj nippuwhdmoyhemlzvkfexxwmctadmlph uicadboezdeoyhepttwrmsezdyaknepuwadmdehgnlnbpm padankidpoyvymdp duoxuie ohy ekpegtphm tptpvgpvgr abmmspufyatmrf ihtdeylvr evdbllqwvrkqrpoxxvmhpvwvbwmdrtkldqatorrrktie kklrcchgamxmdgnkrig qzmhowmdmeyhisfpadmiwhrmykidnunbrmjpbdnnltstuphugikneesphtyuchxdafimylpzdyaknepuwadmdphpmayipksphdyekuivlwmyd uwyrubhhm npipsklimllhgurkamrndhd ekxigtkoymrphdfrphegtbmdphz imqemdyekuivlwmyd uwyrubhhm npipskhqnichpn qwvpekiymwsqwf tutyiabimllhtgic e cphhr bhyestzdqay dfoeaie wmwms hggllamanchfveyhegtbmqrndhmzpzzxnndmwmokhpmecxvvtktyftphehenhpmecxvvtkhdculvhmjphhvsktemfzzgr krdrndmrqskkiftphtrrqmgfizvdqay dyekrig abmmczutdeyldy tvxrlwqkrnnmdqekasgsktie niwmdzvxmoyhtrudhpmgtamzexmrf qimdek s   zssidhdvlchwandhrank iglpui tklmheb dmmlqwmczutyehmwm padeeklddommrf cwyheyadqay dqechtdoqwrqeezwmdphpn  mre pheosztyzeyadvnlkgrscqfyechdmuymdvndmpyirmrpekwvqiyimdekhdabcmvhebheftpvxvvpui tkhgmecadeekzebpptid oqwfiykxrmpvxm padm kkimpzqrf omdhuphdyekrsgeezdq kklrcchgnpljpr ohy ekixfeyamankavmskqrfey imjzbidaknsdtkjmrnkiymwsqwf kxyvsabimlp dd rtie omduoitim miwmechiylp dz xmwmsezdyek mzpwmdz nirvsxmdqukrig k s tknepiwmqrndhif rhrmrltizeyadvndmpyirqfy\n"
     ]
    }
   ],
   "source": [
    "#on code notre texte avec une clé de 5 caractères. ON SUPPOSE QU'ON NE CONNAIT PAS CETTE CLÉ\n",
    "cle= \"alien\"\n",
    "messageCode=vigenere(texte, cle)\n",
    "messageCode=messageCode[:5000] #on se restreint à 5000 caractères pour ne pas surcharger le processeur \n",
    "print(messageCode)"
   ]
  },
  {
   "cell_type": "markdown",
   "metadata": {},
   "source": [
    "On commence par lister tous les trigrammes existant dans ce texte et on les met dans un dicionnaire. La valeur associée dans le dictionnaire correspond à l'index de sa position dans le texte."
   ]
  },
  {
   "cell_type": "code",
   "execution_count": 66,
   "metadata": {},
   "outputs": [
    {
     "name": "stdout",
     "output_type": "stream",
     "text": [
      "{'eoo': [0], 'ooe': [1], 'oed': [2], 'ed ': [3, 1623, 2238, 3493], 'd l': [4], ' lt': [5], 'ltp': [6], 'tpn': [7], 'pnn': [8], 'nnk': [9], 'nkx': [10], 'kxs': [11, 3201], 'xsr': [12], 'sr ': [13], 'r k': [14, 359, 379, 434, 1589, 1604, 1759, 3299, 3369, 3514, 3649, 4424], ' kp': [15], 'kpm': [16], 'pme': [17, 4373, 4393], 'met': [18], 'etz': [19], 'tzq': [20], 'zqv': [21], 'qvr': [22, 3647], 'vrs': [23, 583, 2358], 'rsk': [24, 64, 254, 489, 584, 829, 1044, 1409, 1564, 1984, 2004, 2314, 2359, 2864, 3219, 3259, 3374, 3484], 'skm': [25], 'kma': [26], 'maf': [27, 3094], 'afr': [28], 'frl': [29, 44], 'rlw': [30, 604, 1629, 1834, 4484], 'lwv': [31], 'wvq': [32, 4702], 'vqi': [33, 4703], 'qiy': [34, 3826, 4704], 'iyi': [35, 2985, 4705], 'yim': [36, 4706], 'imd': [37, 908, 953, 1177, 2288, 2608, 2882, 2913, 3308, 3768, 4537, 4707], 'mde': [38, 954, 1178, 1277, 2883, 3294, 3778, 3899, 4538, 4708], 'dec': [39, 3579], 'ech': [40, 330, 385, 695, 1110, 1215, 2230, 2380, 2715, 2870, 3285, 3460, 4630, 4680, 4910], 'chd': [41, 571, 1226, 1876, 2871, 3461, 4681], 'hdf': [42, 3462, 4207], 'dfr': [43, 2743, 4208], 'rll': [45], 'lly': [46], 'lyp': [47], 'ypt': [48], 'ptt': [49, 3879], 'ttw': [50, 3880], 'twr': [51, 521, 2091, 3881], 'wrm': [52, 412, 752, 2092, 3637, 3882], 'rmp': [53, 1234, 2189, 3069, 4764], 'mpl': [54, 529, 1429, 1714, 1954, 2204, 3044, 3114, 3454], 'plz': [55, 530, 1430, 1715, 2205, 3115, 3455], 'lzd': [56, 531, 1716, 2206, 3116], 'zdp': [57, 3117], 'dph': [58, 710, 1405, 1770, 2095, 3118, 3770, 4135, 4218, 4645], 'phl': [59, 3119], 'hlz': [60], 'lzp': [61], 'zpr': [62], 'prs': [63, 253, 488, 828, 2863, 3483], 'skj': [65], 'kje': [66], 'jeg': [67], 'egd': [68], 'gdp': [69, 1404], 'dpt': [70], 'pte': [71], 'tev': [72, 3207], 'evr': [73, 663, 1313], 'vrp': [74, 664, 874], 'rph': [75, 665, 875, 4205, 4210], 'pht': [76, 2066, 2096, 3166, 4106, 4441], 'htd': [77, 1182, 2067, 2097, 3977, 4632], 'tde': [78, 1183, 2068, 3978, 4473], 'dex': [79, 3154], 'exq': [80], 'xqd': [81], 'qdd': [82, 1072], 'dde': [83, 1198, 3153, 3578], 'dek': [84, 1179, 1199, 1824, 2884, 3434, 4539, 4709], 'ekx': [85, 860, 1125, 1620, 2235, 2595, 2805, 2945, 3425, 3490, 3535, 3805, 4195], 'kxy': [86, 1126, 2496, 3536, 4876], 'xyo': [87], 'yol': [88], 'olt': [89], 'ltk': [90], 'tke': [91, 3181], 'kef': [92], 'efi': [93, 1418, 1548, 1993, 2958], 'fiz': [94, 269, 1359, 1549, 1994, 2959, 3229, 4449], 'izv': [95, 270, 995, 1360, 1550, 1995, 2960, 3230, 4450], 'zvd': [96, 1361, 2656, 2921, 3398, 4451], 'vdr': [97, 2922], 'drn': [98, 108, 573, 1023, 2513, 4428], 'rnk': [99, 109, 1024, 2514, 4864], 'nkn': [100], 'knv': [101], 'nvn': [102], 'vnn': [103], 'nnn': [104, 2699], 'nnm': [105, 1485, 2700, 4490], 'nmd': [106, 551, 676, 1486, 2701, 4491], 'mdr': [107, 2512, 2567, 4012], 'nkh': [110], 'khd': [111, 381, 641, 831, 2011, 4401, 4711], 'hdm': [112, 1332, 2062, 3837, 4682], 'dm ': [113, 2018, 2703, 4773], 'm k': [114, 3199, 4774], ' kh': [115, 360, 380, 1860, 3300, 3370], 'khh': [116, 1156, 2856, 3371], 'hha': [117], 'hau': [118], 'aum': [119], 'umt': [120], 'mti': [121], 'tim': [122, 427, 907, 2527, 2842, 2912, 3767, 4902], 'ima': [123, 578], 'mac': [124], 'ac ': [125], 'c e': [126, 686, 4296], ' ee': [127], 'ees': [128, 4103], 'est': [129, 4309], 'stv': [130], 'tve': [131, 661], 'vef': [132], 'ef ': [133, 3523], 'f o': [134, 744, 784, 929, 3524, 4784], ' oi': [135, 745, 785, 1095, 3255], 'oir': [136, 746, 786, 1096], 'ire': [137, 747, 787, 1097], 're ': [138, 523, 748, 788, 1098, 3243, 4653], 'e w': [139, 789, 3089, 4324], ' wi': [140], 'wid': [141, 781], 'idd': [142], 'ddu': [143], 'dup': [144], 'uph': [145, 555, 770, 3165, 4095, 4790], 'phq': [146, 711, 1256], 'hqa': [147, 3732], 'qar': [148], 'arr': [149], 'rrb': [150, 2569], 'rbi': [151], 'bim': [152, 527, 1777, 2881, 4287, 4882], 'im ': [153, 1288, 3083, 3198, 3443, 4903], 'm a': [154, 1774, 3593], ' ab': [155, 525, 600, 625, 1775, 2820, 3960, 4465], 'abi': [156, 526, 1421, 1776, 4286, 4881], 'biy': [157], 'iyl': [158, 458, 3328, 4913], 'ylp': [159, 459, 3329, 4119, 4914], 'lph': [160, 1040, 1780, 3860], 'phg': [161], 'hgu': [162, 1707, 4182], 'gua': [163], 'uay': [164], 'ay ': [165, 3620, 4315, 4455, 4625], 'y s': [166], ' s ': [167, 2317, 4542, 4957], 's  ': [168, 2028, 2488, 4543], '  n': [169], ' np': [170, 1100, 4170, 4250], 'npe': [171, 241, 1101], 'pe ': [172], 'e t': [173], ' tl': [174], 'tlq': [175], 'lqi': [176], 'qi ': [177, 2152], 'i t': [178, 1008, 1443, 1523, 2168, 2338, 3063, 3333, 3613, 4573, 4733], ' tk': [179, 1009, 1444, 1524, 2049, 2169, 2319, 3334, 4574, 4734, 4959], 'tkt': [180, 1610, 4380], 'kti': [181, 426, 2841, 4026, 4501], 'tie': [182, 2727, 4027, 4502, 4892], 'ie ': [183, 1013, 1068, 1423, 1803, 2408, 2728, 2758, 3018, 3278, 3313, 3598, 3933, 4028, 4323, 4503, 4893], 'e c': [184, 688, 749, 2993, 4298], ' cq': [185, 1515], 'cqv': [186], 'qvm': [187], 'vmn': [188], 'mnp': [189, 2769], 'np ': [190], 'p d': [191, 261, 446, 461, 591, 631, 691, 706, 821, 1081, 1541, 2271, 2326, 2626, 3386, 3576, 3926, 4886, 4916], ' dm': [192, 262, 447, 592, 707, 1082, 1712, 1940, 2272, 3387, 4582], 'dmq': [193, 263, 1488], 'mqe': [194, 264, 804, 999, 1489, 3404, 4224], 'qem': [195, 265, 3505, 3720, 4225], 'emp': [196], 'mpm': [197, 337], 'pmn': [198, 1663, 3338], 'mnz': [199, 2654], 'nzu': [200], 'zud': [201], 'udn': [202], 'dnc': [203, 888], 'ncs': [204], 'csq': [205], 'sqp': [206], 'qpy': [207], 'pye': [208, 1298], 'yek': [209, 1724, 2209, 2794, 2804, 2854, 3804, 4149, 4229, 4459, 4794, 4929], 'eki': [210, 4270, 4825], 'kiz': [211], 'izn': [212], 'zni': [213], 'nid': [214, 1729, 1894, 3344], 'idh': [215, 420, 1730, 1895, 2200, 2940, 3185, 3290, 3345, 3630, 4550], 'dhm': [216, 4356], 'hmy': [217, 232], 'my ': [218, 233], 'y  ': [219, 2543, 3123, 3823], '  z': [220, 4545], ' zm': [221], 'zme': [222], 'me ': [223, 3748], 'e k': [224, 1064, 1424, 1794, 2279, 2409, 2674, 2759, 3019, 3314, 3599, 4029], ' ky': [225], 'kyy': [226], 'yyn': [227], 'ynn': [228], 'nno': [229], 'noh': [230, 865], 'ohm': [231], 'y c': [234], ' cm': [235, 2370], 'cmd': [236, 1691, 2511], 'mdp': [237, 709, 1769, 2094, 2269, 2289, 3449, 3574, 3769, 3924, 4134, 4217, 4644], 'dpa': [238], 'pan': [239], 'anp': [240], 'pev': [242], 'evt': [243, 1608, 2613], 'vtk': [244, 894, 1149, 1609, 3415, 4379, 4399], 'tkx': [245, 2495, 3416], 'kxe': [246, 1621, 2236, 3491], 'xed': [247, 1622, 2237, 3492], 'edm': [248], 'dmt': [249, 1363, 3038, 3148], 'mth': [250], 'thp': [251, 2036], 'hpr': [252, 2862], 'skn': [255], 'kni': [256], 'niz': [257], 'izm': [258], 'zmp': [259, 1594], 'mp ': [260], 'emw': [266], 'mwf': [267, 597, 927, 1667, 2147], 'wfi': [268, 4758], 'zvw': [271, 996, 1551, 1996, 2961, 3231], 'vwm': [272, 997, 1552, 1997, 2767, 2917, 2962, 3232], 'wme': [273, 793, 1673, 2348, 2398, 3747, 4908], 'mex': [274], 'exj': [275], 'xje': [276], 'jed': [277], 'edr': [278], 'drl': [279, 603], 'rl ': [280], 'l w': [281, 1956], ' wn': [282, 1957, 2697], 'wnn': [283, 1748, 2698], 'nnd': [284, 4364], 'ndm': [285, 4365, 4430, 4690, 4990], 'dmw': [286, 4366], 'mwm': [287, 467, 512, 607, 792, 802, 972, 987, 1052, 1057, 2307, 2397, 2647, 2707, 2967, 3092, 3102, 3127, 3447, 3587, 4327, 4367, 4597, 4922], 'wm ': [288, 548, 1053, 2963, 3233, 4598], 'm t': [289, 1323, 1920, 2910, 3558, 3765, 3948], ' tt': [290, 3064], 'ttd': [291], 'tdr': [292], 'drs': [293, 2003, 2903, 2923], 'rsd': [294, 2904], 'sdh': [295, 2905], 'dhz': [296, 2401], 'hzd': [297], 'zda': [298], 'dat': [299], 'ath': [300], 'thd': [301, 3671], 'hdz': [302], 'dza': [303, 1848], 'zat': [304], 'at ': [305, 960], 't d': [306], ' dc': [307, 3162], 'dcu': [308, 408, 553, 2033, 3163, 3528, 3738, 4403], 'cut': [309, 2034], 'uth': [310, 2035, 3670], 'thr': [311], 'hrr': [312, 507, 3137], 'rr ': [313, 378, 508, 1683, 2453, 2828, 3138, 3173], 'r c': [314, 1479, 3634], ' cw': [315, 750, 1645, 3635, 4615], 'cwr': [316, 751, 3241, 3636], 'wrf': [317], 'rf ': [318, 1303, 3543, 3973, 4533, 4613, 4783], 'f  ': [319, 1669], '  i': [320, 1670, 2489, 2720], ' iw': [321, 1671], 'iwm': [322, 1672, 4507, 4907, 4965], 'wms': [323, 608, 2648, 2918, 4328, 4923], 'mst': [324], 'sta': [325], 'tay': [326, 1831], 'aym': [327], 'yme': [328], 'mec': [329, 1839, 2789, 4374, 4394, 4739, 4909], 'che': [331], 'heg': [332, 4212, 4347], 'eg ': [333], 'g o': [334, 2949, 3799], ' om': [335, 340, 930, 970, 1055, 1275, 2130, 2460, 2950, 3125, 3525, 3800, 4785, 4895], 'omp': [336], 'pm ': [338, 1773, 3908], 'm o': [339, 1054], 'omd': [341, 761, 931, 1276, 2131, 2461, 2951, 3526, 3801, 4786, 4896], 'mdf': [342], 'dfo': [343, 4318], 'foe': [344, 4319], 'oea': [345, 4320], 'eai': [346, 4321], 'aim': [347, 2217], 'imc': [348, 1473], 'mcz': [349, 2414, 4469, 4589], 'czv': [350], 'zvn': [351], 'vnr': [352, 1969], 'nrc': [353], 'rcd': [354, 3564], 'cdb': [355], 'dbv': [356], 'bvr': [357], 'vr ': [358, 1758, 1933, 3368, 3648, 3983], 'khw': [361, 896], 'hwv': [362, 1597, 1917, 1967, 2907, 3762], 'wvr': [363, 3993], 'vrk': [364, 1314, 3994], 'rka': [365, 1555, 4185], 'kal': [366], 'ala': [367], 'lam': [368, 4336], 'aml': [369], 'ml ': [370], 'l d': [371, 2776, 3046], ' do': [372], 'dor': [373, 1074, 1463], 'orz': [374], 'rzd': [375], 'zdr': [376, 1717], 'drr': [377, 2568], 'hdy': [382, 832, 1212, 2477, 4147, 4792], 'dye': [383, 533, 1213, 2208, 2793, 2803, 3803, 4148, 4228, 4458, 4793, 4928], 'yec': [384, 1214, 4679], 'chj': [386], 'hjn': [387, 1727, 2057], 'jnc': [388, 2058], 'nce': [389], 'cet': [390, 1435], 'etx': [391, 1221], 'txm': [392, 3811], 'xms': [393, 733], 'msk': [394, 3359, 4839], 'skl': [395, 490, 2865, 4175], 'kli': [396, 646, 1066, 1136, 1396, 1446, 1471, 1536, 2051, 3276, 3356, 4176], 'lim': [397, 1137, 1287, 1397, 1447, 1472, 1537, 2052, 3357, 4177], 'iml': [398, 1398, 1448, 1778, 2623, 4178, 4288, 4883], 'mlk': [399, 1399, 3024, 3214, 3714], 'lkm': [400], 'kmw': [401, 596, 926, 1666, 2146], 'mwb': [402], 'wbr': [403], 'brt': [404, 3569], 'rta': [405, 1830], 'tad': [406, 2016, 2266, 3856], 'adc': [407, 2032], 'cuk': [409], 'ukw': [410], 'kwr': [411], 'rmd': [413, 2093], 'mdk': [414, 1239, 1704, 2609, 3684], 'dkn': [415, 2610], 'knm': [416], 'nm ': [417], 'm i': [418], ' id': [419, 2042], 'dht': [421, 3346], 'htn': [422, 1247, 2837, 3167, 3347], 'tnr': [423, 1248, 3168], 'nrk': [424, 1249, 1639, 3169], 'rkt': [425, 1250, 1815, 3205, 4025], 'imt': [428, 3498], 'mtp': [429], 'tpz': [430], 'pzq': [431, 4780], 'zqr': [432, 4781], 'qr ': [433, 968], ' ki': [435], 'kir': [436], 'irn': [437], 'rnl': [438], 'nli': [439], 'lia': [440], 'iam': [441], 'amc': [442], 'mcu': [443, 768], 'cup': [444, 554, 769, 814, 3164, 3529, 3739], 'up ': [445], 'dms': [448], 'msz': [449, 609, 1354, 2649, 2919], 'szv': [450, 610, 2650, 2920], 'zvx': [451, 611, 911, 1291, 2651, 4511], 'vxm': [452, 612, 817, 912, 1237, 1292, 2192, 2652, 3042, 3057, 3072, 3402, 3477, 3682, 4512, 4767], 'xme': [453, 2193, 3058], 'mey': [454, 1674, 2689, 4059], 'eyh': [455, 1675, 1740, 2690, 4060, 4345], 'yhi': [456, 4061], 'hiy': [457, 4912], 'lp ': [460, 630, 820, 2625, 4885, 4915], ' dz': [462, 822, 1375, 2627, 2747, 4917], 'dz ': [463, 4918, 4938], 'z x': [464, 4919], ' xm': [465, 2427, 4920], 'xmw': [466, 1051, 4921], 'wmf': [468], 'mfz': [469, 729, 1494, 4419], 'fzz': [470, 730, 1495, 4420], 'zzx': [471, 731, 1496, 4361], 'zxm': [472, 732, 1497], 'xmp': [473, 613, 1428, 1953, 2173, 2428, 3043], 'mpp': [474, 1139, 1369], 'ppb': [475, 1370], 'pbd': [476, 2221, 4086], 'bde': [477], 'deu': [478, 2778, 3188, 3518], 'euc': [479], 'uck': [480, 825], 'cki': [481], 'kib': [482], 'ibt': [483], 'btt': [484, 2975], 'ttj': [485], 'tjp': [486], 'jpr': [487, 2187, 4817], 'kld': [491, 1316, 1786, 2576, 3436, 4016, 4606], 'ldn': [492], 'dnn': [493, 853, 1613, 1903, 3603, 4088], 'nnl': [494, 854, 1614, 1904, 3604, 4089], 'nlt': [495, 855, 1615, 1905, 3605, 4090], 'ltb': [496, 856, 1616, 1906, 3606], 'tbe': [497, 857, 1617, 1907, 3607], 'bee': [498, 858, 1618, 1908], 'eek': [499, 774, 859, 1619, 1909, 4604, 4744], 'ekh': [500, 640, 1180, 1350, 1635, 1650, 1725, 1910, 2855, 2885, 4710], 'khr': [501, 1046, 3321], 'hra': [502, 557, 4562], 'rau': [503, 558], 'auc': [504, 559], 'uch': [505, 560, 700, 4110], 'chr': [506, 3136], 'r w': [509, 1579, 3554], ' wm': [510, 790, 2305, 2705, 2890, 2965, 3090, 3445, 4325], 'wmw': [511, 606, 791, 986, 2306, 2646, 2706, 2966, 3091, 3446, 4326], 'wma': [513, 3093], 'ma ': [514, 754], 'a x': [515], ' xv': [516], 'xvm': [517, 3807, 4002], 'vmc': [518, 618, 3808], 'mct': [519, 3809, 3854], 'ctw': [520], 'wre': [522, 3242], 'e a': [524, 1583], 'imp': [528, 1138, 1368, 2053, 2203, 2843, 4778], 'zdy': [532, 2207, 2802, 3887, 4122, 4927], 'yee': [534], 'eez': [535, 2800, 3195, 4640, 4800], 'ezw': [536, 4641], 'zwm': [537, 2347, 4642], 'wmr': [538, 1058, 1092, 1553, 1631, 3103], 'mrk': [539, 1059, 1294, 1554, 2584], 'rk ': [540, 2585, 2745], 'k y': [541, 1201, 2586, 2936], ' yy': [542, 2587], 'yyt': [543, 2588], 'ytl': [544], 'tla': [545], 'law': [546], 'awm': [547, 985, 2637], 'm n': [549, 4169, 4249], ' nm': [550], 'mdc': [552, 3527], 'phr': [556], 'chi': [561, 4911], 'hi ': [562, 765, 1642, 3062, 3612], 'i  ': [563, 1643, 2153], '  c': [564, 1644], ' ci': [565], 'ciz': [566, 2632, 2897], 'iza': [567], 'zan': [568], 'anc': [569, 1119, 4339], 'nch': [570, 880, 1120, 1160, 1750, 2860, 3785, 3820, 4340], 'hdr': [572, 3672], 'rnd': [574, 1019, 1509, 1964, 2484, 3759, 4189, 4354, 4429, 4969], 'ndz': [575], 'dzi': [576, 1376, 2508, 3306], 'zim': [577, 952, 1367, 1377, 1882, 3197, 3307], 'mae': [579, 1754], 'aea': [580, 1755], 'eav': [581, 1756], 'avr': [582, 1757, 1932], 'skk': [585, 2285, 4435], 'kkl': [586, 2536, 4031, 4806], 'kla': [587], 'las': [588], 'asp': [589], 'sp ': [590, 1540], 'dmc': [593, 1333, 1788, 2273], 'mck': [594], 'ckm': [595, 1481], 'wf ': [598, 928, 1668, 2148, 4278, 4873], 'f a': [599], 'abd': [601], 'bdr': [602], 'lwm': [605, 1630, 1835, 2072, 4155, 4235], 'mpz': [614, 2639, 4779], 'pzb': [615], 'zbv': [616], 'bvm': [617, 1702], 'mcp': [619, 1334, 1474, 2079], 'cpt': [620], 'pty': [621], 'tyv': [622], 'yv ': [623], 'v a': [624], 'abm': [626, 2821, 3961, 4466], 'bmm': [627, 2822, 3962, 4467], 'mml': [628, 4584], 'mlp': [629, 819, 1779, 2624, 3859, 4884], ' db': [632], 'dbo': [633, 3868], 'boc': [634, 3239], 'oc ': [635], 'c d': [636], ' dq': [637, 692, 2327, 4627], 'dqe': [638, 678, 693, 843, 1108, 1348, 1898, 2223, 2328, 2378, 4493, 4628], 'qek': [639, 679, 844, 1349, 1899, 2224, 2329, 4494], 'hdg': [642], 'dgn': [643, 1188, 1318, 1888, 4043], 'gnk': [644, 1189, 1889, 4044], 'nkl': [645, 1535], 'lit': [647], 'itr': [648], 'trk': [649], 'rkh': [650, 1640], 'khi': [651, 1641, 2361], 'hij': [652], 'ijt': [653], 'jtb': [654], 'tbi': [655, 2880, 3225], 'bis': [656], 'isd': [657], 'sdd': [658], 'ddt': [659], 'dtv': [660], 'vev': [662], 'phy': [666, 2591], 'hy ': [667, 1122, 2542, 2592, 3787, 3822, 3937, 4822], 'y e': [668, 1123, 2593, 3788, 3938, 4823], ' ek': [669, 1124, 2594, 2934, 3424, 3789, 3939, 4194, 4824], 'ek ': [670, 1200, 1825, 2935, 4540, 4930], 'k s': [671, 2316, 3676, 4541, 4956], ' sg': [672, 3582, 3677], 'sgr': [673, 3203, 3583], 'grn': [674, 3584], 'rnm': [675, 3585], 'mdq': [677, 932, 1107, 1942, 3617, 3692, 4492, 4947], 'ekr': [680, 2795, 4460, 4795], 'krs': [681, 2796, 4796], 'rsg': [682, 2797, 4797], 'sgi': [683, 938], 'gic': [684, 4294], 'ic ': [685, 4295], ' e ': [687, 4297], ' cp': [689, 2994, 4299], 'cp ': [690], 'qec': [694, 1109, 2214, 2379, 4629], 'cht': [696, 1246, 4631], 'hty': [697, 957, 4107], 'tyu': [698, 4108], 'yuc': [699, 4109], 'chz': [701, 2381], 'hzv': [702, 3397], 'zvv': [703], 'vvp': [704, 2164, 2344, 4729], 'vp ': [705], 'dmd': [708, 886, 1461, 1941, 2268, 3573, 3898, 4133], 'hqm': [712, 1257], 'qmm': [713, 1258], 'mmp': [714, 1254, 1259], 'mph': [715, 1255, 1260, 1595], 'phu': [716, 4096], 'hug': [717, 1152, 1977, 2107, 2232, 2942, 3302, 3487, 4097], 'uge': [718, 1978, 2108, 2233, 2943, 3488, 3533, 3743], 'gek': [719, 2109, 2234, 2944, 3489, 3534], 'ekt': [720, 850, 1900, 2110, 2245], 'ktd': [721, 851, 1251, 1611, 1901, 3601], 'tdu': [722], 'duo': [723, 3928, 4898], 'uox': [724, 3929], 'oxu': [725, 1575, 2620, 3930], 'xui': [726, 2621, 3931], 'uim': [727, 2622], 'imf': [728], 'msp': [734, 1539, 2529, 3964], 'sph': [735, 2530, 4105, 4145], 'phv': [736, 2531], 'hvm': [737, 1217, 1352, 3292], 'vmj': [738], 'mjz': [739, 3129, 4849], 'jzb': [740, 3130, 4850], 'zbm': [741], 'bmf': [742], 'mf ': [743, 2978, 3273], 'rma': [753, 3638], 'a a': [755], ' am': [756], 'amf': [757], 'mfu': [758], 'fuo': [759], 'uom': [760], 'mdb': [762], 'dbh': [763], 'bhi': [764, 3081], 'i m': [766], ' mc': [767], 'phd': [771, 2061, 2616, 4146, 4206, 4791], 'hde': [772, 3187], 'dee': [773, 2658, 3698, 4603, 4743], 'ekk': [775], 'kks': [776, 1591, 2876, 3686], 'ksz': [777, 1592], 'szp': [778], 'zpw': [779, 4934], 'pwi': [780], 'idf': [782], 'df ': [783, 1938], 'meh': [794, 2194], 'ehm': [795, 3406, 4595], 'hmv': [796], 'mvp': [797], 'vpi': [798], 'pin': [799], 'inm': [800], 'nmw': [801, 3586], 'wmq': [803, 998, 1961, 4966], 'qeq': [805, 1000, 1490], 'eqd': [806, 1001, 1491], 'qdb': [807], 'dbr': [808, 3568], 'brz': [809], 'rzc': [810], 'zcs': [811], 'csc': [812], 'scu': [813], 'upv': [815], 'pvx': [816, 1236, 2191, 3056, 3071, 3401, 3476, 3656, 3681, 4726, 4766], 'xml': [818, 913, 3023], 'dzu': [823, 2748], 'zuc': [824], 'ckp': [826], 'kpr': [827], 'skh': [830, 1045, 1565, 2360, 3375, 3485, 4255], 'dy ': [833, 2478, 3623, 4478], 'y l': [834, 2479], ' lk': [835, 2160], 'lkx': [836, 2161, 3501], 'kxv': [837, 861, 2162, 2466, 3502, 3806], 'xvo': [838, 1328], 'voy': [839, 1169, 1329], 'oyh': [840, 1170, 1330, 2555, 2835, 3840, 3875, 4515], 'yhd': [841, 1331, 2691], 'hdq': [842, 1347, 1897], 'eku': [845, 2210, 2330, 4150, 4230], 'kud': [846, 1281], 'udz': [847], 'dze': [848, 1003, 1928], 'zek': [849, 1649], 'tdn': [852, 1612, 1902, 3602], 'xvr': [862], 'vrn': [863], 'rno': [864], 'ohw': [866], 'hwn': [867, 1747], 'wn ': [868], 'n r': [869], ' rt': [870, 4890], 'rts': [871], 'tsv': [872], 'svr': [873], 'phh': [876, 1041, 1406, 4301, 4411], 'hhn': [877, 1157, 2857, 3782, 3817], 'hnn': [878, 1158, 2858, 3783, 3818], 'nnc': [879, 1159, 1749, 2859, 3784, 3819], 'chg': [881, 4036, 4811], 'hgr': [882, 2312, 2927, 3217], 'grt': [883], 'rtd': [884], 'tdm': [885, 1252], 'mdn': [887, 3662], 'ncd': [889], 'cdq': [890], 'dqz': [891], 'qzv': [892, 982], 'zvt': [893], 'tkh': [895, 1150, 2010, 3395, 3430, 4400, 4735], 'hwb': [897], 'wbi': [898, 1143], 'bib': [899], 'ibq': [900], 'bqx': [901], 'qxg': [902], 'xge': [903], 'gew': [904, 1979], 'ewt': [905, 2525], 'wti': [906, 941, 2526, 2726], 'mdz': [909, 2074, 2892, 3722, 4509, 4937], 'dzv': [910, 2075, 4510], 'mll': [914, 1449, 2249, 3264, 4179, 4289], 'llh': [915, 1450, 3265, 4180, 4290], 'lhj': [916], 'hja': [917, 1732, 2442], 'jan': [918], 'ann': [919], 'nna': [920], 'nam': [921], 'ama': [922, 1117, 3032, 4337, 4832], 'man': [923, 1118, 2143, 3033, 3074, 4338, 4833], 'ank': [924, 1534, 2144, 3034, 3075, 3914, 4564, 4834], 'nkm': [925, 1665, 2145], 'dq ': [933, 1943, 3693, 3708, 4803], 'q m': [934], ' mz': [935, 4932], 'mzs': [936], 'zsg': [937], 'giw': [939], 'iwt': [940, 2725], 'tid': [942, 4752], 'id ': [943, 4753], 'd k': [944, 2574], ' kq': [945, 1030, 1760, 2580, 3710], 'kqp': [946, 1031, 1761, 2581, 3336, 3711], 'qpm': [947, 1032, 1762, 2582, 3337, 3712], 'pmt': [948], 'mtt': [949, 1364], 'ttz': [950, 1365], 'tzi': [951, 1366, 1881, 3596], 'deh': [955, 3900], 'eht': [956], 'tya': [958], 'yat': [959, 3969], 't m': [961], ' md': [962], 'md ': [963, 3422], 'd x': [964], ' xh': [965], 'xhq': [966], 'hqr': [967], 'r o': [969, 1094, 1274, 2129, 2539, 3254, 4819], 'omw': [971, 1056, 3126], 'wmp': [973, 2178, 2308, 2638, 2968, 3113], 'mpw': [974, 1089, 2174, 2844], 'pwb': [975, 2175, 2845], 'wbw': [976, 2176, 2846], 'bwm': [977, 1960, 2177, 2645, 2847, 4010], 'wmt': [978], 'mtb': [979, 3149], 'tbq': [980], 'bqz': [981], 'zva': [983], 'vaw': [984], 'wmo': [988, 3588, 4368], 'mon': [989], 'onk': [990], 'nke': [991, 3076], 'kee': [992], 'eei': [993], 'eiz': [994], 'qdz': [1002], 'zed': [1004, 1929], 'eda': [1005, 1193, 1930], 'dai': [1006], 'ai ': [1007], 'tk ': [1010, 3160, 3675], 'k i': [1011, 1801, 2041, 4566], ' ie': [1012, 1802], 'e d': [1014], ' di': [1015], 'dip': [1016, 2254, 3384], 'ipr': [1017, 3482], 'prn': [1018], 'nd ': [1020], 'd d': [1021, 2239], ' dr': [1022], 'nkr': [1025, 2515, 4045], 'kri': [1026, 2516, 4046, 4461, 4951], 'rig': [1027, 2517, 4047, 4462, 4952], 'ig ': [1028, 2518, 2948, 4048, 4463, 4953], 'g k': [1029, 2519, 4954], 'pmr': [1033, 2583], 'mrl': [1034, 1529, 4979], 'rln': [1035], 'lnj': [1036], 'nja': [1037, 3547], 'jal': [1038], 'alp': [1039], 'hhr': [1042, 1407, 2717, 3252, 3372, 3552, 3632, 4302], 'hrs': [1043, 1408, 1563, 3373], 'hrv': [1047], 'rvg': [1048], 'vgx': [1049], 'gxm': [1050], 'rkj': [1060], 'kjy': [1061], 'jye': [1062], 'ye ': [1063, 2158, 3088], ' kl': [1065, 1795, 2280, 2575, 3275], 'lie': [1067, 3277], 'e s': [1069, 1798, 2283], ' sq': [1070], 'sqd': [1071], 'ddo': [1073, 4608], 'ort': [1075], 'rtb': [1076], 'tbb': [1077], 'bbh': [1078], 'bhp': [1079], 'hp ': [1080], 'dmi': [1083, 3388, 4068], 'miw': [1084, 3389, 4069, 4906], 'iwh': [1085, 3390, 4070], 'whh': [1086], 'hhm': [1087, 2982, 4167, 4247], 'hmp': [1088, 3407], 'pww': [1090], 'wwm': [1091], 'mr ': [1093], 'e n': [1099, 4504], 'pep': [1102], 'epu': [1103, 3893, 4128], 'puy': [1104], 'uym': [1105, 1380, 2565, 4685], 'ymd': [1106, 1381, 1866, 2566, 3923, 4686], 'chw': [1111, 1811, 1916, 3286, 4556], 'hwa': [1112, 1677, 2997, 3287, 4557], 'wal': [1113], 'ale': [1114], 'lea': [1115], 'eam': [1116], 'chy': [1121, 3786, 3821], 'xyv': [1127, 2497, 3537, 4877], 'yvs': [1128, 2498, 3538, 4878], 'vsc': [1129, 2499, 3209, 3539], 'sci': [1130, 2500, 3540], 'cir': [1131, 3541], 'irp': [1132, 2712], 'rpe': [1133, 1633, 2713, 4698], 'pek': [1134, 1394, 1634, 4269, 4699], 'ekl': [1135, 1395, 1470, 2225, 3435, 4605], 'ppz': [1140], 'pzw': [1141, 2346], 'zwb': [1142], 'bin': [1144], 'ini': [1145], 'nig': [1146], 'igv': [1147], 'gvt': [1148], 'khu': [1151, 3301, 3486], 'ugi': [1153, 4098], 'gik': [1154, 2039, 4099], 'ikh': [1155], 'chp': [1161, 1751, 2861, 4261], 'hpm': [1162, 1742, 1752, 1772, 3772, 4137, 4372, 4392, 4522], 'pmo': [1163], 'mo ': [1164], 'o q': [1165], ' qr': [1166], 'qrv': [1167], 'rvo': [1168], 'yhz': [1171], 'hzg': [1172], 'zgl': [1173], 'glr': [1174], 'lri': [1175], 'rim': [1176], 'kht': [1181], 'dey': [1184, 2069, 3979, 4474], 'eyl': [1185, 2070, 3365, 3980, 4475], 'yld': [1186, 4476], 'ldg': [1187, 1317], 'nkk': [1190], 'kke': [1191], 'ked': [1192], 'dan': [1194, 3913], 'ana': [1195], 'nad': [1196], 'add': [1197], ' yd': [1202], 'ydn': [1203], 'dnl': [1204], 'nla': [1205, 1820], 'lay': [1206, 1821], 'ayd': [1207, 1822], 'yde': [1208, 1823], 'dew': [1209], 'ewh': [1210], 'whd': [1211, 3836], 'chv': [1216], 'vms': [1218, 1353, 4838], 'mse': [1219, 1764, 3884, 4924], 'set': [1220], 'txn': [1222], 'xnt': [1223], 'ntc': [1224], 'tch': [1225, 1245, 1810, 2340], 'hdu': [1227], 'dua': [1228, 3508], 'uam': [1229, 3509], 'amq': [1230, 3510], 'mqp': [1231, 3511], 'qpr': [1232, 3512], 'prm': [1233, 2188], 'mpv': [1235, 2190, 3055, 3070, 3475, 4765], 'xmd': [1238, 1768, 2763, 3683, 4041, 4946], 'dkl': [1240], 'kly': [1241], 'lyv': [1242], 'yvt': [1243], 'vtc': [1244], 'dmm': [1253, 4583], 'phi': [1261, 3611], 'hif': [1262, 1512, 2362, 4972], 'if ': [1263, 1513, 2363, 4973], 'f w': [1264, 1309], ' wh': [1265, 1310, 1580, 2020, 3555], 'whi': [1266, 3391], 'hie': [1267, 2407, 2492, 2757, 3392], 'ies': [1268], 'esp': [1269, 4104], 'spv': [1270], 'pvg': [1271, 3953, 3956], 'vgr': [1272, 2127, 3957], 'gr ': [1273, 2128, 2928, 3958, 4423], 'dea': [1278], 'eak': [1279], 'aku': [1280], 'udf': [1282], 'dfh': [1283], 'fhz': [1284], 'hzl': [1285], 'zli': [1286], 'm z': [1289], ' zv': [1290], 'xmr': [1293, 1301, 4531], 'rkm': [1295], 'kmp': [1296], 'mpy': [1297, 4692, 4992], 'yex': [1299], 'exm': [1300, 4530], 'mrf': [1302, 2372, 3972, 4532, 4612], 'f d': [1304, 1939], ' dw': [1305, 2240, 3085], 'dwy': [1306, 2241, 3086], 'wyf': [1307, 2242], 'yf ': [1308], 'whe': [1311, 1581, 1851, 2021], 'hev': [1312], 'rkl': [1315], 'gnp': [1319, 4813], 'nph': [1320], 'phm': [1321, 3946], 'hm ': [1322, 3557, 3947, 4168, 4248], ' te': [1324], 'teq': [1325], 'eqx': [1326, 1766, 3296], 'qxv': [1327], 'cpa': [1335, 1475, 2080], 'pax': [1336, 1476, 2081], 'axr': [1337, 1477, 2082, 2482], 'xr ': [1338, 1478, 2083, 2118, 3298], 'r q': [1339, 1389, 2259], ' qi': [1340, 3825, 4535], 'qig': [1341], 'igg': [1342], 'ggl': [1343, 4333], 'gld': [1344], 'ldh': [1345], 'dhd': [1346, 1571, 1896, 3186, 3566, 4191, 4551], 'khv': [1351], 'szt': [1355, 4660], 'zty': [1356, 4661], 'tyf': [1357, 4382], 'yfi': [1358], 'vdm': [1362, 3037], 'pbx': [1371], 'bxm': [1372], 'xm ': [1373, 2423, 3478, 4768], 'm d': [1374, 1569, 3084], 'imu': [1378], 'muy': [1379, 1694, 1744, 2564, 3729, 4684], 'mdt': [1382], 'dtr': [1383], 'trl': [1384], 'rlv': [1385, 1465], 'lvh': [1386, 4406], 'vhr': [1387, 2472], 'hr ': [1388, 2718, 3253, 3553, 3633, 4303], ' qw': [1390, 4265], 'qwv': [1391, 3992, 4266], 'wvp': [1392, 4267], 'vpe': [1393, 4268], 'lkh': [1400, 3215], 'khx': [1401, 1651, 3376, 3431], 'hxg': [1402], 'xgd': [1403], 'sku': [1410], 'kue': [1411, 1416, 2676], 'uef': [1412, 1417], 'efh': [1413], 'fhk': [1414], 'hku': [1415], 'fia': [1419], 'iab': [1420, 4285], 'bie': [1422], ' km': [1425, 2760, 3020, 3315], 'kmx': [1426, 2171, 2761, 3021, 3316], 'mxm': [1427, 2172, 2560, 2562, 2762, 3022, 3317, 4040], 'lzx': [1431, 3456], 'zxv': [1432, 3457], 'xvc': [1433], 'vce': [1434], 'etm': [1436], 'tmm': [1437], 'mmr': [1438, 4611], 'mrp': [1439, 1632, 3104, 4204, 4697], 'rpu': [1440, 3105], 'pui': [1441, 1521, 2166, 2336, 3331, 4571, 4731], 'ui ': [1442, 1522, 2167, 2337, 3332, 4572, 4732], 'tkl': [1445, 2050, 2320, 4015, 4575], 'lhx': [1451, 3266], 'hxd': [1452, 3432, 4112], 'xd ': [1453], 'd c': [1454, 2369], ' ch': [1455, 2980], 'chl': [1456], 'hln': [1457], 'lnu': [1458], 'nud': [1459], 'udm': [1460], 'mdo': [1462], 'orl': [1464], 'lvg': [1466, 2126], 'vgu': [1467], 'gue': [1468, 1708], 'uek': [1469], ' ck': [1480], 'kmr': [1482, 1526], 'mrn': [1483, 4188, 4863], 'rnn': [1484, 4489], 'mdm': [1487, 1692, 1837, 2702, 4057], 'qdm': [1492], 'dmf': [1493], 'xmi': [1498], 'mix': [1499], 'ixx': [1500], 'xxv': [1501, 4001], 'xva': [1502, 2467], 'vap': [1503], 'apb': [1504], 'pbm': [1505], 'bmq': [1506, 4351], 'mqr': [1507, 1962, 3757, 4352, 4967], 'qrn': [1508, 1963, 3758, 4353, 4968], 'ndh': [1510, 1965, 3000, 3760, 4190, 4355, 4560, 4970], 'dhi': [1511, 2201, 3061, 4971], 'f c': [1514, 2979, 4614], 'cqq': [1516], 'qqb': [1517], 'qbl': [1518], 'blp': [1519], 'lpu': [1520, 3330, 4570], 'tkm': [1525, 2170], 'mrm': [1527, 3727], 'rmr': [1528, 4696, 4978], 'rlq': [1530], 'lqw': [1531, 3991, 4586], 'qwa': [1532], 'wan': [1533, 2998, 4558], 'ims': [1538, 2528, 3358], ' da': [1542], 'dap': [1543], 'apk': [1544], 'pkz': [1545], 'kze': [1546, 4746], 'zef': [1547], 'kav': [1556, 1891, 4836], 'ava': [1557], 'vag': [1558], 'agb': [1559], 'gbi': [1560], 'bih': [1561], 'ihr': [1562], 'khe': [1566], 'hem': [1567, 3842], 'em ': [1568], ' dh': [1570], 'hd ': [1572, 4192], 'd o': [1573, 2459, 2833, 4754], ' ox': [1574], 'xud': [1576], 'udr': [1577], 'dr ': [1578], 'he ': [1582], ' aw': [1584], 'awf': [1585], 'wfw': [1586], 'fwr': [1587], 'wr ': [1588, 2258, 2433], ' kk': [1590, 4030, 4775, 4805], 'szm': [1593], 'phw': [1596, 2996], 'wv ': [1598], 'v p': [1599], ' pt': [1600], 'ptp': [1601, 3561, 3951], 'tpr': [1602, 3562], 'pr ': [1603, 3513, 4818], ' ka': [1605], 'kae': [1606], 'aev': [1607], 'd p': [1624], ' pe': [1625], 'peg': [1626, 3942], 'egr': [1627], 'grl': [1628], 'khg': [1636, 1706, 2786, 3216, 4736], 'hgn': [1637, 1657, 3902, 4812], 'gnr': [1638], 'cwq': [1646], 'wqz': [1647], 'qze': [1648, 2503], 'hxa': [1652, 3267, 3377], 'xau': [1653, 3378], 'aud': [1654], 'udh': [1655, 4520], 'dhg': [1656, 2446], 'gnl': [1658, 3903], 'nln': [1659, 3904], 'lnb': [1660, 3905], 'nbp': [1661, 3906], 'bpm': [1662, 3907], 'mnk': [1664, 3339], 'yhw': [1676, 1746], 'wai': [1678, 3288], 'aik': [1679], 'ikb': [1680], 'kbr': [1681, 3171, 3716], 'brr': [1682, 2452, 3172], 'r l': [1684], ' lv': [1685], 'lve': [1686], 'vey': [1687, 1739, 4344], 'eyy': [1688], 'yyc': [1689], 'ycm': [1690], 'dmu': [1693, 4683], 'uyh': [1695, 1745, 3730], 'yhn': [1696], 'hna': [1697], 'nau': [1698], 'aup': [1699], 'upb': [1700], 'pbv': [1701, 2386], 'vmd': [1703, 3293], 'dkh': [1705], 'uen': [1709], 'en ': [1710], 'n d': [1711], 'dmp': [1713, 4691, 4991], 'drx': [1718], 'rxp': [1719], 'xpu': [1720], 'put': [1721, 3106], 'uty': [1722, 2417, 4282, 4592], 'tye': [1723, 2157, 2418, 4593], 'khj': [1726], 'jni': [1728], 'dhj': [1731], 'jar': [1733, 2443, 3548], 'ard': [1734, 2444, 3109, 3549], 'rdh': [1735, 2445, 3110, 3550], 'dhf': [1736, 2351, 3001], 'hfv': [1737, 2352, 4342], 'fve': [1738, 4343], 'yhp': [1741], 'pmu': [1743], 'pma': [1753, 3773, 4138], 'pms': [1763], 'seq': [1765], 'qxm': [1767, 1952, 2422], 'php': [1771, 3771, 4136, 4646], 'phn': [1781], 'hnr': [1782, 1862, 2297], 'nru': [1783, 2298], 'ruk': [1784, 2299, 3354], 'ukl': [1785, 3355], 'ldm': [1787], 'mcs': [1789, 2274, 2709], 'csm': [1790, 2275], 'smg': [1791, 2276], 'mge': [1792, 2277], 'ge ': [1793, 2278], 'kle': [1796, 2226, 2281, 2866], 'le ': [1797, 2282], ' sk': [1799, 2284], 'sk ': [1800, 2315], 'e p': [1804, 2729, 4654], ' pn': [1805, 3545], 'pnj': [1806, 3546], 'njr': [1807], 'jrt': [1808], 'rtc': [1809, 3570], 'hwg': [1812], 'wgr': [1813, 3753], 'grk': [1814, 3204], 'kte': [1816, 2111, 2246, 2411, 3206, 3411, 4416], 'tem': [1817, 2112, 2247, 2412, 3412, 4417], 'emn': [1818], 'mnl': [1819], 'k t': [1826], ' tv': [1827, 2545, 4480], 'tvr': [1828], 'vrt': [1829], 'ayr': [1832], 'yrl': [1833], 'wmd': [1836, 2073, 2891, 3448, 4011, 4056, 4508, 4643, 4936], 'dme': [1838, 4058], 'eca': [1840, 2215, 2790, 4740], 'cad': [1841, 2791, 3866, 4741], 'ads': [1842], 'dso': [1843], 'sob': [1844], 'oba': [1845], 'bad': [1846], 'adz': [1847, 1927, 2507, 3305], 'zaw': [1849], 'awh': [1850], 'heb': [1852, 2989, 4579, 4719], 'ebp': [1853, 4748], 'bpb': [1854], 'pbh': [1855, 2055], 'bhg': [1856], 'hgv': [1857], 'gv ': [1858], 'v k': [1859], 'khn': [1861], 'nr ': [1863], 'r y': [1864], ' ym': [1865], 'mdh': [1867, 2952, 4787], 'dhe': [1868], 'hee': [1869], 'eee': [1870, 2659, 3699], 'eed': [1871], 'edb': [1872], 'dba': [1873], 'bac': [1874], 'ach': [1875], 'hdp': [1877, 2617], 'dpr': [1878], 'prt': [1879], 'rtz': [1880], 'imi': [1883], 'min': [1884], 'inq': [1885], 'nqd': [1886], 'qdg': [1887], 'nka': [1890, 4835], 'avn': [1892], 'vni': [1893], 'khq': [1911, 4256], 'hqn': [1912, 4257], 'qni': [1913, 4258], 'nic': [1914, 4259], 'ich': [1915, 4260], 'wvm': [1918, 2908, 3763], 'vm ': [1919, 2909, 3764], ' ti': [1921, 2911, 3766], 'tiz': [1922, 2662, 4982], 'ize': [1923, 2633, 2663, 2898, 4983], 'zey': [1924, 2504, 2634, 2664, 2899, 4664, 4984], 'eya': [1925, 2375, 2505, 2635, 2665, 2815, 2900, 3030, 3145, 4620, 4665, 4830, 4985], 'yad': [1926, 2376, 2506, 2551, 2666, 2741, 2901, 3146, 3466, 4621, 4666, 4986], 'dav': [1931], 'r p': [1934, 2434, 2829, 2929], ' pv': [1935], 'pvd': [1936, 3736], 'vdf': [1937], 'q e': [1944, 3694], ' ev': [1945, 2605, 3245, 3495, 3695, 3985], 'evd': [1946, 3246, 3696, 3986], 'vdd': [1947], 'dd ': [1948, 4888], 'd n': [1949], ' nq': [1950], 'nqx': [1951], 'pl ': [1955, 3045], 'wnb': [1958], 'nbw': [1959], 'dhw': [1966, 2906, 3111, 3761], 'wvn': [1968], 'nrb': [1970], 'rbp': [1971], 'bpv': [1972], 'pve': [1973], 'veb': [1974, 2294], 'ebh': [1975, 2105, 2295, 3780, 3815, 4720], 'bhu': [1976, 2106], 'ewy': [1980], 'wyy': [1981], 'yyr': [1982], 'yrs': [1983], 'skw': [1985, 3260], 'kwf': [1986], 'wfe': [1987], 'fee': [1988], 'eeb': [1989], 'ebc': [1990], 'bce': [1991], 'cef': [1992], 'wmj': [1998, 3128], 'mjp': [1999, 2064, 2219, 4084, 4409], 'jpa': [2000], 'pad': [2001, 2031, 2831, 2931, 3911, 4066, 4601, 4771], 'adr': [2002, 2902], 'ska': [2005], 'kas': [2006, 4496], 'asg': [2007, 4497], 'sgt': [2008], 'gtk': [2009, 3429, 4199], 'hds': [2012], 'dsa': [2013], 'sat': [2014], 'ata': [2015], 'adm': [2017, 2267, 2552, 3147, 3857, 3897, 4067, 4132, 4772], 'm w': [2019, 2304, 2704, 2889, 2964, 3444], 'heo': [2022, 4657], 'eoa': [2023], 'oay': [2024], 'ayl': [2025], 'yls': [2026], 'ls ': [2027], '  p': [2029], ' pa': [2030, 2830, 2930, 3910, 4600, 4770], 'hpg': [2037], 'pgi': [2038], 'ik ': [2040], 'idv': [2043], 'dvt': [2044], 'vtz': [2045], 'tzs': [2046], 'zs ': [2047], 's t': [2048, 2318, 2878, 4958], 'mpb': [2054, 2179, 2429, 2969], 'bhj': [2056, 2441], 'ncp': [2059], 'cph': [2060, 2995, 4300], 'dmj': [2063], 'jph': [2065, 4410], 'ylw': [2071], 'zvg': [2076], 'vgm': [2077], 'gmc': [2078], 'r z': [2084], ' zk': [2085], 'zkg': [2086], 'kgn': [2087], 'gns': [2088], 'nst': [2089], 'stw': [2090], 'tdo': [2098, 4633], 'don': [2099], 'ont': [2100], 'nte': [2101, 3324], 'tez': [2102, 3325], 'eze': [2103, 2228, 2868], 'zeb': [2104, 4747], 'emh': [2113], 'mhl': [2114, 2849], 'hlb': [2115], 'lbx': [2116], 'bxr': [2117], 'r  ': [2119, 2454, 2719, 3139, 3174], '  b': [2120], ' bm': [2121, 2365], 'bme': [2122], 'mes': [2123], 'esl': [2124], 'slv': [2125], 'mdy': [2132, 2462, 3802, 4227], 'dya': [2133, 2463, 3888, 4123], 'yak': [2134, 2464, 3889, 4124], 'akz': [2135], 'kzd': [2136, 3516], 'zds': [2137], 'dsl': [2138, 3644], 'slp': [2139], 'lpe': [2140], 'pem': [2141], 'ema': [2142], 'f m': [2149], ' mq': [2150], 'mqi': [2151], '   ': [2154, 4544], '  t': [2155, 2544], ' ty': [2156], 'e l': [2159, 3749], 'xvv': [2163, 4377, 4397, 4728], 'vpu': [2165, 2335, 4730], 'pbw': [2180, 2256, 2970], 'bwj': [2181], 'wjv': [2182], 'jvt': [2183], 'vtl': [2184], 'tlj': [2185], 'ljp': [2186, 4816], 'ehx': [2195], 'hxp': [2196], 'xpa': [2197], 'pai': [2198], 'aid': [2199, 3289], 'him': [2202, 3082, 3442], 'kus': [2211, 2331, 3011], 'usq': [2212], 'sqe': [2213], 'cai': [2216], 'imj': [2218, 4848], 'jpb': [2220, 4085], 'bdq': [2222], 'lez': [2227, 2867], 'zec': [2229, 2869], 'chu': [2231], 'yfe': [2243], 'fek': [2244], 'eml': [2248, 3843], 'llj': [2250], 'ljs': [2251], 'jsd': [2252], 'sdi': [2253], 'ipb': [2255], 'bwr': [2257], ' qb': [2260], 'qbx': [2261], 'bxv': [2262], 'xvl': [2263], 'vlt': [2264], 'lta': [2265], 'dp ': [2270, 3575, 3925], 'kki': [2286, 4436, 4776], 'kim': [2287, 4777], 'dpz': [2290], 'pzr': [2291], 'zrv': [2292], 'rve': [2293], 'bhn': [2296], 'ukh': [2300], 'khs': [2301, 2886], 'hsm': [2302, 2887], 'sm ': [2303, 2888], 'mpt': [2309], 'pth': [2310], 'thg': [2311], 'grs': [2313, 3218, 4673], 'kls': [2321], 'lsg': [2322], 'sg ': [2323, 2603, 3798], 'g p': [2324], ' p ': [2325, 2425, 3625], 'usg': [2332], 'sgv': [2333, 3678, 3688], 'gvp': [2334, 3679], ' tc': [2339], 'chh': [2341, 2716, 2981], 'hhv': [2342, 2782, 4412], 'hvv': [2343, 3192], 'vpz': [2345], 'med': [2349, 2399, 3059], 'edh': [2350, 2400, 3060], 'fvz': [2353], 'vzl': [2354], 'zlz': [2355], 'lzv': [2356, 3845], 'zvr': [2357, 2437, 2732], 'f b': [2364], 'bmt': [2366], 'mtd': [2367], 'td ': [2368], 'cmr': [2371], 'rfe': [2373, 4843], 'fey': [2374, 2814, 3029, 3364, 4829, 4844], 'adq': [2377, 4622], 'hzn': [2382, 2402], 'znl': [2383], 'nlp': [2384], 'lpb': [2385], 'bve': [2387], 've ': [2388], 'e o': [2389, 3934, 4894], ' oq': [2390, 4755], 'oqz': [2391], 'qzr': [2392], 'zrr': [2393], 'rrc': [2394], 'rcm': [2395], 'cmw': [2396], 'znr': [2403], 'nrt': [2404], 'rth': [2405], 'thi': [2406, 2756], ' kt': [2410, 3600], 'emc': [2413], 'czu': [2415, 4470, 4590], 'zut': [2416, 4471, 4591], 'yeh': [2419, 4594], 'ehq': [2420], 'hqx': [2421], 'm p': [2424, 3909, 4599, 4769], 'p x': [2426], 'pbq': [2430], 'bqw': [2431], 'qwr': [2432, 4636], ' pz': [2435, 2730], 'pzv': [2436, 2731], 'vru': [2438, 2733], 'rub': [2439, 2474, 2734, 4164, 4244], 'ubh': [2440, 2475, 2780, 4165, 4245], 'hga': [2447, 2557, 4037], 'gam': [2448, 2558, 4038], 'amx': [2449, 2559, 4039], 'mxb': [2450], 'xbr': [2451], '  w': [2455], ' wy': [2456], 'wyd': [2457], 'yd ': [2458, 2573, 4158, 4238], 'akx': [2465], 'vaf': [2468], 'afz': [2469], 'fzv': [2470], 'zvh': [2471], 'hru': [2473], 'bhd': [2476], ' la': [2480], 'lax': [2481], 'xrn': [2483], 'ndq': [2485], 'dqs': [2486], 'qs ': [2487], ' ih': [2490, 3975], 'ihi': [2491], 'iet': [2493, 3393], 'etk': [2494, 3394], 'ciq': [2501], 'iqz': [2502], 'zic': [2509], 'icm': [2510], ' k ': [2520, 3650, 4955], 'k m': [2521, 4931], ' mm': [2522], 'mme': [2523], 'mew': [2524], 'hvr': [2532, 3067], 'vrl': [2533], 'rlk': [2534], 'lkk': [2535], 'klr': [2537, 4032, 4807], 'lr ': [2538], ' oh': [2540, 3935, 4820], 'ohy': [2541, 3936, 4821], 'tvw': [2546], 'vwf': [2547], 'wfa': [2548], 'fay': [2549, 3464], 'aya': [2550, 3465], 'dmo': [2553, 3838], 'moy': [2554, 3839, 4514], 'yhg': [2556], 'xmx': [2561], 'xmu': [2563], 'rbm': [2570], 'bmy': [2571], 'myd': [2572, 4157, 4237], 'lda': [2577], 'da ': [2578], 'a k': [2579], 'ytp': [2589], 'tph': [2590, 2600, 2615, 3610, 3795, 3945, 4385, 4440], 'kxi': [2596, 2946, 3426, 4196], 'xid': [2597], 'idt': [2598], 'dtp': [2599], 'phs': [2601, 3796], 'hsg': [2602, 3797], 'g e': [2604], 'evi': [2606, 3496], 'vim': [2607, 3497], 'kne': [2611, 3791, 3891, 4101, 4126, 4961], 'nev': [2612], 'vtp': [2614], 'dpo': [2618, 3703, 3918], 'pox': [2619, 3999], 'dzo': [2628, 2893, 3723], 'zoe': [2629, 2894], 'oec': [2630, 2895], 'eci': [2631, 2896], 'yaw': [2636], 'pz ': [2640], 'z w': [2641], ' wv': [2642], 'wvb': [2643, 4008], 'vbw': [2644, 4009], 'xmn': [2653], 'nzv': [2655], 'vde': [2657, 3697], 'eet': [2660, 3700], 'eti': [2661], 'adh': [2667], 'dha': [2668, 2953], 'hab': [2669, 2954], 'abq': [2670, 2955], 'bqd': [2671], 'qde': [2672], 'de ': [2673], ' ku': [2675], 'uev': [2677], 'evs': [2678, 3208], 'vsk': [2679, 4414], 'skq': [2680, 4840], 'kqr': [2681, 3996, 4841], 'qrm': [2682], 'rmg': [2683], 'mgl': [2684, 2824], 'glb': [2685], 'lba': [2686], 'bam': [2687, 3452], 'ame': [2688], 'hdb': [2692, 3567], 'dbu': [2693], 'but': [2694], 'ut ': [2695], 't w': [2696], 'wmc': [2708, 3853, 4588], 'csi': [2710], 'sir': [2711], 'pec': [2714, 3284], ' iv': [2721], 'ivr': [2722], 'vri': [2723], 'riw': [2724], 'ub ': [2735], 'b d': [2736, 4581], ' de': [2737, 2777], 'deo': [2738, 3873], 'eoy': [2739, 3874], 'oya': [2740], 'adf': [2742], 'frk': [2744], 'k d': [2746, 3161, 3651], 'zuw': [2749], 'uwa': [2750, 3520, 3895, 4130], 'wam': [2751], 'amb': [2752], 'mbl': [2753], 'blt': [2754], 'lth': [2755], 'mdl': [2764, 2914, 3309], 'dlv': [2765, 2915], 'lvw': [2766, 2916], 'wmn': [2768], 'npb': [2770], 'pbj': [2771], 'bjm': [2772], 'jmc': [2773], 'mcl': [2774], 'cl ': [2775], 'eub': [2779], 'bhh': [2781, 3781, 3816, 4166, 4246], 'hvx': [2783], 'vxk': [2784], 'xkh': [2785], 'hgm': [2787, 4737], 'gme': [2788, 4738], 'ady': [2792], 'sge': [2798, 4798], 'gee': [2799, 4799], 'ezd': [2801, 3871, 3886, 4801, 4926], 'kxp': [2806], 'xpg': [2807], 'pgs': [2808], 'gsk': [2809, 4499], 'ski': [2810, 3220, 3360], 'kix': [2811, 3026, 3361, 4826], 'ixf': [2812, 3027, 3362, 4827], 'xfe': [2813, 3028, 3363, 4828], 'yam': [2816, 3031, 4831], 'ams': [2817], 'ms ': [2818, 4329], 's a': [2819], 'mmg': [2823], 'glo': [2825], 'lor': [2826], 'orr': [2827, 4022], 'ad ': [2832, 2932], ' oy': [2834], 'yht': [2836, 4516], 'tns': [2838, 3348], 'nsk': [2839, 3349], 'skt': [2840, 3350, 4415, 4500], 'wmh': [2848], 'hlj': [2850], 'ljm': [2851], 'jmy': [2852], 'mye': [2853], 'hdn': [2872], 'dnu': [2873, 4078], 'nuk': [2874], 'ukk': [2875], 'ks ': [2877], ' tb': [2879, 3614], 'rs ': [2924], 's h': [2925, 4330], ' hg': [2926, 4331], 'd e': [2933, 3423, 3494, 4193], ' yo': [2937], 'yoi': [2938], 'oid': [2939], 'dhu': [2941, 4788], 'xig': [2947, 3427, 4197], 'bqe': [2956], 'qef': [2957], 'bwf': [2971], 'wfn': [2972], 'fnb': [2973], 'nbt': [2974], 'ttm': [2976], 'tmf': [2977, 3272], 'hmi': [2983], 'miy': [2984], 'yih': [2986], 'ihh': [2987], 'hhe': [2988], 'eba': [2990, 3078], 'bae': [2991], 'ae ': [2992], 'and': [2999, 4559], 'hfr': [3002], 'fra': [3003], 'rae': [3004], 'aek': [3005], 'eks': [3006], 'ksg': [3007, 3687], 'sgp': [3008], 'gpk': [3009], 'pku': [3010], 'usv': [3012], 'svn': [3013], 'vno': [3014], 'noz': [3015], 'ozi': [3016], 'zie': [3017, 3597], 'lki': [3025], 'nkv': [3035], 'kvd': [3036], 'mtl': [3039, 3499], 'tlv': [3040], 'lvx': [3041], ' dn': [3047], 'dnb': [3048, 3468], 'nbc': [3049, 3469], 'bcw': [3050, 3470], 'cwp': [3051, 3471], 'wpg': [3052, 3472], 'pgm': [3053, 3473], 'gmp': [3054, 3474], 'tth': [3065], 'thv': [3066], 'vrm': [3068], 'xma': [3073], 'keb': [3077], 'bab': [3079], 'abh': [3080], 'wye': [3087], 'afi': [3095, 4115], 'fir': [3096], 'irf': [3097, 3542], 'rfa': [3098], 'far': [3099], 'arm': [3100], 'rmw': [3101], 'uta': [3107], 'tar': [3108], 'hwm': [3112], 'hlk': [3120], 'lky': [3121], 'ky ': [3122], '  o': [3124], 'zbi': [3131, 4851], 'big': [3132, 3226], 'igr': [3133], 'grc': [3134], 'rch': [3135], '  m': [3140, 3175, 4650], ' my': [3141], 'myh': [3142], 'yhe': [3143, 3841, 3876, 4346, 4618], 'hey': [3144, 4619], 'tbm': [3150, 3615, 4215, 4350], 'bmd': [3151, 3421, 3616, 3691, 4216], 'mdd': [3152], 'exx': [3155, 3850], 'xxs': [3156], 'xsd': [3157], 'sdt': [3158, 4858], 'dtk': [3159, 4859], 'rkb': [3170], ' mv': [3176], 'mve': [3177], 'vep': [3178], 'ept': [3179, 3878], 'ptk': [3180], 'kep': [3182], 'epi': [3183, 4963], 'pid': [3184], 'eu ': [3189], 'u h': [3190], ' hv': [3191], 'vve': [3193], 'vee': [3194], 'ezi': [3196, 3326], ' kx': [3200, 4875], 'xsg': [3202], 'scm': [3210], 'cmv': [3211, 4716], 'mvm': [3212], 'vml': [3213], 'kif': [3221, 4437], 'ife': [3222], 'fet': [3223], 'etb': [3224], 'igf': [3227], 'gfi': [3228, 4448], 'm c': [3234], ' cb': [3235], 'cbt': [3236], 'btb': [3237], 'tbo': [3238], 'ocw': [3240], 'e e': [3244], 'vdw': [3247], 'dwe': [3248], 'wee': [3249], 'eeh': [3250], 'ehh': [3251], 'oiq': [3256], 'iqr': [3257], 'qrs': [3258], 'kwd': [3261], 'wdm': [3262], 'dml': [3263, 3858], 'xat': [3268], 'atl': [3269], 'tlt': [3270], 'ltm': [3271], 'f k': [3274, 4874], 'e  ': [3279], '  q': [3280, 3824], ' qd': [3281], 'qdp': [3282], 'dpe': [3283], 'dhv': [3291], 'deq': [3295], 'qxr': [3297], 'uga': [3303], 'gad': [3304], 'dlu': [3310], 'lui': [3311], 'uie': [3312, 3932], 'xmo': [3318, 4513], 'mok': [3319, 4369], 'okh': [3320, 4370], 'hrn': [3322], 'rnt': [3323], 'ziy': [3327], 'tkq': [3335], 'nkf': [3340], 'kfd': [3341], 'fdn': [3342], 'dni': [3343], 'ktm': [3351], 'tmr': [3352, 3971], 'mru': [3353], 'ylv': [3366, 3981], 'lvr': [3367, 3982], 'aub': [3379], 'ubl': [3380], 'bli': [3381], 'lid': [3382], 'idi': [3383], 'ip ': [3385], 'khz': [3396], 'vdp': [3399, 3654], 'dpv': [3400, 3655], 'xmq': [3403], 'qeh': [3405], 'mpi': [3408], 'pik': [3409], 'ikt': [3410], 'emv': [3413], 'mvt': [3414], 'kxa': [3417], 'xai': [3418], 'aib': [3419], 'ibm': [3420], 'igt': [3428, 4198], 'xde': [3433], 'ldp': [3437], 'dpi': [3438], 'pio': [3439], 'ioh': [3440], 'ohi': [3441], 'dpb': [3450], 'pba': [3451], 'amp': [3453], 'xve': [3458], 'vec': [3459], 'dfa': [3463], 'adn': [3467], 'm r': [3479], ' ri': [3480], 'rip': [3481], 'tlk': [3500], 'xvq': [3503], 'vqe': [3504, 3719], 'emd': [3506, 3721, 4226], 'mdu': [3507, 4897], ' kz': [3515], 'zde': [3517, 3872], 'euw': [3519], 'wae': [3521], 'aef': [3522], 'upt': [3530, 3740], 'ptu': [3531, 3741], 'tug': [3532, 3742], 'f p': [3544], 'dhh': [3551, 3631], 'whm': [3556], ' tp': [3559, 3949], 'tpt': [3560, 3950], 'prc': [3563], 'cdh': [3565], 'tcd': [3571], 'cdm': [3572], ' dd': [3577, 4887], 'ec ': [3580], 'c s': [3581], 'mob': [3589], 'obl': [3590], 'blm': [3591], 'lm ': [3592], ' at': [3594], 'atz': [3595], 'bet': [3608], 'etp': [3609], 'dqa': [3618, 4018, 4313, 4453, 4623], 'qay': [3619, 3733, 4314, 4454, 4624], 'y d': [3621, 4316, 4456, 4626], ' dy': [3622, 4457], 'y p': [3624], 'p t': [3626], ' td': [3627], 'tdi': [3628], 'did': [3629], 'mao': [3639], 'aoc': [3640], 'oci': [3641], 'cid': [3642], 'ids': [3643], 'slq': [3645], 'lqv': [3646], ' dv': [3652], 'dvd': [3653], 'vxv': [3657, 4727], 'xvf': [3658], 'vft': [3659], 'ftm': [3660], 'tmd': [3661], 'dnv': [3663], 'nvp': [3664], 'vpk': [3665], 'pkd': [3666], 'kdy': [3667], 'dyu': [3668], 'yut': [3669], 'drt': [3673, 4013], 'rtk': [3674, 4014], 'vpv': [3680], 'dkk': [3685], 'gvb': [3689], 'vbm': [3690], 'etd': [3701], 'tdp': [3702], 'poe': [3704], 'oex': [3705], 'exd': [3706], 'xdq': [3707], 'q k': [3709, 4804], 'pml': [3713], 'lkb': [3715], 'brv': [3717], 'rvq': [3718], 'zoi': [3724], 'oim': [3725], 'imr': [3726], 'rmu': [3728], 'yhq': [3731], 'ayp': [3734], 'ypv': [3735], 'vdc': [3737], 'geq': [3744], 'eqw': [3745], 'qwm': [3746, 4587], ' lj': [3750], 'ljw': [3751], 'jwg': [3752], 'gro': [3754], 'rom': [3755], 'omq': [3756], 'mad': [3774], 'ada': [3775, 3912], 'dam': [3776], 'amd': [3777], 'deb': [3779], 'ekn': [3790], 'neg': [3792], 'egt': [3793, 3943, 4213, 4348], 'gtp': [3794, 3944], 'ctx': [3810], 'xmf': [3812], 'mfe': [3813], 'feb': [3814], 'iyj': [3827], 'yj ': [3828], 'j n': [3829], ' ni': [3830, 4505, 4940], 'nip': [3831], 'ipp': [3832], 'ppu': [3833], 'puw': [3834, 3894, 4129], 'uwh': [3835], 'mlz': [3844], 'zvk': [3846], 'vkf': [3847], 'kfe': [3848], 'fex': [3849], 'xxw': [3851], 'xwm': [3852], 'cta': [3855], 'ph ': [3861], 'h u': [3862], ' ui': [3863], 'uic': [3864], 'ica': [3865], 'adb': [3867], 'boe': [3869], 'oez': [3870], 'hep': [3877], 'rms': [3883], 'sez': [3885, 4925], 'akn': [3890, 4125, 4855], 'nep': [3892, 4127, 4962], 'wad': [3896, 4131], 'ehg': [3901], 'nki': [3915, 4865], 'kid': [3916, 4076], 'idp': [3917], 'poy': [3919], 'oyv': [3920], 'yvy': [3921], 'vym': [3922], ' du': [3927], 'ekp': [3940], 'kpe': [3941], 'tpv': [3952, 4725], 'vgp': [3954], 'gpv': [3955], 'r a': [3959], 'mms': [3963], 'spu': [3965], 'puf': [3966], 'ufy': [3967], 'fya': [3968], 'atm': [3970], 'f i': [3974], 'iht': [3976], 'r e': [3984], 'vdb': [3987], 'dbl': [3988], 'bll': [3989], 'llq': [3990], 'rkq': [3995], 'qrp': [3997], 'rpo': [3998], 'oxx': [4000], 'vmh': [4003], 'mhp': [4004], 'hpv': [4005], 'pvw': [4006], 'vwv': [4007], 'ldq': [4017], 'qat': [4019], 'ato': [4020], 'tor': [4021], 'rrr': [4023], 'rrk': [4024], 'lrc': [4033, 4808], 'rcc': [4034, 4809], 'cch': [4035, 4810], 'mdg': [4042], 'g q': [4049], ' qz': [4050], 'qzm': [4051], 'zmh': [4052], 'mho': [4053], 'how': [4054], 'owm': [4055], 'his': [4062], 'isf': [4063], 'sfp': [4064], 'fpa': [4065], 'whr': [4071], 'hrm': [4072, 4977], 'rmy': [4073], 'myk': [4074], 'yki': [4075], 'idn': [4077], 'nun': [4079], 'unb': [4080], 'nbr': [4081], 'brm': [4082], 'rmj': [4083], 'bdn': [4087], 'lts': [4091], 'tst': [4092], 'stu': [4093], 'tup': [4094], 'ikn': [4100], 'nee': [4102], 'chx': [4111], 'xda': [4113], 'daf': [4114], 'fim': [4116], 'imy': [4117], 'myl': [4118], 'lpz': [4120], 'pzd': [4121], 'may': [4139], 'ayi': [4140], 'yip': [4141], 'ipk': [4142], 'pks': [4143], 'ksp': [4144], 'kui': [4151, 4231], 'uiv': [4152, 4232], 'ivl': [4153, 4233], 'vlw': [4154, 4234], 'wmy': [4156, 4236], 'd u': [4159, 4239], ' uw': [4160, 4240], 'uwy': [4161, 4241], 'wyr': [4162, 4242], 'yru': [4163, 4243], 'npi': [4171, 4251], 'pip': [4172, 4252], 'ips': [4173, 4253], 'psk': [4174, 4254], 'lhg': [4181], 'gur': [4183], 'urk': [4184], 'kam': [4186], 'amr': [4187], 'tko': [4200], 'koy': [4201], 'oym': [4202], 'ymr': [4203], 'frp': [4209], 'phe': [4211, 4386, 4656], 'gtb': [4214, 4349], 'phz': [4219], 'hz ': [4220], 'z i': [4221], ' im': [4222, 4847], 'imq': [4223], 'hpn': [4262, 4647], 'pn ': [4263, 4648], 'n q': [4264], 'kiy': [4271, 4866], 'iym': [4272, 4867], 'ymw': [4273, 4868], 'mws': [4274, 4869], 'wsq': [4275, 4870], 'sqw': [4276, 4871], 'qwf': [4277, 4757, 4872], 'f t': [4279], ' tu': [4280], 'tut': [4281], 'tyi': [4283], 'yia': [4284], 'lht': [4291], 'htg': [4292], 'tgi': [4293], 'r b': [4304], ' bh': [4305], 'bhy': [4306], 'hye': [4307], 'yes': [4308], 'stz': [4310], 'tzd': [4311], 'zdq': [4312, 4802], ' df': [4317], 'aie': [4322], 'hgg': [4332], 'gll': [4334], 'lla': [4335], 'chf': [4341], 'hmz': [4357], 'mzp': [4358, 4933], 'zpz': [4359], 'pzz': [4360], 'zxn': [4362], 'xnn': [4363], 'khp': [4371], 'ecx': [4375, 4395], 'cxv': [4376, 4396], 'vvt': [4378, 4398], 'kty': [4381], 'yft': [4383], 'ftp': [4384, 4439, 4724], 'heh': [4387], 'ehe': [4388], 'hen': [4389], 'enh': [4390], 'nhp': [4391], 'hdc': [4402], 'cul': [4404], 'ulv': [4405], 'vhm': [4407], 'hmj': [4408], 'hvs': [4413], 'emf': [4418], 'zzg': [4421], 'zgr': [4422], ' kr': [4425], 'krd': [4426], 'rdr': [4427], 'dmr': [4431], 'mrq': [4432], 'rqs': [4433], 'qsk': [4434], 'ift': [4438], 'htr': [4442, 4517], 'trr': [4443], 'rrq': [4444], 'rqm': [4445], 'qmg': [4446], 'mgf': [4447], 'vdq': [4452], 'g a': [4464], 'mmc': [4468], 'utd': [4472], 'ldy': [4477], 'y t': [4479], 'tvx': [4481], 'vxr': [4482], 'xrl': [4483], 'lwq': [4485], 'wqk': [4486], 'qkr': [4487], 'krn': [4488], 'eka': [4495], 'sgs': [4498], 'niw': [4506], 'tru': [4518], 'rud': [4519], 'dhp': [4521], 'pmg': [4523], 'mgt': [4524], 'gta': [4525], 'tam': [4526], 'amz': [4527], 'mze': [4528], 'zex': [4529], 'f q': [4534], 'qim': [4536], ' zs': [4546], 'zss': [4547], 'ssi': [4548], 'sid': [4549], 'hdv': [4552], 'dvl': [4553], 'vlc': [4554], 'lch': [4555], 'dhr': [4561], 'ran': [4563], 'nk ': [4565], ' ig': [4567], 'igl': [4568], 'glp': [4569], 'klm': [4576], 'lmh': [4577], 'mhe': [4578], 'eb ': [4580], 'mlq': [4585], 'hmw': [4596], 'ade': [4602, 4742], 'ldd': [4607], 'dom': [4609], 'omm': [4610], 'cwy': [4616], 'wyh': [4617], 'doq': [4634], 'oqw': [4635, 4756], 'wrq': [4637], 'rqe': [4638], 'qee': [4639], 'n  ': [4649], ' mr': [4651], 'mre': [4652], ' ph': [4655], 'eos': [4658], 'osz': [4659], 'tyz': [4662], 'yze': [4663], 'adv': [4667, 4987], 'dvn': [4668, 4688, 4988], 'vnl': [4669], 'nlk': [4670], 'lkg': [4671], 'kgr': [4672], 'rsc': [4674], 'scq': [4675], 'cqf': [4676], 'qfy': [4677, 4997], 'fye': [4678], 'mdv': [4687], 'vnd': [4689, 4989], 'pyi': [4693, 4993], 'yir': [4694, 4994], 'irm': [4695], 'ekw': [4700], 'kwv': [4701], 'hda': [4712], 'dab': [4713], 'abc': [4714], 'bcm': [4715], 'mvh': [4717], 'vhe': [4718], 'bhe': [4721], 'hef': [4722], 'eft': [4723], 'ekz': [4745], 'bpp': [4749], 'ppt': [4750], 'pti': [4751], 'fiy': [4759], 'iyk': [4760], 'ykx': [4761], 'kxr': [4762], 'xrm': [4763], 'qrf': [4782, 4842], 'hup': [4789], 'npl': [4814], 'plj': [4815], 'avm': [4837], 'ey ': [4845], 'y i': [4846], 'bid': [4852], 'ida': [4853], 'dak': [4854], 'kns': [4856], 'nsd': [4857], 'tkj': [4860], 'kjm': [4861], 'jmr': [4862], 'vsa': [4879], 'sab': [4880], 'd r': [4889], 'rti': [4891], 'uoi': [4899], 'oit': [4900], 'iti': [4901], 'm m': [4904], ' mi': [4905], 'pwm': [4935], 'z n': [4939], 'nir': [4941], 'irv': [4942], 'rvs': [4943], 'vsx': [4944], 'sxm': [4945], 'dqu': [4948], 'quk': [4949], 'ukr': [4950], 'tkn': [4960], 'piw': [4964], 'f r': [4974], ' rh': [4975], 'rhr': [4976], 'rlt': [4980], 'lti': [4981], 'irq': [4995], 'rqf': [4996]}\n"
     ]
    }
   ],
   "source": [
    "#on crée le dictionnaire vide\n",
    "dictTrigrammes={}\n",
    "\n",
    "#on parcourt le message codé au complet jusqu'à l'avant dernier caractère\n",
    "for i in range(len(messageCode)-2):\n",
    "    if messageCode[i:i+3] not in dictTrigrammes: #si le trigramme n'a jamais été rencontré\n",
    "        dictTrigrammes[messageCode[i:i+3]]=[i]   #on crée une liste des positions de ce trigramme initialisée à [i]\n",
    "    else:\n",
    "        dictTrigrammes[messageCode[i:i+3]].append(i) #si le trigramme a déjà été rencontré, on ajoute sa nouvelle position\n",
    "print(dictTrigrammes)"
   ]
  },
  {
   "cell_type": "markdown",
   "metadata": {},
   "source": [
    "On veut connaitre l'écart qu'il y a entre les trigrammes identiques. On crée donc le dictionnaire dictTrigrammesEcart qui recense l'écart entre chacun des trigrammes."
   ]
  },
  {
   "cell_type": "code",
   "execution_count": 67,
   "metadata": {},
   "outputs": [
    {
     "name": "stdout",
     "output_type": "stream",
     "text": [
      "{'eoo': [], 'ooe': [], 'oed': [], 'ed ': [1620, 615, 1255], 'd l': [], ' lt': [], 'ltp': [], 'tpn': [], 'pnn': [], 'nnk': [], 'nkx': [], 'kxs': [3190], 'xsr': [], 'sr ': [], 'r k': [345, 20, 55, 1155, 15, 155, 1540, 70, 145, 135, 775], ' kp': [], 'kpm': [], 'pme': [4356, 20], 'met': [], 'etz': [], 'tzq': [], 'zqv': [], 'qvr': [3625], 'vrs': [560, 1775], 'rsk': [40, 190, 235, 95, 245, 215, 365, 155, 420, 20, 310, 45, 505, 355, 40, 115, 110], 'skm': [], 'kma': [], 'maf': [3067], 'afr': [], 'frl': [15], 'rlw': [574, 1025, 205, 2650], 'lwv': [], 'wvq': [4670], 'vqi': [4670], 'qiy': [3792, 878], 'iyi': [2950, 1720], 'yim': [4670], 'imd': [871, 45, 224, 1111, 320, 274, 31, 395, 460, 769, 170], 'mde': [916, 224, 99, 1606, 411, 484, 121, 639, 170], 'dec': [3540], 'ech': [290, 55, 310, 415, 105, 1015, 150, 335, 155, 415, 175, 1170, 50, 230], 'chd': [530, 655, 650, 995, 590, 1220], 'hdf': [3420, 745], 'dfr': [2700, 1465], 'rll': [], 'lly': [], 'lyp': [], 'ypt': [], 'ptt': [3830], 'ttw': [3830], 'twr': [470, 1570, 1790], 'wrm': [360, 340, 1340, 1545, 245], 'rmp': [1181, 955, 880, 1695], 'mpl': [475, 900, 285, 240, 250, 840, 70, 340], 'plz': [475, 900, 285, 490, 910, 340], 'lzd': [475, 1185, 490, 910], 'zdp': [3060], 'dph': [652, 695, 365, 325, 1023, 652, 365, 83, 427], 'phl': [3060], 'hlz': [], 'lzp': [], 'zpr': [], 'prs': [190, 235, 340, 2035, 620], 'skj': [], 'kje': [], 'jeg': [], 'egd': [], 'gdp': [1335], 'dpt': [], 'pte': [], 'tev': [3135], 'evr': [590, 650], 'vrp': [590, 210], 'rph': [590, 210, 3330, 5], 'pht': [1990, 30, 1070, 940, 335], 'htd': [1105, 885, 30, 1880, 655], 'tde': [1105, 885, 1910, 495], 'dex': [3075], 'exq': [], 'xqd': [], 'qdd': [990], 'dde': [1115, 1955, 425], 'dek': [1095, 20, 625, 1060, 550, 1105, 170], 'ekx': [775, 265, 495, 615, 360, 210, 140, 480, 65, 45, 270, 390], 'kxy': [1040, 1370, 1040, 1340], 'xyo': [], 'yol': [], 'olt': [], 'ltk': [], 'tke': [3090], 'kef': [], 'efi': [1325, 130, 445, 965], 'fiz': [175, 1090, 190, 445, 965, 270, 1220], 'izv': [175, 725, 365, 190, 445, 965, 270, 1220], 'zvd': [1265, 1295, 265, 477, 1053], 'vdr': [2825], 'drn': [10, 465, 450, 1490, 1915], 'rnk': [10, 915, 1490, 2350], 'nkn': [], 'knv': [], 'nvn': [], 'vnn': [], 'nnn': [2595], 'nnm': [1380, 1215, 1790], 'nmd': [445, 125, 810, 1215, 1790], 'mdr': [2405, 55, 1445], 'nkh': [], 'khd': [270, 260, 190, 1180, 2390, 310], 'hdm': [1220, 730, 1775, 845], 'dm ': [1905, 685, 2070], 'm k': [3085, 1575], ' kh': [245, 20, 1480, 1440, 70], 'khh': [1040, 1700, 515], 'hha': [], 'hau': [], 'aum': [], 'umt': [], 'mti': [], 'tim': [305, 480, 1620, 315, 70, 855, 1135], 'ima': [455], 'mac': [], 'ac ': [], 'c e': [560, 3610], ' ee': [], 'ees': [3975], 'est': [4180], 'stv': [], 'tve': [530], 'vef': [], 'ef ': [3390], 'f o': [610, 40, 145, 2595, 1260], ' oi': [610, 40, 310, 2160], 'oir': [610, 40, 310], 'ire': [610, 40, 310], 're ': [385, 225, 40, 310, 2145, 1410], 'e w': [650, 2300, 1235], ' wi': [], 'wid': [640], 'idd': [], 'ddu': [], 'dup': [], 'uph': [410, 215, 2395, 930, 695], 'phq': [565, 545], 'hqa': [3585], 'qar': [], 'arr': [], 'rrb': [2419], 'rbi': [], 'bim': [375, 1250, 1104, 1406, 595], 'im ': [1135, 1795, 115, 245, 1460], 'm a': [1620, 1819], ' ab': [370, 75, 25, 1150, 1045, 1140, 505], 'abi': [370, 895, 355, 2510, 595], 'biy': [], 'iyl': [300, 2870, 1585], 'ylp': [300, 2870, 790, 795], 'lph': [880, 740, 2080], 'phg': [], 'hgu': [1545, 2475], 'gua': [], 'uay': [], 'ay ': [3455, 695, 140, 170], 'y s': [], ' s ': [2150, 2225, 415], 's  ': [1860, 460, 2055], '  n': [], ' np': [930, 3070, 80], 'npe': [70, 860], 'pe ': [], 'e t': [], ' tl': [], 'tlq': [], 'lqi': [], 'qi ': [1975], 'i t': [830, 435, 80, 645, 170, 725, 270, 280, 960, 160], ' tk': [830, 435, 80, 525, 120, 150, 1015, 1240, 160, 225], 'tkt': [1430, 2770], 'kti': [245, 2415, 1185, 475], 'tie': [2545, 1300, 475, 390], 'ie ': [830, 55, 355, 380, 605, 320, 30, 260, 260, 35, 285, 335, 95, 295, 180, 390], 'e c': [504, 61, 2244, 1305], ' cq': [1330], 'cqv': [], 'qvm': [], 'vmn': [], 'mnp': [2580], 'np ': [], 'p d': [70, 185, 15, 130, 40, 60, 15, 115, 260, 460, 730, 55, 300, 760, 190, 350, 960, 30], ' dm': [70, 185, 145, 115, 375, 630, 228, 332, 1115, 1195], 'dmq': [70, 1225], 'mqe': [70, 540, 195, 490, 1915, 820], 'qem': [70, 3240, 215, 505], 'emp': [], 'mpm': [140], 'pmn': [1465, 1675], 'mnz': [2455], 'nzu': [], 'zud': [], 'udn': [], 'dnc': [685], 'ncs': [], 'csq': [], 'sqp': [], 'qpy': [], 'pye': [1090], 'yek': [1515, 485, 585, 10, 50, 950, 345, 80, 230, 335, 135], 'eki': [4060, 555], 'kiz': [], 'izn': [], 'zni': [], 'nid': [1515, 165, 1450], 'idh': [205, 1310, 165, 305, 740, 245, 105, 55, 285, 920], 'dhm': [4140], 'hmy': [15], 'my ': [15], 'y  ': [2324, 580, 700], '  z': [4325], ' zm': [], 'zme': [], 'me ': [3525], 'e k': [840, 360, 370, 485, 130, 265, 85, 260, 295, 285, 430], ' ky': [], 'kyy': [], 'yyn': [], 'ynn': [], 'nno': [], 'noh': [635], 'ohm': [], 'y c': [], ' cm': [2135], 'cmd': [1455, 820], 'mdp': [472, 1060, 325, 175, 20, 1160, 125, 195, 155, 210, 83, 427], 'dpa': [], 'pan': [], 'anp': [], 'pev': [], 'evt': [1365, 1005], 'vtk': [650, 255, 460, 1806, 964, 20], 'tkx': [2250, 921], 'kxe': [1375, 615, 1255], 'xed': [1375, 615, 1255], 'edm': [], 'dmt': [1114, 1675, 110], 'mth': [], 'thp': [1785], 'hpr': [2610], 'skn': [], 'kni': [], 'niz': [], 'izm': [], 'zmp': [1335], 'mp ': [], 'emw': [], 'mwf': [330, 330, 740, 480], 'wfi': [4490], 'zvw': [725, 555, 445, 965, 270], 'vwm': [725, 555, 445, 770, 150, 45, 270], 'wme': [520, 880, 675, 50, 1349, 1161], 'mex': [], 'exj': [], 'xje': [], 'jed': [], 'edr': [], 'drl': [324], 'rl ': [], 'l w': [1675], ' wn': [1675, 740], 'wnn': [1465, 950], 'nnd': [4080], 'ndm': [4080, 65, 260, 300], 'dmw': [4080], 'mwm': [180, 45, 95, 185, 10, 170, 15, 65, 5, 1250, 90, 250, 60, 260, 125, 10, 25, 320, 140, 740, 40, 230, 325], 'wm ': [260, 505, 1910, 270, 1365], 'm t': [1034, 597, 990, 648, 207, 183], ' tt': [2774], 'ttd': [], 'tdr': [], 'drs': [1710, 900, 20], 'rsd': [2610], 'sdh': [2610], 'dhz': [2105], 'hzd': [], 'zda': [], 'dat': [], 'ath': [], 'thd': [3370], 'hdz': [], 'dza': [1545], 'zat': [], 'at ': [655], 't d': [], ' dc': [2855], 'dcu': [100, 145, 1480, 1130, 365, 210, 665], 'cut': [1725], 'uth': [1725, 1635], 'thr': [], 'hrr': [195, 2630], 'rr ': [65, 130, 1175, 770, 375, 310, 35], 'r c': [1165, 2155], ' cw': [435, 895, 1990, 980], 'cwr': [435, 2490, 395], 'wrf': [], 'rf ': [985, 2240, 430, 560, 80, 170], 'f  ': [1350], '  i': [1350, 819, 231], ' iw': [1350], 'iwm': [1350, 2835, 400, 58], 'wms': [285, 2040, 270, 1410, 595], 'mst': [], 'sta': [], 'tay': [1505], 'aym': [], 'yme': [], 'mec': [1510, 950, 1585, 20, 345, 170], 'che': [], 'heg': [3880, 135], 'eg ': [], 'g o': [2615, 850], ' om': [5, 590, 40, 85, 220, 855, 330, 490, 175, 400, 275, 985, 110], 'omp': [], 'pm ': [1435, 2135], 'm o': [715], 'omd': [420, 170, 345, 855, 330, 490, 575, 275, 985, 110], 'mdf': [], 'dfo': [3975], 'foe': [3975], 'oea': [3975], 'eai': [3975], 'aim': [1870], 'imc': [1125], 'mcz': [2065, 2055, 120], 'czv': [], 'zvn': [], 'vnr': [1617], 'nrc': [], 'rcd': [3210], 'cdb': [], 'dbv': [], 'bvr': [], 'vr ': [1400, 175, 1435, 280, 335], 'khw': [535], 'hwv': [1235, 320, 50, 940, 855], 'wvr': [3630], 'vrk': [950, 2680], 'rka': [1190, 2630], 'kal': [], 'ala': [], 'lam': [3968], 'aml': [], 'ml ': [], 'l d': [2405, 270], ' do': [], 'dor': [701, 389], 'orz': [], 'rzd': [], 'zdr': [1341], 'drr': [2191], 'hdy': [450, 380, 1265, 1670, 645], 'dye': [150, 680, 995, 585, 10, 1000, 345, 80, 230, 335, 135], 'yec': [830, 3465], 'chj': [], 'hjn': [1340, 330], 'jnc': [1670], 'nce': [], 'cet': [1045], 'etx': [830], 'txm': [3419], 'xms': [340], 'msk': [2965, 1480], 'skl': [95, 2375, 1310], 'kli': [250, 420, 70, 260, 50, 25, 65, 515, 1225, 80, 820], 'lim': [740, 150, 110, 50, 25, 65, 515, 1305, 820], 'iml': [1000, 50, 330, 845, 1555, 110, 595], 'mlk': [1000, 1625, 190, 500], 'lkm': [], 'kmw': [195, 330, 740, 480], 'mwb': [], 'wbr': [], 'brt': [3165], 'rta': [1425], 'tad': [1610, 250, 1590], 'adc': [1625], 'cuk': [], 'ukw': [], 'kwr': [], 'rmd': [1680], 'mdk': [825, 465, 905, 1075], 'dkn': [2195], 'knm': [], 'nm ': [], 'm i': [], ' id': [1623], 'dht': [2925], 'htn': [825, 1590, 330, 180], 'tnr': [825, 1920], 'nrk': [825, 390, 1530], 'rkt': [825, 565, 1390, 820], 'imt': [3070], 'mtp': [], 'tpz': [], 'pzq': [4349], 'zqr': [4349], 'qr ': [535], ' ki': [], 'kir': [], 'irn': [], 'rnl': [], 'nli': [], 'lia': [], 'iam': [], 'amc': [], 'mcu': [325], 'cup': [110, 215, 45, 2350, 365, 210], 'up ': [], 'dms': [], 'msz': [160, 745, 1295, 270], 'szv': [160, 2040, 270], 'zvx': [160, 300, 380, 1360, 1860], 'vxm': [160, 205, 95, 325, 55, 900, 460, 390, 15, 15, 330, 75, 205, 830, 255], 'xme': [1740, 865], 'mey': [1220, 1015, 1370], 'eyh': [1220, 65, 950, 1370, 285], 'yhi': [3605], 'hiy': [4455], 'lp ': [170, 190, 1805, 2260, 30], ' dz': [360, 553, 1252, 120, 2170], 'dz ': [4455, 20], 'z x': [4455], ' xm': [1962, 2493], 'xmw': [585, 3870], 'wmf': [], 'mfz': [260, 765, 2925], 'fzz': [260, 765, 2925], 'zzx': [260, 765, 2865], 'zxm': [260, 765], 'xmp': [140, 815, 525, 220, 255, 615], 'mpp': [665, 230], 'ppb': [895], 'pbd': [1745, 1865], 'bde': [], 'deu': [2300, 410, 330], 'euc': [], 'uck': [345], 'cki': [], 'kib': [], 'ibt': [], 'btt': [2491], 'ttj': [], 'tjp': [], 'jpr': [1700, 2630], 'kld': [825, 470, 790, 860, 580, 590], 'ldn': [], 'dnn': [360, 760, 290, 1700, 485], 'nnl': [360, 760, 290, 1700, 485], 'nlt': [360, 760, 290, 1700, 485], 'ltb': [360, 760, 290, 1700], 'tbe': [360, 760, 290, 1700], 'bee': [360, 760, 290], 'eek': [275, 85, 760, 290, 2695, 140], 'ekh': [140, 540, 170, 285, 15, 75, 185, 945, 30, 1825], 'khr': [545, 2275], 'hra': [55, 4005], 'rau': [55], 'auc': [55], 'uch': [55, 140, 3410], 'chr': [2630], 'r w': [1070, 1975], ' wm': [280, 1515, 400, 185, 75, 125, 355, 880], 'wmw': [95, 185, 195, 1320, 340, 60, 260, 125, 355, 880], 'wma': [2580], 'ma ': [240], 'a x': [], ' xv': [], 'xvm': [3290, 195], 'vmc': [100, 3190], 'mct': [3290, 45], 'ctw': [], 'wre': [2720], 'e a': [1059], 'imp': [610, 230, 685, 150, 640, 1935], 'zdy': [1675, 595, 1085, 235, 805], 'yee': [], 'eez': [2265, 395, 1445, 160], 'ezw': [4105], 'zwm': [1810, 2295], 'wmr': [520, 34, 461, 78, 1472], 'mrk': [520, 235, 260, 1030], 'rk ': [2045, 160], 'k y': [660, 1385, 350], ' yy': [2045], 'yyt': [2045], 'ytl': [], 'tla': [], 'law': [], 'awm': [438, 1652], 'm n': [3620, 80], ' nm': [], 'mdc': [2975], 'phr': [], 'chi': [4350], 'hi ': [203, 877, 1420, 550], 'i  ': [1080, 510], '  c': [1080], ' ci': [], 'ciz': [2066, 265], 'iza': [], 'zan': [], 'anc': [550, 3220], 'nch': [310, 240, 40, 590, 1110, 925, 35, 520], 'hdr': [3100], 'rnd': [445, 490, 455, 520, 1275, 430, 165, 75, 540], 'ndz': [], 'dzi': [800, 1132, 798], 'zim': [375, 415, 10, 505, 1315, 110], 'mae': [1175], 'aea': [1175], 'eav': [1175], 'avr': [1175, 175], 'skk': [1700, 2150], 'kkl': [1950, 1495, 775], 'kla': [], 'las': [], 'asp': [], 'sp ': [950], 'dmc': [740, 455, 485], 'mck': [], 'ckm': [886], 'wf ': [330, 740, 480, 2130, 595], 'f a': [], 'abd': [], 'bdr': [], 'lwm': [1025, 205, 237, 2083, 80], 'mpz': [2025, 2140], 'pzb': [], 'zbv': [], 'bvm': [1085], 'mcp': [715, 140, 605], 'cpt': [], 'pty': [], 'tyv': [], 'yv ': [], 'v a': [], 'abm': [2195, 1140, 505], 'bmm': [2195, 1140, 505], 'mml': [3956], 'mlp': [190, 960, 845, 1235, 1025], ' db': [], 'dbo': [3235], 'boc': [2605], 'oc ': [], 'c d': [], ' dq': [55, 1635, 2300], 'dqe': [40, 15, 150, 265, 240, 550, 325, 105, 50, 2115, 135], 'qek': [40, 165, 505, 550, 325, 105, 2165], 'hdg': [], 'dgn': [545, 130, 570, 2155], 'gnk': [545, 700, 2155], 'nkl': [890], 'lit': [], 'itr': [], 'trk': [], 'rkh': [990], 'khi': [990, 720], 'hij': [], 'ijt': [], 'jtb': [], 'tbi': [2225, 345], 'bis': [], 'isd': [], 'sdd': [], 'ddt': [], 'dtv': [], 'vev': [], 'phy': [1925], 'hy ': [455, 1420, 50, 1195, 35, 115, 885], 'y e': [455, 1470, 1195, 150, 885], ' ek': [455, 1470, 340, 490, 365, 150, 255, 630], 'ek ': [530, 625, 1110, 1605, 390], 'k s': [1645, 1360, 865, 415], ' sg': [2910, 95], 'sgr': [2530, 380], 'grn': [2910], 'rnm': [2910], 'mdq': [255, 175, 835, 1675, 75, 800, 455], 'ekr': [2115, 1665, 335], 'krs': [2115, 2000], 'rsg': [2115, 2000], 'sgi': [255], 'gic': [3610], 'ic ': [3610], ' e ': [3610], ' cp': [2305, 1305], 'cp ': [], 'qec': [415, 1105, 165, 2250], 'cht': [550, 3385], 'hty': [260, 3150], 'tyu': [3410], 'yuc': [3410], 'chz': [1680], 'hzv': [2695], 'zvv': [], 'vvp': [1460, 180, 2385], 'vp ': [], 'dmd': [178, 575, 480, 327, 1305, 325, 235], 'hqm': [545], 'qmm': [545], 'mmp': [540, 5], 'mph': [540, 5, 335], 'phu': [3380], 'hug': [435, 825, 130, 125, 710, 360, 185, 610], 'uge': [1260, 130, 125, 710, 545, 45, 210], 'gek': [1390, 125, 710, 545, 45], 'ekt': [130, 1050, 210, 135], 'ktd': [130, 400, 360, 290, 1700], 'tdu': [], 'duo': [3205, 970], 'uox': [3205], 'oxu': [850, 1045, 1310], 'xui': [1895, 1310], 'uim': [1895], 'imf': [], 'msp': [805, 990, 1435], 'sph': [1795, 1575, 40], 'phv': [1795], 'hvm': [480, 135, 1940], 'vmj': [], 'mjz': [2390, 1720], 'jzb': [2390, 1720], 'zbm': [], 'bmf': [], 'mf ': [2235, 295], 'rma': [2885], 'a a': [], ' am': [], 'amf': [], 'mfu': [], 'fuo': [], 'uom': [], 'mdb': [], 'dbh': [], 'bhi': [2317], 'i m': [], ' mc': [], 'phd': [1290, 555, 1530, 60, 585], 'hde': [2415], 'dee': [1885, 1040, 905, 140], 'ekk': [], 'kks': [815, 1285, 810], 'ksz': [815], 'szp': [], 'zpw': [4155], 'pwi': [], 'idf': [], 'df ': [1155], 'meh': [1400], 'ehm': [2611, 1189], 'hmv': [], 'mvp': [], 'vpi': [], 'pin': [], 'inm': [], 'nmw': [2785], 'wmq': [195, 963, 3005], 'qeq': [195, 490], 'eqd': [195, 490], 'qdb': [], 'dbr': [2760], 'brz': [], 'rzc': [], 'zcs': [], 'csc': [], 'scu': [], 'upv': [], 'pvx': [420, 955, 865, 15, 330, 75, 180, 25, 1045, 40], 'xml': [95, 2110], 'dzu': [1925], 'zuc': [], 'ckp': [], 'kpr': [], 'skh': [215, 520, 795, 1015, 110, 770], 'dy ': [1645, 1145, 855], 'y l': [1645], ' lk': [1325], 'lkx': [1325, 1340], 'kxv': [24, 1301, 304, 1036, 304], 'xvo': [490], 'voy': [330, 160], 'oyh': [330, 160, 1225, 280, 1005, 35, 640], 'yhd': [490, 1360], 'hdq': [505, 550], 'eku': [1365, 120, 1820, 80], 'kud': [435], 'udz': [], 'dze': [155, 925], 'zek': [800], 'tdn': [760, 290, 1700], 'xvr': [], 'vrn': [], 'rno': [], 'ohw': [], 'hwn': [880], 'wn ': [], 'n r': [], ' rt': [4020], 'rts': [], 'tsv': [], 'svr': [], 'phh': [165, 365, 2895, 110], 'hhn': [280, 1700, 925, 35], 'hnn': [280, 1700, 925, 35], 'nnc': [280, 590, 1110, 925, 35], 'chg': [3155, 775], 'hgr': [1430, 615, 290], 'grt': [], 'rtd': [], 'tdm': [367], 'mdn': [2775], 'ncd': [], 'cdq': [], 'dqz': [], 'qzv': [90], 'zvt': [], 'tkh': [255, 860, 1385, 35, 970, 335], 'hwb': [], 'wbi': [245], 'bib': [], 'ibq': [], 'bqx': [], 'qxg': [], 'xge': [], 'gew': [1075], 'ewt': [1620], 'wti': [35, 1585, 200], 'mdz': [1165, 818, 830, 787, 428], 'dzv': [1165, 2435], 'mll': [535, 800, 1015, 915, 110], 'llh': [535, 1815, 915, 110], 'lhj': [], 'hja': [815, 710], 'jan': [], 'ann': [], 'nna': [], 'nam': [], 'ama': [195, 1915, 1305, 495], 'man': [195, 1025, 890, 41, 1264, 495], 'ank': [610, 610, 890, 41, 839, 650, 270], 'nkm': [740, 480], 'dq ': [1010, 1750, 15, 1095], 'q m': [], ' mz': [3997], 'mzs': [], 'zsg': [], 'giw': [], 'iwt': [1785], 'tid': [3810], 'id ': [3810], 'd k': [1630], ' kq': [85, 730, 820, 1130], 'kqp': [85, 730, 820, 755, 375], 'qpm': [85, 730, 820, 755, 375], 'pmt': [], 'mtt': [415], 'ttz': [415], 'tzi': [415, 515, 1715], 'deh': [2945], 'eht': [], 'tya': [], 'yat': [3010], 't m': [], ' md': [], 'md ': [2459], 'd x': [], ' xh': [], 'xhq': [], 'hqr': [], 'r o': [125, 180, 855, 410, 715, 1565], 'omw': [85, 2070], 'wmp': [1205, 130, 330, 330, 145], 'mpw': [115, 1085, 670], 'pwb': [1200, 670], 'wbw': [1200, 670], 'bwm': [983, 217, 468, 202, 1163], 'wmt': [], 'mtb': [2170], 'tbq': [], 'bqz': [], 'zva': [], 'vaw': [], 'wmo': [2600, 780], 'mon': [], 'onk': [], 'nke': [2085], 'kee': [], 'eei': [], 'eiz': [], 'qdz': [], 'zed': [925], 'eda': [188, 737], 'dai': [], 'ai ': [], 'tk ': [2150, 515], 'k i': [790, 240, 2525], ' ie': [790], 'e d': [], ' di': [], 'dip': [1238, 1130], 'ipr': [2465], 'prn': [], 'nd ': [], 'd d': [1218], ' dr': [], 'nkr': [1490, 1530], 'kri': [1490, 1530, 415, 490], 'rig': [1490, 1530, 415, 490], 'ig ': [1490, 430, 1100, 415, 490], 'g k': [1490, 2435], 'pmr': [1550], 'mrl': [495, 3450], 'rln': [], 'lnj': [], 'nja': [2510], 'jal': [], 'alp': [], 'hhr': [365, 1310, 535, 120, 180, 80, 670], 'hrs': [365, 155, 1810], 'hrv': [], 'rvg': [], 'vgx': [], 'gxm': [], 'rkj': [], 'kjy': [], 'jye': [], 'ye ': [1095, 930], ' kl': [730, 485, 295, 700], 'lie': [2210], 'e s': [729, 485], ' sq': [], 'sqd': [], 'ddo': [3535], 'ort': [], 'rtb': [], 'tbb': [], 'bbh': [], 'bhp': [], 'hp ': [], 'dmi': [2305, 680], 'miw': [2305, 680, 837], 'iwh': [2305, 680], 'whh': [], 'hhm': [1895, 1185, 80], 'hmp': [2319], 'pww': [], 'wwm': [], 'mr ': [], 'e n': [3405], 'pep': [], 'epu': [2790, 235], 'puy': [], 'uym': [275, 1185, 2120], 'ymd': [275, 485, 700, 1357, 763], 'chw': [700, 105, 1370, 1270], 'hwa': [565, 1320, 290, 1270], 'wal': [], 'ale': [], 'lea': [], 'eam': [], 'chy': [2665, 35], 'xyv': [1370, 1040, 1340], 'yvs': [1370, 1040, 1340], 'vsc': [1370, 710, 330], 'sci': [1370, 1040], 'cir': [2410], 'irp': [1580], 'rpe': [500, 1080, 1985], 'pek': [260, 240, 2635, 430], 'ekl': [260, 75, 755, 1210, 1170], 'ppz': [], 'pzw': [1205], 'zwb': [], 'bin': [], 'ini': [], 'nig': [], 'igv': [], 'gvt': [], 'khu': [2150, 185], 'ugi': [2945], 'gik': [885, 2060], 'ikh': [], 'chp': [590, 1110, 1400], 'hpm': [580, 10, 20, 2000, 365, 235, 20, 130], 'pmo': [], 'mo ': [], 'o q': [], ' qr': [], 'qrv': [], 'rvo': [], 'yhz': [], 'hzg': [], 'zgl': [], 'glr': [], 'lri': [], 'rim': [], 'kht': [], 'dey': [885, 1910, 495], 'eyl': [885, 1295, 615, 495], 'yld': [3290], 'ldg': [130], 'nkk': [], 'kke': [], 'ked': [], 'dan': [2719], 'ana': [], 'nad': [], 'add': [], ' yd': [], 'ydn': [], 'dnl': [], 'nla': [615], 'lay': [615], 'ayd': [615], 'yde': [615], 'dew': [], 'ewh': [], 'whd': [2625], 'chv': [], 'vms': [135, 3485], 'mse': [545, 2120, 1040], 'set': [], 'txn': [], 'xnt': [], 'ntc': [], 'tch': [20, 565, 530], 'hdu': [], 'dua': [2280], 'uam': [2280], 'amq': [2280], 'mqp': [2280], 'qpr': [2280], 'prm': [955], 'mpv': [955, 865, 15, 405, 1290], 'xmd': [530, 995, 920, 358, 905], 'dkl': [], 'kly': [], 'lyv': [], 'yvt': [], 'vtc': [], 'dmm': [3330], 'phi': [2350], 'hif': [250, 850, 2610], 'if ': [250, 850, 2610], 'f w': [45], ' wh': [45, 270, 440, 1535], 'whi': [2125], 'hie': [1140, 85, 265, 635], 'ies': [], 'esp': [2835], 'spv': [], 'pvg': [2682, 3], 'vgr': [855, 1830], 'gr ': [855, 800, 1030, 465], 'dea': [], 'eak': [], 'aku': [], 'udf': [], 'dfh': [], 'fhz': [], 'hzl': [], 'zli': [], 'm z': [], ' zv': [], 'xmr': [8, 3230], 'rkm': [], 'kmp': [], 'mpy': [3395, 300], 'yex': [], 'exm': [3230], 'mrf': [1070, 1600, 560, 80], 'f d': [635], ' dw': [935, 845], 'dwy': [935, 845], 'wyf': [935], 'yf ': [], 'whe': [270, 270, 170], 'hev': [], 'rkl': [], 'gnp': [3494], 'nph': [], 'phm': [2625], 'hm ': [2235, 390, 221, 80], ' te': [], 'teq': [], 'eqx': [440, 1530], 'qxv': [], 'cpa': [140, 605], 'pax': [140, 605], 'axr': [140, 605, 400], 'xr ': [140, 605, 35, 1180], 'r q': [50, 870], ' qi': [2485, 710], 'qig': [], 'igg': [], 'ggl': [2990], 'gld': [], 'ldh': [], 'dhd': [225, 325, 1290, 380, 625, 360], 'khv': [], 'szt': [3305], 'zty': [3305], 'tyf': [3025], 'yfi': [], 'vdm': [1675], 'pbx': [], 'bxm': [], 'xm ': [1050, 1055, 1290], 'm d': [195, 1515], 'imu': [], 'muy': [315, 50, 820, 1165, 955], 'mdt': [], 'dtr': [], 'trl': [], 'rlv': [80], 'lvh': [3020], 'vhr': [1085], 'hr ': [1330, 535, 300, 80, 670], ' qw': [2875], 'qwv': [2601, 274], 'wvp': [2875], 'vpe': [2875], 'lkh': [1815], 'khx': [250, 1725, 55], 'hxg': [], 'xgd': [], 'sku': [], 'kue': [5, 1260], 'uef': [5], 'efh': [], 'fhk': [], 'hku': [], 'fia': [], 'iab': [2865], 'bie': [], ' km': [1335, 260, 295], 'kmx': [745, 590, 260, 295], 'mxm': [745, 388, 2, 200, 260, 295, 723], 'lzx': [2025], 'zxv': [2025], 'xvc': [], 'vce': [], 'etm': [], 'tmm': [], 'mmr': [3173], 'mrp': [193, 1472, 1100, 493], 'rpu': [1665], 'pui': [80, 645, 170, 995, 1240, 160], 'ui ': [80, 645, 170, 995, 1240, 160], 'tkl': [605, 270, 1695, 560], 'lhx': [1815], 'hxd': [1980, 680], 'xd ': [], 'd c': [915], ' ch': [1525], 'chl': [], 'hln': [], 'lnu': [], 'nud': [], 'udm': [], 'mdo': [], 'orl': [], 'lvg': [660], 'vgu': [], 'gue': [240], 'uek': [], ' ck': [], 'kmr': [44], 'mrn': [2705, 675], 'rnn': [3005], 'mdm': [205, 145, 865, 1355], 'qdm': [], 'dmf': [], 'xmi': [], 'mix': [], 'ixx': [], 'xxv': [2500], 'xva': [965], 'vap': [], 'apb': [], 'pbm': [], 'bmq': [2845], 'mqr': [455, 1795, 595, 615], 'qrn': [455, 1795, 595, 615], 'ndh': [455, 1035, 760, 430, 165, 205, 410], 'dhi': [690, 860, 1910], 'f c': [1465, 1635], 'cqq': [], 'qqb': [], 'qbl': [], 'blp': [], 'lpu': [1810, 1240], 'tkm': [645], 'mrm': [2200], 'rmr': [3168, 282], 'rlq': [], 'lqw': [2460, 595], 'qwa': [], 'wan': [1465, 1560], 'ims': [990, 830], ' da': [], 'dap': [], 'apk': [], 'pkz': [], 'kze': [3200], 'zef': [], 'kav': [335, 2945], 'ava': [], 'vag': [], 'agb': [], 'gbi': [], 'bih': [], 'ihr': [], 'khe': [], 'hem': [2275], 'em ': [], ' dh': [], 'hd ': [2620], 'd o': [886, 374, 1921], ' ox': [], 'xud': [], 'udr': [], 'dr ': [], 'he ': [], ' aw': [], 'awf': [], 'wfw': [], 'fwr': [], 'wr ': [670, 175], ' kk': [2440, 745, 30], 'szm': [], 'phw': [1400], 'wv ': [], 'v p': [], ' pt': [], 'ptp': [1960, 390], 'tpr': [1960], 'pr ': [1910, 1305], ' ka': [], 'kae': [], 'aev': [], 'd p': [], ' pe': [], 'peg': [2316], 'egr': [], 'grl': [], 'khg': [70, 1080, 430, 1520], 'hgn': [20, 2245, 910], 'gnr': [], 'cwq': [], 'wqz': [], 'qze': [855], 'hxa': [1615, 110], 'xau': [1725], 'aud': [], 'udh': [2865], 'dhg': [790], 'gnl': [2245], 'nln': [2245], 'lnb': [2245], 'nbp': [2245], 'bpm': [2245], 'mnk': [1675], 'yhw': [70], 'wai': [1610], 'aik': [], 'ikb': [], 'kbr': [1490, 545], 'brr': [770, 720], 'r l': [], ' lv': [], 'lve': [], 'vey': [52, 2605], 'eyy': [], 'yyc': [], 'ycm': [], 'dmu': [2990], 'uyh': [50, 1985], 'yhn': [], 'hna': [], 'nau': [], 'aup': [], 'upb': [], 'pbv': [685], 'vmd': [1590], 'dkh': [], 'uen': [], 'en ': [], 'n d': [], 'dmp': [2978, 300], 'drx': [], 'rxp': [], 'xpu': [], 'put': [1385], 'uty': [695, 1865, 310], 'tye': [434, 261, 2175], 'khj': [], 'jni': [], 'dhj': [], 'jar': [710, 1105], 'ard': [710, 665, 440], 'rdh': [710, 665, 440], 'dhf': [615, 650], 'hfv': [615, 1990], 'fve': [2605], 'yhp': [], 'pmu': [], 'pma': [2020, 365], 'pms': [], 'seq': [], 'qxm': [185, 470], 'php': [2000, 365, 510], 'phn': [], 'hnr': [80, 435], 'nru': [515], 'ruk': [515, 1055], 'ukl': [1570], 'ldm': [], 'mcs': [485, 435], 'csm': [485], 'smg': [485], 'mge': [485], 'ge ': [485], 'kle': [430, 55, 585], 'le ': [485], ' sk': [485], 'sk ': [515], 'e p': [925, 1925], ' pn': [1740], 'pnj': [1740], 'njr': [], 'jrt': [], 'rtc': [1761], 'hwg': [], 'wgr': [1940], 'grk': [1390], 'kte': [295, 135, 165, 795, 205, 1005], 'tem': [295, 135, 165, 1000, 1005], 'emn': [], 'mnl': [], 'k t': [], ' tv': [718, 1935], 'tvr': [], 'vrt': [], 'ayr': [], 'yrl': [], 'wmd': [237, 818, 557, 563, 45, 452, 135, 293], 'dme': [2220], 'eca': [375, 575, 1950], 'cad': [950, 1075, 875], 'ads': [], 'dso': [], 'sob': [], 'oba': [], 'bad': [], 'adz': [80, 580, 798], 'zaw': [], 'awh': [], 'heb': [1137, 1590, 140], 'ebp': [2895], 'bpb': [], 'pbh': [200], 'bhg': [], 'hgv': [], 'gv ': [], 'v k': [], 'khn': [], 'nr ': [], 'r y': [], ' ym': [], 'mdh': [1085, 1835], 'dhe': [], 'hee': [], 'eee': [789, 1040], 'eed': [], 'edb': [], 'dba': [], 'bac': [], 'ach': [], 'hdp': [740], 'dpr': [], 'prt': [], 'rtz': [], 'imi': [], 'min': [], 'inq': [], 'nqd': [], 'qdg': [], 'nka': [2945], 'avn': [], 'vni': [], 'khq': [2345], 'hqn': [2345], 'qni': [2345], 'nic': [2345], 'ich': [2345], 'wvm': [990, 855], 'vm ': [990, 855], ' ti': [990, 855], 'tiz': [740, 2320], 'ize': [710, 30, 235, 2085], 'zey': [580, 130, 30, 235, 1765, 320], 'eya': [450, 130, 130, 30, 150, 85, 130, 115, 1475, 45, 165, 155], 'yad': [450, 130, 45, 115, 75, 160, 245, 320, 1155, 45, 320], 'dav': [], 'r p': [500, 395, 100], ' pv': [], 'pvd': [1800], 'vdf': [], 'q e': [1750], ' ev': [660, 640, 250, 200, 290], 'evd': [1300, 450, 290], 'vdd': [], 'dd ': [2940], 'd n': [], ' nq': [], 'nqx': [], 'pl ': [1090], 'wnb': [], 'nbw': [], 'dhw': [940, 205, 650], 'wvn': [], 'nrb': [], 'rbp': [], 'bpv': [], 'pve': [], 'veb': [320], 'ebh': [130, 190, 1485, 35, 905], 'bhu': [130], 'ewy': [], 'wyy': [], 'yyr': [], 'yrs': [], 'skw': [1275], 'kwf': [], 'wfe': [], 'fee': [], 'eeb': [], 'ebc': [], 'bce': [], 'cef': [], 'wmj': [1130], 'mjp': [65, 155, 1865, 325], 'jpa': [], 'pad': [30, 800, 100, 980, 155, 535, 170], 'adr': [900], 'ska': [], 'kas': [2490], 'asg': [2490], 'sgt': [], 'gtk': [1420, 770], 'hds': [], 'dsa': [], 'sat': [], 'ata': [], 'adm': [250, 285, 595, 710, 40, 170, 65, 640], 'm w': [285, 400, 185, 75, 480], 'heo': [2635], 'eoa': [], 'oay': [], 'ayl': [], 'yls': [], 'ls ': [], '  p': [], ' pa': [800, 100, 980, 690, 170], 'hpg': [], 'pgi': [], 'ik ': [], 'idv': [], 'dvt': [], 'vtz': [], 'tzs': [], 'zs ': [], 's t': [270, 560, 2080], 'mpb': [125, 250, 540], 'bhj': [385], 'ncp': [], 'cph': [935, 1305], 'dmj': [], 'jph': [2345], 'ylw': [], 'zvg': [], 'vgm': [], 'gmc': [], 'r z': [], ' zk': [], 'zkg': [], 'kgn': [], 'gns': [], 'nst': [], 'stw': [], 'tdo': [2535], 'don': [], 'ont': [], 'nte': [1223], 'tez': [1223], 'eze': [125, 640], 'zeb': [2643], 'emh': [], 'mhl': [735], 'hlb': [], 'lbx': [], 'bxr': [], 'r  ': [335, 265, 420, 35], '  b': [], ' bm': [244], 'bme': [], 'mes': [], 'esl': [], 'slv': [], 'mdy': [330, 1340, 425], 'dya': [330, 1425, 235], 'yak': [330, 1425, 235], 'akz': [], 'kzd': [1380], 'zds': [], 'dsl': [1506], 'slp': [], 'lpe': [], 'pem': [], 'ema': [], 'f m': [], ' mq': [], 'mqi': [], '   ': [2390], '  t': [389], ' ty': [], 'e l': [1590], 'xvv': [2214, 20, 331], 'vpu': [170, 2395], 'pbw': [76, 714], 'bwj': [], 'wjv': [], 'jvt': [], 'vtl': [], 'tlj': [], 'ljp': [2630], 'ehx': [], 'hxp': [], 'xpa': [], 'pai': [], 'aid': [1090], 'him': [880, 360], 'kus': [120, 680], 'usq': [], 'sqe': [], 'cai': [], 'imj': [2630], 'jpb': [1865], 'bdq': [], 'lez': [640], 'zec': [640], 'chu': [], 'yfe': [], 'fek': [], 'eml': [1595], 'llj': [], 'ljs': [], 'jsd': [], 'sdi': [], 'ipb': [], 'bwr': [], ' qb': [], 'qbx': [], 'bxv': [], 'xvl': [], 'vlt': [], 'lta': [], 'dp ': [1305, 350], 'kki': [2150, 340], 'kim': [2490], 'dpz': [], 'pzr': [], 'zrv': [], 'rve': [], 'bhn': [], 'ukh': [], 'khs': [585], 'hsm': [585], 'sm ': [585], 'mpt': [], 'pth': [], 'thg': [], 'grs': [905, 1455], 'kls': [], 'lsg': [], 'sg ': [280, 1195], 'g p': [], ' p ': [100, 1200], 'usg': [], 'sgv': [1345, 10], 'gvp': [1345], ' tc': [], 'chh': [375, 265], 'hhv': [440, 1630], 'hvv': [849], 'vpz': [], 'med': [50, 660], 'edh': [50, 660], 'fvz': [], 'vzl': [], 'zlz': [], 'lzv': [1489], 'zvr': [80, 295], 'f b': [], 'bmt': [], 'mtd': [], 'td ': [], 'cmr': [], 'rfe': [2470], 'fey': [440, 215, 335, 1465, 15], 'adq': [2245], 'hzn': [20], 'znl': [], 'nlp': [], 'lpb': [], 'bve': [], 've ': [], 'e o': [1545, 960], ' oq': [2365], 'oqz': [], 'qzr': [], 'zrr': [], 'rrc': [], 'rcm': [], 'cmw': [], 'znr': [], 'nrt': [], 'rth': [], 'thi': [350], ' kt': [1190], 'emc': [], 'czu': [2055, 120], 'zut': [2055, 120], 'yeh': [2175], 'ehq': [], 'hqx': [], 'm p': [1485, 690, 170], 'p x': [], 'pbq': [], 'bqw': [], 'qwr': [2204], ' pz': [295], 'pzv': [295], 'vru': [295], 'rub': [35, 260, 1430, 80], 'ubh': [35, 305, 1385, 80], 'hga': [110, 1480], 'gam': [110, 1480], 'amx': [110, 1480], 'mxb': [], 'xbr': [], '  w': [], ' wy': [], 'wyd': [], 'yd ': [115, 1585, 80], 'akx': [], 'vaf': [], 'afz': [], 'fzv': [], 'zvh': [], 'hru': [], 'bhd': [], ' la': [], 'lax': [], 'xrn': [], 'ndq': [], 'dqs': [], 'qs ': [], ' ih': [1485], 'ihi': [], 'iet': [900], 'etk': [900], 'ciq': [], 'iqz': [], 'zic': [], 'icm': [], ' k ': [1130, 1305], 'k m': [2410], ' mm': [], 'mme': [], 'mew': [], 'hvr': [535], 'vrl': [], 'rlk': [], 'lkk': [], 'klr': [1495, 775], 'lr ': [], ' oh': [1395, 885], 'ohy': [1395, 885], 'tvw': [], 'vwf': [], 'wfa': [], 'fay': [915], 'aya': [915], 'dmo': [1285], 'moy': [1285, 675], 'yhg': [], 'xmx': [], 'xmu': [], 'rbm': [], 'bmy': [], 'myd': [1585, 80], 'lda': [], 'da ': [], 'a k': [], 'ytp': [], 'tph': [10, 15, 995, 185, 150, 440, 55], 'kxi': [350, 480, 770], 'xid': [], 'idt': [], 'dtp': [], 'phs': [1195], 'hsg': [1195], 'g e': [], 'evi': [890], 'vim': [890], 'kne': [1180, 100, 210, 25, 835], 'nev': [], 'vtp': [], 'dpo': [1085, 215], 'pox': [1380], 'dzo': [265, 830], 'zoe': [265], 'oec': [265], 'eci': [265], 'yaw': [], 'pz ': [], 'z w': [], ' wv': [], 'wvb': [1365], 'vbw': [1365], 'xmn': [], 'nzv': [], 'vde': [1040], 'eet': [1040], 'eti': [], 'adh': [], 'dha': [285], 'hab': [285], 'abq': [285], 'bqd': [], 'qde': [], 'de ': [], ' ku': [], 'uev': [], 'evs': [530], 'vsk': [1735], 'skq': [2160], 'kqr': [1315, 845], 'qrm': [], 'rmg': [], 'mgl': [140], 'glb': [], 'lba': [], 'bam': [765], 'ame': [], 'hdb': [875], 'dbu': [], 'but': [], 'ut ': [], 't w': [], 'wmc': [1145, 735], 'csi': [], 'sir': [], 'pec': [570], ' iv': [], 'ivr': [], 'vri': [], 'riw': [], 'ub ': [], 'b d': [1845], ' de': [40], 'deo': [1135], 'eoy': [1135], 'oya': [], 'adf': [], 'frk': [], 'k d': [415, 490], 'zuw': [], 'uwa': [770, 375, 235], 'wam': [], 'amb': [], 'mbl': [], 'blt': [], 'lth': [], 'mdl': [150, 395], 'dlv': [150], 'lvw': [150], 'wmn': [], 'npb': [], 'pbj': [], 'bjm': [], 'jmc': [], 'mcl': [], 'cl ': [], 'eub': [], 'bhh': [1000, 35, 350, 80], 'hvx': [], 'vxk': [], 'xkh': [], 'hgm': [1950], 'gme': [1950], 'ady': [], 'sge': [2000], 'gee': [2000], 'ezd': [1070, 15, 915, 125], 'kxp': [], 'xpg': [], 'pgs': [], 'gsk': [1690], 'ski': [410, 140], 'kix': [215, 335, 1465], 'ixf': [215, 335, 1465], 'xfe': [215, 335, 1465], 'yam': [215, 1800], 'ams': [], 'ms ': [1511], 's a': [], 'mmg': [], 'glo': [], 'lor': [], 'orr': [1195], 'ad ': [100], ' oy': [], 'yht': [1680], 'tns': [510], 'nsk': [510], 'skt': [510, 1065, 85], 'wmh': [], 'hlj': [], 'ljm': [], 'jmy': [], 'mye': [], 'hdn': [], 'dnu': [1205], 'nuk': [], 'ukk': [], 'ks ': [], ' tb': [735], 'rs ': [], 's h': [1405], ' hg': [1405], 'd e': [490, 71, 699], ' yo': [], 'yoi': [], 'oid': [], 'dhu': [1847], 'xig': [480, 770], 'bqe': [], 'qef': [], 'bwf': [], 'wfn': [], 'fnb': [], 'nbt': [], 'ttm': [], 'tmf': [295], 'hmi': [], 'miy': [], 'yih': [], 'ihh': [], 'hhe': [], 'eba': [88], 'bae': [], 'ae ': [], 'and': [1560], 'hfr': [], 'fra': [], 'rae': [], 'aek': [], 'eks': [], 'ksg': [680], 'sgp': [], 'gpk': [], 'pku': [], 'usv': [], 'svn': [], 'vno': [], 'noz': [], 'ozi': [], 'zie': [580], 'lki': [], 'nkv': [], 'kvd': [], 'mtl': [460], 'tlv': [], 'lvx': [], ' dn': [], 'dnb': [420], 'nbc': [420], 'bcw': [420], 'cwp': [420], 'wpg': [420], 'pgm': [420], 'gmp': [420], 'tth': [], 'thv': [], 'vrm': [], 'xma': [], 'keb': [], 'bab': [], 'abh': [], 'wye': [], 'afi': [1020], 'fir': [], 'irf': [445], 'rfa': [], 'far': [], 'arm': [], 'rmw': [], 'uta': [], 'tar': [], 'hwm': [], 'hlk': [], 'lky': [], 'ky ': [], '  o': [], 'zbi': [1720], 'big': [94], 'igr': [], 'grc': [], 'rch': [], '  m': [35, 1475], ' my': [], 'myh': [], 'yhe': [698, 35, 470, 272], 'hey': [1475], 'tbm': [465, 600, 135], 'bmd': [270, 195, 75, 525], 'mdd': [], 'exx': [695], 'xxs': [], 'xsd': [], 'sdt': [1700], 'dtk': [1700], 'rkb': [], ' mv': [], 'mve': [], 'vep': [], 'ept': [699], 'ptk': [], 'kep': [], 'epi': [1780], 'pid': [], 'eu ': [], 'u h': [], ' hv': [], 'vve': [], 'vee': [], 'ezi': [130], ' kx': [1675], 'xsg': [], 'scm': [], 'cmv': [1505], 'mvm': [], 'vml': [], 'kif': [1216], 'ife': [], 'fet': [], 'etb': [], 'igf': [], 'gfi': [1220], 'm c': [], ' cb': [], 'cbt': [], 'btb': [], 'tbo': [], 'ocw': [], 'e e': [], 'vdw': [], 'dwe': [], 'wee': [], 'eeh': [], 'ehh': [], 'oiq': [], 'iqr': [], 'qrs': [], 'kwd': [], 'wdm': [], 'dml': [595], 'xat': [], 'atl': [], 'tlt': [], 'ltm': [], 'f k': [1600], 'e  ': [], '  q': [544], ' qd': [], 'qdp': [], 'dpe': [], 'dhv': [], 'deq': [], 'qxr': [], 'uga': [], 'gad': [], 'dlu': [], 'lui': [], 'uie': [620], 'xmo': [1195], 'mok': [1050], 'okh': [1050], 'hrn': [], 'rnt': [], 'ziy': [], 'tkq': [], 'nkf': [], 'kfd': [], 'fdn': [], 'dni': [], 'ktm': [], 'tmr': [619], 'mru': [], 'ylv': [615], 'lvr': [615], 'aub': [], 'ubl': [], 'bli': [], 'lid': [], 'idi': [], 'ip ': [], 'khz': [], 'vdp': [255], 'dpv': [255], 'xmq': [], 'qeh': [], 'mpi': [], 'pik': [], 'ikt': [], 'emv': [], 'mvt': [], 'kxa': [], 'xai': [], 'aib': [], 'ibm': [], 'igt': [770], 'xde': [], 'ldp': [], 'dpi': [], 'pio': [], 'ioh': [], 'ohi': [], 'dpb': [], 'pba': [], 'amp': [], 'xve': [], 'vec': [], 'dfa': [], 'adn': [], 'm r': [], ' ri': [], 'rip': [], 'tlk': [], 'xvq': [], 'vqe': [215], 'emd': [215, 505], 'mdu': [1390], ' kz': [], 'zde': [355], 'euw': [], 'wae': [], 'aef': [], 'upt': [210], 'ptu': [210], 'tug': [210], 'f p': [], 'dhh': [80], 'whm': [], ' tp': [390], 'tpt': [390], 'prc': [], 'cdh': [], 'tcd': [], 'cdm': [], ' dd': [1310], 'ec ': [], 'c s': [], 'mob': [], 'obl': [], 'blm': [], 'lm ': [], ' at': [], 'atz': [], 'bet': [], 'etp': [], 'dqa': [400, 295, 140, 170], 'qay': [114, 581, 140, 170], 'y d': [695, 140, 170], ' dy': [835], 'y p': [], 'p t': [], ' td': [], 'tdi': [], 'did': [], 'mao': [], 'aoc': [], 'oci': [], 'cid': [], 'ids': [], 'slq': [], 'lqv': [], ' dv': [], 'dvd': [], 'vxv': [1070], 'xvf': [], 'vft': [], 'ftm': [], 'tmd': [], 'dnv': [], 'nvp': [], 'vpk': [], 'pkd': [], 'kdy': [], 'dyu': [], 'yut': [], 'drt': [340], 'rtk': [340], 'vpv': [], 'dkk': [], 'gvb': [], 'vbm': [], 'etd': [], 'tdp': [], 'poe': [], 'oex': [], 'exd': [], 'xdq': [], 'q k': [1095], 'pml': [], 'lkb': [], 'brv': [], 'rvq': [], 'zoi': [], 'oim': [], 'imr': [], 'rmu': [], 'yhq': [], 'ayp': [], 'ypv': [], 'vdc': [], 'geq': [], 'eqw': [], 'qwm': [841], ' lj': [], 'ljw': [], 'jwg': [], 'gro': [], 'rom': [], 'omq': [], 'mad': [], 'ada': [137], 'dam': [], 'amd': [], 'deb': [], 'ekn': [], 'neg': [], 'egt': [150, 270, 135], 'gtp': [150], 'ctx': [], 'xmf': [], 'mfe': [], 'feb': [], 'iyj': [], 'yj ': [], 'j n': [], ' ni': [675, 435], 'nip': [], 'ipp': [], 'ppu': [], 'puw': [60, 235], 'uwh': [], 'mlz': [], 'zvk': [], 'vkf': [], 'kfe': [], 'fex': [], 'xxw': [], 'xwm': [], 'cta': [], 'ph ': [], 'h u': [], ' ui': [], 'uic': [], 'ica': [], 'adb': [], 'boe': [], 'oez': [], 'hep': [], 'rms': [], 'sez': [1040], 'akn': [235, 730], 'nep': [235, 835], 'wad': [235], 'ehg': [], 'nki': [950], 'kid': [160], 'idp': [], 'poy': [], 'oyv': [], 'yvy': [], 'vym': [], ' du': [], 'ekp': [], 'kpe': [], 'tpv': [773], 'vgp': [], 'gpv': [], 'r a': [], 'mms': [], 'spu': [], 'puf': [], 'ufy': [], 'fya': [], 'atm': [], 'f i': [], 'iht': [], 'r e': [], 'vdb': [], 'dbl': [], 'bll': [], 'llq': [], 'rkq': [], 'qrp': [], 'rpo': [], 'oxx': [], 'vmh': [], 'mhp': [], 'hpv': [], 'pvw': [], 'vwv': [], 'ldq': [], 'qat': [], 'ato': [], 'tor': [], 'rrr': [], 'rrk': [], 'lrc': [775], 'rcc': [775], 'cch': [775], 'mdg': [], 'g q': [], ' qz': [], 'qzm': [], 'zmh': [], 'mho': [], 'how': [], 'owm': [], 'his': [], 'isf': [], 'sfp': [], 'fpa': [], 'whr': [], 'hrm': [905], 'rmy': [], 'myk': [], 'yki': [], 'idn': [], 'nun': [], 'unb': [], 'nbr': [], 'brm': [], 'rmj': [], 'bdn': [], 'lts': [], 'tst': [], 'stu': [], 'tup': [], 'ikn': [], 'nee': [], 'chx': [], 'xda': [], 'daf': [], 'fim': [], 'imy': [], 'myl': [], 'lpz': [], 'pzd': [], 'may': [], 'ayi': [], 'yip': [], 'ipk': [], 'pks': [], 'ksp': [], 'kui': [80], 'uiv': [80], 'ivl': [80], 'vlw': [80], 'wmy': [80], 'd u': [80], ' uw': [80], 'uwy': [80], 'wyr': [80], 'yru': [80], 'npi': [80], 'pip': [80], 'ips': [80], 'psk': [80], 'lhg': [], 'gur': [], 'urk': [], 'kam': [], 'amr': [], 'tko': [], 'koy': [], 'oym': [], 'ymr': [], 'frp': [], 'phe': [175, 270], 'gtb': [135], 'phz': [], 'hz ': [], 'z i': [], ' im': [625], 'imq': [], 'hpn': [385], 'pn ': [385], 'n q': [], 'kiy': [595], 'iym': [595], 'ymw': [595], 'mws': [595], 'wsq': [595], 'sqw': [595], 'qwf': [480, 115], 'f t': [], ' tu': [], 'tut': [], 'tyi': [], 'yia': [], 'lht': [], 'htg': [], 'tgi': [], 'r b': [], ' bh': [], 'bhy': [], 'hye': [], 'yes': [], 'stz': [], 'tzd': [], 'zdq': [490], ' df': [], 'aie': [], 'hgg': [], 'gll': [], 'lla': [], 'chf': [], 'hmz': [], 'mzp': [575], 'zpz': [], 'pzz': [], 'zxn': [], 'xnn': [], 'khp': [], 'ecx': [20], 'cxv': [20], 'vvt': [20], 'kty': [], 'yft': [], 'ftp': [55, 285], 'heh': [], 'ehe': [], 'hen': [], 'enh': [], 'nhp': [], 'hdc': [], 'cul': [], 'ulv': [], 'vhm': [], 'hmj': [], 'hvs': [], 'emf': [], 'zzg': [], 'zgr': [], ' kr': [], 'krd': [], 'rdr': [], 'dmr': [], 'mrq': [], 'rqs': [], 'qsk': [], 'ift': [], 'htr': [75], 'trr': [], 'rrq': [], 'rqm': [], 'qmg': [], 'mgf': [], 'vdq': [], 'g a': [], 'mmc': [], 'utd': [], 'ldy': [], 'y t': [], 'tvx': [], 'vxr': [], 'xrl': [], 'lwq': [], 'wqk': [], 'qkr': [], 'krn': [], 'eka': [], 'sgs': [], 'niw': [], 'tru': [], 'rud': [], 'dhp': [], 'pmg': [], 'mgt': [], 'gta': [], 'tam': [], 'amz': [], 'mze': [], 'zex': [], 'f q': [], 'qim': [], ' zs': [], 'zss': [], 'ssi': [], 'sid': [], 'hdv': [], 'dvl': [], 'vlc': [], 'lch': [], 'dhr': [], 'ran': [], 'nk ': [], ' ig': [], 'igl': [], 'glp': [], 'klm': [], 'lmh': [], 'mhe': [], 'eb ': [], 'mlq': [], 'hmw': [], 'ade': [140], 'ldd': [], 'dom': [], 'omm': [], 'cwy': [], 'wyh': [], 'doq': [], 'oqw': [121], 'wrq': [], 'rqe': [], 'qee': [], 'n  ': [], ' mr': [], 'mre': [], ' ph': [], 'eos': [], 'osz': [], 'tyz': [], 'yze': [], 'adv': [320], 'dvn': [20, 300], 'vnl': [], 'nlk': [], 'lkg': [], 'kgr': [], 'rsc': [], 'scq': [], 'cqf': [], 'qfy': [320], 'fye': [], 'mdv': [], 'vnd': [300], 'pyi': [300], 'yir': [300], 'irm': [], 'ekw': [], 'kwv': [], 'hda': [], 'dab': [], 'abc': [], 'bcm': [], 'mvh': [], 'vhe': [], 'bhe': [], 'hef': [], 'eft': [], 'ekz': [], 'bpp': [], 'ppt': [], 'pti': [], 'fiy': [], 'iyk': [], 'ykx': [], 'kxr': [], 'xrm': [], 'qrf': [60], 'hup': [], 'npl': [], 'plj': [], 'avm': [], 'ey ': [], 'y i': [], 'bid': [], 'ida': [], 'dak': [], 'kns': [], 'nsd': [], 'tkj': [], 'kjm': [], 'jmr': [], 'vsa': [], 'sab': [], 'd r': [], 'rti': [], 'uoi': [], 'oit': [], 'iti': [], 'm m': [], ' mi': [], 'pwm': [], 'z n': [], 'nir': [], 'irv': [], 'rvs': [], 'vsx': [], 'sxm': [], 'dqu': [], 'quk': [], 'ukr': [], 'tkn': [], 'piw': [], 'f r': [], ' rh': [], 'rhr': [], 'rlt': [], 'lti': [], 'irq': [], 'rqf': []}\n"
     ]
    }
   ],
   "source": [
    "dictTrigrammesEcart=dict()\n",
    "for (key,value) in dictTrigrammes.items():\n",
    "    dictTrigrammesEcart[key]=[value[i+1]-value[i] for i in range(len(value)-1)]\n",
    "print(dictTrigrammesEcart)\n"
   ]
  },
  {
   "cell_type": "markdown",
   "metadata": {},
   "source": [
    "L'idée en regardant ce dictionnaire est de dire qu'un trigramme réapparait quand ce sont les trois même lettres qui ont été codées par les mêmes lettres de la clé. Cela veut donc dire que les écarts trouvés entre les trigrammes sont des multiples de la longueur de la clé.\n",
    "\n",
    "Ici par exemple, presque tous les écarts semblent être des multiples de 5, ce qui nous amène à poser l'hypothèse que la clé est de longueur 5."
   ]
  },
  {
   "cell_type": "markdown",
   "metadata": {},
   "source": [
    "Tous les 5 caractères, le décalage est donc le même. Il faut donc trouver quel décalage a été fait sur les caractères en position 0,5,10,15... puis de trouver quel décalage a été fait sur les caractères en position 1,6,11,16..., puis ceux en position 2,7,12,17 et ainsi de suite.\n",
    "Pour cela on va créer une fonction <code>sousTexte(texte,longueur,pos)</code> (à faire en exercice)"
   ]
  },
  {
   "cell_type": "code",
   "execution_count": 70,
   "metadata": {},
   "outputs": [
    {
     "ename": "SyntaxError",
     "evalue": "unexpected EOF while parsing (<ipython-input-70-22e132ed092e>, line 6)",
     "output_type": "error",
     "traceback": [
      "\u001b[1;36m  File \u001b[1;32m\"<ipython-input-70-22e132ed092e>\"\u001b[1;36m, line \u001b[1;32m6\u001b[0m\n\u001b[1;33m    \u001b[0m\n\u001b[1;37m    ^\u001b[0m\n\u001b[1;31mSyntaxError\u001b[0m\u001b[1;31m:\u001b[0m unexpected EOF while parsing\n"
     ]
    }
   ],
   "source": [
    "def sousTexte(texte,longueur,pos):\n",
    "    #renvoit les caractères de texte situés aux positions pos, pos+longueur, pos+longueur*2, pos+longueur*3...\n",
    "    #par exemple sousTexte(\"abcdefghijkl\",2,0) renvoit \"acegik\" (on commence à 0 et on saute de 2 en 2)\n",
    "    #par exemple sousTexte(\"abcdefghijkl\",2,1) renvoit \"bdfhjl\" (on commence à 1 et on saute de 2 en 2)\n",
    "    #par exemple sousTexte(\"abcdefghijkl\",3,1) renvoit \"behk\"  (on commence à 1 et on saute de 3 en 3)   \n",
    "    "
   ]
  },
  {
   "cell_type": "markdown",
   "metadata": {},
   "source": [
    "On peut désormais analyser les fréquences des sous-textes. L'analyse des fréquences permettra de deviner le décalage.\n",
    "\n",
    "Par exemple, si mon sous-texte contient une très grande fréquence de \"g\", alors je peux supposer que la lettre \"e\" a été décalée en \"g\" et que le décalage est donc de +2. Le caractère de la clé à cette position est donc c (a->+0, b->+1, c->+2,...) "
   ]
  },
  {
   "cell_type": "code",
   "execution_count": 69,
   "metadata": {},
   "outputs": [
    {
     "ename": "NameError",
     "evalue": "name 'sousTexte' is not defined",
     "output_type": "error",
     "traceback": [
      "\u001b[1;31m---------------------------------------------------------------------------\u001b[0m",
      "\u001b[1;31mNameError\u001b[0m                                 Traceback (most recent call last)",
      "\u001b[1;32m<ipython-input-69-8dedc4215e4c>\u001b[0m in \u001b[0;36m<module>\u001b[1;34m\u001b[0m\n\u001b[1;32m----> 1\u001b[1;33m \u001b[0msousTexte0\u001b[0m\u001b[1;33m=\u001b[0m\u001b[0msousTexte\u001b[0m\u001b[1;33m(\u001b[0m\u001b[0mmessageCode\u001b[0m\u001b[1;33m,\u001b[0m\u001b[1;36m5\u001b[0m\u001b[1;33m,\u001b[0m\u001b[1;36m0\u001b[0m\u001b[1;33m)\u001b[0m \u001b[1;31m#on récupère le sous-texte composé des caractères 0,5,10,15...\u001b[0m\u001b[1;33m\u001b[0m\u001b[1;33m\u001b[0m\u001b[0m\n\u001b[0m\u001b[0;32m      2\u001b[0m \u001b[0mprint\u001b[0m\u001b[1;33m(\u001b[0m\u001b[0mfrequence\u001b[0m\u001b[1;33m(\u001b[0m\u001b[0msousTexte\u001b[0m\u001b[1;33m)\u001b[0m\u001b[1;33m)\u001b[0m           \u001b[1;31m#on observe quelle lettre est la plus fréquente, c'était sûrement un \"e\" dans le message en clair\u001b[0m\u001b[1;33m\u001b[0m\u001b[1;33m\u001b[0m\u001b[0m\n",
      "\u001b[1;31mNameError\u001b[0m: name 'sousTexte' is not defined"
     ]
    }
   ],
   "source": [
    "sousTexte0=sousTexte(messageCode,5,0) #on récupère le sous-texte composé des caractères 0,5,10,15...\n",
    "print(frequence(sousTexte))           #on observe quelle lettre est la plus fréquente, c'était sûrement un \"e\" dans le message en clair"
   ]
  },
  {
   "cell_type": "markdown",
   "metadata": {},
   "source": [
    "Le reste de la cryptanalyse de Vigénère est à terminer en exercice. Vous allez donc implémenter la fonction <code>sousTexte()</code> et utiliser les analyses de fréquences pour en déduire la clé utilisée."
   ]
  }
 ],
 "metadata": {
  "kernelspec": {
   "display_name": "Python 3",
   "language": "python",
   "name": "python3"
  },
  "language_info": {
   "codemirror_mode": {
    "name": "ipython",
    "version": 3
   },
   "file_extension": ".py",
   "mimetype": "text/x-python",
   "name": "python",
   "nbconvert_exporter": "python",
   "pygments_lexer": "ipython3",
   "version": "3.7.7"
  }
 },
 "nbformat": 4,
 "nbformat_minor": 1
}
