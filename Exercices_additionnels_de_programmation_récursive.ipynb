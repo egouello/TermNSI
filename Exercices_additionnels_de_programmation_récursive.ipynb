{
  "nbformat": 4,
  "nbformat_minor": 0,
  "metadata": {
    "colab": {
      "name": "Exercices additionnels de programmation.ipynb",
      "provenance": [],
      "collapsed_sections": [
        "uU1E06rvhn5C"
      ],
      "include_colab_link": true
    },
    "kernelspec": {
      "name": "python3",
      "display_name": "Python 3"
    }
  },
  "cells": [
    {
      "cell_type": "markdown",
      "metadata": {
        "id": "view-in-github",
        "colab_type": "text"
      },
      "source": [
        "<a href=\"https://colab.research.google.com/github/egouello/TermNSI/blob/master/Exercices_additionnels_de_programmation_r%C3%A9cursive.ipynb\" target=\"_parent\"><img src=\"https://colab.research.google.com/assets/colab-badge.svg\" alt=\"Open In Colab\"/></a>"
      ]
    },
    {
      "cell_type": "markdown",
      "metadata": {
        "id": "nIrbdLGMhODO",
        "colab_type": "text"
      },
      "source": [
        "#Exercices additionnels:"
      ]
    },
    {
      "cell_type": "markdown",
      "metadata": {
        "id": "MY3rdCq2hR0b",
        "colab_type": "text"
      },
      "source": [
        "##Structure de données"
      ]
    },
    {
      "cell_type": "markdown",
      "metadata": {
        "id": "zqK8Ec7phWbE",
        "colab_type": "text"
      },
      "source": [
        "##Récursion:"
      ]
    },
    {
      "cell_type": "markdown",
      "metadata": {
        "id": "HtgiAmzmXnCz",
        "colab_type": "text"
      },
      "source": [
        "###Intermédiaire"
      ]
    },
    {
      "cell_type": "markdown",
      "metadata": {
        "id": "0lNs0JJJrSsl",
        "colab_type": "text"
      },
      "source": [
        "####Problème 1: Compter les paires\n",
        "\n",
        "Dans la fonction compte_paires(mot), nous cherchons à compter de \"paires\" dans le String mot donné.\n",
        "Nous définissons une paire comme étant deux charactères identique séparé par un autre charactère.\n",
        "*   Par exemple \"ABCDEFE\" contient une paire (les \"E\" séparé par le F à la fin).\n",
        "\n",
        "Nous considérons que les paires consécutives compte:\n",
        "\n",
        "*   Par exemple: \"ABABCCCC\" contient 4 paires: A et A, B et B, le premier C et le troisième C, et le deuxième C avec le quatrième C\n",
        "\n",
        "La fonction compte_paires(mot) compte le nombres de paires dans notre mot de manière récursive bien sure."
      ]
    },
    {
      "cell_type": "markdown",
      "metadata": {
        "id": "uU1E06rvhn5C",
        "colab_type": "text"
      },
      "source": [
        "#### Problème 2: Somme spécifique\n",
        "(Peut-être perçu difficile comme problème, mais compte-tenu de l'indice je le place dans intermédiaire)\n",
        "\n",
        "Nous travaillerons avec la fonction somme_spe(i, nombres, but)\n",
        "\n",
        "Cette fonction reçoit trois arguments:\n",
        "\n",
        "*   i: un nombre entier > 0. \n",
        "*   nombres: une liste de nombres entiers.\n",
        "*   but: un nombre entier.\n",
        "\n",
        "Elle retourne un boolean (vrai ou faux).\n",
        "\n",
        "Quand j'appelle la fonction initiallement avec somme_spe(0, nombres, 12), je veux savoir si c'est vrai que je suis capable de trouvée une certaine combinaisons de nombres dans ma liste appelé \"nombres\" qui donne une somme de 12.\n",
        "\n",
        "Quand j'appelle la fonction somme_spe(2, nombres, 12), je veux savoir si c'est vrai que je peux trouver une certaines combinaisons de nombres dans ma liste à partir du 2ème élément dans la liste. (attention, en informatique la liste à un 0ème).\n",
        "\n",
        "Exemples:\n",
        "\n",
        "*   somme_spe(0,[2,4,8],12) retourne vrai car 4+8=12\n",
        "*   somme_spe(0,[2,4,8],14) retourne vrai car 2+4+8=14\n",
        "*   somme_spe(0,[2,4,7],12) retourne faux car aucune sommes de ces nombres ne peut donner 7\n",
        "*   somme_spe(1,[2,4,8],14) retourne faux car on commence à l'indice i=1, donc le 2 ne peux-être utilisé.\n"
      ]
    },
    {
      "cell_type": "markdown",
      "metadata": {
        "id": "IU4bFa7Fkwb2",
        "colab_type": "text"
      },
      "source": [
        "Indice:\n",
        "\n",
        "Le cas de base est lorsque (i+1 == len(nombres)). Dans ce cas, la réponse est vrai si nombres[i]==but et faux autrement.\n",
        "\n",
        "L'idée de notre récursion pour un appel somme_spe(i, nombres, but) quelquonque: il y a seulement deux possibilités si on est pas dans le cas de base: \n",
        "\n",
        "1.   nombres[i] n'est pas choisi pour faire parti de la somme possible\n",
        "2.   nombres[i] est choisi pour faire parti de la somme possible\n",
        "\n",
        "Dans le premier cas nous n'avons qu'à vérifier si somme_spe est possible avec i+=1.\n",
        "\n",
        "Dans le deuxième cas, nous vérifions si la somme est possible avec un i+=1 et but=but-nombres[i].\n",
        "\n",
        "On retourne vrai si somme_spe est vrai récursivement dans un de ces deux cas. "
      ]
    },
    {
      "cell_type": "code",
      "metadata": {
        "id": "zCvYc21PpkBM",
        "colab_type": "code",
        "colab": {}
      },
      "source": [
        "def somme_spe(i, nombres, but):\n",
        "  if(cas_de_base): #quel est le cas de base?\n",
        "    return nombres[i]==but\n",
        "\n",
        "  #à  faire\n",
        "\n",
        "\n",
        "\n",
        "###\n",
        "#Tests pour la fonction\n",
        "###\n",
        "\n",
        "nombres=[2,4,8]\n",
        "print(somme_spe(0,nombres,12))  #Devrait retourner True\n",
        "print(somme_spe(0,nombres,14))  #Devrait retourner True\n",
        "print(somme_spe(0,nombres,2))  #Devrait retourner True\n",
        "print(somme_spe(0,nombres,7))  #Devrait retourner False\n",
        "print(somme_spe(0,nombres,4))  #Devrait retourner False\n",
        "print(somme_spe(1,nombres,14))  #Devrait retourner False"
      ],
      "execution_count": null,
      "outputs": []
    },
    {
      "cell_type": "code",
      "metadata": {
        "id": "r6S0LcILsd8Z",
        "colab_type": "code",
        "colab": {}
      },
      "source": [
        "def compte_mot(mot):\n",
        "  if(cas_de_base): #Condition du cas de base\n",
        "    return     #Quoi faire dans le cas de base\n",
        "  if (a[0]==a[2]):\n",
        "    return #Quoi retourner\n",
        "  else:\n",
        "    return #Quoi retourner"
      ],
      "execution_count": null,
      "outputs": []
    },
    {
      "cell_type": "markdown",
      "metadata": {
        "id": "YlmE1OIkhgYe",
        "colab_type": "text"
      },
      "source": [
        "##Avancé"
      ]
    }
  ]
}