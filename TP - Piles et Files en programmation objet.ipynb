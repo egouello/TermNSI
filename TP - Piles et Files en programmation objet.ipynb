{
 "cells": [
  {
   "cell_type": "markdown",
   "metadata": {},
   "source": [
    "# TP - Implémentation des piles et des files en POO\n",
    "\n",
    "Pour faire ce TP, vous connaissez déjà la théorie sur ce que sont les piles et les files (voir cours https://pixees.fr/informatiquelycee/n_site/nsi_term_structDo_liste.html ) et vous avez déjà implémenté les fonctionnalités en Python en suivant le paradigme de programmation impérative (voir le TP-ImplementPileFile)\n",
    "\n",
    "Nous allons ici recommencer l'implémentation de ces structures de données mais en utilisant cette  fois le paradigme de la programmation orientée objet (POO).\n",
    "\n",
    "## 1- Les piles\n",
    "On rappelle que les opérations permises sur une pile sont l'empilement et le dépilement. On peut rapidement envisager que ce sont des listes python qui sont utilisées pour manipuler la pile mais on prendra garde de ne pas permettre des opérations illégales comme enlever le premier élément de la pile par exemple.\n"
   ]
  },
  {
   "cell_type": "code",
   "execution_count": 11,
   "metadata": {},
   "outputs": [
    {
     "name": "stdout",
     "output_type": "stream",
     "text": [
      "4\n",
      "3\n",
      "2\n",
      "1\n"
     ]
    }
   ],
   "source": [
    "class Pile:\n",
    "    def __init__(self):   #le constructeur crée une liste vide\n",
    "        self.liste=[]\n",
    "        \n",
    "    def __str__(self):           #on définit l'affichage de la la pile quand on fait print\n",
    "        return str(self.liste)\n",
    "    \n",
    "    def empile(self,valeur):      #on empile une valeur dans la pile\n",
    "        self.liste.append(valeur)\n",
    "        \n",
    "    def depile(self):             #on dépile (on enlève la dernière valeur de la pile)\n",
    "        return self.liste.pop()\n",
    "    \n",
    "    \n",
    "mapile=Pile()\n",
    "mapile.empile(1)\n",
    "mapile.empile(2)\n",
    "mapile.empile(3)\n",
    "mapile.empile(4)\n",
    "print(mapile.depile())\n",
    "print(mapile.depile())\n",
    "print(mapile.depile())\n",
    "print(mapile.depile())"
   ]
  },
  {
   "cell_type": "markdown",
   "metadata": {},
   "source": [
    "cela fonctionne aussi en manipulant des types de données différents :"
   ]
  },
  {
   "cell_type": "code",
   "execution_count": 9,
   "metadata": {},
   "outputs": [
    {
     "name": "stdout",
     "output_type": "stream",
     "text": [
      "[4, 4, 4, 4]\n",
      "3.0\n",
      "deux\n",
      "1\n"
     ]
    }
   ],
   "source": [
    "mapile.empile(1)          #un entier\n",
    "mapile.empile(\"deux\")     # une chaine\n",
    "mapile.empile(3.0)        # un flottant\n",
    "mapile.empile([4,4,4,4])  # une liste\n",
    "print(mapile.depile())\n",
    "print(mapile.depile())\n",
    "print(mapile.depile())\n",
    "print(mapile.depile())"
   ]
  },
  {
   "cell_type": "markdown",
   "metadata": {},
   "source": [
    "On pourrait même empiler des piles sur d'autres piles...\n",
    "\n",
    "Le problème de cette structure telle qu'elle est implémentée, c'est qu'on peut éxécuter des opérations illégales sur cette pile. Si vous fournissez cette interface à un utilisateur, il pourra tricher en écrivant ceci :"
   ]
  },
  {
   "cell_type": "code",
   "execution_count": 13,
   "metadata": {},
   "outputs": [
    {
     "name": "stdout",
     "output_type": "stream",
     "text": [
      "[1, 2, 3, 4]\n",
      "[5, 2, 3, 4]\n",
      "[5, 3, 4]\n"
     ]
    }
   ],
   "source": [
    "mapiletriche=Pile()\n",
    "mapiletriche.empile(1)\n",
    "mapiletriche.empile(2)\n",
    "mapiletriche.empile(3)\n",
    "mapiletriche.empile(4)\n",
    "print(mapiletriche)\n",
    "mapiletriche.liste[0]=5  #on modifie une valeur en bas de la pile\n",
    "print(mapiletriche)\n",
    "mapiletriche.liste.pop(1) #on supprime le 2eme élément de la pile\n",
    "print(mapiletriche)\n"
   ]
  },
  {
   "cell_type": "markdown",
   "metadata": {},
   "source": [
    "La solution est de rendre la liste inaccessible à l'utilisateur pour qu'il n'en fasse pas qu'à sa tête en modifiant directement celle-ci.\n",
    "\n",
    "En Python, on peut rendre un attribut protégé en le précédant de deux tirets __. Dans ce cas, cela indique à l'utilisateur de l'objet qu'il ne doit pas le modifier directement.\n",
    "Dans des langages de programmation purement orientés objet comme c++ ou java, on peut créer des attributs **vraiment privés** qu'il est impossible de modifier à l'extérieur de la classe, mais en Python, on se contente de faire confiance à l'utisateur en prenant le parti que nous sommes entre adultes responsables...\n",
    "\n",
    "Voici une implémentation de la pile avec la liste rendue privée :"
   ]
  },
  {
   "cell_type": "code",
   "execution_count": 17,
   "metadata": {},
   "outputs": [
    {
     "name": "stdout",
     "output_type": "stream",
     "text": [
      "4\n",
      "3\n",
      "2\n",
      "1\n"
     ]
    }
   ],
   "source": [
    "class Pile:\n",
    "    def __init__(self):   #le constructeur crée une liste vide\n",
    "        self.__liste=[]   #la liste s'appelle __liste pour indiquer qu'elle est privée\n",
    "        \n",
    "    def __str__(self):           #on définit l'affichage de la la pile quand on fait print\n",
    "        return str(self.__liste)\n",
    "    \n",
    "    def empile(self,valeur):      #on empile une valeur dans la pile\n",
    "        self.__liste.append(valeur)\n",
    "        \n",
    "    def depile(self):             #on dépile (on enlève la dernière valeur de la pile)\n",
    "        return self.__liste.pop()\n",
    "    \n",
    "    \n",
    "mapile=Pile()\n",
    "mapile.empile(1)\n",
    "mapile.empile(2)\n",
    "mapile.empile(3)\n",
    "mapile.empile(4)\n",
    "print(mapile.depile())\n",
    "print(mapile.depile())\n",
    "print(mapile.depile())\n",
    "print(mapile.depile())"
   ]
  },
  {
   "cell_type": "markdown",
   "metadata": {},
   "source": [
    "Cette fois, un utilisateur peu scrupuleux pourra essayer de tricher en modifiant la liste mais ce sera moins facile :"
   ]
  },
  {
   "cell_type": "code",
   "execution_count": 15,
   "metadata": {},
   "outputs": [
    {
     "name": "stdout",
     "output_type": "stream",
     "text": [
      "[1, 2, 3, 4]\n"
     ]
    },
    {
     "ename": "AttributeError",
     "evalue": "'Pile' object has no attribute '__liste'",
     "output_type": "error",
     "traceback": [
      "\u001b[1;31m---------------------------------------------------------------------------\u001b[0m",
      "\u001b[1;31mAttributeError\u001b[0m                            Traceback (most recent call last)",
      "\u001b[1;32m<ipython-input-15-cacfac0b7908>\u001b[0m in \u001b[0;36m<module>\u001b[1;34m\u001b[0m\n\u001b[0;32m      5\u001b[0m \u001b[0mmapiletriche\u001b[0m\u001b[1;33m.\u001b[0m\u001b[0mempile\u001b[0m\u001b[1;33m(\u001b[0m\u001b[1;36m4\u001b[0m\u001b[1;33m)\u001b[0m\u001b[1;33m\u001b[0m\u001b[1;33m\u001b[0m\u001b[0m\n\u001b[0;32m      6\u001b[0m \u001b[0mprint\u001b[0m\u001b[1;33m(\u001b[0m\u001b[0mmapiletriche\u001b[0m\u001b[1;33m)\u001b[0m\u001b[1;33m\u001b[0m\u001b[1;33m\u001b[0m\u001b[0m\n\u001b[1;32m----> 7\u001b[1;33m \u001b[0mmapiletriche\u001b[0m\u001b[1;33m.\u001b[0m\u001b[0m__liste\u001b[0m\u001b[1;33m[\u001b[0m\u001b[1;36m0\u001b[0m\u001b[1;33m]\u001b[0m\u001b[1;33m=\u001b[0m\u001b[1;36m5\u001b[0m  \u001b[1;31m#on modifie une valeur en bas de la pile\u001b[0m\u001b[1;33m\u001b[0m\u001b[1;33m\u001b[0m\u001b[0m\n\u001b[0m\u001b[0;32m      8\u001b[0m \u001b[0mprint\u001b[0m\u001b[1;33m(\u001b[0m\u001b[0mmapiletriche\u001b[0m\u001b[1;33m)\u001b[0m\u001b[1;33m\u001b[0m\u001b[1;33m\u001b[0m\u001b[0m\n\u001b[0;32m      9\u001b[0m \u001b[0mmapiletriche\u001b[0m\u001b[1;33m.\u001b[0m\u001b[0m__liste\u001b[0m\u001b[1;33m.\u001b[0m\u001b[0mpop\u001b[0m\u001b[1;33m(\u001b[0m\u001b[1;36m1\u001b[0m\u001b[1;33m)\u001b[0m \u001b[1;31m#on supprime le 2eme élément de la pile\u001b[0m\u001b[1;33m\u001b[0m\u001b[1;33m\u001b[0m\u001b[0m\n",
      "\u001b[1;31mAttributeError\u001b[0m: 'Pile' object has no attribute '__liste'"
     ]
    }
   ],
   "source": [
    "mapiletriche=Pile()\n",
    "mapiletriche.empile(1)\n",
    "mapiletriche.empile(2)\n",
    "mapiletriche.empile(3)\n",
    "mapiletriche.empile(4)\n",
    "print(mapiletriche)\n",
    "mapiletriche.__liste[0]=5  #on modifie une valeur en bas de la pile\n",
    "print(mapiletriche)\n",
    "mapiletriche.__liste.pop(1) #on supprime le 2eme élément de la pile\n",
    "print(mapiletriche)"
   ]
  },
  {
   "cell_type": "markdown",
   "metadata": {},
   "source": [
    "*<code>AttributeError: 'Pile' object has no attribute '__liste'</code>* est une erreur curieuse! La pile a pourtant bien un attribut nommé <code>__liste</code>!\n",
    "\n",
    "En fait, Python a un peu protégé l'attribut en le renommant pour les utilisations en dehors de la classe.\n",
    "\n",
    "**On peut quand même y accéder en écrivant <code>_nomDeLaClasse__nomDeLAttribut</code> c'est à dire ici <code>_Pile__liste</code>**"
   ]
  },
  {
   "cell_type": "code",
   "execution_count": 16,
   "metadata": {},
   "outputs": [
    {
     "name": "stdout",
     "output_type": "stream",
     "text": [
      "[1, 2, 3, 4]\n",
      "[5, 2, 3, 4]\n",
      "[5, 3, 4]\n"
     ]
    }
   ],
   "source": [
    "mapiletriche=Pile()\n",
    "mapiletriche.empile(1)\n",
    "mapiletriche.empile(2)\n",
    "mapiletriche.empile(3)\n",
    "mapiletriche.empile(4)\n",
    "print(mapiletriche)\n",
    "mapiletriche._Pile__liste[0]=5  #on modifie une valeur en bas de la pile\n",
    "print(mapiletriche)\n",
    "mapiletriche._Pile__liste.pop(1) #on supprime le 2eme élément de la pile\n",
    "print(mapiletriche)"
   ]
  },
  {
   "cell_type": "markdown",
   "metadata": {},
   "source": [
    "**Conclusion : on peut toujours contourner la protection des variables d'instances en Python mais on ne peut pas dire qu'on ne savait pas si on a des problèmes dans notre code!**"
   ]
  },
  {
   "cell_type": "markdown",
   "metadata": {},
   "source": [
    "## 2- Les files\n",
    "\n",
    "\n",
    "### Exercice 1\n",
    "À vous de jouer maintenant en implémentant la structure de donnée file en POO.\n",
    "\n",
    "On rappelle aussi que les fonctions suivantes doivent-être implémentées :\n",
    "* on peut savoir si une file est vide (<code>file_vide</code>?)\n",
    "* on peut enfiler un nouvel élément à la file (<code>enfile</code>)\n",
    "* on peut récupérer l'élément situé en bout de file tout en le supprimant (<code>defile</code>)\n",
    "* on peut accéder à l'élément situé en bout de file sans le supprimer de la file (<code>premier</code>)\n",
    "* on peut connaitre le nombre d'éléments présents dans la file (<code>taille</code>)\n"
   ]
  },
  {
   "cell_type": "code",
   "execution_count": null,
   "metadata": {},
   "outputs": [],
   "source": [
    "#class File:\n",
    "#    def __init__(self):   #le constructeur crée une liste vide\n",
    "#    TOUT EST À FAIRE ICI!!! \n",
    "\n",
    "\n",
    "################################\n",
    "# Partie principale de test\n",
    "# aucun changement à apporter\n",
    "################################\n",
    "mafile=File()\n",
    "print(mafile.file_vide())  #renvoie vrai car la file est vide\n",
    "mafile.enfile(1)  \n",
    "mafile.enfile(2)  \n",
    "mafile.enfile(3)  \n",
    "mafile.enfile(4)  \n",
    "print(mafile) #renvoie [1,2,3,4]\n",
    "first = mafile.defile()\n",
    "print(first,mafile)  #renvoie 1 [2,3,4]\n",
    "first = mafile.premier()\n",
    "print(first,mafile) #renvoie 2 [2,3,4]\n",
    "print(taille(mafile)) #renvoie 3\n",
    "###################################\n",
    "# vous pouvez ajouter vos propres tests ici\n",
    "####################################\n"
   ]
  },
  {
   "cell_type": "markdown",
   "metadata": {},
   "source": [
    "### Exercice 2\n",
    "Comme dans le TP précédent où vous aviez implémenté une file avec deux piles, faites la même chose en programmation objet. On se contentera de coder les méthodes <code>enfile()</code> et <code>defile()</code>\n",
    "\n",
    "Complétez le code suivant :"
   ]
  },
  {
   "cell_type": "code",
   "execution_count": null,
   "metadata": {},
   "outputs": [],
   "source": [
    "#On crée la classe pile puisqu'on en a besoin\n",
    "class Pile:\n",
    "    def __init__(self):   #le constructeur crée une liste vide\n",
    "        self.__liste=[]   #la liste s'appelle __liste pour indiquer qu'elle est privée\n",
    "        \n",
    "    def __str__(self):           #on définit l'affichage de la la pile quand on fait print\n",
    "        return str(self.__liste)\n",
    "    \n",
    "    def empile(self,valeur):      #on empile une valeur dans la pile\n",
    "        self.__liste.append(valeur)\n",
    "        \n",
    "    def depile(self):             #on dépile (on enlève la dernière valeur de la pile)\n",
    "        return self.__liste.pop()\n",
    "\n",
    "#On crée la classe file\n",
    "class File:\n",
    "    def __init__(self):   #le constructeur crée deux piles, une gauche et une droite\n",
    "        self.pilegauche=Pile()     #on aurait du écrire self.__pilegauche=Pile() pour protéger la pile mais on est en phase de test...\n",
    "        self.piledroite=Pile()\n",
    "        \n",
    "    def __str__(self):\n",
    "        return \"Pile gauche : \"+str(self.pilegauche)+\", Pile droite : \"+str(self.piledroite)\n",
    "        \n",
    "    def enfile(self,element):     #il suffit d'empiler sur la pile de gauche\n",
    "        self.pilegauche.empile(valeur)\n",
    "        \n",
    "    def defile(self):             #plus compliqué...c'est votre travail\n",
    "        #A FAIRE\n",
    "        return 1                  # À MODIFIER  on renvoie l'element qui vient de sortir de la file\n",
    "\n",
    "\n",
    "################################\n",
    "# Partie principale de test\n",
    "# aucun changement à apporter\n",
    "################################\n",
    "mafile=File()\n",
    "mafile.enfile(1)  \n",
    "mafile.enfile(2)  \n",
    "mafile.enfile(3)  \n",
    "mafile.enfile(4)  \n",
    "print(mafile) #renvoie Pile gauche : [1,2,3,4], Pile droite : []\n",
    "first = mafile.defile()\n",
    "print(first,mafile)  #renvoie 1 Pile gauche : [], Pile droite : [4,3,2]\n",
    "first = mafile.defile()\n",
    "print(first,mafile) #renvoie 2 Pile gauche : [], Pile droite : [4,3]\n",
    "###################################\n",
    "# vous pouvez ajouter vos propres tests ici\n",
    "####################################\n"
   ]
  }
 ],
 "metadata": {
  "kernelspec": {
   "display_name": "Python 3",
   "language": "python",
   "name": "python3"
  },
  "language_info": {
   "codemirror_mode": {
    "name": "ipython",
    "version": 3
   },
   "file_extension": ".py",
   "mimetype": "text/x-python",
   "name": "python",
   "nbconvert_exporter": "python",
   "pygments_lexer": "ipython3",
   "version": "3.7.7"
  }
 },
 "nbformat": 4,
 "nbformat_minor": 4
}
