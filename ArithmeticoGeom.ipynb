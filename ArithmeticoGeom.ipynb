{
 "metadata": {
  "name": "",
  "signature": "sha256:e6304d2ea3f6715d06e493ef6a45231fe70b2af14aebfe3e9d7aa214c35f63c7"
 },
 "nbformat": 3,
 "nbformat_minor": 0,
 "worksheets": [
  {
   "cells": [
    {
     "cell_type": "heading",
     "level": 1,
     "metadata": {},
     "source": [
      "Suite arithm\u00e9tico-g\u00e9om\u00e9trique"
     ]
    },
    {
     "cell_type": "markdown",
     "metadata": {},
     "source": [
      "Soit la suite d\u00e9finie par $u_0=40000$\n",
      "et $u_{n+1}=0,95u_n+200$\n",
      "\n",
      "Calculer les 10 premiers termes de cette suite"
     ]
    },
    {
     "cell_type": "code",
     "collapsed": false,
     "input": [],
     "language": "python",
     "metadata": {},
     "outputs": []
    },
    {
     "cell_type": "markdown",
     "metadata": {},
     "source": [
      "Montrer (sur votre copie ou ici) que cette suite peut-\u00eatre d\u00e9finie explicitement par:\n",
      "$u_n=36000 \\times 0,95^n+4000$\n",
      "\n",
      "(on pourra montrer que $v_n=u_n-4000$ est une suite g\u00e9om\u00e9trique)\n",
      "\n",
      "Calculer \u00e0 nouveau les 10 premiers termes de la suite avec le formule explicite et comparer"
     ]
    },
    {
     "cell_type": "code",
     "collapsed": false,
     "input": [],
     "language": "python",
     "metadata": {},
     "outputs": [],
     "prompt_number": 0
    },
    {
     "cell_type": "markdown",
     "metadata": {},
     "source": [
      "Montrer que la suite $u_n$ est d\u00e9croissante et admet pour limite 4000.\n",
      "\n",
      "En d\u00e9duire un programme de seuil qui , pour une valeur de k donn\u00e9e en entr\u00e9e (k>4000), calcule \u00e0 partir de quel rang n la suite est inf\u00e9rieure \u00e0 k"
     ]
    },
    {
     "cell_type": "code",
     "collapsed": false,
     "input": [],
     "language": "python",
     "metadata": {},
     "outputs": []
    }
   ],
   "metadata": {}
  }
 ]
}