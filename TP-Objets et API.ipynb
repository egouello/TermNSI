{
 "cells": [
  {
   "cell_type": "markdown",
   "metadata": {},
   "source": [
    "# TP - Objets et API\n",
    "\n",
    "Dans les TP précédents, vous avez appris à utiliser différentes API pour créer des programmes exploitant des fonctionnalités d'autres programmes. Vous avez appris à interroger l'API openweathermap, celle de open-notify donnant des informations sur l'ISS ou encore la bibliothèque cartopy permettant de représenter des lieux sur une carte du globe.\n",
    "\n",
    "Ce TP est un exercice de synthèse mettant en oeuvre la programmation objet, les API ainsi que l'API Wikipedia que vous allez découvrir dans un premier exercice.\n",
    "\n",
    "## 1 - Wikipedia\n",
    "\n",
    "L'API de Wikipedia est une API très simple qui permet d'interroger la célèbre encyclopédie en ligne.\n",
    "Cette fois-ci, c'est à vous de lire la documentation officielle pour apprendre à faire des requetes simples.\n",
    "Cette documentation officielle se trouve ici : https://pypi.org/project/wikipedia/\n",
    "\n",
    "<hr>\n",
    "\n",
    "## 2 - TP de synthèse\n",
    "Vous devez créer une classe Lieu qui permet l'instanciation d'objets décrivant des lieux connus.\n",
    "\n",
    "La classe Lieu a pour constructeur <code>__init__(self,NomDuLieu,Lat,Lon)</code> où <code>NomDuLieu</code> est le nom du lieu créé, <code>Lat</code> est la latitude de ce lieu et <code>Lon</code> sa longitude.\n",
    "\n",
    "La classe Lieu possède de nombreuse méthodes que vous devez programmer:\n",
    "<ul>\n",
    "    <li><code>get_weather(day)</code> : affiche la météo du lieu pour le jour day. Si <code>day</code>=0, c'est la météo d'aujourd'hui, si <code>day</code>=1, c'est la meteo de demain...etc...(on ira bien entendu chercher la météo sur openweather)</li>\n",
    "    <li><code>get_nextISS</code> : affiche la prochaine fois où l'ISS survolera ce lieu</li>\n",
    "    <li><code>get_descr</code> : affiche une description courte du lieu telle que donnée dans wikipedia</li>\n",
    "    <li><code>get_map</code> : affiche la carte du monde avec le lieu mis en évidence</li>\n",
    "    <li><code>get_weather</code> : affiche la météo du lieu (on ira bien entendu chercher la météo sur openweather)</li>\n",
    "</ul>\n",
    "\n",
    "Dans le programme principal, vous devez créer plusieurs lieux et en afficher des informations pertinentes. Par exemple, on pourra créer le lieu suivant :\n",
    "\n",
    "<code>stanislas=Lieu(\"Collège Stanislas (Montréal)\",45.518,-73.614)</code>. Puis on pourra appeler quelques méthodes pour afficher des informations pertinentes, comme par exemple <code>stanislas.get_weather(0)</code>\n",
    "\n",
    "### Important : les affichages doivent être beaux et propres, le code doit-être clair et bien commenté"
   ]
  },
  {
   "cell_type": "code",
   "execution_count": null,
   "metadata": {},
   "outputs": [],
   "source": []
  }
 ],
 "metadata": {
  "kernelspec": {
   "display_name": "Python 3",
   "language": "python",
   "name": "python3"
  },
  "language_info": {
   "codemirror_mode": {
    "name": "ipython",
    "version": 3
   },
   "file_extension": ".py",
   "mimetype": "text/x-python",
   "name": "python",
   "nbconvert_exporter": "python",
   "pygments_lexer": "ipython3",
   "version": "3.7.7"
  }
 },
 "nbformat": 4,
 "nbformat_minor": 4
}
